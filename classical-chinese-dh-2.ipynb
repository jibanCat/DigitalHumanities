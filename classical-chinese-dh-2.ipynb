{
 "cells": [
  {
   "cell_type": "markdown",
   "metadata": {},
   "source": [
    "I've added the answers to the exercises. ~ Jibancat"
   ]
  },
  {
   "cell_type": "markdown",
   "metadata": {},
   "source": [
    "Classical Chinese DH: Python programming and ctext.org API\n",
    "=====\n",
    "\n",
    "*By [Donald Sturgeon](http://dsturgeon.net/about)*\n",
    "\n",
    "\\[[View this notebook online](http://digitalsinology.org/classical-chinese-dh-python-ctext-api)\\] \\[[Download this notebook](http://digitalsinology.org/notebooks/classical-chinese-dh-2.ipynb)\\] \\[[List of tutorials](http://digitalsinology.org/classical-chinese-digital-humanities/)\\]"
   ]
  },
  {
   "cell_type": "markdown",
   "metadata": {},
   "source": [
    "Variables\n",
    "====\n",
    "Variables are named entities that contain some kind of data that can be changed at a later date. You can choose _(almost)_ any name for a variable as long as it is not the same as a reserved word _(i.e. has some special meaning in the Python language)_, though typically these names will be composed of letters `a-z`. The names given to variables have no special meaning to the computer, but giving variables names that describe their function in a particular program is usually very helpful to the programmer - and to anyone else who may look at your code. **Spaces cannot be part of a variable name**, so sometimes other allowed characters (e.g. \"\\_\") are used instead for clarity. Although it is possible to use **non-English characters for variable names**, this is generally inadvisable as it may cause compatibility problems when running the same program on another computer.\n",
    "\n",
    "A value is *assigned* to a variable using the syntax \"*variable_name = new_value*\"."
   ]
  },
  {
   "cell_type": "code",
   "execution_count": 1,
   "metadata": {},
   "outputs": [
    {
     "name": "stdout",
     "output_type": "stream",
     "text": [
      "5\n"
     ]
    }
   ],
   "source": [
    "number_of_people = 5\n",
    "print(number_of_people)"
   ]
  },
  {
   "cell_type": "code",
   "execution_count": 2,
   "metadata": {},
   "outputs": [
    {
     "data": {
      "text/plain": [
       "5"
      ]
     },
     "execution_count": 2,
     "metadata": {},
     "output_type": "execute_result"
    }
   ],
   "source": [
    "# This is when you assign a value to a non-English characters\n",
    "我是變數 = 5\n",
    "我是變數"
   ]
  },
  {
   "cell_type": "markdown",
   "metadata": {},
   "source": [
    "A variable only ever has one value at a time. When we assign a second value to a variable, anything that was in it before is lost."
   ]
  },
  {
   "cell_type": "code",
   "execution_count": 3,
   "metadata": {},
   "outputs": [
    {
     "name": "stdout",
     "output_type": "stream",
     "text": [
      "15\n"
     ]
    }
   ],
   "source": [
    "number_of_people = 5\n",
    "number_of_people = 15\n",
    "print(number_of_people)"
   ]
  },
  {
   "cell_type": "markdown",
   "metadata": {},
   "source": [
    "In Python, variable names are case sensitive, so as far as Python is concerned, a variable called \"thisone\" is **completely different** from a variable called \"ThisOne\" or \"THISONE\"."
   ]
  },
  {
   "cell_type": "code",
   "execution_count": 4,
   "metadata": {},
   "outputs": [
    {
     "ename": "NameError",
     "evalue": "name 'Test' is not defined",
     "output_type": "error",
     "traceback": [
      "\u001b[0;31m---------------------------------------------------------------------------\u001b[0m",
      "\u001b[0;31mNameError\u001b[0m                                 Traceback (most recent call last)",
      "\u001b[0;32m<ipython-input-4-c8ddc105ba6a>\u001b[0m in \u001b[0;36m<module>\u001b[0;34m()\u001b[0m\n\u001b[1;32m      1\u001b[0m \u001b[0mtest\u001b[0m \u001b[0;34m=\u001b[0m \u001b[0;36m1\u001b[0m\u001b[0;34m\u001b[0m\u001b[0m\n\u001b[0;32m----> 2\u001b[0;31m \u001b[0mprint\u001b[0m\u001b[0;34m(\u001b[0m\u001b[0mTest\u001b[0m\u001b[0;34m)\u001b[0m  \u001b[0;31m# This will not work and will give an error, because \"test\" and \"Test\" are different variables\u001b[0m\u001b[0;34m\u001b[0m\u001b[0m\n\u001b[0m",
      "\u001b[0;31mNameError\u001b[0m: name 'Test' is not defined"
     ]
    }
   ],
   "source": [
    "test = 1\n",
    "print(Test)  # This will not work and will give an error, because \"test\" and \"Test\" are different variables"
   ]
  },
  {
   "cell_type": "code",
   "execution_count": 5,
   "metadata": {},
   "outputs": [
    {
     "name": "stdout",
     "output_type": "stream",
     "text": [
      "5\n",
      "10\n"
     ]
    }
   ],
   "source": [
    "thisone = 5\n",
    "ThisOne = 10\n",
    "print(thisone)\n",
    "print(ThisOne)"
   ]
  },
  {
   "cell_type": "markdown",
   "metadata": {},
   "source": [
    "We can perform basic arithmetic on variables and numbers using symbols representing arithmetic operators:\n",
    "<table>\n",
    "<tr><td>+</td><td>Add</td></tr>\n",
    "<tr><td>-</td><td>Subtract</td></tr>\n",
    "<tr><td>/</td><td>Divide</td></tr>\n",
    "<tr><td>*</td><td>Multiply</td></tr>\n",
    "</table>"
   ]
  },
  {
   "cell_type": "code",
   "execution_count": 6,
   "metadata": {},
   "outputs": [
    {
     "name": "stdout",
     "output_type": "stream",
     "text": [
      "60\n"
     ]
    }
   ],
   "source": [
    "number_of_people = 5\n",
    "pages_per_person = 12\n",
    "print(number_of_people * pages_per_person)"
   ]
  },
  {
   "cell_type": "markdown",
   "metadata": {},
   "source": [
    "Strings\n",
    "====\n",
    "One of the most important units of text in most programming languages is the **string**: *an ordered sequence of zero or more characters.* Strings can be \"literal\" strings - string data typed in to a program - or the contents of a variable.\n",
    "\n",
    "*Literal strings* have to be enclosed in special characters so that Python knows exactly which part of what appears in the program belongs to the string being defined. You can use either a pair of double quotation marks (``` \"...\" ```) or single quotation marks (``` '...'```) for this. \n",
    "\n",
    "(Note: most programming languages including Python will not allow the use of 'full-width' Chinese / CJK punctuation characters for this purpose.)"
   ]
  },
  {
   "cell_type": "code",
   "execution_count": 7,
   "metadata": {},
   "outputs": [
    {
     "name": "stdout",
     "output_type": "stream",
     "text": [
      "學而時習之\n"
     ]
    }
   ],
   "source": [
    "print(\"學而時習之\")"
   ]
  },
  {
   "cell_type": "code",
   "execution_count": 8,
   "metadata": {
    "scrolled": true
   },
   "outputs": [
    {
     "name": "stdout",
     "output_type": "stream",
     "text": [
      "子曰：「學而時習之，不亦說乎？有朋自遠方來，不亦樂乎？人不知而不慍，不亦君子乎？」\n"
     ]
    }
   ],
   "source": [
    "analects_1_1 = \"子曰：「學而時習之，不亦說乎？有朋自遠方來，不亦樂乎？人不知而不慍，不亦君子乎？」\"\n",
    "print(analects_1_1)"
   ]
  },
  {
   "cell_type": "markdown",
   "metadata": {},
   "source": [
    "Two strings can be joined together (concatenated) using the \"+\" operator to give a new string:"
   ]
  },
  {
   "cell_type": "code",
   "execution_count": 9,
   "metadata": {},
   "outputs": [
    {
     "name": "stdout",
     "output_type": "stream",
     "text": [
      "子曰：「學而時習之，不亦說乎？有朋自遠方來，不亦樂乎？人不知而不慍，不亦君子乎？」子曰：「巧言令色，鮮矣仁！」\n"
     ]
    }
   ],
   "source": [
    "analects_1_3 = \"子曰：「巧言令色，鮮矣仁！」\"\n",
    "print(analects_1_1 + analects_1_3)"
   ]
  },
  {
   "cell_type": "markdown",
   "metadata": {},
   "source": [
    "In Python, each variable has a particular \"type\". The most common types are \"string\", \"integer\" (...,-2,-1,0,1,2,...), and \"float\" (any real number, e.g. 3.1415, -26, ...). When joining a string and a number using \"+\", we need to specify that the number should be changed into a string:"
   ]
  },
  {
   "cell_type": "code",
   "execution_count": 10,
   "metadata": {},
   "outputs": [
    {
     "ename": "TypeError",
     "evalue": "must be str, not int",
     "output_type": "error",
     "traceback": [
      "\u001b[0;31m---------------------------------------------------------------------------\u001b[0m",
      "\u001b[0;31mTypeError\u001b[0m                                 Traceback (most recent call last)",
      "\u001b[0;32m<ipython-input-10-0eb38b4432f4>\u001b[0m in \u001b[0;36m<module>\u001b[0;34m()\u001b[0m\n\u001b[0;32m----> 1\u001b[0;31m \u001b[0mprint\u001b[0m\u001b[0;34m(\u001b[0m\u001b[0manalects_1_1\u001b[0m \u001b[0;34m+\u001b[0m \u001b[0;36m5\u001b[0m\u001b[0;34m)\u001b[0m \u001b[0;31m# This will not work\u001b[0m\u001b[0;34m\u001b[0m\u001b[0m\n\u001b[0m",
      "\u001b[0;31mTypeError\u001b[0m: must be str, not int"
     ]
    }
   ],
   "source": [
    "print(analects_1_1 + 5) # This will not work"
   ]
  },
  {
   "cell_type": "code",
   "execution_count": 11,
   "metadata": {},
   "outputs": [
    {
     "name": "stdout",
     "output_type": "stream",
     "text": [
      "子曰：「學而時習之，不亦說乎？有朋自遠方來，不亦樂乎？人不知而不慍，不亦君子乎？」5\n"
     ]
    }
   ],
   "source": [
    "print(analects_1_1 + str(5))"
   ]
  },
  {
   "cell_type": "markdown",
   "metadata": {},
   "source": [
    "Sometimes we may need to include \"special\" characters in our strings, like the return character (\\n), or tab character (\\t). Also, if we need to include quotation marks as part of our string, we can do this by putting a backslash before each quotation mark (\\\")."
   ]
  },
  {
   "cell_type": "code",
   "execution_count": 12,
   "metadata": {},
   "outputs": [
    {
     "name": "stdout",
     "output_type": "stream",
     "text": [
      "第一行\n",
      "第二行\n",
      "\"第三行\"\n"
     ]
    }
   ],
   "source": [
    "output_string = \"第一行\\n第二行\\n\\\"第三行\\\"\"\n",
    "print(output_string)"
   ]
  },
  {
   "cell_type": "markdown",
   "metadata": {},
   "source": [
    "Doing things with strings\n",
    "----\n",
    "Once we have data in a string, we can manipulate it in various ways. Often a program will be designed to work on arbitrary string input, i.e. the program will not know in advance what strings it will be asked to work with. So we need ways of finding out basic things about the string. First of all, how long (in characters) is the string:"
   ]
  },
  {
   "cell_type": "code",
   "execution_count": 13,
   "metadata": {},
   "outputs": [
    {
     "name": "stdout",
     "output_type": "stream",
     "text": [
      "41\n"
     ]
    }
   ],
   "source": [
    "print(len(analects_1_1))"
   ]
  },
  {
   "cell_type": "markdown",
   "metadata": {},
   "source": [
    "N.B. \"Characters\" here means characters **in the technical string sense**. It includes, for example, all punctuation symbols, and other \"special characters\" that may be in the string (such as characters representing line breaks).\n",
    "\n",
    "We can take a single character from a string and create a new string containing just that character using the notation \"**string_variable[_m_]**\", where _m_ is a number describing the position of the character we want to copy from the string.\n",
    "\n",
    "N.B. In Python (and many other languages), **the characters in a string are numbered starting from 0**. So if a string has a length of 5, its characters are numbered 0, 1, 2, 3, and 4."
   ]
  },
  {
   "cell_type": "code",
   "execution_count": 14,
   "metadata": {},
   "outputs": [
    {
     "name": "stdout",
     "output_type": "stream",
     "text": [
      "子\n"
     ]
    }
   ],
   "source": [
    "print(analects_1_1[0])"
   ]
  },
  {
   "cell_type": "code",
   "execution_count": 15,
   "metadata": {},
   "outputs": [
    {
     "name": "stdout",
     "output_type": "stream",
     "text": [
      "而\n"
     ]
    }
   ],
   "source": [
    "print(analects_1_1[5])"
   ]
  },
  {
   "cell_type": "markdown",
   "metadata": {},
   "source": [
    "If we use a **negative value for _m_**, we can do the same thing but counting backwards from the end of the string:"
   ]
  },
  {
   "cell_type": "code",
   "execution_count": 16,
   "metadata": {},
   "outputs": [
    {
     "name": "stdout",
     "output_type": "stream",
     "text": [
      "乎\n"
     ]
    }
   ],
   "source": [
    "print(analects_1_1[-3])"
   ]
  },
  {
   "cell_type": "markdown",
   "metadata": {},
   "source": [
    "Another useful basic function is making a new string from some part of an existing string - this is called a \"substring\".\n",
    "In Python, we get a substring of a string starting at position _m_ and ending just before position _n_ using the notation \"string_variable[_m_:_n_]\":"
   ]
  },
  {
   "cell_type": "code",
   "execution_count": 17,
   "metadata": {},
   "outputs": [
    {
     "name": "stdout",
     "output_type": "stream",
     "text": [
      "子\n"
     ]
    }
   ],
   "source": [
    "print(analects_1_1[0:1])"
   ]
  },
  {
   "cell_type": "code",
   "execution_count": 18,
   "metadata": {},
   "outputs": [
    {
     "name": "stdout",
     "output_type": "stream",
     "text": [
      "曰\n"
     ]
    }
   ],
   "source": [
    "print(analects_1_1[1:2])"
   ]
  },
  {
   "cell_type": "code",
   "execution_count": 19,
   "metadata": {},
   "outputs": [
    {
     "name": "stdout",
     "output_type": "stream",
     "text": [
      "子曰\n"
     ]
    }
   ],
   "source": [
    "print(analects_1_1[0:2])"
   ]
  },
  {
   "cell_type": "code",
   "execution_count": 20,
   "metadata": {},
   "outputs": [
    {
     "name": "stdout",
     "output_type": "stream",
     "text": [
      "學而時習之，不亦說乎？\n"
     ]
    }
   ],
   "source": [
    "print(analects_1_1[4:15])"
   ]
  },
  {
   "cell_type": "code",
   "execution_count": 21,
   "metadata": {},
   "outputs": [
    {
     "name": "stdout",
     "output_type": "stream",
     "text": [
      "11\n"
     ]
    }
   ],
   "source": [
    "print(len(analects_1_1[4:15]))"
   ]
  },
  {
   "cell_type": "markdown",
   "metadata": {},
   "source": [
    "If we want to count characters from the end of a string, instead of from the beginning, we can use a negative number for _m_ (meaning \"start from -_m_ characters before the end of the string\") and either omit _n_ entirely (meaning \"up to the end of the string\") or use a negative number for _n_ (meaning \"up to -_n_ characters before the end of the string\"):"
   ]
  },
  {
   "cell_type": "code",
   "execution_count": 22,
   "metadata": {},
   "outputs": [
    {
     "name": "stdout",
     "output_type": "stream",
     "text": [
      "不亦君子乎？」\n"
     ]
    }
   ],
   "source": [
    "print(analects_1_1[-7:])"
   ]
  },
  {
   "cell_type": "code",
   "execution_count": 23,
   "metadata": {},
   "outputs": [
    {
     "name": "stdout",
     "output_type": "stream",
     "text": [
      "不亦君子乎？\n"
     ]
    }
   ],
   "source": [
    "print(analects_1_1[-7:-1])"
   ]
  },
  {
   "cell_type": "markdown",
   "metadata": {},
   "source": [
    "There are many other functions for doing things with strings - we will see more of these in week 3. In the meantime, two useful functions are count(), which returns the number of times one string occurs within another string."
   ]
  },
  {
   "cell_type": "code",
   "execution_count": 24,
   "metadata": {},
   "outputs": [
    {
     "name": "stdout",
     "output_type": "stream",
     "text": [
      "3\n"
     ]
    }
   ],
   "source": [
    "input_text = \"道可道，非常道。\"\n",
    "print(input_text.count(\"道\"))"
   ]
  },
  {
   "cell_type": "code",
   "execution_count": 25,
   "metadata": {},
   "outputs": [
    {
     "name": "stdout",
     "output_type": "stream",
     "text": [
      "1\n"
     ]
    }
   ],
   "source": [
    "print(input_text.count(\"道可\"))"
   ]
  },
  {
   "cell_type": "markdown",
   "metadata": {},
   "source": [
    "Another is replace(), which creates a new string in which all matching occurrence of a substring have been replaced by something else. The general form looks something like this:\n",
    "\n",
    "```python\n",
    "string_to_search_in.replace(thing_to_search_for, thing_to_replace_with)\n",
    "```\n",
    "\n",
    "**N.B.** This function does not change the data in the original variable. It just returns new data with the substitution made."
   ]
  },
  {
   "cell_type": "code",
   "execution_count": 26,
   "metadata": {},
   "outputs": [
    {
     "name": "stdout",
     "output_type": "stream",
     "text": [
      "名可名，非常名。\n"
     ]
    }
   ],
   "source": [
    "input_text = \"道可道，非常道。\"\n",
    "print(input_text.replace(\"道\", \"名\"))"
   ]
  },
  {
   "cell_type": "code",
   "execution_count": 27,
   "metadata": {},
   "outputs": [
    {
     "name": "stdout",
     "output_type": "stream",
     "text": [
      "道可道，非常道。\n"
     ]
    }
   ],
   "source": [
    "print(input_text)  # Note: the input_text variable still contains the same data"
   ]
  },
  {
   "cell_type": "markdown",
   "metadata": {},
   "source": [
    "Lists\n",
    "-----\n",
    "\n",
    "Lists are another kind of variable that work a lot like strings, except that whereas each location within a string is always exactly one character, each location in a list can be any kind of value, such as a number or a string.\n",
    "\n",
    "We can make a *list* variable by separating each list element with commas and enclosing the whole lot in square brackets."
   ]
  },
  {
   "cell_type": "code",
   "execution_count": 28,
   "metadata": {},
   "outputs": [
    {
     "name": "stdout",
     "output_type": "stream",
     "text": [
      "['星期天', '星期一', '星期二', '星期三', '星期四', '星期五', '星期六']\n"
     ]
    }
   ],
   "source": [
    "days_of_week = [\"星期天\", \"星期一\", \"星期二\", \"星期三\", \"星期四\", \"星期五\", \"星期六\"]\n",
    "print(days_of_week)"
   ]
  },
  {
   "cell_type": "markdown",
   "metadata": {},
   "source": [
    "In Python, the items stored in a list are numbered **starting from 0**. This means if we have 7 items in our list, they are numbered 0, 1, 2, 3, 4, 5, and 6."
   ]
  },
  {
   "cell_type": "code",
   "execution_count": 29,
   "metadata": {},
   "outputs": [
    {
     "name": "stdout",
     "output_type": "stream",
     "text": [
      "星期天\n"
     ]
    }
   ],
   "source": [
    "print(days_of_week[0])"
   ]
  },
  {
   "cell_type": "code",
   "execution_count": 30,
   "metadata": {},
   "outputs": [
    {
     "name": "stdout",
     "output_type": "stream",
     "text": [
      "星期六\n"
     ]
    }
   ],
   "source": [
    "print(days_of_week[6])"
   ]
  },
  {
   "cell_type": "markdown",
   "metadata": {},
   "source": [
    "If we try to use an item that isn't in our list, we will get an error."
   ]
  },
  {
   "cell_type": "code",
   "execution_count": 31,
   "metadata": {},
   "outputs": [
    {
     "ename": "IndexError",
     "evalue": "list index out of range",
     "output_type": "error",
     "traceback": [
      "\u001b[0;31m---------------------------------------------------------------------------\u001b[0m",
      "\u001b[0;31mIndexError\u001b[0m                                Traceback (most recent call last)",
      "\u001b[0;32m<ipython-input-31-e6a905455149>\u001b[0m in \u001b[0;36m<module>\u001b[0;34m()\u001b[0m\n\u001b[0;32m----> 1\u001b[0;31m \u001b[0mprint\u001b[0m\u001b[0;34m(\u001b[0m\u001b[0mdays_of_week\u001b[0m\u001b[0;34m[\u001b[0m\u001b[0;36m7\u001b[0m\u001b[0;34m]\u001b[0m\u001b[0;34m)\u001b[0m\u001b[0;34m\u001b[0m\u001b[0m\n\u001b[0m",
      "\u001b[0;31mIndexError\u001b[0m: list index out of range"
     ]
    }
   ],
   "source": [
    "print(days_of_week[7])"
   ]
  },
  {
   "cell_type": "markdown",
   "metadata": {},
   "source": [
    "We can set the value of items in a list just like regular variables."
   ]
  },
  {
   "cell_type": "code",
   "execution_count": 32,
   "metadata": {},
   "outputs": [
    {
     "name": "stdout",
     "output_type": "stream",
     "text": [
      "['星期天', '星期一', '星期二', '禮拜三', '星期四', '星期五', '星期六']\n"
     ]
    }
   ],
   "source": [
    "days_of_week[3] = \"禮拜三\"\n",
    "print(days_of_week)"
   ]
  },
  {
   "cell_type": "markdown",
   "metadata": {},
   "source": [
    "Often when we process lists in a program, we will need to find out how long the list is. This is because our programs will usually be designed to work with *any* input of a certain type (for example, to work with any text, not just one we've chosen in advance), and so we will only find out many items there are in a particular list when our program is actually run. The len() function tells us how many items are in our list."
   ]
  },
  {
   "cell_type": "code",
   "execution_count": 33,
   "metadata": {},
   "outputs": [
    {
     "name": "stdout",
     "output_type": "stream",
     "text": [
      "7\n"
     ]
    }
   ],
   "source": [
    "print(len(days_of_week))"
   ]
  },
  {
   "cell_type": "markdown",
   "metadata": {},
   "source": [
    "Remember that when we use `len()` on a *string*, it will give us the length of the string in numbers of characters. So for our days_of_week example:"
   ]
  },
  {
   "cell_type": "code",
   "execution_count": 34,
   "metadata": {},
   "outputs": [
    {
     "name": "stdout",
     "output_type": "stream",
     "text": [
      "3\n",
      "3\n"
     ]
    }
   ],
   "source": [
    "print(len(days_of_week[0]))\n",
    "print(len(days_of_week[1]))\n",
    "# etc."
   ]
  },
  {
   "cell_type": "markdown",
   "metadata": {},
   "source": [
    "Make sure you understand why we get this answer here."
   ]
  },
  {
   "cell_type": "markdown",
   "metadata": {},
   "source": [
    "True and false\n",
    "----"
   ]
  },
  {
   "cell_type": "markdown",
   "metadata": {},
   "source": [
    "Boolean logic - i.e. logic in which things are either **true** or **false** - is central to most commonly used programming languages. Typically programs make decisions as to what to do next based on whether some particular expression (e.g. comparison of variables) is true or false. Some basic comparison operators are:\n",
    "<table>\n",
    "<tr><td>==</td><td>equals</td></tr>\n",
    "<tr><td>></td><td>greater than</td></tr>\n",
    "<tr><td><</td><td>less than</td></tr>\n",
    "<tr><td>>=</td><td>greater than or equal to</td></tr>\n",
    "<tr><td><=</td><td>less than or equal to</td></tr>\n",
    "</table>\n",
    "N.B. Assignment, e.g. a=1, uses a single \"=\", whereas **comparison, e.g. a==2, uses a double \"==\"**."
   ]
  },
  {
   "cell_type": "code",
   "execution_count": 35,
   "metadata": {},
   "outputs": [
    {
     "name": "stdout",
     "output_type": "stream",
     "text": [
      "True\n"
     ]
    }
   ],
   "source": [
    "print(5 > 2)"
   ]
  },
  {
   "cell_type": "code",
   "execution_count": 36,
   "metadata": {},
   "outputs": [
    {
     "name": "stdout",
     "output_type": "stream",
     "text": [
      "False\n"
     ]
    }
   ],
   "source": [
    "print(5 > 7)"
   ]
  },
  {
   "cell_type": "code",
   "execution_count": 37,
   "metadata": {},
   "outputs": [
    {
     "name": "stdout",
     "output_type": "stream",
     "text": [
      "True\n"
     ]
    }
   ],
   "source": [
    "number_of_pages = 5*12\n",
    "print(number_of_pages == 60)"
   ]
  },
  {
   "cell_type": "code",
   "execution_count": 38,
   "metadata": {},
   "outputs": [
    {
     "name": "stdout",
     "output_type": "stream",
     "text": [
      "子曰：「學而時習之，不亦說乎？有朋自遠方來，不亦樂乎？人不知而不慍，不亦君子乎？」\n",
      "子曰：「巧言令色，鮮矣仁！」\n",
      "True\n"
     ]
    }
   ],
   "source": [
    "print(analects_1_1)\n",
    "print(analects_1_3)\n",
    "print(analects_1_1[0:2] == analects_1_3[0:2])   # If you're not sure why, try using print() on the two sides of the equation"
   ]
  },
  {
   "cell_type": "code",
   "execution_count": 39,
   "metadata": {},
   "outputs": [
    {
     "name": "stdout",
     "output_type": "stream",
     "text": [
      "False\n"
     ]
    }
   ],
   "source": [
    "print(analects_1_1[0:7] == analects_1_3[0:7])   # If you're not sure why, try using print() on the two sides of the equation"
   ]
  },
  {
   "cell_type": "code",
   "execution_count": 40,
   "metadata": {},
   "outputs": [
    {
     "data": {
      "text/plain": [
       "'子曰：「學而時'"
      ]
     },
     "execution_count": 40,
     "metadata": {},
     "output_type": "execute_result"
    }
   ],
   "source": [
    "analects_1_1[0:7]"
   ]
  },
  {
   "cell_type": "code",
   "execution_count": 41,
   "metadata": {},
   "outputs": [
    {
     "data": {
      "text/plain": [
       "'子曰：「巧言令'"
      ]
     },
     "execution_count": 41,
     "metadata": {},
     "output_type": "execute_result"
    }
   ],
   "source": [
    "analects_1_3[0:7]"
   ]
  },
  {
   "cell_type": "markdown",
   "metadata": {},
   "source": [
    "Often we want to know whether something occurs anywhere within a string. One way to do this is using the **in** operator. (We will look at more sophisticated types of searching for more complex patterns next week.)"
   ]
  },
  {
   "cell_type": "code",
   "execution_count": 42,
   "metadata": {},
   "outputs": [
    {
     "name": "stdout",
     "output_type": "stream",
     "text": [
      "True\n"
     ]
    }
   ],
   "source": [
    "text_to_search_in = \"有子曰：「其為人也孝弟，而好犯上者，鮮矣；不好犯上，而好作亂者，未之有也。君子務本，本立而道生。孝弟也者，其為仁之本與！」\"\n",
    "print(\"孝弟\" in text_to_search_in)"
   ]
  },
  {
   "cell_type": "code",
   "execution_count": 43,
   "metadata": {},
   "outputs": [
    {
     "name": "stdout",
     "output_type": "stream",
     "text": [
      "False\n"
     ]
    }
   ],
   "source": [
    "print(\"仁義\" in text_to_search_in) "
   ]
  },
  {
   "cell_type": "markdown",
   "metadata": {},
   "source": [
    "Making decisions\n",
    "----"
   ]
  },
  {
   "cell_type": "markdown",
   "metadata": {},
   "source": [
    "Now that we can compare things, we can start to change what we do depending on the outcome of these comparisons.\n",
    "\n",
    "The simplest type of decision is an \"if ... then ...\" decision: *if* something is true, *then* do something (otherwise don't do it)."
   ]
  },
  {
   "cell_type": "code",
   "execution_count": 44,
   "metadata": {},
   "outputs": [
    {
     "name": "stdout",
     "output_type": "stream",
     "text": [
      "3 is greater than 2\n"
     ]
    }
   ],
   "source": [
    "if(3 > 2):\n",
    "    print(\"3 is greater than 2\")\n",
    "    \n",
    "if(2 > 3):\n",
    "    print(\"2 is greater than 3\")"
   ]
  },
  {
   "cell_type": "markdown",
   "metadata": {},
   "source": [
    "In Python, **indentation** (one or more spaces from the left-hand margin) is used to mark blocks of code (sequences of instructions) which are to be followed together. For example:"
   ]
  },
  {
   "cell_type": "code",
   "execution_count": 45,
   "metadata": {},
   "outputs": [
    {
     "name": "stdout",
     "output_type": "stream",
     "text": [
      "3 is greater than 2\n",
      "This is also executed if 3>2\n",
      "This is *always* executed, because it is outside of both 'if' blocks\n"
     ]
    }
   ],
   "source": [
    "if(3 > 2):\n",
    "    print(\"3 is greater than 2\")\n",
    "    print(\"This is also executed if 3>2\")\n",
    "    \n",
    "if(2 > 3):\n",
    "    print(\"2 is greater than 3\")\n",
    "\n",
    "print(\"This is *always* executed, because it is outside of both 'if' blocks\")"
   ]
  },
  {
   "cell_type": "markdown",
   "metadata": {},
   "source": [
    "The \"**else**\" keyword can be used after an \"**if**\" to do one thing if a condition is true, and some other thing if it is not true:"
   ]
  },
  {
   "cell_type": "code",
   "execution_count": 46,
   "metadata": {},
   "outputs": [
    {
     "name": "stdout",
     "output_type": "stream",
     "text": [
      "text 1 is not longer than text 2\n"
     ]
    }
   ],
   "source": [
    "text1 = \"Some text\"\n",
    "text2 = \"Some other text\"\n",
    "if(len(text1) > len(text2)):\n",
    "    print(\"text 1 is longer than text 2\")\n",
    "else:\n",
    "    print(\"text 1 is not longer than text 2\")  # It might be exactly the same length though - try changing the text in text1 and text2"
   ]
  },
  {
   "cell_type": "markdown",
   "metadata": {},
   "source": [
    "Also useful are logical operators \"**and**\", \"**or**\", and \"**not**\". These allow us to make more complex decisions based on several factors.\n",
    "<table>\n",
    "<tr><th>Python expression</th><th>Result</th></tr>\n",
    "<tr><td>A and B</td><td>True if A is True and B is also True - otherwise False</td></tr>\n",
    "<tr><td>A or B</td><td>True if A is True or B is True, or both are True - otherwise False</td></tr>\n",
    "<tr><td>not A</td><td>True if A is False - otherwise False</td></tr>\n",
    "</table>\n",
    "\n",
    "**N.B.** Matching pairs of brackets are used in complex expressions to remove ambiguity: the **innermost brackets are always evaluated first**. For instance:\n",
    "\n",
    "    (a and b) or c   # This will only be true when either: 1) a and b are both true; or 2) c is true\n",
    "    a and (b or c)   # This will only be true when *both*: 1) a is true; and 2) either b is true or c is true\n",
    "    a and b or c     # ???? Don't write this - it's not obvious which of the previous two lines it corresponds to\n",
    "\n",
    "**Suggestion**: don't write things like \"a and b or c\" without brackets, as these are confusing. (There are rules that mean they are not ambiguous, but instead of worrying about these now, always use brackets when mixing **and**, **or**, and **not** in an expression.)\n",
    "\n",
    "Experiment with changing the values of the three variables below, making sure you understand why you get different results."
   ]
  },
  {
   "cell_type": "code",
   "execution_count": 47,
   "metadata": {},
   "outputs": [
    {
     "name": "stdout",
     "output_type": "stream",
     "text": [
      "True\n",
      "True\n",
      "Did you see the forecast?\n",
      "Better take an umbrella!\n"
     ]
    }
   ],
   "source": [
    "is_raining = False\n",
    "will_rain_later = True\n",
    "i_am_going_out = True\n",
    "\n",
    "print(is_raining or will_rain_later)\n",
    "print((is_raining or will_rain_later) and i_am_going_out)\n",
    "\n",
    "if ((not is_raining) and will_rain_later) and i_am_going_out:\n",
    "    print(\"Did you see the forecast?\")\n",
    "    \n",
    "if (is_raining or will_rain_later) and i_am_going_out:\n",
    "    print(\"Better take an umbrella!\")"
   ]
  },
  {
   "cell_type": "markdown",
   "metadata": {
    "collapsed": true
   },
   "source": [
    "Repeating instructions\n",
    "-----\n",
    "\n",
    "A lot of the power of digital methods comes from the fact that once we have a program that performs some task on an arbitrary object of some kind, we can easily have the computer perform that same task on large numbers of objects. One of the simplest ways of repeating instructions is the **\"for\" loop**. Just like with **if**, in Python we use indentation to indicate exactly *which* instructions we want repeated. **For** loops are often used with the **range()** function:"
   ]
  },
  {
   "cell_type": "code",
   "execution_count": 48,
   "metadata": {},
   "outputs": [
    {
     "name": "stdout",
     "output_type": "stream",
     "text": [
      "0\n",
      "1\n",
      "2\n",
      "3\n",
      "4\n"
     ]
    }
   ],
   "source": [
    "for some_variable in range(0,5):\n",
    "    print(some_variable)"
   ]
  },
  {
   "cell_type": "markdown",
   "metadata": {},
   "source": [
    "The range() function takes two *parameters* that determine what range of numbers we want: this first parameter determines the number we want to begin with, and the second determines the end of the range. Note: the \"end\" parameter to range() is **not inclusive** - so range(0,3) will give us a range with the numbers 0,1,2 but **not** 3.\n",
    "\n",
    "As well as range(), we can also loop over each character in a string, or over each item in a list (i.e. do some processing for each character or item)."
   ]
  },
  {
   "cell_type": "code",
   "execution_count": 49,
   "metadata": {},
   "outputs": [
    {
     "name": "stdout",
     "output_type": "stream",
     "text": [
      "星期天\n",
      "星期一\n",
      "星期二\n",
      "禮拜三\n",
      "星期四\n",
      "星期五\n",
      "星期六\n"
     ]
    }
   ],
   "source": [
    "for day in days_of_week:\n",
    "    print(day)"
   ]
  },
  {
   "cell_type": "markdown",
   "metadata": {},
   "source": [
    "Working with characters in a string is just as easy - we can use the format \"for character_variable in string:\""
   ]
  },
  {
   "cell_type": "code",
   "execution_count": 50,
   "metadata": {},
   "outputs": [
    {
     "name": "stdout",
     "output_type": "stream",
     "text": [
      "道\n",
      "可\n",
      "道\n",
      "，\n",
      "非\n",
      "常\n",
      "道\n",
      "。\n"
     ]
    }
   ],
   "source": [
    "my_string = \"道可道，非常道。\"\n",
    "for my_character in my_string:\n",
    "    print(my_character)"
   ]
  },
  {
   "cell_type": "markdown",
   "metadata": {},
   "source": [
    "However, sometimes we also need to know *where* (i.e. at what index) we are in a string."
   ]
  },
  {
   "cell_type": "code",
   "execution_count": 51,
   "metadata": {},
   "outputs": [
    {
     "name": "stdout",
     "output_type": "stream",
     "text": [
      "Index 0 in our string is: 道\n",
      "Index 1 in our string is: 可\n",
      "Index 2 in our string is: 道\n",
      "Index 3 in our string is: ，\n",
      "Index 4 in our string is: 非\n",
      "Index 5 in our string is: 常\n",
      "Index 6 in our string is: 道\n",
      "Index 7 in our string is: 。\n"
     ]
    }
   ],
   "source": [
    "for character_index in range(0,len(my_string)):\n",
    "    print(\"Index \" + str(character_index) + \" in our string is: \" + my_string[character_index])"
   ]
  },
  {
   "cell_type": "markdown",
   "metadata": {},
   "source": [
    "Sometimes we will need to have one loop inside another loop. In this case, we use progressively larger indentations to indicate which instructions should be repeated in which loop."
   ]
  },
  {
   "cell_type": "code",
   "execution_count": 52,
   "metadata": {},
   "outputs": [
    {
     "name": "stdout",
     "output_type": "stream",
     "text": [
      "Starting sums with x = 1\n",
      "1*10=10\n",
      "1*11=11\n",
      "1*12=12\n",
      "1*13=13\n",
      "Finished sums with x = 1\n",
      "Starting sums with x = 2\n",
      "2*10=20\n",
      "2*11=22\n",
      "2*12=24\n",
      "2*13=26\n",
      "Finished sums with x = 2\n",
      "Starting sums with x = 3\n",
      "3*10=30\n",
      "3*11=33\n",
      "3*12=36\n",
      "3*13=39\n",
      "Finished sums with x = 3\n",
      "Finished all the sums\n"
     ]
    }
   ],
   "source": [
    "for x in range(1,4):\n",
    "    print(\"Starting sums with x = \" + str(x))\n",
    "    for y in range(10,14):\n",
    "        z = x * y\n",
    "        print(str(x) + \"*\" + str(y) + \"=\" + str(z))\n",
    "    print(\"Finished sums with x = \" + str(x))\n",
    "print(\"Finished all the sums\")"
   ]
  },
  {
   "cell_type": "markdown",
   "metadata": {},
   "source": [
    "Getting Chinese texts\n",
    "-----\n",
    "\n",
    "If you already have a copy of a text you'd like to process, you can easily read it from a text file into a string variable. However, as the formatting of each text may be different, the exact steps needed to process the text may differ slightly in each case. We will look at how to deal with this in detail next time when we look at *regular expressions*, since these provide powerful tools to quickly reorganize textual data.\n",
    "\n",
    "An alternative way of getting textual data for historical texts is to use the [ctext.org API](http://ctext.org/tools/api), which lets us get the text for many historical texts in a consistent format. Texts are identified using a URN ([Uniform Resource Name](http://ctext.org/tools/api#urn)) - you can see this written at the bottom of the page when you view the corresponding text on [ctext.org](http://ctext.org).\n",
    "\n",
    "To make it easier to access these texts, we can install a specialized Python module to access the API. Before we can use it, we have to install it. Python makes this very easy to do, and it only needs to be done once; if you followed the instructions in the [first tutorial](http://digitalsinology.org/classical-chinese-dh-getting-started), you should already have this module installed.\n",
    "\n",
    "Once installed, we can use functions from this module to read textual data into Python variables. If we don't care about the structure of a text, but only its contents, we can read the text into a single list of strings, each containing a single paragraph, like this:"
   ]
  },
  {
   "cell_type": "code",
   "execution_count": 53,
   "metadata": {},
   "outputs": [
    {
     "name": "stdout",
     "output_type": "stream",
     "text": [
      "Total number of passages: 503\n",
      "First passage is: 子曰：「學而時習之，不亦說乎？有朋自遠方來，不亦樂乎？人不知而不慍，不亦君子乎？」\n",
      "Second passage is: 有子曰：「其為人也孝弟，而好犯上者，鮮矣；不好犯上，而好作亂者，未之有也。君子務本，本立而道生。孝弟也者，其為仁之本與！」\n",
      "Last passage is: 子曰：「不知命，無以為君子也。不知禮，無以立也。不知言，無以知人也。」\n"
     ]
    }
   ],
   "source": [
    "from ctext import *  # This lets us get Chinese texts from http://ctext.org\n",
    "setapikey(\"demo\")    # This allows us access to the data used in these tutorials\n",
    "\n",
    "passages = gettextasparagrapharray(\"ctp:analects\")\n",
    "\n",
    "print(\"Total number of passages: \" + str(len(passages)))\n",
    "print(\"First passage is: \" + passages[0])\n",
    "print(\"Second passage is: \" + passages[1])\n",
    "print(\"Last passage is: \" + passages[-1])"
   ]
  },
  {
   "cell_type": "markdown",
   "metadata": {},
   "source": [
    "Reading and writing files\n",
    "----\n",
    "\n",
    "To read or write to a file, we must first **open** it. When we open a file, we must specify both the name of the file, and whether we want to read data from it (\"r\"), or write data to it (\"w\"). The file.write() function works very much like print(), but writes its output directly to the file instead of to the screen. When writing to a file, however, we need to **explicitly include return characters at the end of each line** using \"\\n\". The file.read() function reads all the data from the file, which you can assign to a python variable.\n",
    "\n",
    "**N.B. Be careful when opening files!** When you use \"w\" to open a file for writing, any file with that name in the same folder as your Python Notebook will immediately be replaced with a new, empty file."
   ]
  },
  {
   "cell_type": "code",
   "execution_count": 54,
   "metadata": {},
   "outputs": [],
   "source": [
    "file = open(\"week2_testfile.txt\", \"w\", encoding=\"utf-8\") # N.B. \"w\" here means we will open this file and write to it. If the file exists, it will immediately be deleted.\n",
    "file.write(\"第一行\\n第二行\")\n",
    "file.close()"
   ]
  },
  {
   "cell_type": "markdown",
   "metadata": {},
   "source": [
    "Now take a look in Windows Explorer or Mac OS Finder and **make sure you can see where this file is** on your computer. It will be helpful for you to know in which folder Python expects files to be by default."
   ]
  },
  {
   "cell_type": "code",
   "execution_count": 55,
   "metadata": {},
   "outputs": [
    {
     "name": "stdout",
     "output_type": "stream",
     "text": [
      "第一行\n",
      "第二行\n"
     ]
    }
   ],
   "source": [
    "file = open(\"week2_testfile.txt\", \"r\", encoding=\"utf-8\") # \"r\" means we will open this file for reading, and won't be able to modify it\n",
    "data_from_file = file.read()\n",
    "file.close()\n",
    "print(data_from_file)"
   ]
  },
  {
   "cell_type": "markdown",
   "metadata": {},
   "source": [
    "Exercises\n",
    "----\n",
    "\n",
    "**1.i)** Write a program using a for loop to output all of the substrings of length 2 contained in the variable *input_string*. Your program should produce output like this:\n",
    "\n",
    "    天命\n",
    "    命之\n",
    "    之謂\n",
    "    謂性\n",
    "    性，\n",
    "    ，率\n",
    "    率性\n",
    "    性之\n",
    "    ...\n",
    "    ...\n",
    "    道也\n",
    "    也。\n"
   ]
  },
  {
   "cell_type": "code",
   "execution_count": 56,
   "metadata": {},
   "outputs": [
    {
     "name": "stdout",
     "output_type": "stream",
     "text": [
      "天命\n",
      "命之\n",
      "之謂\n",
      "謂性\n",
      "性，\n",
      "，率\n",
      "率性\n",
      "性之\n",
      "之謂\n",
      "謂道\n",
      "道，\n",
      "，修\n",
      "修道\n",
      "道之\n",
      "之謂\n",
      "謂教\n",
      "教。\n",
      "。道\n",
      "道也\n",
      "也者\n",
      "者，\n",
      "，不\n",
      "不可\n",
      "可須\n",
      "須臾\n",
      "臾離\n",
      "離也\n",
      "也，\n",
      "，可\n",
      "可離\n",
      "離非\n",
      "非道\n",
      "道也\n",
      "也。\n"
     ]
    }
   ],
   "source": [
    "input_string = \"天命之謂性，率性之謂道，修道之謂教。道也者，不可須臾離也，可離非道也。\"\n",
    "\n",
    "\n",
    "# Your code goes here!\n",
    "\n",
    "# split the string with generator comprehension\n",
    "text_generator = (input_string[i:i + 2] \n",
    "    for i in range(len(input_string) - 1))\n",
    "\n",
    "# loop to print the elements in the list\n",
    "for text in text_generator:\n",
    "    print(text)"
   ]
  },
  {
   "cell_type": "markdown",
   "metadata": {},
   "source": [
    "**1.ii)** Now modify your program so that you first define a variable called \"substring_length\" containing a number determining the length of substring to be listed. Your new program should still give the same output when run with \"substring_length=2\", but should also work with substring_length set to 3, 4, etc. Remember, every line that your program outputs should have exactly substring_length characters in it (including punctuation characters).\n",
    "\n"
   ]
  },
  {
   "cell_type": "code",
   "execution_count": 57,
   "metadata": {},
   "outputs": [
    {
     "name": "stdout",
     "output_type": "stream",
     "text": [
      "天命\n",
      "命之\n",
      "之謂\n",
      "謂性\n",
      "性，\n",
      "，率\n",
      "率性\n",
      "性之\n",
      "之謂\n",
      "謂道\n",
      "道，\n",
      "，修\n",
      "修道\n",
      "道之\n",
      "之謂\n",
      "謂教\n",
      "教。\n",
      "。道\n",
      "道也\n",
      "也者\n",
      "者，\n",
      "，不\n",
      "不可\n",
      "可須\n",
      "須臾\n",
      "臾離\n",
      "離也\n",
      "也，\n",
      "，可\n",
      "可離\n",
      "離非\n",
      "非道\n",
      "道也\n",
      "也。\n"
     ]
    }
   ],
   "source": [
    "# Your code goes here!\n",
    "def substring_generation(input_string, substring_length):\n",
    "    return (input_string[i:i + substring_length] \n",
    "    for i in range(len(input_string) - (substring_length - 1) ))\n",
    "\n",
    "for text in substring_generation(input_string, 2):\n",
    "    print(text)"
   ]
  },
  {
   "cell_type": "code",
   "execution_count": 58,
   "metadata": {},
   "outputs": [
    {
     "name": "stdout",
     "output_type": "stream",
     "text": [
      "天命之謂性\n",
      "命之謂性，\n",
      "之謂性，率\n",
      "謂性，率性\n",
      "性，率性之\n",
      "，率性之謂\n",
      "率性之謂道\n",
      "性之謂道，\n",
      "之謂道，修\n",
      "謂道，修道\n",
      "道，修道之\n",
      "，修道之謂\n",
      "修道之謂教\n",
      "道之謂教。\n",
      "之謂教。道\n",
      "謂教。道也\n",
      "教。道也者\n",
      "。道也者，\n",
      "道也者，不\n",
      "也者，不可\n",
      "者，不可須\n",
      "，不可須臾\n",
      "不可須臾離\n",
      "可須臾離也\n",
      "須臾離也，\n",
      "臾離也，可\n",
      "離也，可離\n",
      "也，可離非\n",
      "，可離非道\n",
      "可離非道也\n",
      "離非道也。\n"
     ]
    }
   ],
   "source": [
    "for text in substring_generation(input_string, 5):\n",
    "    print(text)"
   ]
  },
  {
   "cell_type": "markdown",
   "metadata": {},
   "source": [
    "**1.iii)** Modify your program again so that on each line it prints the total number of times that the substring occurs in input_string. For instance, each line beginning \"之謂\" should now read \"之謂 3\", since \"之謂\" occurs three times in this string.\n"
   ]
  },
  {
   "cell_type": "code",
   "execution_count": 59,
   "metadata": {
    "collapsed": true
   },
   "outputs": [],
   "source": [
    "# Your code goes here!\n",
    "def substring_list(input_string, substring_length):\n",
    "    return [input_string[i:i + substring_length] \n",
    "    for i in range(len(input_string) - 1)]\n",
    "\n",
    "\n",
    "def substring_match(string, match_list):\n",
    "    '''Given a string, it would find the number of times it match \n",
    "    in a list'''\n",
    "    return sum([string == substring for substring in match_list]) "
   ]
  },
  {
   "cell_type": "code",
   "execution_count": 60,
   "metadata": {},
   "outputs": [
    {
     "data": {
      "text/plain": [
       "3"
      ]
     },
     "execution_count": 60,
     "metadata": {},
     "output_type": "execute_result"
    }
   ],
   "source": [
    "# match 之謂\n",
    "string_list = substring_list(input_string, 2)\n",
    "substring_match('之謂', string_list)"
   ]
  },
  {
   "cell_type": "code",
   "execution_count": 61,
   "metadata": {},
   "outputs": [
    {
     "data": {
      "text/plain": [
       "2"
      ]
     },
     "execution_count": 61,
     "metadata": {},
     "output_type": "execute_result"
    }
   ],
   "source": [
    "# match 道也\n",
    "substring_match('道也', string_list)"
   ]
  },
  {
   "cell_type": "code",
   "execution_count": 62,
   "metadata": {},
   "outputs": [
    {
     "data": {
      "text/plain": [
       "3"
      ]
     },
     "execution_count": 62,
     "metadata": {},
     "output_type": "execute_result"
    }
   ],
   "source": [
    "# The above function is not decent enough, \n",
    "# the length of the string you want to match, \n",
    "# shoud be the same as the split length.\n",
    "def occur_times_in_input_string(match_string, input_string, ):\n",
    "    '''Return the occur times of the input string with a given \n",
    "    match string.'''\n",
    "    string_list = substring_list(input_string, len(match_string))\n",
    "    return substring_match(match_string, string_list)\n",
    "\n",
    "occur_times_in_input_string('之謂', input_string)"
   ]
  },
  {
   "cell_type": "code",
   "execution_count": 63,
   "metadata": {},
   "outputs": [
    {
     "data": {
      "text/plain": [
       "1"
      ]
     },
     "execution_count": 63,
     "metadata": {},
     "output_type": "execute_result"
    }
   ],
   "source": [
    "occur_times_in_input_string('道也者', input_string)"
   ]
  },
  {
   "cell_type": "markdown",
   "metadata": {},
   "source": [
    "**1.iv)** Run your program again, but now use this slightly longer text instead:\n",
    "\n",
    "    input_string = \"天命之謂性，率性之謂道，修道之謂教。道也者，不可須臾離也，可離非道也。是故君子戒慎乎其所不睹，恐懼乎其所不聞。莫見乎隱，莫顯乎微。故君子慎其獨也。喜怒哀樂之未發，謂之中；發而皆中節，謂之和；中也者，天下之大本也；和也者，天下之達道也。致中和，天地位焉，萬物育焉。\"\n",
    "\n",
    "Look at what the most frequent 2-grams are with this text. As before, some of them will include punctuation. Do any of these frequent 2-grams which include punctuation relate to facts about the language?\n"
   ]
  },
  {
   "cell_type": "code",
   "execution_count": 64,
   "metadata": {},
   "outputs": [
    {
     "data": {
      "text/plain": [
       "['天命', '命之']"
      ]
     },
     "execution_count": 64,
     "metadata": {},
     "output_type": "execute_result"
    }
   ],
   "source": [
    "# Your code goes here!\n",
    "# generate the n-grams list ... using loop (guess it would be slow)\n",
    "input_string = \"天命之謂性，率性之謂道，修道之謂教。道也者，不可須臾離也，可離非道也。是故君子戒慎乎其所不睹，恐懼乎其所不聞。莫見乎隱，莫顯乎微。故君子慎其獨也。喜怒哀樂之未發，謂之中；發而皆中節，謂之和；中也者，天下之大本也；和也者，天下之達道也。致中和，天地位焉，萬物育焉。\"\n",
    "n_grams_list = substring_list(input_string, 2)\n",
    "n_grams_list[:2]"
   ]
  },
  {
   "cell_type": "code",
   "execution_count": 65,
   "metadata": {},
   "outputs": [
    {
     "data": {
      "text/plain": [
       "[1, 1]"
      ]
     },
     "execution_count": 65,
     "metadata": {},
     "output_type": "execute_result"
    }
   ],
   "source": [
    "# match each components in the list with itself, \n",
    "# generate another list to store the output values \n",
    "n_grams_frequency_list = [occur_times_in_input_string(string, input_string) \n",
    "     for string in n_grams_list]\n",
    "n_grams_frequency_list[:2]"
   ]
  },
  {
   "cell_type": "code",
   "execution_count": 66,
   "metadata": {},
   "outputs": [
    {
     "data": {
      "text/plain": [
       "<matplotlib.text.Text at 0x111926518>"
      ]
     },
     "execution_count": 66,
     "metadata": {},
     "output_type": "execute_result"
    },
    {
     "data": {
      "image/png": "[encoded data removed]",
      "text/plain": [
       "<matplotlib.figure.Figure at 0x110d40198>"
      ]
     },
     "metadata": {
      "image/png": {
       "height": 250,
       "width": 393
      }
     },
     "output_type": "display_data"
    }
   ],
   "source": [
    "# visualize a little bit \n",
    "from matplotlib import pyplot as plt\n",
    "\n",
    "%config InlineBackend.figure_format = 'retina'\n",
    "%matplotlib inline \n",
    "\n",
    "plt.plot(n_grams_frequency_list)\n",
    "plt.ylabel('Frequency')"
   ]
  },
  {
   "cell_type": "markdown",
   "metadata": {},
   "source": [
    "So, the most frequent one has frequency equal to 3."
   ]
  },
  {
   "cell_type": "markdown",
   "metadata": {},
   "source": [
    "\n",
    "**2.i)** In the cell below, write a program to find and print out all passages in the Analects that include the term \"仁\".\n",
    "\n",
    "Note: if you've run the example program under **Getting Chinese texts**, the data is already stored in the *passages* variable.\n"
   ]
  },
  {
   "cell_type": "code",
   "execution_count": 67,
   "metadata": {},
   "outputs": [
    {
     "data": {
      "text/plain": [
       "['有子曰：「其為人也孝弟，而好犯上者，鮮矣；不好犯上，而好作亂者，未之有也。君子務本，本立而道生。孝弟也者，其為仁之本與！」',\n",
       " '子曰：「巧言令色，鮮矣仁！」']"
      ]
     },
     "execution_count": 67,
     "metadata": {},
     "output_type": "execute_result"
    }
   ],
   "source": [
    "# Your code goes here!\n",
    "analects = gettextasparagrapharray(\"ctp:analects\")\n",
    "gin_passages = list(filter(\n",
    "    lambda passage: '仁' in passage, analects))\n",
    "\n",
    "# I use some functional programming language here, \n",
    "# such as map, lambda, filter, [x for x in some_list].\n",
    "# They are fun to use in Python, check the links if you like:\n",
    "# https://www.ibm.com/developerworks/library/l-prog/index.html\n",
    "# https://docs.python.org/3/howto/functional.html\n",
    "gin_passages[:2]"
   ]
  },
  {
   "cell_type": "markdown",
   "metadata": {},
   "source": [
    "**2.ii)** Modify your program so it instead lists only passages that mention _both_ terms \"仁\" and \"義\".\n"
   ]
  },
  {
   "cell_type": "code",
   "execution_count": 68,
   "metadata": {},
   "outputs": [
    {
     "data": {
      "text/plain": [
       "['樊遲問知。子曰：「務民之義，敬鬼神而遠之，可謂知矣。」問仁。曰：「仁者先難而後獲，可謂仁矣。」',\n",
       " '子張問：「士何如斯可謂之達矣？」子曰：「何哉，爾所謂達者？」子張對曰：「在邦必聞，在家必聞。」子曰：「是聞也，非達也。夫達也者，質直而好義，察言而觀色，慮以下人。在邦必達，在家必達。夫聞也者，色取仁而行違，居之不疑。在邦必聞，在家必聞。」']"
      ]
     },
     "execution_count": 68,
     "metadata": {},
     "output_type": "execute_result"
    }
   ],
   "source": [
    "# Your code goes here!\n",
    "gin_yi_passages = list(filter(\n",
    "    lambda passage: ('仁' in passage) and ('義' in passage), \n",
    "    analects))\n",
    "gin_yi_passages[:2]"
   ]
  },
  {
   "cell_type": "markdown",
   "metadata": {},
   "source": [
    "**2.iii)** Modify your program so it instead lists only passages that mention _either_ the term \"愛人\" or \"知人\" **but not both**."
   ]
  },
  {
   "cell_type": "code",
   "execution_count": 69,
   "metadata": {},
   "outputs": [
    {
     "data": {
      "text/plain": [
       "['子曰：「道千乘之國：敬事而信，節用而愛人，使民以時。」', '子曰：「不患人之不己知，患不知人也。」']"
      ]
     },
     "execution_count": 69,
     "metadata": {},
     "output_type": "execute_result"
    }
   ],
   "source": [
    "# Your code goes here!\n",
    "# ^ is the XOR operator, which implies that return True only if \n",
    "# two boolean values are different.\n",
    "ai_ji_passages = list(filter(\n",
    "    lambda passage: ('愛人' in passage) ^ ('知人' in passage), \n",
    "    analects))\n",
    "ai_ji_passages[:2]"
   ]
  },
  {
   "cell_type": "markdown",
   "metadata": {},
   "source": [
    "**3)** Write another program (if you like, you can copy and paste your answer to the previous question and modify it) to determine which passage in the Analects mentions the term \"禮\" the greatest number of times.\n",
    "\n",
    "*Hint: Use one variable to track the greatest number of times \"禮\" has appeared, and another to track which passage it appeared in.*"
   ]
  },
  {
   "cell_type": "code",
   "execution_count": 70,
   "metadata": {},
   "outputs": [
    {
     "data": {
      "text/plain": [
       "'顏淵問仁。子曰：「克己復禮為仁。一日克己復禮，天下歸仁焉。為仁由己，而由人乎哉？」顏淵曰：「請問其目。」子曰：「非禮勿視，非禮勿聽，非禮勿言，非禮勿動。」顏淵曰：「回雖不敏，請事斯語矣。」'"
      ]
     },
     "execution_count": 70,
     "metadata": {},
     "output_type": "execute_result"
    }
   ],
   "source": [
    "# Your code goes here!\n",
    "# count the number of 禮\n",
    "li_num_list = [passage.count('禮') for passage in analects]\n",
    "\n",
    "# argmax and print out the passage with greatest num of 禮\n",
    "analects[li_num_list.index(max(li_num_list))]"
   ]
  },
  {
   "cell_type": "markdown",
   "metadata": {},
   "source": [
    "**4.i)** Write a program in the cell below to store the full text of the Analects into a file on your computer called \"analects.txt\". Put each paragraph on its own line, and in front of each paragraph put firstly the number of the paragraph, starting at 1, and secondly the length of the paragraph in characters. **Separate each of these three pieces of data with a tab character**. The beginning of your file should look like this:\n",
    "\n",
    "<pre>\n",
    "1   41   子曰：「學而時習之，不亦說乎？有朋自遠方來，不亦樂乎？人不知而不慍，不亦君子乎？」\n",
    "2   61   有子曰：「其為人也孝弟，而好犯上者，鮮矣；不好犯上，而好作亂者，未之有也。君子務本，本立而道生。孝弟也者，其為仁之本與！」\n",
    "</pre>\n"
   ]
  },
  {
   "cell_type": "code",
   "execution_count": 71,
   "metadata": {},
   "outputs": [
    {
     "name": "stdout",
     "output_type": "stream",
     "text": [
      "1\t41\t子曰：「學而時習之，不亦說乎？有朋自遠方來，不亦樂乎？人不知而不慍，不亦君子乎？」\n"
     ]
    }
   ],
   "source": [
    "# Your code goes here!\n",
    "# tab is \\t\n",
    "print ('1\\t41\\t子曰：「學而時習之，不亦說乎？有朋自遠方來，不亦樂乎？人不知而不慍，不亦君子乎？」')"
   ]
  },
  {
   "cell_type": "code",
   "execution_count": 72,
   "metadata": {},
   "outputs": [],
   "source": [
    "# open a file and print the string line by line\n",
    "for i, passage in enumerate(analects):\n",
    "    with open('analects.txt', 'a', encoding=\"utf-8\") as file:\n",
    "        print('{}\\t{}\\t{}'.format(i + 1, len(passage), passage), file=file)"
   ]
  },
  {
   "cell_type": "code",
   "execution_count": 73,
   "metadata": {},
   "outputs": [],
   "source": [
    "%pycat analects.txt\n",
    "# a magic function to preview your txt on the browser"
   ]
  },
  {
   "cell_type": "markdown",
   "metadata": {},
   "source": [
    "* Open the file in a text editor (e.g. Notepad for Windows, TextEdit for Mac OS X - usually double-clicking on the file you've created will do this) and check that the output looks correct.\n",
    "\n",
    "**4.ii)** Modify your program so that the character counts only include Chinese characters, i.e. **do not count punctuation characters**."
   ]
  },
  {
   "cell_type": "code",
   "execution_count": 74,
   "metadata": {},
   "outputs": [
    {
     "data": {
      "text/plain": [
       "(32, '子曰學而時習之不亦說乎有朋自遠方來不亦樂乎人不知而不慍不亦君子乎')"
      ]
     },
     "execution_count": 74,
     "metadata": {},
     "output_type": "execute_result"
    }
   ],
   "source": [
    "# Your code goes here!\n",
    "import string \n",
    "import functools\n",
    "import operator\n",
    "\n",
    "# specifiy the full-width punctions in Chinese\n",
    "punctuations = '？「」。，：；、』『【】＿＋＝’“/／⋯・》《〈〉！＠＃＄％＾＆＊（）'\n",
    "pun_dict = {ord(pun) : '' for pun in punctuations}\n",
    "\n",
    "# see here for the usage of string translate\n",
    "# https://stackoverflow.com/questions/21038891/what-does-table-in-the-string-translate-function-mean\n",
    "\n",
    "# so you can strip the punctuations in the string\n",
    "temp = analects[0]\n",
    "len(temp.translate(pun_dict)), temp.translate(pun_dict), "
   ]
  },
  {
   "cell_type": "code",
   "execution_count": 75,
   "metadata": {
    "collapsed": true
   },
   "outputs": [],
   "source": [
    "# save the file with the length of the passage without punctuations\n",
    "for i, passage in enumerate(analects):\n",
    "    with open('analects-without-punctuatons.txt', 'a', encoding=\"utf-8\") as file:\n",
    "        print('{}\\t{}\\t{}'.format(i + 1, len(passage.translate(pun_dict)), passage), file=file)"
   ]
  },
  {
   "cell_type": "code",
   "execution_count": 76,
   "metadata": {
    "collapsed": true
   },
   "outputs": [],
   "source": [
    "%pycat analects-without-punctuatons.txt\n",
    "\n",
    "# preview the output data"
   ]
  },
  {
   "cell_type": "code",
   "execution_count": 77,
   "metadata": {
    "scrolled": false
   },
   "outputs": [
    {
     "data": {
      "text/plain": [
       "['子曰',\n",
       " '學而',\n",
       " '而時',\n",
       " '時習',\n",
       " '習之',\n",
       " '不亦',\n",
       " '亦說',\n",
       " '說乎',\n",
       " '有朋',\n",
       " '朋自',\n",
       " '自遠',\n",
       " '遠方',\n",
       " '方來',\n",
       " '不亦',\n",
       " '亦樂',\n",
       " '樂乎',\n",
       " '人不',\n",
       " '不知',\n",
       " '知而',\n",
       " '而不',\n",
       " '不慍',\n",
       " '不亦',\n",
       " '亦君',\n",
       " '君子',\n",
       " '子乎']"
      ]
     },
     "execution_count": 77,
     "metadata": {},
     "output_type": "execute_result"
    }
   ],
   "source": [
    "# If we want our program to count the n-grams without punctuations\n",
    "# we need to rewrite the previous functions to filter each n-gram\n",
    "\n",
    "# this function is the same as the previous one\n",
    "def substring_list(input_string, substring_length):\n",
    "    '''Output the n-grams segements (not sure this name is appropriate)\n",
    "    of a given input_string.'''\n",
    "    return [input_string[i:i + substring_length] \n",
    "        for i in range(len(input_string) - 1)]\n",
    "\n",
    "def filter_punctuation(n_grams, pun_dict):\n",
    "    '''Keep the n-grams segements without punctuations only.'''\n",
    "    n = len(n_grams[0]) # extract the n in n-grams\n",
    "    return list(filter(\n",
    "        lambda x: len(x.translate(pun_dict)) == n, \n",
    "        n_grams))\n",
    "\n",
    "filter_punctuation(substring_list(temp, 2), pun_dict)"
   ]
  },
  {
   "cell_type": "code",
   "execution_count": 78,
   "metadata": {},
   "outputs": [
    {
     "name": "stdout",
     "output_type": "stream",
     "text": [
      "The number of n-grams is 11943\n",
      "The number of unique terms is 6418\n"
     ]
    }
   ],
   "source": [
    "# Now, I want to count the number of n-grams in each passage\n",
    "analects_ngrams_list = list(map(lambda x: filter_punctuation(\n",
    "    substring_list(x, 2), pun_dict),\n",
    "    analects))\n",
    "\n",
    "# concatenate all lists into one list using reduce function\n",
    "analects_ngrams_list = functools.reduce(\n",
    "    operator.add, analects_ngrams_list)\n",
    "print('The number of n-grams is {}'.format(len(analects_ngrams_list)))\n",
    "\n",
    "# remove the duplicate terms, and keep the unique ones in a set\n",
    "analects_ngrams_set = set(analects_ngrams_list)\n",
    "print('The number of unique terms is {}'.format(len(analects_ngrams_set)))"
   ]
  },
  {
   "cell_type": "code",
   "execution_count": 79,
   "metadata": {},
   "outputs": [
    {
     "name": "stdout",
     "output_type": "stream",
     "text": [
      "The frequency of 子曰 is 452.\n"
     ]
    }
   ],
   "source": [
    "# The last step, I want to count the frequency of these uniqe terms\n",
    "# occur in the analect and store the number into a dict with \n",
    "# the name of the term\n",
    "full_text_analect_string = functools.reduce(operator.add, analects)\n",
    "n_grams_dict = {term : full_text_analect_string.count(term)\n",
    "    for term in analects_ngrams_set}\n",
    "\n",
    "# insert any key you want\n",
    "print('The frequency of 子曰 is {}.'.format(n_grams_dict['子曰']))"
   ]
  },
  {
   "cell_type": "markdown",
   "metadata": {},
   "source": [
    "\n",
    "**4.iii)** (*Optional*) If you have Excel or another spreadsheet program on your computer, try importing the file into it so that you get separate columns for the paragraph number, length, and content. (This may or may not be easy depending on your operating system and spreadsheet program. If you encounter encoding issues, try copying all of the data from the text editor straight into a blank spreadsheet instead.)"
   ]
  },
  {
   "cell_type": "code",
   "execution_count": 80,
   "metadata": {},
   "outputs": [
    {
     "data": {
      "text/html": [
       "<div>\n",
       "<style scoped>\n",
       "    .dataframe tbody tr th:only-of-type {\n",
       "        vertical-align: middle;\n",
       "    }\n",
       "\n",
       "    .dataframe tbody tr th {\n",
       "        vertical-align: top;\n",
       "    }\n",
       "\n",
       "    .dataframe thead th {\n",
       "        text-align: right;\n",
       "    }\n",
       "</style>\n",
       "<table border=\"1\" class=\"dataframe\">\n",
       "  <thead>\n",
       "    <tr style=\"text-align: right;\">\n",
       "      <th></th>\n",
       "      <th>passage</th>\n",
       "      <th>length</th>\n",
       "      <th>content</th>\n",
       "    </tr>\n",
       "  </thead>\n",
       "  <tbody>\n",
       "    <tr>\n",
       "      <th>0</th>\n",
       "      <td>1</td>\n",
       "      <td>32</td>\n",
       "      <td>子曰：「學而時習之，不亦說乎？有朋自遠方來，不亦樂乎？人不知而不慍，不亦君子乎？」</td>\n",
       "    </tr>\n",
       "    <tr>\n",
       "      <th>1</th>\n",
       "      <td>2</td>\n",
       "      <td>48</td>\n",
       "      <td>有子曰：「其為人也孝弟，而好犯上者，鮮矣；不好犯上，而好作亂者，未之有也。君子務本，本立而道...</td>\n",
       "    </tr>\n",
       "    <tr>\n",
       "      <th>2</th>\n",
       "      <td>3</td>\n",
       "      <td>9</td>\n",
       "      <td>子曰：「巧言令色，鮮矣仁！」</td>\n",
       "    </tr>\n",
       "    <tr>\n",
       "      <th>3</th>\n",
       "      <td>4</td>\n",
       "      <td>28</td>\n",
       "      <td>曾子曰：「吾日三省吾身：為人謀而不忠乎？與朋友交而不信乎？傳不習乎？」</td>\n",
       "    </tr>\n",
       "    <tr>\n",
       "      <th>4</th>\n",
       "      <td>5</td>\n",
       "      <td>20</td>\n",
       "      <td>子曰：「道千乘之國：敬事而信，節用而愛人，使民以時。」</td>\n",
       "    </tr>\n",
       "  </tbody>\n",
       "</table>\n",
       "</div>"
      ],
      "text/plain": [
       "   passage  length                                            content\n",
       "0        1      32          子曰：「學而時習之，不亦說乎？有朋自遠方來，不亦樂乎？人不知而不慍，不亦君子乎？」\n",
       "1        2      48  有子曰：「其為人也孝弟，而好犯上者，鮮矣；不好犯上，而好作亂者，未之有也。君子務本，本立而道...\n",
       "2        3       9                                     子曰：「巧言令色，鮮矣仁！」\n",
       "3        4      28                曾子曰：「吾日三省吾身：為人謀而不忠乎？與朋友交而不信乎？傳不習乎？」\n",
       "4        5      20                        子曰：「道千乘之國：敬事而信，節用而愛人，使民以時。」"
      ]
     },
     "execution_count": 80,
     "metadata": {},
     "output_type": "execute_result"
    }
   ],
   "source": [
    "# My code goes here!\n",
    "# The best way to handle table data in Python is using pandas!\n",
    "import pandas as pd\n",
    "\n",
    "analects_dataframe = pd.read_csv(\n",
    "    'analects-without-punctuatons.txt', \n",
    "    header=-1, delim_whitespace=1)\n",
    "\n",
    "# insert the column names \n",
    "analects_dataframe.columns = ['passage', 'length', 'content']\n",
    "analects_dataframe.head()"
   ]
  },
  {
   "cell_type": "code",
   "execution_count": 81,
   "metadata": {},
   "outputs": [
    {
     "data": {
      "text/html": [
       "<div>\n",
       "<style scoped>\n",
       "    .dataframe tbody tr th:only-of-type {\n",
       "        vertical-align: middle;\n",
       "    }\n",
       "\n",
       "    .dataframe tbody tr th {\n",
       "        vertical-align: top;\n",
       "    }\n",
       "\n",
       "    .dataframe thead th {\n",
       "        text-align: right;\n",
       "    }\n",
       "</style>\n",
       "<table border=\"1\" class=\"dataframe\">\n",
       "  <thead>\n",
       "    <tr style=\"text-align: right;\">\n",
       "      <th></th>\n",
       "      <th>num</th>\n",
       "    </tr>\n",
       "  </thead>\n",
       "  <tbody>\n",
       "    <tr>\n",
       "      <th>一人</th>\n",
       "      <td>2</td>\n",
       "    </tr>\n",
       "    <tr>\n",
       "      <th>一以</th>\n",
       "      <td>4</td>\n",
       "    </tr>\n",
       "    <tr>\n",
       "      <th>一則</th>\n",
       "      <td>2</td>\n",
       "    </tr>\n",
       "    <tr>\n",
       "      <th>一匡</th>\n",
       "      <td>1</td>\n",
       "    </tr>\n",
       "    <tr>\n",
       "      <th>一得</th>\n",
       "      <td>1</td>\n",
       "    </tr>\n",
       "  </tbody>\n",
       "</table>\n",
       "</div>"
      ],
      "text/plain": [
       "    num\n",
       "一人    2\n",
       "一以    4\n",
       "一則    2\n",
       "一匡    1\n",
       "一得    1"
      ]
     },
     "execution_count": 81,
     "metadata": {},
     "output_type": "execute_result"
    }
   ],
   "source": [
    "# we can also transform a dict into a Dataframe\n",
    "n_grams_dataframe = pd.DataFrame(n_grams_dict, index=['num']).T\n",
    "n_grams_dataframe.head()"
   ]
  },
  {
   "cell_type": "markdown",
   "metadata": {},
   "source": [
    "**5)** [_Harder_] Which passage in the Analects contains a character repeated more frequently than any other character in any other passage - and what is the character?\n",
    "It will help if you firstly think carefully about what you need to keep track of between passages in order to answer this question."
   ]
  },
  {
   "cell_type": "code",
   "execution_count": 82,
   "metadata": {},
   "outputs": [
    {
     "data": {
      "text/html": [
       "<div>\n",
       "<style scoped>\n",
       "    .dataframe tbody tr th:only-of-type {\n",
       "        vertical-align: middle;\n",
       "    }\n",
       "\n",
       "    .dataframe tbody tr th {\n",
       "        vertical-align: top;\n",
       "    }\n",
       "\n",
       "    .dataframe thead th {\n",
       "        text-align: right;\n",
       "    }\n",
       "</style>\n",
       "<table border=\"1\" class=\"dataframe\">\n",
       "  <thead>\n",
       "    <tr style=\"text-align: right;\">\n",
       "      <th></th>\n",
       "      <th>0</th>\n",
       "      <th>1</th>\n",
       "      <th>2</th>\n",
       "      <th>3</th>\n",
       "      <th>4</th>\n",
       "      <th>5</th>\n",
       "      <th>6</th>\n",
       "      <th>7</th>\n",
       "      <th>8</th>\n",
       "      <th>9</th>\n",
       "      <th>...</th>\n",
       "      <th>493</th>\n",
       "      <th>494</th>\n",
       "      <th>495</th>\n",
       "      <th>496</th>\n",
       "      <th>497</th>\n",
       "      <th>498</th>\n",
       "      <th>499</th>\n",
       "      <th>500</th>\n",
       "      <th>501</th>\n",
       "      <th>502</th>\n",
       "    </tr>\n",
       "  </thead>\n",
       "  <tbody>\n",
       "    <tr>\n",
       "      <th>一</th>\n",
       "      <td>0</td>\n",
       "      <td>0</td>\n",
       "      <td>0</td>\n",
       "      <td>0</td>\n",
       "      <td>0</td>\n",
       "      <td>0</td>\n",
       "      <td>0</td>\n",
       "      <td>0</td>\n",
       "      <td>0</td>\n",
       "      <td>0</td>\n",
       "      <td>...</td>\n",
       "      <td>0</td>\n",
       "      <td>0</td>\n",
       "      <td>0</td>\n",
       "      <td>0</td>\n",
       "      <td>0</td>\n",
       "      <td>0</td>\n",
       "      <td>2</td>\n",
       "      <td>1</td>\n",
       "      <td>0</td>\n",
       "      <td>0</td>\n",
       "    </tr>\n",
       "    <tr>\n",
       "      <th>七</th>\n",
       "      <td>0</td>\n",
       "      <td>0</td>\n",
       "      <td>0</td>\n",
       "      <td>0</td>\n",
       "      <td>0</td>\n",
       "      <td>0</td>\n",
       "      <td>0</td>\n",
       "      <td>0</td>\n",
       "      <td>0</td>\n",
       "      <td>0</td>\n",
       "      <td>...</td>\n",
       "      <td>0</td>\n",
       "      <td>0</td>\n",
       "      <td>0</td>\n",
       "      <td>0</td>\n",
       "      <td>0</td>\n",
       "      <td>0</td>\n",
       "      <td>0</td>\n",
       "      <td>0</td>\n",
       "      <td>0</td>\n",
       "      <td>0</td>\n",
       "    </tr>\n",
       "    <tr>\n",
       "      <th>丈</th>\n",
       "      <td>0</td>\n",
       "      <td>0</td>\n",
       "      <td>0</td>\n",
       "      <td>0</td>\n",
       "      <td>0</td>\n",
       "      <td>0</td>\n",
       "      <td>0</td>\n",
       "      <td>0</td>\n",
       "      <td>0</td>\n",
       "      <td>0</td>\n",
       "      <td>...</td>\n",
       "      <td>0</td>\n",
       "      <td>0</td>\n",
       "      <td>0</td>\n",
       "      <td>0</td>\n",
       "      <td>0</td>\n",
       "      <td>0</td>\n",
       "      <td>0</td>\n",
       "      <td>0</td>\n",
       "      <td>0</td>\n",
       "      <td>0</td>\n",
       "    </tr>\n",
       "    <tr>\n",
       "      <th>三</th>\n",
       "      <td>0</td>\n",
       "      <td>0</td>\n",
       "      <td>0</td>\n",
       "      <td>1</td>\n",
       "      <td>0</td>\n",
       "      <td>0</td>\n",
       "      <td>0</td>\n",
       "      <td>0</td>\n",
       "      <td>0</td>\n",
       "      <td>0</td>\n",
       "      <td>...</td>\n",
       "      <td>0</td>\n",
       "      <td>0</td>\n",
       "      <td>0</td>\n",
       "      <td>0</td>\n",
       "      <td>0</td>\n",
       "      <td>0</td>\n",
       "      <td>0</td>\n",
       "      <td>0</td>\n",
       "      <td>0</td>\n",
       "      <td>0</td>\n",
       "    </tr>\n",
       "    <tr>\n",
       "      <th>上</th>\n",
       "      <td>0</td>\n",
       "      <td>2</td>\n",
       "      <td>0</td>\n",
       "      <td>0</td>\n",
       "      <td>0</td>\n",
       "      <td>0</td>\n",
       "      <td>0</td>\n",
       "      <td>0</td>\n",
       "      <td>0</td>\n",
       "      <td>0</td>\n",
       "      <td>...</td>\n",
       "      <td>1</td>\n",
       "      <td>0</td>\n",
       "      <td>0</td>\n",
       "      <td>0</td>\n",
       "      <td>0</td>\n",
       "      <td>0</td>\n",
       "      <td>0</td>\n",
       "      <td>0</td>\n",
       "      <td>0</td>\n",
       "      <td>0</td>\n",
       "    </tr>\n",
       "  </tbody>\n",
       "</table>\n",
       "<p>5 rows × 503 columns</p>\n",
       "</div>"
      ],
      "text/plain": [
       "   0    1    2    3    4    5    6    7    8    9   ...   493  494  495  496  \\\n",
       "一    0    0    0    0    0    0    0    0    0    0 ...     0    0    0    0   \n",
       "七    0    0    0    0    0    0    0    0    0    0 ...     0    0    0    0   \n",
       "丈    0    0    0    0    0    0    0    0    0    0 ...     0    0    0    0   \n",
       "三    0    0    0    1    0    0    0    0    0    0 ...     0    0    0    0   \n",
       "上    0    2    0    0    0    0    0    0    0    0 ...     1    0    0    0   \n",
       "\n",
       "   497  498  499  500  501  502  \n",
       "一    0    0    2    1    0    0  \n",
       "七    0    0    0    0    0    0  \n",
       "丈    0    0    0    0    0    0  \n",
       "三    0    0    0    0    0    0  \n",
       "上    0    0    0    0    0    0  \n",
       "\n",
       "[5 rows x 503 columns]"
      ]
     },
     "execution_count": 82,
     "metadata": {},
     "output_type": "execute_result"
    }
   ],
   "source": [
    "# Your code goes here!\n",
    "# We can get the set of characters first and \n",
    "# count the number of frequency in each passages\n",
    "\n",
    "# repeat the same procedure to produce the set of characters\n",
    "analects_ngrams_list = list(map(lambda x: filter_punctuation(\n",
    "    substring_list(x, 1), pun_dict),\n",
    "    analects))\n",
    "analects_ngrams_list = functools.reduce(\n",
    "    operator.add, analects_ngrams_list)\n",
    "analects_ngrams_set  = set(analects_ngrams_list)\n",
    "\n",
    "# Now, we store the frequency of the term in each passage into a list\n",
    "# in the dict.\n",
    "n_grams_dict = {term : [passage.count(term) for passage in analects] \n",
    "     for term in analects_ngrams_set}\n",
    "\n",
    "# we still can transform it into dataframe\n",
    "n_grams_dataframe = pd.DataFrame(n_grams_dict).T\n",
    "n_grams_dataframe.head()"
   ]
  },
  {
   "cell_type": "code",
   "execution_count": 83,
   "metadata": {},
   "outputs": [
    {
     "name": "stdout",
     "output_type": "stream",
     "text": [
      "The most frequent character is 不.\n",
      "It is in this passage : 食不厭精，膾不厭細。食饐而餲，魚餒而肉敗，不食。色惡，不食。臭惡，不食。失飪，不食。不時，不食。割不正，不食。不得其醬，不食。肉雖多，不使勝食氣。惟酒無量，不及亂。沽酒市脯不食。不撤薑食。不多食。祭於公，不宿肉。祭肉不出三日。出三日，不食之矣。食不語，寢不言。雖疏食菜羹，瓜祭，必齊如也。\n"
     ]
    }
   ],
   "source": [
    "print ('The most frequent character is {}.'.format(\n",
    "    n_grams_dataframe.max(axis=1).idxmax()))\n",
    "\n",
    "idxmax = n_grams_dataframe.loc[\n",
    "    n_grams_dataframe.max(axis=1).idxmax(), :].idxmax()\n",
    "print ('It is in this passage : {}'.format(\n",
    "    analects[idxmax]))"
   ]
  },
  {
   "cell_type": "code",
   "execution_count": 84,
   "metadata": {},
   "outputs": [
    {
     "data": {
      "text/plain": [
       "<matplotlib.text.Text at 0x110aa4400>"
      ]
     },
     "execution_count": 84,
     "metadata": {},
     "output_type": "execute_result"
    },
    {
     "data": {
      "image/png": "[encoded data removed]",
      "text/plain": [
       "<matplotlib.figure.Figure at 0x113d7f080>"
      ]
     },
     "metadata": {
      "image/png": {
       "height": 256,
       "width": 384
      }
     },
     "output_type": "display_data"
    }
   ],
   "source": [
    "val_list = n_grams_dataframe.max(axis=1).values\n",
    "idx_list = n_grams_dataframe.index\n",
    "idx_list = [x for _,x in sorted(zip(val_list, idx_list))]\n",
    "val_list = list(sorted(val_list))\n",
    "\n",
    "# visualize 10 most frequent characters in passage\n",
    "fig, ax = plt.subplots()\n",
    "ax.bar(range(10), val_list[-10:])\n",
    "ax.set_xticks(range(10))\n",
    "ax.set_xticklabels(idx_list[-10:], \n",
    "    rotation=45, fontsize=12, \n",
    "    fontdict={'fontname': 'SimHei', 'fontsize':12});\n",
    "ax.set_ylabel('Frequency')"
   ]
  },
  {
   "cell_type": "markdown",
   "metadata": {},
   "source": [
    "**Further reading**\n",
    "\n",
    "* http://phrasesinenglish.org/explorengrams.html\n",
    "* [Google books n-grams viewer](https://books.google.com/ngrams) - This provides an easy-to-use example of n-grams in action. Although this is useful as a practical example and for seeing how changes in n-gram patterns are potentially useful, there are [many](http://www.wired.com/2015/10/pitfalls-of-studying-language-with-google-ngram/) [issues](http://languagelog.ldc.upenn.edu/nll/?p=1701) with the underlying data which mean it may not be suitable for research purposes, and [the data for pre-modern Chinese in particular is not suitable](http://digitalsinology.org/google-ngrams-pre-modern-chinese/) for serious research. The [related paper in Nature](http://science.sciencemag.org/content/331/6014/176.full) is certainly worth reading, but some of the arguments made using the data should be approached with a healthy degree of skepticism."
   ]
  },
  {
   "cell_type": "markdown",
   "metadata": {
    "collapsed": true
   },
   "source": [
    "**Bonus question**\n",
    "\n",
    "This section is **optional** as it includes several things we haven't covered yet and will look at later on in when we look more closely at structured data.\n",
    "\n",
    "The program below uses a *dictionary* variable to count all of the 1-grams in the Analects. [A dictionary variable is very similar to a list, except that its items are not numbered 0,1,2,... but instead indexed using arbitrary strings - for instance, my_dictionary[\"論語\"], which might contain a string value such as \"analects\", or a number like 32. The term \"dictionary\" here is metaphorical, i.e. a dictionary variable often does not contain translations of words from one language to another - though this is one possible use case.]\n",
    "\n",
    "It then uses the [pandas library](http://pandas.pydata.org/) to select the top ten most frequent 1-grams, and the [matplotlib library](http://matplotlib.org/) to draw a bar chart of this data.\n",
    "\n",
    "Read through the code, and see if you can modify it to find the most frequent 2-grams, 3-grams, etc. "
   ]
  },
  {
   "cell_type": "code",
   "execution_count": 85,
   "metadata": {},
   "outputs": [
    {
     "name": "stdout",
     "output_type": "stream",
     "text": [
      "子    973\n",
      "曰    757\n",
      "之    613\n",
      "不    583\n",
      "也    532\n",
      "而    343\n",
      "其    270\n",
      "者    219\n",
      "人    219\n",
      "以    211\n",
      "dtype: int64\n"
     ]
    },
    {
     "data": {
      "image/png": "[encoded data removed]",
      "text/plain": [
       "<matplotlib.figure.Figure at 0x111854940>"
      ]
     },
     "metadata": {
      "image/png": {
       "height": 277,
       "width": 389
      }
     },
     "output_type": "display_data"
    }
   ],
   "source": [
    "import numpy as np\n",
    "import matplotlib.pyplot as plt\n",
    "\n",
    "# The next line tells the matplotlib library to display its output in our Jupyter notebook\n",
    "%matplotlib inline\n",
    "from ctext import *\n",
    "import pandas as pd\n",
    "import matplotlib as mpl\n",
    "\n",
    "# Unfortunately some software still has difficulty dealing with Chinese.\n",
    "# Here we may need to tell matplotlib to use a specific font containing Chinese characters.\n",
    "#import platform\n",
    "#if platform.system() == 'Darwin':   # I.e. if we're running on Mac OS X\n",
    "#    mpl.rcParams['font.family'] = \"STFangsong\" \n",
    "#else:\n",
    "#    mpl.rcParams['font.family'] = \"SimHei\"\n",
    "\n",
    "## Jibancat: I comment out the above setting, because I cannot print the \n",
    "## Chinese characters with STFangsong though I am a Max OS X user.\n",
    "## So I use SimHei instead\n",
    "\n",
    "mpl.rcParams['font.family'] = \"SimHei\"\n",
    "mpl.rcParams['font.size'] = 20\n",
    "\n",
    "chapterdata = gettextasparagrapharray(\"ctp:analects\")\n",
    "\n",
    "# Use a dictionary variable to keep track the count of each character we see\n",
    "character_count = {}\n",
    "\n",
    "# For each paragraph of the chapter data that we downloaded, do the following:\n",
    "for paragraphnumber in range(0, len(chapterdata)):\n",
    "    for char in range(0,len(chapterdata[paragraphnumber])):\n",
    "        this_character = chapterdata[paragraphnumber][char:char+1]\n",
    "        # Don't bother counting punctuation characters\n",
    "        if this_character not in [\"，\", \"。\", \"：\", \"；\", \"「\", \"」\", \"？\"]:\n",
    "            if this_character in character_count:\n",
    "                new_count = character_count[this_character] + 1\n",
    "            else:\n",
    "                new_count = 1\n",
    "            character_count[this_character] = new_count\n",
    "\n",
    "s = pd.Series(character_count)\n",
    "s.sort_values(0, False, inplace=True)\n",
    "\n",
    "s[:10].plot(kind='barh', color='C1')\n",
    "plt.xlabel('Frequency')\n",
    "print(s[:10])\n"
   ]
  },
  {
   "cell_type": "markdown",
   "metadata": {},
   "source": [
    "<div style=\"float: right;\"><a rel=\"license\" href=\"http://creativecommons.org/licenses/by-sa/4.0/\"><img alt=\"Creative Commons License\" style=\"border-width:0\" src=\"https://i.creativecommons.org/l/by-sa/4.0/88x31.png\" /></a></div>"
   ]
  }
 ],
 "metadata": {
  "hide_input": false,
  "kernelspec": {
   "display_name": "Python 3",
   "language": "python",
   "name": "python3"
  },
  "language_info": {
   "codemirror_mode": {
    "name": "ipython",
    "version": 3
   },
   "file_extension": ".py",
   "mimetype": "text/x-python",
   "name": "python",
   "nbconvert_exporter": "python",
   "pygments_lexer": "ipython3",
   "version": "3.6.1"
  }
 },
 "nbformat": 4,
 "nbformat_minor": 1
}
