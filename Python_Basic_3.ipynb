{
 "cells": [
  {
   "cell_type": "code",
   "execution_count": 1,
   "metadata": {
    "collapsed": true
   },
   "outputs": [],
   "source": [
    "import re"
   ]
  },
  {
   "cell_type": "markdown",
   "metadata": {},
   "source": [
    "# Intro to Class: (if we really want to use a class for Book)\n",
    "\n",
    "The following codes are just what I believe the regex and class would behave. The real implementation of this class to real text should should requires more sophiscated discussion."
   ]
  },
  {
   "cell_type": "code",
   "execution_count": 2,
   "metadata": {
    "collapsed": true
   },
   "outputs": [],
   "source": [
    "text = '''\n",
    "<P>異物志一卷（注：後漢議郎楊孚撰。）\n",
    "\n",
    "<P>南州異物志一卷（注：吳丹陽太守萬震撰。）\n",
    "\n",
    "<P>蜀志一卷（注：東京武平太守常寬撰。）\n",
    "\n",
    "<P>發蒙記一卷（注：束皙撰。載物產之異。）\n",
    "\n",
    "<P>地理書一百四十九卷錄一卷。陸澄合山海經已來一百六十家，以為此書。澄本之外，其舊事並多零失。見存別部自行者，唯四十二家，今列之於上。\n",
    "\n",
    "<P>三輔故事二卷（注：晉世撰）\n",
    "\n",
    "<P>湘州記二卷（注：庾仲雍撰。）\n",
    "'''"
   ]
  },
  {
   "cell_type": "markdown",
   "metadata": {},
   "source": [
    "`([^，。<>〔〕a-zA-Z0-9]+?)([一二三四五六七八九十百千]+?)卷(?:(?:[^，。<>〔〕a-zA-Z0-9]+?)?錄([一二三四五六七八九十]+?)卷)?`\n",
    "\n",
    "|group 1| group 2| group 3|\n",
    "| ---   | ---    | ----   |\n",
    "| book title | number of 卷 | number of 錄 |"
   ]
  },
  {
   "cell_type": "markdown",
   "metadata": {},
   "source": [
    "There are still some problems with this regex,  \n",
    "so do not take it very serious."
   ]
  },
  {
   "cell_type": "code",
   "execution_count": 3,
   "metadata": {},
   "outputs": [
    {
     "data": {
      "text/plain": [
       "[('異物志', '一', ''),\n",
       " ('南州異物志', '一', ''),\n",
       " ('蜀志', '一', ''),\n",
       " ('發蒙記', '一', ''),\n",
       " ('地理書', '一百四十九', '一'),\n",
       " ('三輔故事', '二', ''),\n",
       " ('湘州記', '二', '')]"
      ]
     },
     "execution_count": 3,
     "metadata": {},
     "output_type": "execute_result"
    }
   ],
   "source": [
    "pattern = '([^，。<>〔〕a-zA-Z0-9]+?)([一二三四五六七八九十百千]+?)卷(?:(?:[^，。<>〔〕a-zA-Z0-9]+?)?錄([一二三四五六七八九十]+?)卷)?'\n",
    "pattern_object = re.compile(pattern)\n",
    "pattern_object.findall(text)"
   ]
  },
  {
   "cell_type": "code",
   "execution_count": 4,
   "metadata": {
    "collapsed": true
   },
   "outputs": [],
   "source": [
    "class Book:\n",
    "    \n",
    "    def __init__(self, name, juan, lu):\n",
    "        self.name = name\n",
    "        self.juan = juan # instance attributes\n",
    "        self.lu   = lu\n",
    "        \n",
    "    def __repr__(self):\n",
    "        '''The string representation for Book class. \n",
    "        Just a prettier way to print the content of \n",
    "        the class.'''\n",
    "        if self.lu is not None:\n",
    "            return '《{}》{}卷～錄{}卷'.format(\n",
    "                self.name, self.juan, self.lu)\n",
    "        else:\n",
    "            return '《{}》{}卷'.format(\n",
    "                self.name, self.juan)"
   ]
  },
  {
   "cell_type": "code",
   "execution_count": 5,
   "metadata": {
    "scrolled": true
   },
   "outputs": [
    {
     "data": {
      "text/plain": [
       "('異物志', '一', None)"
      ]
     },
     "execution_count": 5,
     "metadata": {},
     "output_type": "execute_result"
    }
   ],
   "source": [
    "book = Book('異物志', '一', None)\n",
    "book.name, book.juan, book.lu"
   ]
  },
  {
   "cell_type": "code",
   "execution_count": 6,
   "metadata": {
    "scrolled": true
   },
   "outputs": [
    {
     "data": {
      "text/plain": [
       "[《異物志》一卷, 《南州異物志》一卷, 《蜀志》一卷, 《發蒙記》一卷, 《地理書》一百四十九卷～錄一卷, 《三輔故事》二卷, 《湘州記》二卷]"
      ]
     },
     "execution_count": 6,
     "metadata": {},
     "output_type": "execute_result"
    }
   ],
   "source": [
    "Book_collect = []\n",
    "\n",
    "for match in pattern_object.finditer(text):\n",
    "    Book_collect.append(Book(\n",
    "                      match.group(1), \n",
    "                      match.group(2), \n",
    "                      match.group(3)\n",
    "    ))\n",
    "\n",
    "Book_collect"
   ]
  },
  {
   "cell_type": "markdown",
   "metadata": {},
   "source": [
    "Actually, if we only want to save the attributes, we could just use the `dict`. Maybe next time we could figure out what kind of methods (functions) we could put in the Book class."
   ]
  },
  {
   "cell_type": "code",
   "execution_count": 7,
   "metadata": {},
   "outputs": [
    {
     "data": {
      "text/plain": [
       "[{'juan': '一', 'lu': None, 'name': '異物志'},\n",
       " {'juan': '一', 'lu': None, 'name': '南州異物志'},\n",
       " {'juan': '一', 'lu': None, 'name': '蜀志'},\n",
       " {'juan': '一', 'lu': None, 'name': '發蒙記'},\n",
       " {'juan': '一百四十九', 'lu': '一', 'name': '地理書'},\n",
       " {'juan': '二', 'lu': None, 'name': '三輔故事'},\n",
       " {'juan': '二', 'lu': None, 'name': '湘州記'}]"
      ]
     },
     "execution_count": 7,
     "metadata": {},
     "output_type": "execute_result"
    }
   ],
   "source": [
    "# do similar things in the dict\n",
    "Book_collect = []\n",
    "\n",
    "for match in pattern_object.finditer(text):\n",
    "    Book_collect.append({\n",
    "    'name' : match.group(1), \n",
    "    'juan' : match.group(2), \n",
    "    'lu' : match.group(3)\n",
    "    })\n",
    "\n",
    "Book_collect"
   ]
  },
  {
   "cell_type": "markdown",
   "metadata": {},
   "source": [
    "# Easier case"
   ]
  },
  {
   "cell_type": "markdown",
   "metadata": {},
   "source": [
    "From python official tutorial https://docs.python.org/3/tutorial/classes.html"
   ]
  },
  {
   "cell_type": "code",
   "execution_count": 8,
   "metadata": {
    "collapsed": true
   },
   "outputs": [],
   "source": [
    "class Dog:\n",
    "    \n",
    "    # class attribute\n",
    "    kind = 'not the cat' \n",
    "    \n",
    "    def __init__(self, name, owner):\n",
    "        # instance attribute\n",
    "        self.name = name\n",
    "        self.owner = owner\n",
    "        \n",
    "         # creates a new empty list for each dog\n",
    "        self.tricks = []   \n",
    "        \n",
    "    def add_trick(self, trick):\n",
    "        self.tricks.append(trick)\n",
    "    "
   ]
  },
  {
   "cell_type": "code",
   "execution_count": 9,
   "metadata": {
    "collapsed": true
   },
   "outputs": [],
   "source": [
    "# initialization a instance\n",
    "d = Dog('Fido', 'Bob')\n",
    "e = Dog('Buddy', 'Alice')\n",
    "d.add_trick('roll over')\n",
    "e.add_trick('play dead')"
   ]
  },
  {
   "cell_type": "code",
   "execution_count": 10,
   "metadata": {},
   "outputs": [
    {
     "data": {
      "text/plain": [
       "['roll over']"
      ]
     },
     "execution_count": 10,
     "metadata": {},
     "output_type": "execute_result"
    }
   ],
   "source": [
    "d.tricks"
   ]
  },
  {
   "cell_type": "code",
   "execution_count": 11,
   "metadata": {},
   "outputs": [
    {
     "data": {
      "text/plain": [
       "['play dead']"
      ]
     },
     "execution_count": 11,
     "metadata": {},
     "output_type": "execute_result"
    }
   ],
   "source": [
    "e.tricks"
   ]
  },
  {
   "cell_type": "code",
   "execution_count": 12,
   "metadata": {
    "collapsed": true
   },
   "outputs": [],
   "source": [
    "d.add_trick('jump')"
   ]
  },
  {
   "cell_type": "code",
   "execution_count": 13,
   "metadata": {},
   "outputs": [
    {
     "data": {
      "text/plain": [
       "['roll over', 'jump']"
      ]
     },
     "execution_count": 13,
     "metadata": {},
     "output_type": "execute_result"
    }
   ],
   "source": [
    "d.tricks"
   ]
  },
  {
   "cell_type": "markdown",
   "metadata": {},
   "source": [
    "# Case study: hand-crafted Set class"
   ]
  },
  {
   "cell_type": "code",
   "execution_count": 14,
   "metadata": {
    "collapsed": true
   },
   "outputs": [],
   "source": [
    "# from Book: Data science from scratch, by Joel Grus\n",
    "\n",
    "class Set:\n",
    "    \n",
    "    # self is a convention \n",
    "    # to refer the particular Set object being used\n",
    "    def __init__(self, values=None): # initializetion operation\n",
    "        '''This is the constructor.\n",
    "        It gets called when you create a new Set'''\n",
    "        self.dict = {}\n",
    "        \n",
    "        if values is not None:\n",
    "            for value in values:\n",
    "                self.add(value)\n",
    "    \n",
    "    def __repr__(self):\n",
    "        '''string representation of a Set object'''\n",
    "        return \"Set: \" + str(self.dict.keys())\n",
    "    \n",
    "    # we'll represent membership by being a key in self.dict with value True\n",
    "    def add(self, value):\n",
    "        self.dict[value] = True\n",
    "    \n",
    "    # value is in the Set if it's a key in the dictionary    \n",
    "    def contains(self, value):\n",
    "        return value in self.dict\n",
    "    \n",
    "    def remove(self, value):\n",
    "        del self.dict[value]"
   ]
  },
  {
   "cell_type": "code",
   "execution_count": 15,
   "metadata": {},
   "outputs": [
    {
     "data": {
      "text/plain": [
       "Set: dict_keys([1, 2, 3, 4])"
      ]
     },
     "execution_count": 15,
     "metadata": {},
     "output_type": "execute_result"
    }
   ],
   "source": [
    "s = Set([1, 2, 3])\n",
    "s.add(4)\n",
    "s"
   ]
  },
  {
   "cell_type": "code",
   "execution_count": 16,
   "metadata": {},
   "outputs": [
    {
     "data": {
      "text/plain": [
       "True"
      ]
     },
     "execution_count": 16,
     "metadata": {},
     "output_type": "execute_result"
    }
   ],
   "source": [
    "s.contains(4)"
   ]
  },
  {
   "cell_type": "code",
   "execution_count": 17,
   "metadata": {
    "collapsed": true
   },
   "outputs": [],
   "source": [
    "s.remove(3)"
   ]
  },
  {
   "cell_type": "code",
   "execution_count": 18,
   "metadata": {},
   "outputs": [
    {
     "data": {
      "text/plain": [
       "Set: dict_keys([1, 2, 4])"
      ]
     },
     "execution_count": 18,
     "metadata": {},
     "output_type": "execute_result"
    }
   ],
   "source": [
    "s"
   ]
  },
  {
   "cell_type": "markdown",
   "metadata": {},
   "source": [
    "# Case Study: Complex Number"
   ]
  },
  {
   "cell_type": "code",
   "execution_count": 19,
   "metadata": {},
   "outputs": [
    {
     "data": {
      "text/plain": [
       "(1+2j)"
      ]
     },
     "execution_count": 19,
     "metadata": {},
     "output_type": "execute_result"
    }
   ],
   "source": [
    "# what a complex number should look like\n",
    "complex_numer = complex(1, 2)\n",
    "complex_numer"
   ]
  },
  {
   "cell_type": "markdown",
   "metadata": {},
   "source": [
    "Now, we can made a hand-crafted Complex number class"
   ]
  },
  {
   "cell_type": "code",
   "execution_count": 20,
   "metadata": {
    "collapsed": true
   },
   "outputs": [],
   "source": [
    "class Complex:\n",
    "    \n",
    "    def __init__(self, real, imag):\n",
    "        self.real = real\n",
    "        self.imag = imag\n",
    "        \n",
    "    def __repr__(self):\n",
    "        return '({} {} {}j)'.format(self.real, \n",
    "                                    ['-', '+'][self.imag >= 0],\n",
    "                                    abs(self.imag))\n",
    "    \n",
    "    def __add__(self, that):\n",
    "        return Complex(self.real + that.real, \n",
    "                       self.imag + that.imag)\n",
    "    \n",
    "    def __sub__(self, that):\n",
    "        return Complex(self.real - that.real, \n",
    "                       self.imag - that.imag)\n",
    "    \n",
    "    def __abs__(self):\n",
    "        return (self.real**2 + self.imag**2)**0.5\n",
    "    \n",
    "    def conjugate(self):\n",
    "        return Complex(self.real, - self.imag)"
   ]
  },
  {
   "cell_type": "code",
   "execution_count": 21,
   "metadata": {},
   "outputs": [
    {
     "data": {
      "text/plain": [
       "(3 + 4j)"
      ]
     },
     "execution_count": 21,
     "metadata": {},
     "output_type": "execute_result"
    }
   ],
   "source": [
    "# repr\n",
    "hand_made_complex_number = Complex(3, 4)\n",
    "hand_made_complex_number"
   ]
  },
  {
   "cell_type": "code",
   "execution_count": 22,
   "metadata": {},
   "outputs": [
    {
     "data": {
      "text/plain": [
       "(5 + 5j)"
      ]
     },
     "execution_count": 22,
     "metadata": {},
     "output_type": "execute_result"
    }
   ],
   "source": [
    "# add\n",
    "hand_made_complex_number_2 = Complex(2, 1)\n",
    "hand_made_complex_number + hand_made_complex_number_2"
   ]
  },
  {
   "cell_type": "code",
   "execution_count": 23,
   "metadata": {},
   "outputs": [
    {
     "data": {
      "text/plain": [
       "(1 + 3j)"
      ]
     },
     "execution_count": 23,
     "metadata": {},
     "output_type": "execute_result"
    }
   ],
   "source": [
    "# sub\n",
    "hand_made_complex_number - hand_made_complex_number_2"
   ]
  },
  {
   "cell_type": "code",
   "execution_count": 24,
   "metadata": {},
   "outputs": [
    {
     "data": {
      "text/plain": [
       "5.0"
      ]
     },
     "execution_count": 24,
     "metadata": {},
     "output_type": "execute_result"
    }
   ],
   "source": [
    "# absolute\n",
    "abs(hand_made_complex_number)"
   ]
  },
  {
   "cell_type": "code",
   "execution_count": 25,
   "metadata": {},
   "outputs": [
    {
     "data": {
      "text/plain": [
       "(3 - 4j)"
      ]
     },
     "execution_count": 25,
     "metadata": {},
     "output_type": "execute_result"
    }
   ],
   "source": [
    "# class method\n",
    "hand_made_complex_number.conjugate()"
   ]
  },
  {
   "cell_type": "markdown",
   "metadata": {},
   "source": [
    "# Combinations: recursive "
   ]
  },
  {
   "cell_type": "code",
   "execution_count": 26,
   "metadata": {
    "collapsed": true
   },
   "outputs": [],
   "source": [
    "def all_possible_combinations(combinations, sub_set_len, index_list):    \n",
    "    \n",
    "    # if the length of the subset (list) is equal to the sub_set_len,\n",
    "    # and if the subset is not stored in the combinations list, \n",
    "    # append to the combinations list\n",
    "    if (len(index_list) == sub_set_len\n",
    "       ) and (index_list not in combinations): \n",
    "        combinations.append(index_list)\n",
    "    \n",
    "    # looping over each element in the list \n",
    "    # and remove the element, \n",
    "    # and then send back to the all_possible_combinations itself\n",
    "    # to recursively get all the subsets\n",
    "    for i, index in enumerate(index_list):\n",
    "        new_index_list = index_list.copy()\n",
    "        new_index_list.pop(i)\n",
    "        combinations = all_possible_combinations(\n",
    "            combinations, sub_set_len, new_index_list)\n",
    "        \n",
    "    return combinations"
   ]
  },
  {
   "cell_type": "markdown",
   "metadata": {},
   "source": [
    "$$C^3_2 = \\frac{3 \\times 2}{2 \\times 1} = 3$$\n"
   ]
  },
  {
   "cell_type": "code",
   "execution_count": 27,
   "metadata": {},
   "outputs": [
    {
     "data": {
      "text/plain": [
       "[[1, 2], [0, 2], [0, 1]]"
      ]
     },
     "execution_count": 27,
     "metadata": {},
     "output_type": "execute_result"
    }
   ],
   "source": [
    "all_possible_combinations([], 2, list(range(3)))"
   ]
  },
  {
   "cell_type": "code",
   "execution_count": 28,
   "metadata": {},
   "outputs": [
    {
     "data": {
      "text/plain": [
       "3"
      ]
     },
     "execution_count": 28,
     "metadata": {},
     "output_type": "execute_result"
    }
   ],
   "source": [
    "len(all_possible_combinations([], 2, list(range(3))))"
   ]
  },
  {
   "cell_type": "markdown",
   "metadata": {},
   "source": [
    "$$\n",
    "C^5_3 = \\frac{5 \\times 4 \\times 3}{3 \\times 2 \\times 1} = 10\n",
    "$$"
   ]
  },
  {
   "cell_type": "code",
   "execution_count": 29,
   "metadata": {},
   "outputs": [
    {
     "data": {
      "text/plain": [
       "[[2, 3, 4],\n",
       " [1, 3, 4],\n",
       " [1, 2, 4],\n",
       " [1, 2, 3],\n",
       " [0, 3, 4],\n",
       " [0, 2, 4],\n",
       " [0, 2, 3],\n",
       " [0, 1, 4],\n",
       " [0, 1, 3],\n",
       " [0, 1, 2]]"
      ]
     },
     "execution_count": 29,
     "metadata": {},
     "output_type": "execute_result"
    }
   ],
   "source": [
    "all_possible_combinations([], 3, list(range(5)))"
   ]
  },
  {
   "cell_type": "code",
   "execution_count": 30,
   "metadata": {},
   "outputs": [
    {
     "data": {
      "text/plain": [
       "10"
      ]
     },
     "execution_count": 30,
     "metadata": {},
     "output_type": "execute_result"
    }
   ],
   "source": [
    "len(all_possible_combinations([], 3, list(range(5))))"
   ]
  },
  {
   "cell_type": "markdown",
   "metadata": {},
   "source": [
    "# Another recursive example"
   ]
  },
  {
   "cell_type": "code",
   "execution_count": 31,
   "metadata": {},
   "outputs": [
    {
     "data": {
      "text/plain": [
       "6"
      ]
     },
     "execution_count": 31,
     "metadata": {},
     "output_type": "execute_result"
    }
   ],
   "source": [
    "# other recursive example\n",
    "def factorial(n):\n",
    "    if n == 1:\n",
    "        return 1\n",
    "    \n",
    "    else:\n",
    "        return n * factorial(n - 1)\n",
    "\n",
    "factorial(3) # 3! = 6"
   ]
  },
  {
   "cell_type": "markdown",
   "metadata": {},
   "source": [
    "# All combinations, regardless of length of subset"
   ]
  },
  {
   "cell_type": "code",
   "execution_count": 32,
   "metadata": {
    "collapsed": true
   },
   "outputs": [],
   "source": [
    "def all_possible_combinations_regardless_len(combinations, index_list):    \n",
    "    \n",
    "    # save all non-repeated subset with length larger than 0\n",
    "    if (index_list not in combinations\n",
    "       ) and (index_list != []): \n",
    "        combinations.append(index_list)\n",
    "    \n",
    "    for i, index in enumerate(index_list):\n",
    "        new_index_list = index_list.copy()\n",
    "        new_index_list.pop(i)\n",
    "        combinations = all_possible_combinations_regardless_len(\n",
    "            combinations, new_index_list)\n",
    "        \n",
    "    return combinations"
   ]
  },
  {
   "cell_type": "code",
   "execution_count": 33,
   "metadata": {},
   "outputs": [
    {
     "data": {
      "text/plain": [
       "[[0, 1, 2, 3],\n",
       " [1, 2, 3],\n",
       " [2, 3],\n",
       " [3],\n",
       " [2],\n",
       " [1, 3],\n",
       " [1],\n",
       " [1, 2],\n",
       " [0, 2, 3],\n",
       " [0, 3],\n",
       " [0],\n",
       " [0, 2],\n",
       " [0, 1, 3],\n",
       " [0, 1],\n",
       " [0, 1, 2]]"
      ]
     },
     "execution_count": 33,
     "metadata": {},
     "output_type": "execute_result"
    }
   ],
   "source": [
    "all_possible_combinations_regardless_len([], list(range(4)))"
   ]
  }
 ],
 "metadata": {
  "hide_input": false,
  "kernelspec": {
   "display_name": "Python 3",
   "language": "python",
   "name": "python3"
  },
  "language_info": {
   "codemirror_mode": {
    "name": "ipython",
    "version": 3
   },
   "file_extension": ".py",
   "mimetype": "text/x-python",
   "name": "python",
   "nbconvert_exporter": "python",
   "pygments_lexer": "ipython3",
   "version": "3.6.1"
  }
 },
 "nbformat": 4,
 "nbformat_minor": 2
}
