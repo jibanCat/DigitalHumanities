{
 "cells": [
  {
   "cell_type": "code",
   "execution_count": 1,
   "metadata": {},
   "outputs": [],
   "source": [
    "import numpy as np\n",
    "# Convert a collection of raw documents to a matrix of TF-IDF features.\n",
    "# Convert a collection of text documents to a matrix of token counts\n",
    "from sklearn.feature_extraction.text import TfidfVectorizer, CountVectorizer\n",
    "from sklearn.datasets import fetch_20newsgroups\n",
    "\n",
    "from matplotlib import pyplot as plt\n",
    "import seaborn as sns\n",
    "import altair as alt\n",
    "\n",
    "%matplotlib inline\n",
    "%config InlineBackend.firgure_format = \"retina\"\n",
    "\n",
    "# import WenShuan class\n",
    "from WenShuan import WenShuan\n",
    "\n",
    "import re"
   ]
  },
  {
   "cell_type": "markdown",
   "metadata": {},
   "source": [
    "## LDA -- n-grams feature extraction in sklearn\n",
    "\n",
    "I found an interesting function in `sklearn` that allow user to extract features from text data -- `CountVectorizer`. \n",
    "\n",
    "In our case, we are interested in classical Chinese text data, which usually do not have a decent sentence segmentation implement (at least there are no such __off-shelf__ implementation to use.)\n",
    "\n",
    "So, other than sentence segmentation, people usually use n-grams to see the frequency of the conjuctions of characters. If there is a high-frequency character conjunction in the classical text, we usually think these conjunction are features. \n",
    "\n",
    "The preprocessing of LDA must be done by feature extraction. And `CountVectorizer` is a efficient function to extract different n-grams at one time.\n",
    "\n",
    "The reference for LDA and usage of `CountVectorizer` please find `PyMC3` tutorial [Automatic autoencoding variational Bayes for latent dirichlet allocation with PyMC3](http://docs.pymc.io/notebooks/lda-advi-aevb.html)"
   ]
  },
  {
   "cell_type": "markdown",
   "metadata": {},
   "source": [
    "### Loading Data\n",
    "\n",
    "If would use our Han-Ji data organizer to load 文選. If you don't want to use our Han-Ji organizer or you don't have the access to Han-Ji sinica database, you can try to scrape wikisource [昭明文選](https://zh.wikisource.org/zh-hant/昭明文選)."
   ]
  },
  {
   "cell_type": "code",
   "execution_count": 4,
   "metadata": {},
   "outputs": [
    {
     "name": "stdout",
     "output_type": "stream",
     "text": [
      "[Info] Stop at loading data/wenshuan_0582.html.\n",
      "[Info] Total length of the data is 582.\n",
      "[Warning] No author name in 47 item, but got a tag. Attach this tag to previous author name 陸士衡.\n",
      "[Warning] No author name in 53 item, but got a tag. Attach this tag to previous author name 王子淵.\n",
      "[Warning] No author name in 62 item, but got a tag. Attach this tag to previous author name 曹子建.\n",
      "[Warning] No author name in 88 item, but got a tag. Attach this tag to previous author name 丘希範.\n",
      "[Warning] No author name in 95 item, but got a tag. Attach this tag to previous author name 謝玄暉.\n",
      "[Warning] No author name in 111 item, but got a tag. Attach this tag to previous author name 應璩.\n",
      "[Warning] No author name in 117 item, but got a tag. Attach this tag to previous author name 魏文帝.\n",
      "[Warning] No author name in 187 item, but got a tag. Attach this tag to previous author name 劉越石.\n",
      "[Warning] Author name, 飲馬長城窟行 in 244, is too long. Discard this one.\n",
      "[Warning] No author name in 244 item, but got a tag. Attach this tag to previous author name 顏延年.\n",
      "[Warning] No author name in 256 item, but got a tag. Attach this tag to previous author name 石季倫.\n",
      "[Warning] No author name in 324 item, but got a tag. Attach this tag to previous author name 王景玄.\n",
      "[Warning] No author name in 433 item, but got a tag. Attach this tag to previous author name 李令伯.\n",
      "[Warning] No author name in 495 item, but got a tag. Attach this tag to previous author name 陳孔璋.\n",
      "[Warning] Author name, 祖太祖高皇帝　父世祖武皇帝 in 575, is too long. Discard this one.\n",
      "[Warning] No author name in the path, 集／總集／文選／卷第二十七　詩戊之一／樂府上／古樂府三首／飲馬長城窟行(P.1277).\n",
      "[Warning] No author name in the path, 集／總集／文選／卷第二十七　詩戊之一／樂府上／古樂府三首／傷歌行(P.1278).\n",
      "[Warning] No author name in the path, 集／總集／文選／卷第二十七　詩戊之一／樂府上／古樂府三首／長歌行(P.1279).\n",
      "[Warning] No author name in the path, 集／總集／文選／卷第二十九　詩己之一／雜詩上／古詩一十九首(P.1343).\n",
      "[Warning] No author name in the path, 集／總集／文選／卷第五十九　碑文下　墓誌／碑文下／王簡棲頭陁寺碑文(P.2527).\n",
      "[Warning] Path is too short, 集／總集／文選／附(P.2610). Only use title for metadata.\n"
     ]
    }
   ],
   "source": [
    "wenshuan = WenShuan(\"2018-07-05\", \"MF\")\n",
    "wenshuan.load_htmls()\n",
    "\n",
    "# organize the text files \n",
    "wenshuan.extract_paths()         # extract the bookmarks\n",
    "wenshuan.get_author_bag()        # get the bag of author names and comments\n",
    "wenshuan.extract_meta()          # extract the meta data\n",
    "wenshuan.passages2tuples()       # get the passsage into (text, comment) tuples\n",
    "wenshuan.heads2tuples()          # get headers into (head, comment, ...) tuples\n",
    "wenshuan.extract_commentators()  # append commentators to metadata\n",
    "wenshuan.extract_sound_glosses() # append all sound glosses in comments into a list and remove them from the self.flat_passages"
   ]
  },
  {
   "cell_type": "code",
   "execution_count": 5,
   "metadata": {},
   "outputs": [],
   "source": [
    "# arrage text to chapters in a list (and get rid of puctuations)\n",
    "full_text = [re.sub(\n",
    "    r\"[ ，、。？﹖！：；「」〔〕『』]\",\n",
    "    \"\",\n",
    "    ''.join([passage for passage,comment in passages]),\n",
    "    )\n",
    "    for passages in wenshuan.flat_passages\n",
    "]"
   ]
  },
  {
   "cell_type": "markdown",
   "metadata": {},
   "source": [
    "### N- Grams Extraction\n",
    "\n",
    "The usual way to extract n-gram is to use `Counter`. \n",
    "\n",
    "I would show you first with `Counter` and demonstrate the usage of `CountVectorizer`."
   ]
  },
  {
   "cell_type": "code",
   "execution_count": 8,
   "metadata": {},
   "outputs": [],
   "source": [
    "# Option A: using Counter \n",
    "from collections import Counter\n",
    "\n",
    "one_gram = Counter(\"\\n\".join(full_text))"
   ]
  },
  {
   "cell_type": "code",
   "execution_count": 9,
   "metadata": {},
   "outputs": [
    {
     "data": {
      "text/plain": [
       "[('之', 7773),\n",
       " ('而', 3845),\n",
       " ('以', 3496),\n",
       " ('不', 3227),\n",
       " ('於', 2248),\n",
       " ('其', 2083),\n",
       " ('兮', 1677),\n",
       " ('有', 1561),\n",
       " ('為', 1373),\n",
       " ('無', 1331)]"
      ]
     },
     "execution_count": 9,
     "metadata": {},
     "output_type": "execute_result"
    }
   ],
   "source": [
    "one_gram.most_common(10)"
   ]
  },
  {
   "cell_type": "code",
   "execution_count": 11,
   "metadata": {},
   "outputs": [],
   "source": [
    "# Option B: using sklearn CountVectorizer\n",
    "count = CountVectorizer(ngram_range=(1,1), max_features=10, analyzer=\"char\")\n",
    "trans = count.fit_transform(full_text)"
   ]
  },
  {
   "cell_type": "markdown",
   "metadata": {},
   "source": [
    "Here, the function arguments:\n",
    "- `ngram_range`: the range of n_gram you want to include, it should be a tuple. E.g., if you want to have 2-gram to 4-gram, you can set `ngram_range = (2, 4)`\n",
    "- `max_feature` : features with top-N frequency you want to consider.\n",
    "- `analyzer`: set to `char` for character based n-grams."
   ]
  },
  {
   "cell_type": "code",
   "execution_count": 19,
   "metadata": {},
   "outputs": [
    {
     "data": {
      "text/plain": [
       "['不', '之', '以', '兮', '其', '於', '有', '為', '無', '而']"
      ]
     },
     "execution_count": 19,
     "metadata": {},
     "output_type": "execute_result"
    }
   ],
   "source": [
    "count.get_feature_names()"
   ]
  },
  {
   "cell_type": "code",
   "execution_count": 20,
   "metadata": {},
   "outputs": [
    {
     "data": {
      "text/plain": [
       "True"
      ]
     },
     "execution_count": 20,
     "metadata": {},
     "output_type": "execute_result"
    }
   ],
   "source": [
    "set(count.get_feature_names()) == {x for x,_ in one_gram.most_common(10)}"
   ]
  },
  {
   "cell_type": "markdown",
   "metadata": {},
   "source": [
    "It is the same as the result of `Counter`."
   ]
  },
  {
   "cell_type": "markdown",
   "metadata": {},
   "source": [
    "### 2 gram to 5 gram\n",
    "\n",
    "One gram is not so interesting because it is rather difficult to know what does it means simply use one-gram. Chinese words are usually constituted with 2 or more characters, e.g., \"聖人\", \"大道\", \"金風玉露\"."
   ]
  },
  {
   "cell_type": "code",
   "execution_count": 22,
   "metadata": {},
   "outputs": [],
   "source": [
    "count = CountVectorizer(ngram_range=(2,5), max_features=1000, analyzer=\"char\")\n",
    "trans = count.fit_transform(full_text)"
   ]
  },
  {
   "cell_type": "markdown",
   "metadata": {},
   "source": [
    "Preview the features."
   ]
  },
  {
   "cell_type": "code",
   "execution_count": 25,
   "metadata": {},
   "outputs": [
    {
     "name": "stdout",
     "output_type": "stream",
     "text": [
      "['一也', '一時', '三年', '上有', '下無', '不可', '不如', '不忘', '不朽', '不知', '不足', '且夫', '丞相', '主上', '之上', '之乎', '之以', '之倫', '之制', '之名', '之在', '之外', '之妙', '之將', '之徒', '之思', '之所以', '之日', '之有', '之極', '之流', '之生', '之神', '之罪', '之聲', '之與', '之行', '之變', '之道', '之際', '之餘', '乎夫', '也且', '也子', '也是', '也至', '于時', '亦既', '人之所', '人情', '仁義', '以下', '以娛', '以為', '以至', '何不', '何為', '作者', '侯之', '先帝', '光武', '公孫', '兮哀', '其上', '其後', '其流', '其若', '其間', '則不', '化之', '十餘', '千金', '參差', '古之', '可得', '各有', '君臣', '周流', '命也', '哉故', '嗚呼哀哉', '四海', '在天', '士之', '大人', '天下', '天命', '天道', '夫之', '失其', '如故', '子之', '孔子', '安得', '容與', '寥廓', '尚書', '山\\uf6a4', '川之', '已哉', '常之', '年之', '往而', '得其', '從容', '德以', '心於', '忘歸', '惆悵', '我心', '所不', '所能', '故其', '文之', '文章', '於上', '於南', '於是', '於無', '日之', '明主', '明月', '是以', '時之', '曰天', '月之', '有大', '有餘', '木之', '未有', '東方', '楚之', '歌曰', '武皇', '死罪死', '水之', '泰山', '海之', '清風', '為一', '為大', '無事', '無為', '然則', '爾乃', '物而', '王侯', '甘泉', '用之', '疇昔', '白露', '百里', '盡其', '矣夫', '社稷', '秋之', '立功', '終日', '罔不', '群后', '翼翼', '者以', '者皆', '而不', '而來', '而已哉', '而復', '而為', '而自', '而長', '聖人', '肅肅', '能無', '自以為', '至於', '若乃', '莫不', '萬國', '藹藹', '見其', '言之', '詩書', '變化', '起而', '車騎', '遊子', '遠而', '長嘯', '閶闔', '陽之', '雖有', '零落', '非吾', '靡不', '頓首頓首', '風起', '飛廉', '首頓首', '高門', '龍之']\n"
     ]
    }
   ],
   "source": [
    "print(count.get_feature_names()[::5])"
   ]
  },
  {
   "cell_type": "markdown",
   "metadata": {},
   "source": [
    "Many of them are stop words in classical Chinese, like `[之, 而, 於, 其, 以, 且, 乎, 夫, 也]`"
   ]
  },
  {
   "cell_type": "markdown",
   "metadata": {},
   "source": [
    "It is also quite amusing that \"天道\", \"天下\", \"仁義\" can be extracted from the text in this automatic way."
   ]
  },
  {
   "cell_type": "markdown",
   "metadata": {},
   "source": [
    "`CountVectorizer` also allow us to know the which features are in a chapter. The first dimension represents the chapter number, the second dimension represent the count of the feature numbers."
   ]
  },
  {
   "cell_type": "code",
   "execution_count": 28,
   "metadata": {},
   "outputs": [
    {
     "data": {
      "text/plain": [
       "(582, 1000)"
      ]
     },
     "execution_count": 28,
     "metadata": {},
     "output_type": "execute_result"
    }
   ],
   "source": [
    "# the shape of the array\n",
    "trans.toarray().shape"
   ]
  },
  {
   "cell_type": "code",
   "execution_count": 32,
   "metadata": {},
   "outputs": [
    {
     "data": {
      "text/plain": [
       "[<matplotlib.lines.Line2D at 0x11195bfd0>]"
      ]
     },
     "execution_count": 32,
     "metadata": {},
     "output_type": "execute_result"
    },
    {
     "data": {
      "image/png": "[encoded data removed]",
      "text/plain": [
       "<Figure size 432x288 with 1 Axes>"
      ]
     },
     "metadata": {},
     "output_type": "display_data"
    }
   ],
   "source": [
    "# the first chapter\n",
    "plt.plot(trans.toarray()[0])"
   ]
  },
  {
   "cell_type": "code",
   "execution_count": 37,
   "metadata": {},
   "outputs": [
    {
     "data": {
      "text/plain": [
       "array(['一也', '三代', '上之', '不以', '不可', '不暇', '且夫', '之上', '之世', '之事', '之屬',\n",
       "       '之所', '之文', '之歌', '之流', '之臣', '之舊', '之遺', '也故', '也昔', '也臣', '人之',\n",
       "       '人之所', '今之', '以為', '公卿', '其義', '司馬', '國家', '國家之', '大夫', '大漢', '太子',\n",
       "       '如彼', '如此', '宮室', '家之', '從之', '德而', '或以', '文章', '於後', '日不', '日月',\n",
       "       '是以', '時而', '有餘', '望之', '朝夕', '朝廷', '東方', '海內', '漢之', '漢室', '無事',\n",
       "       '相如', '者不', '而後', '臣之', '至於', '詩書', '龍之'], dtype='<U4')"
      ]
     },
     "execution_count": 37,
     "metadata": {},
     "output_type": "execute_result"
    }
   ],
   "source": [
    "# those feature are in the first chpater\n",
    "first_chapter_features = np.array(count.get_feature_names())[\n",
    "    trans.toarray()[0].nonzero()\n",
    "]\n",
    "first_chapter_features"
   ]
  },
  {
   "cell_type": "code",
   "execution_count": 43,
   "metadata": {},
   "outputs": [
    {
     "data": {
      "text/html": [
       "或曰：賦者，古詩<font color='#9999ff'>之流</font>也。昔成康沒而頌聲寢，王澤竭而詩不作。<font color='#9999ff'>大漢</font>初定，日<font color='#9999ff'>不暇</font>給。<font color='#9999ff'>至於</font>武宣<font color='#9999ff'>之世</font>，乃崇禮官，考<font color='#9999ff'>文章</font>，內設金馬石渠之署，外興樂府協律<font color='#9999ff'>之事</font>，以興廢繼絕，潤色鴻業。<font color='#9999ff'>是以</font>眾庶悅豫，福應尤盛，白麟赤鴈芝房寶鼎<font color='#9999ff'>之歌</font>，薦於郊廟。神雀五鳳甘露黃<font color='#9999ff'>龍之</font>瑞，<font color='#9999ff'>以為</font>年紀。故言語侍從<font color='#9999ff'>之臣</font>，若<font color='#9999ff'>司馬</font><font color='#9999ff'>相如</font>虞丘壽王<font color='#9999ff'>東方</font>朔枚臯王襃劉向<font color='#9999ff'>之屬</font>，<font color='#9999ff'>朝夕</font>論思，<font color='#9999ff'>日月</font>獻納；而<font color='#9999ff'>公卿</font>大臣，御史<font color='#9999ff'>大夫</font>倪寬、太常孔臧、太中<font color='#9999ff'>大夫</font>董仲舒、宗正劉德、<font color='#9999ff'>太子</font>太傅蕭<font color='#9999ff'>望之</font>等，時時間作。<font color='#9999ff'>或以</font>抒下情而通諷諭，<font color='#9999ff'>或以</font>宣上<font color='#9999ff'>德而</font>盡忠孝，雍容揄揚，著<font color='#9999ff'>於後</font>嗣，抑亦雅頌之亞也。故孝成<font color='#9999ff'>之世</font>，論而錄之，蓋奏御者千<font color='#9999ff'>有餘</font>篇，<font color='#9999ff'>而後</font><font color='#9999ff'>大漢</font><font color='#9999ff'>之文</font>章，炳焉與<font color='#9999ff'>三代</font>同風。 <font color='#9999ff'>且夫</font>道有夷隆，學有麤密，因<font color='#9999ff'>時而</font>建德者，<font color='#9999ff'>不以</font>遠近易則。故臯陶歌虞，奚斯頌魯，同見采於孔氏，列于<font color='#9999ff'>詩書</font>，<font color='#9999ff'>其義</font><font color='#9999ff'>一也</font>。稽<font color='#9999ff'>之上</font>古則<font color='#9999ff'>如彼</font>，考之<font color='#9999ff'>漢室</font>又<font color='#9999ff'>如此</font>。斯事雖細，然先臣<font color='#9999ff'>之舊</font>式，<font color='#9999ff'>國家</font><font color='#9999ff'>之遺</font>美，<font color='#9999ff'>不可</font>闕也。臣竊見<font color='#9999ff'>海內</font>清平，<font color='#9999ff'>朝廷</font><font color='#9999ff'>無事</font>，京師脩<font color='#9999ff'>宮室</font>，浚城隍，起苑囿，以備制度。西土耆老，咸懷怨思，冀<font color='#9999ff'>上之</font>睠顧，而盛稱長安舊制，有陋雒邑之議。故臣作兩都賦，以極眾人<font color='#9999ff'>之所</font>眩曜，折以<font color='#9999ff'>今之</font>法度。其詞曰。"
      ],
      "text/plain": [
       "<IPython.core.display.HTML object>"
      ]
     },
     "execution_count": 43,
     "metadata": {},
     "output_type": "execute_result"
    }
   ],
   "source": [
    "# Viz them in the full text\n",
    "from IPython.display import HTML\n",
    "\n",
    "first_chapter = \"\".join([x for x,_ in wenshuan.flat_passages[0]])\n",
    "\n",
    "for feature in first_chapter_features:\n",
    "    first_chapter = re.sub( r\"({})\".format(feature), r\"<font color='#9999ff'>\\1</font>\", first_chapter)\n",
    "    \n",
    "HTML(first_chapter)    "
   ]
  },
  {
   "cell_type": "markdown",
   "metadata": {},
   "source": [
    "### How to deal with stop words?\n",
    "\n",
    "`CountVectorizer` currently do not support stop words for `char` based n-grams. Maybe it is one thing I can contribute for this function. However, let's try out just simply exclude them from our features."
   ]
  },
  {
   "cell_type": "code",
   "execution_count": 44,
   "metadata": {},
   "outputs": [],
   "source": [
    "count = CountVectorizer(ngram_range=(2,5), max_features=1000, analyzer=\"char\")\n",
    "trans = count.fit_transform(full_text)"
   ]
  },
  {
   "cell_type": "code",
   "execution_count": 59,
   "metadata": {},
   "outputs": [
    {
     "name": "stdout",
     "output_type": "stream",
     "text": [
      "['一人', '一日', '一旦', '一時', '一朝', '一言', '三代', '三十', '三年', '三王', '三軍', '上下', '上林', '下無', '世祖', '丞相', '中書', '中興', '主上', '主人', '九州', '二十', '云爾', '五千', '五帝', '亦既', '人主', '人事', '人情', '人曰', '人生', '仁義', '今日', '仲尼', '伊尹', '佳人', '來歸', '侍中', '侍郎', '俯仰', '偃蹇', '兄弟', '先帝', '先王', '先生', '光武', '公卿', '公子', '公孫', '六合', '出入', '刺史', '功名', '區區', '十二', '十餘', '千乘', '千仞', '千載', '千里', '千金', '升降', '南山', '原隰', '參差', '受命', '古人', '古今', '司徒', '司馬', '君子', '君臣', '吾子', '周公', '周流', '呼哀', '唐虞', '嗚呼', '嗚呼哀', '四十', '四方', '四時', '四海', '國家', '士女', '多士', '夜光', '大人', '大將', '大漢', '大王', '天下', '天人', '天命', '天地', '天子', '天道', '太子', '太子曰', '太守', '太祖', '妻子', '始皇', '子孫', '子弟', '子曰', '孔子', '存亡', '宇宙', '安得', '宋玉', '客曰', '宮室', '容與', '寂寥', '富貴', '寒暑', '寡人', '寥廓', '將軍', '對曰', '小人', '尚書', '屈原', '山川', '山\\uf6a4', '峨峨', '崑崙', '崢嶸', '巍巍', '州刺', '州刺史', '左右', '帝王', '常侍', '平原', '平生', '庶幾', '弭節', '弱冠', '往來', '後世', '後宮', '得失', '徘徊', '從容', '微子', '志士', '忘歸', '忠臣', '性命', '悠悠', '悲風', '惆悵', '感物', '慷慨', '成敗', '我心', '我王', '我皇', '承明', '攜手', '文學', '文武', '文王', '文章', '方今', '既已', '日夕', '日夜', '日暮', '日月', '明主', '明君', '明德', '明明', '明月', '春秋', '是時', '是非', '曰余', '曰天', '會稽', '朝夕', '朝廷', '未及', '未嘗', '未央', '未能', '未足', '東南', '東方', '東西', '松柏', '桑梓', '楚王', '歌曰', '歎息', '武皇', '歲暮', '歲月', '歸來', '死罪', '死罪死', '死罪死罪', '江南', '江海', '江漢', '泰山', '洋洋', '流離', '浮雲', '海內', '涼風', '淮南', '淹留', '清風', '湯武', '漢室', '濟濟', '烈士', '無事', '無人', '無常', '無異', '無窮', '然後', '熊羆', '爾乃', '犬馬', '猶未', '玉曰', '王侯', '王室', '王曰', '王道', '甘泉', '生民', '當世', '當此', '疇昔', '病未', '病未能', '白日', '白雪', '白露', '百世', '百姓', '百年', '百萬', '百里', '皇帝', '皎皎', '盛德', '目\\uf6a4', '相望', '相與', '社稷', '神器', '神明', '禮樂', '秋風', '穆穆', '窈窕', '立功', '紛紜', '終始', '終日', '絲竹', '綢繆', '縱橫', '繽紛', '罪死', '罪死罪', '置酒', '美人', '群后', '翡翠', '翩翩', '翺翔', '翼翼', '耳目', '聖主', '聖人', '聖朝', '聖賢', '肅肅', '股肱', '能無', '能與', '臣聞', '自古', '自得', '自然', '舊章', '芒芒', '草木', '萬世', '萬乘', '萬國', '萬物', '萬里', '蓋聞', '蕭條', '藹藹', '虎豹', '蟋蟀', '西戎', '親戚', '詩人', '詩曰', '詩書', '誰能', '誰謂', '諸侯', '變化', '足下', '車騎', '軍事', '辭曰', '逍遙', '造化', '遊子', '道德', '遺風', '金石', '長嘯', '長歎', '長沙', '開國', '閶闔', '陛下', '陰陽', '陸離', '隨風', '離宮', '雲夢', '零落', '青雲', '非一', '非吾', '非常', '靡靡', '須臾', '頓首', '頓首頓', '頓首頓首', '風吹', '風流', '風起', '風雲', '風飄', '風\\uf6a5', '飄颻', '飛廉', '飛鳥', '餘年', '首死', '首頓', '首頓首', '馳騖', '骨肉', '高祖', '高門', '髣髴', '鬼神', '鳳皇', '\\uf4d1\\uf6a4', '\\uf4eb\\uf6a4', '\\uf505\\uf6a4', '\\uf527\\uf6a4']\n"
     ]
    }
   ],
   "source": [
    "features = count.get_feature_names()\n",
    "features = [f for f in features if len(re.findall(r\"[惟可所若有哉在如何故者孰矣于兮豈則又不為之而於其以且乎夫也]\", f))  == 0]\n",
    "print(features)"
   ]
  },
  {
   "cell_type": "markdown",
   "metadata": {},
   "source": [
    "From 3-gram to 5-gram"
   ]
  },
  {
   "cell_type": "code",
   "execution_count": 60,
   "metadata": {},
   "outputs": [],
   "source": [
    "count = CountVectorizer(ngram_range=(3,5), max_features=1000, analyzer=\"char\")\n",
    "trans = count.fit_transform(full_text)"
   ]
  },
  {
   "cell_type": "code",
   "execution_count": 61,
   "metadata": {},
   "outputs": [
    {
     "name": "stdout",
     "output_type": "stream",
     "text": [
      "['三十載', '中常侍', '中書監', '中郎將', '丹陽尹', '主人曰', '乃相與', '事然後', '二十八', '二十餘', '二十餘年', '些歸來', '些歸來歸', '些歸來歸來', '亦天下', '人君子', '人贈我', '今吾子', '今天下', '今陛下', '佇立望', '余病未', '余病未能', '作誄曰', '作頌曰', '使持節', '使持節都', '使持節都督', '來歸來', '僕病未', '僕病未能', '先生曰', '克明克', '公子曰', '公子曰余', '公子曰余病', '十二日', '十餘年', '千載一', '千里遊', '卒嗚呼', '卒嗚呼哀', '南徐州', '叔孫通', '古來共', '右長史', '司馬相', '君子道', '品物咸', '嗚呼哀', '國中屬', '塊然獨', '填溝壑', '士文王', '多歷年', '大司馬', '大將軍', '大王熟', '大王熟察', '天下大', '天下安', '天下歸', '天下無', '天下笑', '天子乃', '太子曰', '太子曰僕', '太子曰僕病', '太子能', '太子能彊', '太子能彊起', '夾杖龍', '夾杖龍牽', '奴教子', '婢采音', '子曰予', '子曰余', '子曰余病', '子曰余病未', '子曰僕', '子曰僕病', '子曰僕病未', '子能彊', '子能彊起', '子能從', '子能從我', '宋玉對', '宋玉對曰', '寡人賦', '尚書令', '巍巍蕩', '巍巍蕩蕩', '巍蕩蕩', '州刺史', '州諸軍', '州諸軍事', '帝三王', '引領望', '微子曰', '微子曰予', '思曰我', '悠悠我', '惶誠恐', '憂心煩', '應天順', '懷憂心', '懷憂心煩', '成一家', '我高祖', '持節都', '持節都督', '挹飛泉', '攜手同', '散騎常', '散騎常侍', '文學曰', '文皇帝', '方朔枚', '方朔枚臯', '日已遠', '日\\uf6a3\\uf5ea', '春秋三', '春秋三十', '是用錫', '是用錫君', '時天下', '曰余病', '曰余病未', '曰余病未能', '曰僕病', '曰僕病未', '曰僕病未能', '曰唯唯', '曰天下', '曰寡人', '曰臣聞', '曰蓋聞', '月九日', '月二十', '未暇此', '杖龍牽', '東方朔', '楚襄王', '機子曰', '欲往從', '歌歌曰', '正徘徊', '此亦天', '此亦天下', '此天下', '武皇帝', '歲云暮', '歸來歸', '歸來歸來', '死罪伏', '死罪死', '死罪死罪', '死罪死罪臣', '死罪臣', '涼風起', '然後知', '然獨處', '玄微子', '玄微子曰', '玄微子曰予', '玉對曰', '王熟察', '琨臣磾', '用錫君', '由此觀', '由此言', '病未能', '登徒子', '發皓齒', '白日忽', '百里奚', '磾頓首', '祖武皇', '祖武皇帝', '秋三十', '竊惑焉', '節都督', '縣開國', '罪死罪', '罪死罪臣', '美人贈', '美人贈我', '能強起', '能彊起', '能從我', '能自免', '臣琨臣', '臣琨臣磾', '臣磾頓', '臣磾頓首', '與天下', '芳菲菲', '莫我知', '莫致倚', '葆鼓吹', '血\\uf6a4\\uf4dd', '衛將軍', '衝萬里', '觀古今', '言臣聞', '誠惶誠', '誠惶誠恐', '諸軍事', '謀王室', '謹拜表', '路遠莫', '路遠莫致', '路遠莫致倚', '車騎將', '車騎將軍', '車\\uf6a4獻', '軍將軍', '辛苦誰', '遊先生', '遙相望', '遠莫致', '遠莫致倚', '邵陵王', '郢州刺', '郢州刺史', '醴泉涌', '錄尚書', '鏡機子', '鏡機子曰', '長歎息', '長相思', '門遙望', '雨\\uf6a3對', '頓首死', '頓首死罪', '頓首死罪死', '頓首頓', '頓首頓首', '頓首頓首死', '願大王', '願大王熟', '願大王熟察', '願陛下', '風蕭蕭', '風\\uf6a5立', '首死罪', '首死罪死', '首死罪死罪', '首頓首', '首頓首死', '首頓首死罪', '騎將軍', '騎常侍', '鳴玉鸞', '黃門侍', '黃門侍郎', '\\uf4d3\\uf6a3禹', '\\uf4d6\\uf6a4\\ueebe', '\\uf4d9\\uf6a3尊', '\\uf527\\uf6a4思']\n"
     ]
    }
   ],
   "source": [
    "features = count.get_feature_names()\n",
    "features = [f for f in features if len(re.findall(r\"[惟可所若有哉在如何故者孰矣于兮豈則又不為之而於其以且乎夫也]\", f))  == 0]\n",
    "print(features)"
   ]
  },
  {
   "cell_type": "markdown",
   "metadata": {},
   "source": [
    "Next time, I would try to implement stop words in `CountVectorizer`. Maybe next time's next time we would have a chance to implement LDA...\n",
    "\n",
    "\n",
    "(to be continue...)"
   ]
  }
 ],
 "metadata": {
  "hide_input": false,
  "kernelspec": {
   "display_name": "Python 3",
   "language": "python",
   "name": "python3"
  },
  "language_info": {
   "codemirror_mode": {
    "name": "ipython",
    "version": 3
   },
   "file_extension": ".py",
   "mimetype": "text/x-python",
   "name": "python",
   "nbconvert_exporter": "python",
   "pygments_lexer": "ipython3",
   "version": "3.6.1"
  }
 },
 "nbformat": 4,
 "nbformat_minor": 2
}
