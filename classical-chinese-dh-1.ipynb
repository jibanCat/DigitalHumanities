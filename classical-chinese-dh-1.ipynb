{
 "cells": [
  {
   "cell_type": "markdown",
   "metadata": {},
   "source": [
    "For the original notebook you can check [here](https://digitalsinology.org/classical-chinese-digital-humanities/). I answered the exercises of this notebook, so if you want to write your own answer, you can just ignore my answers."
   ]
  },
  {
   "cell_type": "markdown",
   "metadata": {},
   "source": [
    "Classical Chinese DH: Getting started\n",
    "=====\n",
    "*By [Donald Sturgeon](http://dsturgeon.net/about)*\n",
    "\n",
    "\\[[View this notebook online](http://digitalsinology.org/classical-chinese-dh-getting-started)\\] \\[[Download this notebook](http://digitalsinology.org/notebooks/classical-chinese-dh-1.ipynb)\\] \\[[List of tutorials](http://digitalsinology.org/classical-chinese-digital-humanities/)\\]"
   ]
  },
  {
   "cell_type": "markdown",
   "metadata": {},
   "source": [
    "### Welcome to our first Jupyter Notebook!\n",
    "\n",
    "A [notebook](http://jupyter-notebook-beginner-guide.readthedocs.org/en/latest/what_is_jupyter.html) is a [hypertext](https://en.wikipedia.org/wiki/Hypertext) document containing a mixture of textual content (like the part you're reading now) and computer programs - lists of instructions written in a programming language (in our case, the [Python](https://en.wikipedia.org/wiki/Python_%28programming_language%29) language) - as well as the output of these programs.\n",
    "\n",
    "### Using the Jupyter environment\n",
    "\n",
    "Before getting started with Python itself, it's important to get some basic familiarity with the user interface of the Jupyter environment. Jupyter is fairly intuitive to use, partly because it runs in a web browser and so works a lot like any web page. Basic principles:\n",
    "\n",
    "* Each \"notebook\" displays as a single page. Notebooks are opened and saved using the menus and icons shown **within** the Jupyter window (i.e. the menus and icons under the Jupyter logo and icon, **not** the menus / icons belonging to your web browser).\n",
    "\n",
    "* Notebooks are made up of \"cells\". Each cell is displayed on the page in a long list, one below another. You can see which parts of the notebook belong to which cell by clicking once on the text - when you do this, this will select the cell containing the text, and show its outline with a grey line.\n",
    "\n",
    "* Usually a cell contains either text (like this one - in Jupyter this is called a \"Markdown\" cell), or Python code (like the one below this one).\n",
    "\n",
    "* You can click on a program cell to edit it, and double-click on a text cell to edit it. Try double-clicking on this cell.\n",
    "\n",
    "* When you start editing a text cell, the way it is displayed changes so that you can see (and edit) any formatting codes in it. To return the cell back to the \"normal\" prettified display, you need to \"Run\" it. You can run a cell by either:\n",
    " * choosing \"Run\" from the \"Cell\" menu above,\n",
    " * pressing shift-return when the cell is selected, or\n",
    " * clicking the \"Run cell\" icon.\n",
    "* \"Run\" this cell so that it returns to the original mode of display.\n"
   ]
  },
  {
   "cell_type": "code",
   "execution_count": 1,
   "metadata": {
    "scrolled": true
   },
   "outputs": [
    {
     "name": "stdout",
     "output_type": "stream",
     "text": [
      "1*1 = 1\n",
      "2*2 = 4\n",
      "3*3 = 9\n",
      "4*4 = 16\n",
      "5*5 = 25\n",
      "6*6 = 36\n",
      "7*7 = 49\n",
      "8*8 = 64\n",
      "9*9 = 81\n",
      "10*10 = 100\n",
      "11*11 = 121\n",
      "12*12 = 144\n"
     ]
    }
   ],
   "source": [
    "for number in range(1,13):\n",
    "    print(str(number) + \"*\" + str(number) + \" = \" + str(number*number))"
   ]
  },
  {
   "cell_type": "markdown",
   "metadata": {},
   "source": [
    "The program in a cell doesn't do anything until you ask Jupyter to run (a.k.a. \"execute\") it - in other words, ask the system to start following the instructions in the program. You can execute a cell by clicking somewhere in it so it's selected, then choosing \"Run\" from the \"Cell\" menu (or by pressing shift-return).\n",
    "\n",
    "When you run a cell containing a Python program, any output that the program generates is displayed directly below that cell. If you modify the program, you'll need to run it again before you will see the modified result."
   ]
  },
  {
   "cell_type": "markdown",
   "metadata": {},
   "source": [
    "A lot of the power of Python and Jupyter comes from the ability to easily make use of modules written by other people. Modules are included using lines like \"from ... import \\*\".\n",
    "A module needs to be installed on your computer before you can use it; many of the most commonly used ones are installed as part of Anaconda.\n",
    "\n",
    "\"Comments\" provide a way of explaining to human readers what parts of a program are supposed to do (but are completely ignored by Python itself). Typing the symbol # begins a comment, which continues until the end of the line.\n",
    "\n",
    "**N.B.** You must install the \"ctext\" module before running the code below. If you get the error \"ImportError: No module named 'ctext'\" when you try to run the code, [refer to the instructions](http://digitalsinology.org/classical-chinese-dh-getting-started/) for how to install the ctext module."
   ]
  },
  {
   "cell_type": "code",
   "execution_count": 2,
   "metadata": {},
   "outputs": [
    {
     "name": "stdout",
     "output_type": "stream",
     "text": [
      "This chapter is made up of 16 paragraphs. These are:\n",
      "1. 子曰：「學而時習之，不亦說乎？有朋自遠方來，不亦樂乎？人不知而不慍，不亦君子乎？」\n",
      "2. 有子曰：「其為人也孝弟，而好犯上者，鮮矣；不好犯上，而好作亂者，未之有也。君子務本，本立而道生。孝弟也者，其為仁之本與！」\n",
      "3. 子曰：「巧言令色，鮮矣仁！」\n",
      "4. 曾子曰：「吾日三省吾身：為人謀而不忠乎？與朋友交而不信乎？傳不習乎？」\n",
      "5. 子曰：「道千乘之國：敬事而信，節用而愛人，使民以時。」\n",
      "6. 子曰：「弟子入則孝，出則弟，謹而信，汎愛眾，而親仁。行有餘力，則以學文。」\n",
      "7. 子夏曰：「賢賢易色，事父母能竭其力，事君能致其身，與朋友交言而有信。雖曰未學，吾必謂之學矣。」\n",
      "8. 子曰：「君子不重則不威，學則不固。主忠信，無友不如己者，過則勿憚改。」\n",
      "9. 曾子曰：「慎終追遠，民德歸厚矣。」\n",
      "10. 子禽問於子貢曰：「夫子至於是邦也，必聞其政，求之與？抑與之與？」子貢曰：「夫子溫、良、恭、儉、讓以得之。夫子之求之也，其諸異乎人之求之與？」\n",
      "11. 子曰：「父在，觀其志；父沒，觀其行；三年無改於父之道，可謂孝矣。」\n",
      "12. 有子曰：「禮之用，和為貴。先王之道斯為美，小大由之。有所不行，知和而和，不以禮節之，亦不可行也。」\n",
      "13. 有子曰：「信近於義，言可復也；恭近於禮，遠恥辱也；因不失其親，亦可宗也。」\n",
      "14. 子曰：「君子食無求飽，居無求安，敏於事而慎於言，就有道而正焉，可謂好學也已。」\n",
      "15. 子貢曰：「貧而無諂，富而無驕，何如？」子曰：「可也。未若貧而樂，富而好禮者也。」子貢曰：「《詩》云：『如切如磋，如琢如磨。』其斯之謂與？」子曰：「賜也，始可與言詩已矣！告諸往而知來者。」\n",
      "16. 子曰：「不患人之不己知，患不知人也。」\n"
     ]
    }
   ],
   "source": [
    "from ctext import *  # This module gives us direct access to data from ctext.org\n",
    "setapikey(\"demo\")    # This allows us access to the data used in these tutorials\n",
    "\n",
    "paragraphs = gettextasparagrapharray(\"ctp:analects/xue-er\")\n",
    "\n",
    "print(\"This chapter is made up of \" + str(len(paragraphs)) + \" paragraphs. These are:\")\n",
    "\n",
    "# For each paragraph of the chapter data that we downloaded, do the following:\n",
    "for paragraphnumber in range(0, len(paragraphs)):\n",
    "    print(str(paragraphnumber+1) + \". \" + paragraphs[paragraphnumber])"
   ]
  },
  {
   "cell_type": "markdown",
   "metadata": {},
   "source": [
    "'Variables' are named entities that contain some kind of data that can be changed at a later date. We will look at these in much more detail over the next few weeks. For now, you can think of them as named boxes which can contain any kind of data.\n",
    "\n",
    "Once we have data stored in a variable (like the 'paragraphs' variable above), we can start processing it in whatever way we want. Often we use other variables to track our progress, like the 'longest_paragraph' and 'longest_length' variables in the program below."
   ]
  },
  {
   "cell_type": "code",
   "execution_count": 3,
   "metadata": {},
   "outputs": [
    {
     "name": "stdout",
     "output_type": "stream",
     "text": [
      "The longest paragraph is paragraph number 15, which is 93 characters long.\n"
     ]
    }
   ],
   "source": [
    "longest_paragraph = None # We use this variable to record which of the paragraphs we've looked at is longest\n",
    "longest_length = 0       # We use this one to record how long the longest paragraph we've found so far is\n",
    "\n",
    "for paragraph_number in range(0, len(paragraphs)):\n",
    "    paragraph_text = paragraphs[paragraph_number];\n",
    "    if len(paragraph_text)>longest_length:\n",
    "        longest_paragraph = paragraph_number\n",
    "        longest_length = len(paragraph_text)\n",
    "\n",
    "print(\"The longest paragraph is paragraph number \" + str(longest_paragraph+1) + \", which is \" + str(longest_length) + \" characters long.\")"
   ]
  },
  {
   "cell_type": "markdown",
   "metadata": {},
   "source": [
    "Modules allow us to do powerful things like Principle Component Analysis (PCA) and machine learning without having to write any code to perform any of the complex mathematics which lies behind these techniques. They also let us easily plot numerical results within the Jupyter notebook environment.\n",
    "\n",
    "For example, the following code (which we will go through in much more detail in a future tutorial - don't worry about the contents of it yet) plots the frequencies of the two characters \"矣\" and \"也\" in chapters of the Analects versus chapters of the Fengshen Yanyi. (Note: this may take a few seconds to download the data.)"
   ]
  },
  {
   "cell_type": "code",
   "execution_count": 4,
   "metadata": {},
   "outputs": [
    {
     "data": {
      "text/plain": [
       "<matplotlib.text.Text at 0x1095cc4a8>"
      ]
     },
     "execution_count": 4,
     "metadata": {},
     "output_type": "execute_result"
    },
    {
     "data": {
      "image/png": "[encoded data removed]",
      "text/plain": [
       "<matplotlib.figure.Figure at 0x1094fef28>"
      ]
     },
     "metadata": {},
     "output_type": "display_data"
    }
   ],
   "source": [
    "import re\n",
    "import pandas as pd\n",
    "import matplotlib.pyplot as plt\n",
    "%matplotlib inline  \n",
    "\n",
    "def makevector(string, termlist, normalize = False):\n",
    "    vector = []\n",
    "    for term in termlist:\n",
    "        termcount = len(re.findall(term, string))\n",
    "        if normalize:\n",
    "            vector.append(termcount/len(string))\n",
    "        else:\n",
    "            vector.append(termcount)\n",
    "    return vector\n",
    "\n",
    "text1 = gettextaschapterlist(\"ctp:fengshen-yanyi\")\n",
    "text2 = gettextaschapterlist(\"ctp:analects\")\n",
    "\n",
    "vectors1 = []\n",
    "for chapter in text1:\n",
    "    vectors1.append(makevector(chapter, [\"矣\", \"也\"], True))\n",
    "\n",
    "vectors2 = []\n",
    "for chapter in text2:\n",
    "    vectors2.append(makevector(chapter, [\"矣\", \"也\"], True))\n",
    "\n",
    "df1 = pd.DataFrame(vectors1)\n",
    "df2 = pd.DataFrame(vectors2)\n",
    "\n",
    "legend1 = plt.scatter(df1.iloc[:,0], df1.iloc[:,1], color=\"blue\", label=\"Fengshen Yanyi\")\n",
    "legend2 = plt.scatter(df2.iloc[:,0], df2.iloc[:,1], color=\"red\", label=\"Analects\")\n",
    "plt.legend(handles = [legend1, legend2])\n",
    "plt.xlabel(\"Frequency of 'yi'\")\n",
    "plt.ylabel(\"Frequency of 'ye'\")"
   ]
  },
  {
   "cell_type": "markdown",
   "metadata": {},
   "source": [
    "You can save changes to your notebook using \"File\" -> \"Save and checkpoint\". Note that Jupyter often saves your changes for you automatically, so if you *don't* want to save your changes, you might want to make a copy of your notebook first using \"File\" -> \"Make a Copy\".\n",
    "\n",
    "You should try to avoid having the same notebook open in two different browser windows or browser tabs at the same time. (If you do this, both pages may try to save changes to the same file, overwriting each other's work.)"
   ]
  },
  {
   "cell_type": "markdown",
   "metadata": {
    "collapsed": true
   },
   "source": [
    "Exercises\n",
    "----\n",
    "Before we start writing programs, we need to get familiar with the Jupyter Notebook programming environment. Check that you can complete the following tasks:\n",
    "\n",
    "* Run each of the program cells in this notebook that are above this cell on your computer, checking that each of the short programs produces the expected output.\n",
    "* Clear all of the output using \"Cell\" -> \"All output\" -> \"Clear\", then run one or two of them again.\n",
    "* In Jupyter, each cell in a notebook can be run independently. Sometimes the _order_ in which cells are run is important. Try running the following three cells in order, then see what happens when you run them in a different order. Make sure you understand why in some cases you get different results."
   ]
  },
  {
   "cell_type": "code",
   "execution_count": 5,
   "metadata": {
    "collapsed": true
   },
   "outputs": [],
   "source": [
    "number_of_things = 1"
   ]
  },
  {
   "cell_type": "code",
   "execution_count": 6,
   "metadata": {},
   "outputs": [
    {
     "name": "stdout",
     "output_type": "stream",
     "text": [
      "1\n"
     ]
    }
   ],
   "source": [
    "print(number_of_things)"
   ]
  },
  {
   "cell_type": "code",
   "execution_count": 7,
   "metadata": {},
   "outputs": [
    {
     "name": "stdout",
     "output_type": "stream",
     "text": [
      "2\n"
     ]
    }
   ],
   "source": [
    "number_of_things = number_of_things + 1\n",
    "print(number_of_things)"
   ]
  },
  {
   "cell_type": "markdown",
   "metadata": {},
   "source": [
    "* Some of the programs in this notebook are very simple. Modify and re-run them to perform the following tasks:\n",
    " * Print out the squares of the numbers 3 through 20 (instead of 1 through 12)\n",
    " * Print out the cubes of the numbers 3 through 20 (i.e. 3 x 3 x 3 = 27, 4 x 4 x 4 = 64, etc.)\n",
    " * Instead of printing passages from the first chapter of the Analects, print passages from the **Daodejing**, and determine the longest passage in it. The **URN** for the Daodejing is: `ctp:dao-de-jing`\n",
    " "
   ]
  },
  {
   "cell_type": "code",
   "execution_count": 8,
   "metadata": {},
   "outputs": [
    {
     "name": "stdout",
     "output_type": "stream",
     "text": [
      "3^2 = 9\n",
      "4^2 = 16\n",
      "5^2 = 25\n",
      "6^2 = 36\n",
      "7^2 = 49\n",
      "8^2 = 64\n",
      "9^2 = 81\n",
      "10^2 = 100\n",
      "11^2 = 121\n",
      "12^2 = 144\n",
      "13^2 = 169\n",
      "14^2 = 196\n",
      "15^2 = 225\n",
      "16^2 = 256\n",
      "17^2 = 289\n",
      "18^2 = 324\n",
      "19^2 = 361\n"
     ]
    }
   ],
   "source": [
    "# Jibancat: print out squares if the number 3 through 20\n",
    "for i in range(3, 20):\n",
    "    print ('{0}^2 = {1}'.format(i, i ** 2))"
   ]
  },
  {
   "cell_type": "code",
   "execution_count": 9,
   "metadata": {},
   "outputs": [
    {
     "name": "stdout",
     "output_type": "stream",
     "text": [
      "3^3 = 27\n",
      "4^3 = 64\n",
      "5^3 = 125\n",
      "6^3 = 216\n",
      "7^3 = 343\n",
      "8^3 = 512\n",
      "9^3 = 729\n",
      "10^3 = 1000\n",
      "11^3 = 1331\n",
      "12^3 = 1728\n",
      "13^3 = 2197\n",
      "14^3 = 2744\n",
      "15^3 = 3375\n",
      "16^3 = 4096\n",
      "17^3 = 4913\n",
      "18^3 = 5832\n",
      "19^3 = 6859\n"
     ]
    }
   ],
   "source": [
    "# Jibancat: print out cubes if the number 3 through 20\n",
    "for i in range(3, 20):\n",
    "    print ('{0}^3 = {1}'.format(i, i ** 3))"
   ]
  },
  {
   "cell_type": "code",
   "execution_count": 13,
   "metadata": {},
   "outputs": [
    {
     "data": {
      "text/plain": [
       "38"
      ]
     },
     "execution_count": 13,
     "metadata": {},
     "output_type": "execute_result"
    }
   ],
   "source": [
    "# this would give the full text of dao-de-jing in a list, \n",
    "# every elements in the list represent one paragraph\n",
    "dao_de_jing = gettextasparagrapharray(\"ctp:dao-de-jing\")\n",
    "\n",
    "# get the index of the longest paragraph\n",
    "lengthDDJ = list(map(len, dao_de_jing))\n",
    "lengthDDJ.index(max(lengthDDJ))"
   ]
  },
  {
   "cell_type": "code",
   "execution_count": 17,
   "metadata": {},
   "outputs": [
    {
     "data": {
      "text/plain": [
       "'昔之得一者：天得一以清；地得一以寧；神得一以靈；谷得一以盈；萬物得一以生；侯王得一以為天下貞。其致之，天無以清，將恐裂；地無以寧，將恐發；神無以靈，將恐歇；谷無以盈，將恐竭；萬物無以生，將恐滅；侯王無以貴高將恐蹶。故貴以賤為本，高以下為基。是以侯王自稱孤、寡、不穀。此非以賤為本耶？非乎？故致數譽無譽。不欲琭琭如玉，珞珞如石。'"
      ]
     },
     "execution_count": 17,
     "metadata": {},
     "output_type": "execute_result"
    }
   ],
   "source": [
    "dao_de_jing[38]"
   ]
  },
  {
   "cell_type": "markdown",
   "metadata": {},
   "source": [
    "\n",
    "* Often when programming you'll encounter error messages. The following line contains a bug; try running it, and look at the output. Work out which part of the error message is most relevant, and see if you can find an explanation on the web (e.g. on StackOverflow) and fix the mistake."
   ]
  },
  {
   "cell_type": "code",
   "execution_count": 14,
   "metadata": {},
   "outputs": [
    {
     "ename": "TypeError",
     "evalue": "must be str, not int",
     "output_type": "error",
     "traceback": [
      "\u001b[0;31m---------------------------------------------------------------------------\u001b[0m",
      "\u001b[0;31mTypeError\u001b[0m                                 Traceback (most recent call last)",
      "\u001b[0;32m<ipython-input-14-08dcedcb1516>\u001b[0m in \u001b[0;36m<module>\u001b[0;34m()\u001b[0m\n\u001b[0;32m----> 1\u001b[0;31m \u001b[0mprint\u001b[0m\u001b[0;34m(\u001b[0m\u001b[0;34m\"The answer to life the universe and everything is: \"\u001b[0m \u001b[0;34m+\u001b[0m \u001b[0;36m42\u001b[0m\u001b[0;34m)\u001b[0m  \u001b[0;31m# This statement is incorrect and isn't going to work\u001b[0m\u001b[0;34m\u001b[0m\u001b[0m\n\u001b[0m\u001b[1;32m      2\u001b[0m \u001b[0;34m\u001b[0m\u001b[0m\n\u001b[1;32m      3\u001b[0m \u001b[0;31m# we cannot use \"+\" between a string and a integer\u001b[0m\u001b[0;34m\u001b[0m\u001b[0;34m\u001b[0m\u001b[0m\n",
      "\u001b[0;31mTypeError\u001b[0m: must be str, not int"
     ]
    }
   ],
   "source": [
    "print(\"The answer to life the universe and everything is: \" + 42)  # This statement is incorrect and isn't going to work\n",
    "\n",
    "# we cannot use \"+\" between a string and a integer"
   ]
  },
  {
   "cell_type": "code",
   "execution_count": 15,
   "metadata": {},
   "outputs": [
    {
     "name": "stdout",
     "output_type": "stream",
     "text": [
      "The answer to life the universe and everything is:  42\n"
     ]
    }
   ],
   "source": [
    "# This would work\n",
    "print(\"The answer to life the universe and everything is: \", 42)  "
   ]
  },
  {
   "cell_type": "markdown",
   "metadata": {},
   "source": [
    "* Sometimes a program will take a long time to run - or even run forever - and you'll need to stop it. Watch what happens to the circle beside the text \"Python 3\" at the top-right of the screen when you run the cell below.\n",
    "* While the cell below is running, try running the cell above. You won't see any output until the cell below has finished running.\n",
    "* Run the cell below again. While it's running, interrupt its execution by clicking \"Kernel\" -> \"Interrupt\"."
   ]
  },
  {
   "cell_type": "code",
   "execution_count": null,
   "metadata": {
    "collapsed": true
   },
   "outputs": [],
   "source": [
    "import time\n",
    "\n",
    "for number in range(1,21):\n",
    "    print(number)\n",
    "    time.sleep(1)\n"
   ]
  },
  {
   "cell_type": "markdown",
   "metadata": {},
   "source": [
    "* The cell below has been set as a \"Markdown\" cell, making it a text cell instead of a program (\"code\") cell. Work out how to make the cell run as a program."
   ]
  },
  {
   "cell_type": "markdown",
   "metadata": {},
   "source": [
    "```python\n",
    "for number in range(1,11):\n",
    "    print(\"1/\" + str(number) + \" = \" + str(1/number))  # In many programming languages, the symbol \"/\" means \"divided by\"\n",
    "```"
   ]
  },
  {
   "cell_type": "markdown",
   "metadata": {},
   "source": [
    "You can make a similar code snippet use following markdown language in a text cell.\n",
    "\n",
    "    ```python\n",
    "    # you sample code here \n",
    "    ```"
   ]
  },
  {
   "cell_type": "code",
   "execution_count": 16,
   "metadata": {},
   "outputs": [
    {
     "name": "stdout",
     "output_type": "stream",
     "text": [
      "1/1 = 1.0\n",
      "1/2 = 0.5\n",
      "1/3 = 0.3333333333333333\n",
      "1/4 = 0.25\n",
      "1/5 = 0.2\n",
      "1/6 = 0.16666666666666666\n",
      "1/7 = 0.14285714285714285\n",
      "1/8 = 0.125\n",
      "1/9 = 0.1111111111111111\n",
      "1/10 = 0.1\n"
     ]
    }
   ],
   "source": [
    "# you can just press \"y\" on the keyvboard, \n",
    "# the cell would be forced to be a code cell\n",
    "for number in range(1,11):\n",
    "    print(\"1/\" + str(number) + \" = \" + str(1/number))  # In many programming languages, the symbol \"/\" means \"divided by\"\n"
   ]
  },
  {
   "cell_type": "markdown",
   "metadata": {},
   "source": [
    "* Experiment with creating new cells below this one. Make some text cells, type something in them, and run them. Copy and paste some code from above into code cells, and run them too. Try playing around with simple modifications to the code.\n",
    "* (Optional) You can make your text cells look nicer by including formatting instructions in them. **The way of doing this is called \"Markdown\" - there are many [good introductions](https://athena.brynmawr.edu/jupyter/hub/dblank/public/Jupyter%20Notebook%20Users%20Manual.ipynb#4.-Using-Markdown-Cells-for-Writing) available online. **\n",
    "* Lastly, save your modified notebook and close your web browser. Shut down the Python server process, then start it again, and reload your modified notebook. Make sure you can also find the saved notebook file in your computer's file manager (e.g. \"Windows Explorer\"/\"File Explorer\" on Windows, or \"Finder\" on Mac OS X).\n",
    "\n",
    "**Further reading:**\n",
    "* [Jupyter Notebook Users Manual](https://athena.brynmawr.edu/jupyter/hub/dblank/public/Jupyter%20Notebook%20Users%20Manual.ipynb), Bryn Mawr College Computer Science - _This provides a thorough introduction to Jupyter features. This guide introduces many more features than we will need to use, but is a great reference._"
   ]
  },
  {
   "cell_type": "markdown",
   "metadata": {
    "collapsed": true
   },
   "source": [
    "<div style=\"float: right;\"><a rel=\"license\" href=\"http://creativecommons.org/licenses/by-sa/4.0/\"><img alt=\"Creative Commons License\" style=\"border-width:0\" src=\"https://i.creativecommons.org/l/by-sa/4.0/88x31.png\" /></a></div>"
   ]
  }
 ],
 "metadata": {
  "anaconda-cloud": {},
  "hide_input": false,
  "kernelspec": {
   "display_name": "Python 3",
   "language": "python",
   "name": "python3"
  },
  "language_info": {
   "codemirror_mode": {
    "name": "ipython",
    "version": 3
   },
   "file_extension": ".py",
   "mimetype": "text/x-python",
   "name": "python",
   "nbconvert_exporter": "python",
   "pygments_lexer": "ipython3",
   "version": "3.6.1"
  }
 },
 "nbformat": 4,
 "nbformat_minor": 1
}
