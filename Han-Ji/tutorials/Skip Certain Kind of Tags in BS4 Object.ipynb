{
 "cells": [
  {
   "cell_type": "code",
   "execution_count": 1,
   "metadata": {
    "collapsed": true
   },
   "outputs": [],
   "source": [
    "import bs4\n",
    "from bs4 import BeautifulSoup"
   ]
  },
  {
   "cell_type": "code",
   "execution_count": 2,
   "metadata": {},
   "outputs": [],
   "source": [
    "with open(\"Shishuo xinyu_0000.html\", 'r', encoding=\"utf-8\") as file:\n",
    "    soup = BeautifulSoup(file.read(), \"xml\")"
   ]
  },
  {
   "cell_type": "code",
   "execution_count": 3,
   "metadata": {},
   "outputs": [],
   "source": [
    "# discard irrelevant parts of the html\n",
    "soup = soup.find_all(\"span\", {\"id\" : \"fontstyle\"})[0]"
   ]
  },
  {
   "cell_type": "markdown",
   "metadata": {},
   "source": [
    "# Skip Certain Kind of Tags in BS4 Object\n",
    "\n",
    "I could not find a clever way to avoid a specific kind of tags in bs4 object, but we can do it using `list comprehension`.\n",
    "\n",
    "(updated) I do find a clever way to remove specific kind of tags, please redirect to **4. Destroy All Certain Tags of the Tree** in the bottom of this file."
   ]
  },
  {
   "cell_type": "markdown",
   "metadata": {},
   "source": [
    "## 1. Keep Text"
   ]
  },
  {
   "cell_type": "code",
   "execution_count": 4,
   "metadata": {},
   "outputs": [
    {
     "data": {
      "text/plain": [
       "<div style=\"text-indent:2em;padding-left:0em;\">1   陳仲舉言為士則，行為世範，<a href=\"#\" onclick=\"q00.style.display=q00.style.display=='none'?'':'none'\" title=\"夾註\"><img align=\"absmiddle\" border=\"0\" src=\"/ihp/qn.gif\"/></a><span id=\"q00\" style=\"display:none;width:;height:;color:green;font-size:13px\">[一]李詳云：「案蔡邕陳太丘碑文『文為德表，範為士則』。魏志鄧艾傳作『文為世範，行為士則』。」</span>登車攬轡，有澄清天下之志。<font size=\"-2\">汝南先賢傳曰：「陳蕃字仲舉，汝南平輿人。有室，荒蕪不埽除，曰：『大丈夫當為國家埽天下。』值漢桓之末，閹豎用事，外戚豪橫。及拜太傅，與大將軍竇武謀誅宦官，反為所害。」</font>為豫章太守，<a href=\"#\" onclick=\"q01.style.display=q01.style.display=='none'?'':'none'\" title=\"夾註\"><img align=\"absmiddle\" border=\"0\" src=\"/ihp/qn.gif\"/></a><span id=\"q01\" style=\"display:none;width:;height:;color:green;font-size:13px\">[二]程炎震云：「陳為豫章，范書不記其年，以穉傳『延熹二年，蕃與胡廣上疏薦穉等』推之，知在永壽間。」</span> <font size=\"-2\">海內先賢傳曰：「蕃為尚書，以忠正忤貴戚，不得在臺，遷豫章太守。」</font>至，便問徐孺子所在，<a href=\"#\" onclick=\"q02.style.display=q02.style.display=='none'?'':'none'\" title=\"夾註\"><img align=\"absmiddle\" border=\"0\" src=\"/ihp/qn.gif\"/></a><span id=\"q02\" style=\"display:none;width:;height:;color:green;font-size:13px\">[三]御覽四百三引海內先賢行狀曰：「徐孺子徵聘未嘗出門，赴喪不遠萬里。常事江夏黃公，薨，往會其葬。家貧無以自供，賫磨鏡具自隨。每至所在，賃磨取資，然後得前。既至設祭，哭畢而返。陳仲舉為豫章太守，召之則到，饋之則食，但不服事，以成其節。」袁宏後漢紀二十二曰：「蕃以禮請為功曹，稚為之起，既謁而退。蕃饋之粟，受而分諸鄰里。」　袁宏後漢紀二十二云：「稚少時，遊學國中，江夏黃瓊教授於家，故穉從之諮訪大義。瓊後仕進，位至三司，稚絕不復交。及瓊薨當葬，稚乃赴弔進酹，哀哭而去。」據此則瓊嘗為孺子所師事，宜其萬里赴弔，不徒感其辟舉之恩而已。然平生篤於風義，其所赴弔不獨黃瓊，凡故舊死喪，莫不奔赴。故本傳稱郭林宗有母憂，穉往弔之，置生芻一束於廬前而去。又宋談鑰嘉泰吳興志卷四曰：「烏程縣孺山在縣東三十八里。三吴土地記云：『後漢徐孺子哭友人冀州刺史姚元起於此。時九江何子翼嘲之曰：南州孺子，弔生哭死。前慰林宗，後傷元起。』」皆其證。風俗通三曰：「公車徵士，豫章徐孺子比為太尉黃瓊所辟，禮文有加。孺子隱者，初不答命。瓊薨，既葬，負肉山廾齎一盤醊，哭於墳前。孫子琰故五官郎將，以長孫制杖，聞有哭者，不知其誰，亦於倚廬哀泣而已。孺子無有謁刺，事訖便去。子琰大怪其故，遣瓊門生茅季瑋追請，辭謝，終不肯還。」　御覽四百七十四引謝承後漢書曰：「徐穉字孺子，豫章人。家貧常自耕稼，恭儉義讓，所居服其德。屢辟公府不起。時陳蕃為太守，以禮請署功曹，穉不免之，既謁而退。蕃在郡不接賓客，唯穉來特設一榻，去則懸之。後舉有道，拜太原太守，皆不就。」　朱子語類百三十五曰：「徐孺子以綿漬酒藏之雞中去弔喪，便以水浸綿為酒以奠之便歸。所以如此者，是要用他自家酒，不用別處底。所以綿漬者，蓋路遠難以器皿盛故也。」</span>欲先看之。<font size=\"-2\">謝承後漢書曰：「徐穉字孺子，豫章南昌人。清妙高跱，超世絕俗。前後為諸公所辟，雖不就，及其死，萬里赴弔。常豫炙雞一隻，以綿漬酒中，乾，以裹雞，徑到所赴冢隧外，以水漬綿，斗米飯，白茅為藉，以雞置前。酹酒畢，留謁即去，不見喪主。」</font>主簿白：「羣情欲府君先入廨。」<a href=\"#\" onclick=\"q03.style.display=q03.style.display=='none'?'':'none'\" title=\"夾註\"><img align=\"absmiddle\" border=\"0\" src=\"/ihp/qn.gif\"/></a><span id=\"q03\" style=\"display:none;width:;height:;color:green;font-size:13px\">[四]左暄三餘偶筆五曰：「漢人稱太守為明府。章懷注後漢書張湛傳云：『郡守所居曰府，府者尊高之稱。』又府君亦太守之稱，如後漢書劉平傳：『龐萌反于彭城，攻敗太守孫萌。平時為郡吏，號泣請曰：願以身代府君。』三國志：『孫策進軍豫章，華歆為太守，葛巾迎策。策謂歆曰：府君年德名望，遠近所歸。』」</span>陳曰：「武王式商容之閭，席不暇煗。<font size=\"-2\">許叔重曰：「商容，殷之賢人，老子師也。」車上跽曰式。<a href=\"#\" onclick=\"q04.style.display=q04.style.display=='none'?'':'none'\" title=\"夾註\"><img align=\"absmiddle\" border=\"0\" src=\"/ihp/qn.gif\"/></a><span id=\"q04\" style=\"display:none;width:;height:;color:green;font-size:13px\">[五]李慈銘云：「所引許叔重云云，當出許君淮南子注。今淮南子繆稱訓『老子學商容』。高誘注云：『商容，神人也。』與許君異。」太平寰宇記一百六洪州南昌縣：「徐孺子臺在州東南二里。輿地志云：『臺在縣東湖小洲上。郡守陳蕃所立。』」</span> </font>吾之禮賢，有何不可！」<font size=\"-2\">袁宏漢紀曰：「蕃在豫章，為穉獨設一榻，去則懸之，見禮如此。」<a href=\"#\" onclick=\"q05.style.display=q05.style.display=='none'?'':'none'\" title=\"夾註\"><img align=\"absmiddle\" border=\"0\" src=\"/ihp/qn.gif\"/></a><span id=\"q05\" style=\"display:none;width:;height:;color:green;font-size:13px\">[六]後漢書陳蕃傳曰：「父友同郡薛勤來候之，謂蕃曰：『孺子何不洒掃以待賓客？』蕃曰云云。」</span> </font> </div>"
      ]
     },
     "execution_count": 4,
     "metadata": {},
     "output_type": "execute_result"
    }
   ],
   "source": [
    "# preview a div tag\n",
    "soup.find_all(\"div\",)[0]"
   ]
  },
  {
   "cell_type": "code",
   "execution_count": 5,
   "metadata": {},
   "outputs": [
    {
     "data": {
      "text/plain": [
       "['1   陳仲舉言為士則，行為世範，',\n",
       " '登車攬轡，有澄清天下之志。',\n",
       " '為豫章太守，',\n",
       " ' ',\n",
       " '至，便問徐孺子所在，',\n",
       " '欲先看之。',\n",
       " '主簿白：「羣情欲府君先入廨。」',\n",
       " '陳曰：「武王式商容之閭，席不暇煗。',\n",
       " '吾之禮賢，有何不可！」',\n",
       " ' ']"
      ]
     },
     "execution_count": 5,
     "metadata": {},
     "output_type": "execute_result"
    }
   ],
   "source": [
    "# double check text=True method using list comprehension\n",
    "text_only_list = [s for s in soup.find_all(\"div\",)[0] if isinstance(s, bs4.NavigableString)]\n",
    "text_only_list"
   ]
  },
  {
   "cell_type": "code",
   "execution_count": 6,
   "metadata": {},
   "outputs": [
    {
     "data": {
      "text/plain": [
       "'1   陳仲舉言為士則，行為世範，登車攬轡，有澄清天下之志。為豫章太守， 至，便問徐孺子所在，欲先看之。主簿白：「羣情欲府君先入廨。」陳曰：「武王式商容之閭，席不暇煗。吾之禮賢，有何不可！」 '"
      ]
     },
     "execution_count": 6,
     "metadata": {},
     "output_type": "execute_result"
    }
   ],
   "source": [
    "# join into a string\n",
    "''.join(text_only_list)"
   ]
  },
  {
   "cell_type": "markdown",
   "metadata": {},
   "source": [
    "## 2. Keep the Tags We Want\n",
    "\n",
    "What we actually want is not excluding all tags within `div` tags but only excluding `夾注`.  "
   ]
  },
  {
   "cell_type": "code",
   "execution_count": 7,
   "metadata": {
    "scrolled": false
   },
   "outputs": [
    {
     "data": {
      "text/plain": [
       "['1   陳仲舉言為士則，行為世範，',\n",
       " '登車攬轡，有澄清天下之志。',\n",
       " <font size=\"-2\">汝南先賢傳曰：「陳蕃字仲舉，汝南平輿人。有室，荒蕪不埽除，曰：『大丈夫當為國家埽天下。』值漢桓之末，閹豎用事，外戚豪橫。及拜太傅，與大將軍竇武謀誅宦官，反為所害。」</font>,\n",
       " '為豫章太守，',\n",
       " ' ',\n",
       " <font size=\"-2\">海內先賢傳曰：「蕃為尚書，以忠正忤貴戚，不得在臺，遷豫章太守。」</font>,\n",
       " '至，便問徐孺子所在，',\n",
       " '欲先看之。',\n",
       " <font size=\"-2\">謝承後漢書曰：「徐穉字孺子，豫章南昌人。清妙高跱，超世絕俗。前後為諸公所辟，雖不就，及其死，萬里赴弔。常豫炙雞一隻，以綿漬酒中，乾，以裹雞，徑到所赴冢隧外，以水漬綿，斗米飯，白茅為藉，以雞置前。酹酒畢，留謁即去，不見喪主。」</font>,\n",
       " '主簿白：「羣情欲府君先入廨。」',\n",
       " '陳曰：「武王式商容之閭，席不暇煗。',\n",
       " <font size=\"-2\">許叔重曰：「商容，殷之賢人，老子師也。」車上跽曰式。<a href=\"#\" onclick=\"q04.style.display=q04.style.display=='none'?'':'none'\" title=\"夾註\"><img align=\"absmiddle\" border=\"0\" src=\"/ihp/qn.gif\"/></a><span id=\"q04\" style=\"display:none;width:;height:;color:green;font-size:13px\">[五]李慈銘云：「所引許叔重云云，當出許君淮南子注。今淮南子繆稱訓『老子學商容』。高誘注云：『商容，神人也。』與許君異。」太平寰宇記一百六洪州南昌縣：「徐孺子臺在州東南二里。輿地志云：『臺在縣東湖小洲上。郡守陳蕃所立。』」</span> </font>,\n",
       " '吾之禮賢，有何不可！」',\n",
       " <font size=\"-2\">袁宏漢紀曰：「蕃在豫章，為穉獨設一榻，去則懸之，見禮如此。」<a href=\"#\" onclick=\"q05.style.display=q05.style.display=='none'?'':'none'\" title=\"夾註\"><img align=\"absmiddle\" border=\"0\" src=\"/ihp/qn.gif\"/></a><span id=\"q05\" style=\"display:none;width:;height:;color:green;font-size:13px\">[六]後漢書陳蕃傳曰：「父友同郡薛勤來候之，謂蕃曰：『孺子何不洒掃以待賓客？』蕃曰云云。」</span> </font>,\n",
       " ' ']"
      ]
     },
     "execution_count": 7,
     "metadata": {},
     "output_type": "execute_result"
    }
   ],
   "source": [
    "[s for s in soup.find_all(\"div\",)[0] \n",
    "     if isinstance(s, bs4.NavigableString) \n",
    "     or ('夾註' not in s.attrs.values()\n",
    "     and 'span' not in s.name)]"
   ]
  },
  {
   "cell_type": "markdown",
   "metadata": {},
   "source": [
    "What `s.attrs.values` means? If `s` is a `bs4` Tag, then it has a class attribute called `attrs`. `attrs` actually is a `dict` contains all properties of a Tag: "
   ]
  },
  {
   "cell_type": "code",
   "execution_count": 8,
   "metadata": {},
   "outputs": [
    {
     "data": {
      "text/plain": [
       "<a href=\"#\" onclick=\"q00.style.display=q00.style.display=='none'?'':'none'\" title=\"夾註\"><img align=\"absmiddle\" border=\"0\" src=\"/ihp/qn.gif\"/></a>"
      ]
     },
     "execution_count": 8,
     "metadata": {},
     "output_type": "execute_result"
    }
   ],
   "source": [
    "夾註 = list(soup.find_all(\"div\",)[0])[1]\n",
    "夾註"
   ]
  },
  {
   "cell_type": "code",
   "execution_count": 9,
   "metadata": {},
   "outputs": [
    {
     "data": {
      "text/plain": [
       "{'href': '#',\n",
       " 'onclick': \"q00.style.display=q00.style.display=='none'?'':'none'\",\n",
       " 'title': '夾註'}"
      ]
     },
     "execution_count": 9,
     "metadata": {},
     "output_type": "execute_result"
    }
   ],
   "source": [
    "夾註.attrs"
   ]
  },
  {
   "cell_type": "markdown",
   "metadata": {},
   "source": [
    "`attrs.values` for a `dict` means that all the values of this dictionary:\n"
   ]
  },
  {
   "cell_type": "code",
   "execution_count": 10,
   "metadata": {},
   "outputs": [
    {
     "data": {
      "text/plain": [
       "dict_values(['#', \"q00.style.display=q00.style.display=='none'?'':'none'\", '夾註'])"
      ]
     },
     "execution_count": 10,
     "metadata": {},
     "output_type": "execute_result"
    }
   ],
   "source": [
    "夾註.attrs.values()"
   ]
  },
  {
   "cell_type": "markdown",
   "metadata": {},
   "source": [
    "So, if `'夾註'` is inside the dictionary values, the condition for `'夾註' not in s.attrs.values()` would return False:"
   ]
  },
  {
   "cell_type": "code",
   "execution_count": 11,
   "metadata": {},
   "outputs": [
    {
     "data": {
      "text/plain": [
       "False"
      ]
     },
     "execution_count": 11,
     "metadata": {},
     "output_type": "execute_result"
    }
   ],
   "source": [
    "'夾註' not in 夾註.attrs.values()"
   ]
  },
  {
   "cell_type": "markdown",
   "metadata": {},
   "source": [
    "## 3. Only Keep `font size = -2` Tags\n",
    "\n",
    "In the same way, we can use `list comprehension` to remove all tags besides `font size=-2`"
   ]
  },
  {
   "cell_type": "code",
   "execution_count": 12,
   "metadata": {},
   "outputs": [
    {
     "data": {
      "text/plain": [
       "['1   陳仲舉言為士則，行為世範，',\n",
       " '登車攬轡，有澄清天下之志。',\n",
       " <font size=\"-2\">汝南先賢傳曰：「陳蕃字仲舉，汝南平輿人。有室，荒蕪不埽除，曰：『大丈夫當為國家埽天下。』值漢桓之末，閹豎用事，外戚豪橫。及拜太傅，與大將軍竇武謀誅宦官，反為所害。」</font>,\n",
       " '為豫章太守，',\n",
       " ' ',\n",
       " <font size=\"-2\">海內先賢傳曰：「蕃為尚書，以忠正忤貴戚，不得在臺，遷豫章太守。」</font>,\n",
       " '至，便問徐孺子所在，',\n",
       " '欲先看之。',\n",
       " <font size=\"-2\">謝承後漢書曰：「徐穉字孺子，豫章南昌人。清妙高跱，超世絕俗。前後為諸公所辟，雖不就，及其死，萬里赴弔。常豫炙雞一隻，以綿漬酒中，乾，以裹雞，徑到所赴冢隧外，以水漬綿，斗米飯，白茅為藉，以雞置前。酹酒畢，留謁即去，不見喪主。」</font>,\n",
       " '主簿白：「羣情欲府君先入廨。」',\n",
       " '陳曰：「武王式商容之閭，席不暇煗。',\n",
       " <font size=\"-2\">許叔重曰：「商容，殷之賢人，老子師也。」車上跽曰式。<a href=\"#\" onclick=\"q04.style.display=q04.style.display=='none'?'':'none'\" title=\"夾註\"><img align=\"absmiddle\" border=\"0\" src=\"/ihp/qn.gif\"/></a><span id=\"q04\" style=\"display:none;width:;height:;color:green;font-size:13px\">[五]李慈銘云：「所引許叔重云云，當出許君淮南子注。今淮南子繆稱訓『老子學商容』。高誘注云：『商容，神人也。』與許君異。」太平寰宇記一百六洪州南昌縣：「徐孺子臺在州東南二里。輿地志云：『臺在縣東湖小洲上。郡守陳蕃所立。』」</span> </font>,\n",
       " '吾之禮賢，有何不可！」',\n",
       " <font size=\"-2\">袁宏漢紀曰：「蕃在豫章，為穉獨設一榻，去則懸之，見禮如此。」<a href=\"#\" onclick=\"q05.style.display=q05.style.display=='none'?'':'none'\" title=\"夾註\"><img align=\"absmiddle\" border=\"0\" src=\"/ihp/qn.gif\"/></a><span id=\"q05\" style=\"display:none;width:;height:;color:green;font-size:13px\">[六]後漢書陳蕃傳曰：「父友同郡薛勤來候之，謂蕃曰：『孺子何不洒掃以待賓客？』蕃曰云云。」</span> </font>,\n",
       " ' ']"
      ]
     },
     "execution_count": 12,
     "metadata": {},
     "output_type": "execute_result"
    }
   ],
   "source": [
    "[s for s in soup.find_all(\"div\",)[0] if isinstance(s, bs4.NavigableString) or 'font' in s.name]"
   ]
  },
  {
   "cell_type": "markdown",
   "metadata": {},
   "source": [
    "## (Added) 4. Destroy All Certain Tags of the Tree\n",
    "\n",
    "Somebody figure out a clever way to remove a certain types of tags from the tree:  \n",
    "See here 👉 https://stackoverflow.com/questions/5598524/can-i-remove-script-tags-with-beautifulsoup"
   ]
  },
  {
   "cell_type": "code",
   "execution_count": 13,
   "metadata": {},
   "outputs": [
    {
     "data": {
      "text/plain": [
       "<html><body>baba</body></html>"
      ]
     },
     "execution_count": 13,
     "metadata": {},
     "output_type": "execute_result"
    }
   ],
   "source": [
    "soup_demo = BeautifulSoup('<span>a</span>baba<span>b XYZ <span>ABC</span></span>', 'lxml')\n",
    "[s.extract() for s in soup_demo('span')]\n",
    "soup_demo"
   ]
  },
  {
   "cell_type": "markdown",
   "metadata": {},
   "source": [
    "Let's try with our text."
   ]
  },
  {
   "cell_type": "code",
   "execution_count": 14,
   "metadata": {},
   "outputs": [
    {
     "data": {
      "text/plain": [
       "<div style=\"text-indent:2em;padding-left:0em;\">1   陳仲舉言為士則，行為世範，<a href=\"#\" onclick=\"q00.style.display=q00.style.display=='none'?'':'none'\" title=\"夾註\"><img align=\"absmiddle\" border=\"0\" src=\"/ihp/qn.gif\"/></a>登車攬轡，有澄清天下之志。<font size=\"-2\">汝南先賢傳曰：「陳蕃字仲舉，汝南平輿人。有室，荒蕪不埽除，曰：『大丈夫當為國家埽天下。』值漢桓之末，閹豎用事，外戚豪橫。及拜太傅，與大將軍竇武謀誅宦官，反為所害。」</font>為豫章太守，<a href=\"#\" onclick=\"q01.style.display=q01.style.display=='none'?'':'none'\" title=\"夾註\"><img align=\"absmiddle\" border=\"0\" src=\"/ihp/qn.gif\"/></a> <font size=\"-2\">海內先賢傳曰：「蕃為尚書，以忠正忤貴戚，不得在臺，遷豫章太守。」</font>至，便問徐孺子所在，<a href=\"#\" onclick=\"q02.style.display=q02.style.display=='none'?'':'none'\" title=\"夾註\"><img align=\"absmiddle\" border=\"0\" src=\"/ihp/qn.gif\"/></a>欲先看之。<font size=\"-2\">謝承後漢書曰：「徐穉字孺子，豫章南昌人。清妙高跱，超世絕俗。前後為諸公所辟，雖不就，及其死，萬里赴弔。常豫炙雞一隻，以綿漬酒中，乾，以裹雞，徑到所赴冢隧外，以水漬綿，斗米飯，白茅為藉，以雞置前。酹酒畢，留謁即去，不見喪主。」</font>主簿白：「羣情欲府君先入廨。」<a href=\"#\" onclick=\"q03.style.display=q03.style.display=='none'?'':'none'\" title=\"夾註\"><img align=\"absmiddle\" border=\"0\" src=\"/ihp/qn.gif\"/></a>陳曰：「武王式商容之閭，席不暇煗。<font size=\"-2\">許叔重曰：「商容，殷之賢人，老子師也。」車上跽曰式。<a href=\"#\" onclick=\"q04.style.display=q04.style.display=='none'?'':'none'\" title=\"夾註\"><img align=\"absmiddle\" border=\"0\" src=\"/ihp/qn.gif\"/></a> </font>吾之禮賢，有何不可！」<font size=\"-2\">袁宏漢紀曰：「蕃在豫章，為穉獨設一榻，去則懸之，見禮如此。」<a href=\"#\" onclick=\"q05.style.display=q05.style.display=='none'?'':'none'\" title=\"夾註\"><img align=\"absmiddle\" border=\"0\" src=\"/ihp/qn.gif\"/></a> </font> </div>"
      ]
     },
     "execution_count": 14,
     "metadata": {},
     "output_type": "execute_result"
    }
   ],
   "source": [
    "[s.extract() for s in soup(\"span\")]\n",
    "soup.find_all(\"div\")[0]"
   ]
  },
  {
   "cell_type": "markdown",
   "metadata": {},
   "source": [
    "The danger of this method is that it would mutate the original `soup` tree.   \n",
    "But, once you keep it mind what you have modified, you are fine.\n",
    "\n",
    "Let's using this method to clean up all irrelevant tags (`a`, `span` tags)"
   ]
  },
  {
   "cell_type": "code",
   "execution_count": 15,
   "metadata": {
    "scrolled": false
   },
   "outputs": [
    {
     "data": {
      "text/plain": [
       "<span id=\"fontstyle\" style=\"FONT-SIZE: 12pt;letter-spacing:1pt; LINE-HEIGHT: 18pt;width:99%;word-break:break-all\">\n",
       "\n",
       "<b><h3>世說新語卷上之上</h3></b> <b><h3>　　　　德行第一</h3></b> <div style=\"text-indent:2em;padding-left:0em;\">1   陳仲舉言為士則，行為世範，登車攬轡，有澄清天下之志。<font size=\"-2\">汝南先賢傳曰：「陳蕃字仲舉，汝南平輿人。有室，荒蕪不埽除，曰：『大丈夫當為國家埽天下。』值漢桓之末，閹豎用事，外戚豪橫。及拜太傅，與大將軍竇武謀誅宦官，反為所害。」</font>為豫章太守， <font size=\"-2\">海內先賢傳曰：「蕃為尚書，以忠正忤貴戚，不得在臺，遷豫章太守。」</font>至，便問徐孺子所在，欲先看之。<font size=\"-2\">謝承後漢書曰：「徐穉字孺子，豫章南昌人。清妙高跱，超世絕俗。前後為諸公所辟，雖不就，及其死，萬里赴弔。常豫炙雞一隻，以綿漬酒中，乾，以裹雞，徑到所赴冢隧外，以水漬綿，斗米飯，白茅為藉，以雞置前。酹酒畢，留謁即去，不見喪主。」</font>主簿白：「羣情欲府君先入廨。」陳曰：「武王式商容之閭，席不暇煗。<font size=\"-2\">許叔重曰：「商容，殷之賢人，老子師也。」車上跽曰式。 </font>吾之禮賢，有何不可！」<font size=\"-2\">袁宏漢紀曰：「蕃在豫章，為穉獨設一榻，去則懸之，見禮如此。」 </font> </div>\n",
       "\n",
       "\n",
       "<div style=\"text-indent:2em;padding-left:0em;\">2   周子居常云：「吾時月不見黃叔度，則鄙吝之心已復生矣。」 <font size=\"-2\">子居別見。典略曰：「黃憲字叔度，汝南慎陽人。時論者咸云『顏子復生』。而族出孤鄙，父為牛醫。潁川荀季和執憲手曰：『足下吾師範也。』後見袁奉高曰：『卿國有顏子，寧知之乎？』奉高曰：『卿見吾叔度邪？』戴良少所服下，見憲則自降簿，悵然若有所失。母問：『汝何不樂乎？復從牛醫兒所來邪？』良曰：『瞻之在前，忽焉在後，所謂良之師也。』」</font> </div>\n",
       "\n",
       "\n",
       "<div style=\"text-indent:2em;padding-left:0em;\">3   郭林宗至汝南造袁奉高， <font size=\"-2\">續漢書曰：「郭泰字林宗，太原介休人。泰少孤，年二十，行學至成皋，屈伯彥精廬。乏食，衣不蓋形，而處約味道，不改其樂。李元禮一見稱之曰：『吾見士多矣，無如林宗者也。』及卒，蔡伯喈為作碑，曰：『吾為人作銘，未嘗不有慚容，唯為郭有道碑頌無愧耳。』初，以有道君子徵。泰曰：『吾觀乾象人事，天之所廢不可支也。』遂辭以疾。」汝南先賢傳曰：「袁宏字奉高，慎陽人。友黃叔度於童齒，薦陳仲舉於家巷。辟太尉掾，卒。」</font>車不停軌，鸞不輟軛。詣黃叔度，乃彌日信宿。人問其故？林宗曰：「叔度汪汪如萬頃之陂。澄之不清，擾之不濁，其器深廣，難測量也。」<font size=\"-2\">泰別傳曰：「薛恭祖問之，泰曰：『奉高之器，譬諸汎濫，雖清易挹也。』」</font> </div>\n",
       "\n",
       "\n",
       "<div style=\"text-indent:2em;padding-left:0em;\">4   李元禮風格秀整，高自標持，欲以天下名教是非為己任。 <font size=\"-2\">薛瑩後漢書曰：「李膺字元禮，潁川襄城人。抗志清妙，有文武儁才。遷司隸校尉，為黨事自殺。」</font>後進之士，有升其堂者，皆以為登龍門。<font size=\"-2\">三秦記曰：「龍門，一名河津，去長安九百里。水懸絕，龜魚之屬莫能上，上則化為龍矣。」</font> </div>\n",
       "\n",
       "<div style=\"text-indent:2em;padding-left:0em;\">5   李元禮嘗歎荀淑、鍾皓<font size=\"-2\">先賢行狀曰：「荀淑字季和，潁川潁陰人也。所拔韋褐芻牧之中，執案刀筆之吏，皆為英彥。舉方正，補朗陵侯相，所在流化。鍾皓字季明，潁川長社人。父、祖至德著名。皓高風承世，除林慮長，不之官。人位不足，天爵有餘。」</font>曰：「荀君清識難尚，鍾君至德可師。」 <font size=\"-2\">海內先賢傳曰：「潁川先輩，為海內所師者：定陵陳穉叔、潁陰荀淑、長社鍾皓。少府李膺宗此三君，常言：『荀君清識難尚，陳鍾至德可師。』」</font> </div>\n",
       "\n",
       "\n",
       "<div style=\"text-indent:2em;padding-left:0em;\">6   陳太丘詣荀朗陵，貧儉無僕役。<font size=\"-2\">陳寔字仲弓，潁川許昌人。為聞喜令、太丘長，風化宣流。</font>乃使元方將車，<font size=\"-2\">先賢行狀曰：「陳紀字元方，寔長子也。至德絕俗，與寔高名並著，而弟諶又配之。每宰府辟召，羔雁成羣，世號『三君』，百城皆圖畫。」 </font>季方持杖後從。長文尚小，載箸車中。既至，荀使叔慈應門，慈明行酒，餘六龍下食。<font size=\"-2\">張璠漢紀曰：「淑有八子：儉、鯤、靖、燾、汪、爽、肅、敷。淑居西豪里，縣令苑康曰，『昔高陽氏有才子八人』，遂署其里為高陽里。時人號曰八龍。」 </font>文若亦小，坐箸桼前。于時太史奏：「真人東行。」 <font size=\"-2\">檀道鸞續晉陽秋曰：「陳仲弓從諸子姪造荀父子，于時德星聚，太史奏：『五百里賢人聚。』」</font> </div>\n",
       "\n",
       "\n",
       "<div style=\"text-indent:2em;padding-left:0em;\">7   客有問陳季方：<font size=\"-2\">海內先賢傳曰：「陳諶字季方，寔少子也。才識博達，司空掾公車徵，不就。」</font>「足下家君太丘，有何功德，而荷天下重名？」季方曰：「吾家君譬如桂樹生泰山之阿，上有萬仞之高，下有不測之深；上為甘露所霑，下為淵泉所潤。當斯之時，桂樹焉知泰山之高，淵泉之深，不知有功德與無也！」 </div>\n",
       "\n",
       "\n",
       "<div style=\"text-indent:2em;padding-left:0em;\">8   陳元方子長文有英才，<font size=\"-2\">魏書曰：「陳羣字長文，祖寔，嘗謂宗人曰：『此兒必興吾宗。』及長，有識度。其所善，皆父黨。」</font>與季方子孝先，<font size=\"-2\">陳氏譜曰：「諶子忠，字孝先。州辟不就。」</font>各論其父功德，爭之不能決，咨於太丘。太丘曰：「元方難為兄，季方難為弟。」<font size=\"-2\">一作「元方難為弟，季方難為兄」。</font> </div>\n",
       "\n",
       "<div style=\"text-indent:2em;padding-left:0em;\">9   荀巨伯遠看友人疾，<font size=\"-2\">荀氏家傳曰：「巨伯，漢桓帝時人也。亦出潁川，未詳其始末。」</font>值胡賊攻郡，友人語巨伯曰：「吾今死矣，子可去！」巨伯曰：「遠來相視，子令吾去；敗義以求生，豈荀巨伯所行邪？」賊既至，謂巨伯曰：「大軍至，一郡盡空，汝何男子，而敢獨止？」巨伯曰：「友人有疾，不忍委之，寧以我身代友人命。」賊相謂曰：「我輩無義之人，而入有義之國！」遂班軍而還，一郡並獲全。 </div>\n",
       "\n",
       "\n",
       "<div style=\"text-indent:2em;padding-left:0em;\">10  華歆遇子弟甚整，雖閒室之內，嚴若朝典。<font size=\"-2\">魏志曰：「歆字子魚，平原高唐人。」魏略曰：「靈帝時與北海邴原、管寧俱遊學相善，時號三人為一龍。謂歆為龍頭，原為龍腹，寧為龍尾。」 </font>陳元方兄弟恣柔愛之道，而二門之裹，兩不失雍熙之軌焉。</div>\n",
       "\n",
       "\n",
       "<div style=\"text-indent:2em;padding-left:0em;\">11  管寧、華歆共園中鋤菜，<font size=\"-2\">傅子曰：「寧字幼安，北海朱虛人，齊相管仲之後也。」</font>見地有片金，管揮鋤與瓦石不異，華捉而擲去之。又嘗同席讀書，有乘軒冕過門者，寧讀如故，歆廢書出看。寧割席分坐曰：「子非吾友也。」<font size=\"-2\">魏略曰：「寧少恬靜，常笑邴原、華子魚有仕宦意。及歆為司徒，上書讓寧。寧聞之笑曰：『子魚本欲作老吏，故榮之耳。』」</font> </div>\n",
       "\n",
       "<div style=\"text-indent:2em;padding-left:0em;\">12  王朗每以識度推華歆。<font size=\"-2\">魏書曰：「朗字景興，東海郯人，魏司徒。」</font>歆蜡日，<font size=\"-2\">禮記曰：「天子大蜡八，伊耆氏始為蜡。蜡，索也。歲十二月，合聚萬物而索饗之。」五經要義曰：「三代名臘：夏曰嘉平，殷曰清祀，周曰大蜡，總謂之臘。」晉博士張亮議曰：「蜡者，合聚百物索饗之，歲終休老息民也。臘者，祭宗廟五祀。傳曰：『臘，接也。』祭則新故交接也。秦、漢以來，臘之明日為祝歲，古之遺語也。」</font>嘗集子姪燕飲，王亦學之。有人向張華說此事，張曰：「王之學華，皆是形骸之外，去之所以更遠。」 <font size=\"-2\">王隱晉書曰：「張華字茂先，范陽人也。累遷司空，而為趙王倫所害。」</font> </div>\n",
       "\n",
       "\n",
       "<div style=\"text-indent:2em;padding-left:0em;\">13  華歆、王朗俱乘船避難，有一人欲依附，歆輒難之。朗曰：「幸尚寬，何為不可？」後賊追至，王欲舍所攜人。歆曰：「本所以疑，正為此耳。既已納其自託，寧可以急相棄邪？」遂攜拯如初。世以此定華、王之優劣。 <font size=\"-2\">華嶠譜叙曰：「歆為下邽令，漢室方亂，乃與同志士鄭太等六七人避世。自武關出，道遇一丈夫獨行，願得與俱。皆哀許之。歆獨曰：『不可。今在危險中，禍福患害，義猶一也。今無故受之，不知其義，若有進退，可中棄乎？』眾不忍，卒與俱行。此丈夫中道墮井，皆欲棄之。歆乃曰：『已與俱矣，棄之不義。』卒共還，出之而後別。」</font> </div>\n",
       "\n",
       "\n",
       "<div style=\"text-indent:2em;padding-left:0em;\">14  王祥事後母朱夫人甚謹，<font size=\"-2\">晉諸公贊曰：「祥字休徵，琅邪臨沂人。」祥世家曰：「祥父融，娶高平薛氏，生祥。繼室以廬江朱氏，生覽。」晉陽秋曰：「後母數譖祥，屢以非理使祥，弟覽輒與祥俱。又虐使祥婦，覽妻亦趨而共之。母患，方盛寒冰凍，母欲生魚，祥解衣將剖冰求之，會有處冰小解，魚出。」蕭廣濟孝子傳曰：「祥後母忽欲黃雀炙，祥念難卒致。須臾，有數十黃雀飛入其幕。母之所須，必自奔走，無不得焉。其誠至如此。」</font>家有一李樹，結子殊好，母恆使守之。時風雨忽至，祥抱樹而泣。<font size=\"-2\">蕭廣濟孝子傳曰：「祥後母庭中有李，始結子，使祥晝視鳥雀，夜則趍鼠。一夜，風雨大至，祥抱泣至曉，母見之惻然。」</font>祥嘗在別牀眠，母自往闇斫之。值祥私起，空</div>\n",
       "<div style=\"text-indent:0em;padding-left:0em;\">斫得被。既還，知母憾之不已，因跪前請死。母於是感悟，愛之如己子。<font size=\"-2\">虞預晉書曰：「祥以後母故，陵遲不仕。年向六十，刺史呂虔檄為別駕，時人歌之曰：『海沂之康，寔賴王祥；邦國不空，別駕之功！』累遷太保。」 </font> </div>\n",
       "\n",
       "\n",
       "<div style=\"text-indent:2em;padding-left:0em;\">15  晉文王稱阮嗣宗至慎，每與之言，言皆玄遠，未嘗臧否人物。<font size=\"-2\">魏書曰：「文王諱昭，字子上，宣帝第二子也。」魏氏春秋曰：「阮籍字嗣宗，陳留尉氏人，阮瑀子也。宏達不羈，不拘禮俗。兗州刺史王昶請與相見，終日不得與言。昶愧歎之，自以不能測也。口不論事，自然高邁。」李康家誡曰：「昔嘗侍坐於先帝，時有三長史俱見，臨辭出，上曰：『為官長當清、當慎、當勤，修此三者，何患不治乎？』並受詔。上顧謂吾等曰：『必不得已而去，於斯三者何先？』或對曰『清固為本』。復問吾，吾對曰：『清慎之道，相須而成，必不得已，慎乃為大。』上曰：『辦言得之矣，可舉近世能慎者誰乎？』吾乃舉故太尉荀景倩、尚書董仲達、僕射王公仲。上曰：『此諸人者，溫恭朝夕，執事有恪，亦各其慎也。然</font></div>\n",
       "<div style=\"text-indent:0em;padding-left:0em;\"><font size=\"-2\">天下之至慎者，其唯阮嗣宗乎！每與之言，言及玄遠，而未嘗評論時事，臧否人物，可謂至慎乎！』」 </font> </div>\n",
       "\n",
       "<div style=\"text-indent:2em;padding-left:0em;\">16  王戎云：「與嵇康居二十年，未嘗見其喜慍之色。」<font size=\"-2\">康集敍曰：「康字叔夜，譙國銍人。」王隱晉書曰：「嵇本姓溪，其先避怨徙上虞，移譙國銍縣。以出自會稽，取國一支，音同本奚焉。」虞預晉書曰：「銍有嵇山，家於其側，因氏焉。」康別傳曰：「康性含垢藏瑕，愛惡不爭於懷，喜怒不寄於顏。所知王濬沖在襄城，面數百，未嘗見其疾聲朱顏。此亦方中之美範，人倫之勝業也。」文章敍錄曰：「康以魏長樂亭主壻遷郎中，拜中散大夫。」 </font> </div>\n",
       "\n",
       "\n",
       "<div style=\"text-indent:2em;padding-left:0em;\">17  王戎、和嶠同時遭大喪，俱以孝稱。王雞骨支牀，和哭泣備禮。 <font size=\"-2\">晉諸公贊曰：「戎字濬沖，琅邪人，太保祥宗族也。文皇帝輔政，鍾會薦之曰：『裴楷清通，王戎簡要。』即俱辟為掾。晉踐祚，累遷荊州刺史，以平吴功，封安豐侯。」晉陽秋曰：「戎為豫州刺史，遭母憂，性至孝，不拘禮制，飲酒食肉，或觀棊奕，而容貌毀悴，杖而後起。</font></div>\n",
       "<div style=\"text-indent:0em;padding-left:0em;\"><font size=\"-2\">時汝南和嶠，亦名士也，以禮法自持。處大憂，量米而食，然顦顇哀毀，不逮戎也。」</font>武帝謂劉仲雄曰：<font size=\"-2\">王隱晉書曰：「劉毅字仲雄，東萊掖人，漢城陽景王後也。亮直清方，見有不善，必評論之。王公大人，望風憚之。僑居陽平，太守杜恕致為功曹，沙汰郡吏三百餘人。三魏僉曰：『但聞劉功曹，不聞杜府君。』累遷尚書、司隸校尉。」</font>「卿數省王、和不？聞和哀苦過禮，使人憂之。」仲雄曰：「和嶠雖備禮，神氣不損；王戎雖不備禮，而哀毀骨立。臣以和嶠生孝，王戎死孝。陛下不應憂嶠，而應憂戎。」 <font size=\"-2\">晉陽秋曰：「世祖及時談以此貴戎也。」</font> </div>\n",
       "\n",
       "\n",
       "<div style=\"text-indent:2em;padding-left:0em;\">18  梁王、趙王，<font size=\"-2\">朱鳳晉書曰：「宣帝張夫人生梁孝王彤，字子徽，位至太宰。桓夫人生趙王倫，字子彝，位至相國。」</font>國之近屬，貴重當時。裴令公<font size=\"-2\">晉諸公贊曰：「裴楷字叔則，河東聞喜人，司空秀之從弟也。父徽，冀州刺史，有俊識。楷特精易義。累遷河南尹、中書令，卒。」</font>歲請二國租錢數百萬，以恤中表之貧者。或譏之曰：「何以乞物行惠？」裴曰：「損有餘，補不足，天之道也。」 <font size=\"-2\">名士傳曰：「楷行己取與，任心而動，毀譽雖至，處之晏然，皆此類。」</font> </div>\n",
       "\n",
       "\n",
       "<div style=\"text-indent:2em;padding-left:0em;\">19  王戎云：「太保居在正始中，不在能言之流。及與之言，理中清遠，將無以德掩其言！」<font size=\"-2\">晉陽秋曰：「祥少有美德行。」 </font> </div>\n",
       "\n",
       "<div style=\"text-indent:2em;padding-left:0em;\">20  王安豐遭艱，至性過人。裴令往弔之，曰：「若使一慟果能傷人，濬沖必不免滅性之譏。」 <font size=\"-2\">曲禮曰：「居喪之禮，毀瘠不形，視聽不衰，不勝喪，乃比於不慈不孝。」孝經曰：「毀不滅性，聖人之教也。」</font> </div>\n",
       "\n",
       "\n",
       "<div style=\"text-indent:2em;padding-left:0em;\">21  王戎父渾有令名，官至涼州刺史。<font size=\"-2\">世語曰：「渾字長源，有才望。歷尚書、涼州刺史。」</font>渾薨，所歷九郡義故，懷其德惠，相率致賻數百萬，戎悉不受。<font size=\"-2\">虞預晉書曰：「戎由是顯名。」</font> </div>\n",
       "\n",
       "<div style=\"text-indent:2em;padding-left:0em;\">22  劉道真嘗為徒， <font size=\"-2\">晉百官名曰：「劉寶字道真，高平人。徒，罪役作者。」</font>扶風王駿<font size=\"-2\">虞預晉書曰：「駿字子臧，宣帝第十七子，好學至孝。」晉諸公贊曰：「駿八歲為散騎常侍，侍魏齊王講。晉受禪，封扶風王，鎮關中，為政最美。薨，贈武王。西土思之，但見其碑贊者，皆拜之而泣。其遺愛如此。」</font>以五百疋布贖之，既而用為從事中郎。當時以為美事。</div>\n",
       "\n",
       "\n",
       "<div style=\"text-indent:2em;padding-left:0em;\">23  王平子、胡毋彥國諸人，皆以任放為達，或有裸體者。<font size=\"-2\">晉諸公贊曰：「王澄字平子，有達識，荊州刺史。」永嘉流人名曰：「胡毋輔之字彥國，泰山奉高人，湘州刺史。」王隱晉書曰：「魏末阮籍，嗜酒荒放，露頭散髮，裸袒箕踞。其後貴游子弟阮瞻、王澄、謝鯤、胡毋輔之之徒，皆祖述於籍，謂得大道之本。故去巾幘，脫衣服，露醜惡，同禽獸。甚者名之為通，次者名之為達也。」</font>樂廣笑曰：「名教中自有樂地，何為乃爾也！」 </div>\n",
       "\n",
       "<div style=\"text-indent:2em;padding-left:0em;\">24  郗公值永嘉喪亂，在鄉里甚窮餒。鄉人以公名德，傳共飴之。公常攜兄子邁及外生周翼二小兒往食。鄉人曰：「各自饑困，以君之賢，欲共濟君耳，恐不能兼有所存。」公於是</div>\n",
       "<div style=\"text-indent:0em;padding-left:0em;\">獨往食，輒含飯著兩頰邊，還吐與二兒。後並得存，同過江。<font size=\"-2\">郗鑒別傳曰：「鑒字道徽，高平金鄉人。漢御史大夫郗慮後也。少有體正，躭思經籍，以儒雅著名。永嘉末，天下大亂，饑饉相望，冠帶以下，皆割己之資供鑒。元皇徵為領軍，遷司空、太尉。」中興書曰：「鑒兄子邁，字思遠，有幹世才略。累遷少府、中護軍。」</font>郗公亡，翼為剡縣，解職歸，席苫於公靈牀頭，心喪終三年。<font size=\"-2\">周氏譜曰：「翼字子卿，陳郡人。祖奕，上谷太守。父優，車騎咨議。歷剡令、青州刺史、少府卿，六十四而卒。」</font> </div>\n",
       "\n",
       "<div style=\"text-indent:2em;padding-left:0em;\">25  顧榮在洛陽，嘗應人請，覺行炙人有欲炙之色，因輟己施焉。同坐嗤之。榮曰：</div>\n",
       "<div style=\"text-indent:0em;padding-left:0em;\">「豈有終日執之，而不知其味者乎？」後遭亂渡江，每經危急，常有一人左右已，問其所以，乃受炙人也。 <font size=\"-2\">文士傳曰：「榮字彥先，吴郡人。其先越王句踐之支庶，封於顧邑，子孫遂氏焉，世為吴著姓。大父雍，吴丞相。父穆，宜都太守。榮少朗俊機警，風穎標徹，歷廷尉正。曾在省與同僚共飲，見行炙者有異於常僕，乃割炙以噉之。後趙王倫篡位，其子為中領軍，逼用榮為長史。及倫誅，榮亦被執。凡受戮等輩十有餘人。或有救榮者，問其故。曰：『某省中受炙臣也。』榮乃悟而歎曰：『一餐之惠，恩今不忘，古人豈虛言哉！』」</font> </div>\n",
       "\n",
       "\n",
       "<div style=\"text-indent:2em;padding-left:0em;\">26  祖光祿少孤貧，性至孝，常自為母炊爨作食。<font size=\"-2\">王隱晉書曰：「祖納字士言，范陽遒人，九世孝廉。納諸母三兄，最治行操，能清言，歷太子中庶子，廷尉卿。避地江南，溫嶠薦為光祿大夫。」</font>王平北聞其佳名，以兩婢餉之，因取為中郎。<font size=\"-2\">王乂別傳曰：「乂字叔元，琅邪臨沂人。時蜀新平，二將作亂，文帝西之長安，乃徵為相國司馬，遷大尚書、出督幽州諸軍事、平北將軍。」</font>有人戲之者曰：「奴價倍婢。」祖云：「百里奚亦何必輕於五羖之皮邪？」<font size=\"-2\">楚國先賢傳曰：「百里奚字凡伯，楚國人。少仕於虞，為大夫。晉欲假道於虞以伐虢，諫而不聽，奚乃去之。」說苑曰：「秦穆公使賈人載鹽於虞，諸賈人買百里奚以五羊皮。穆公觀鹽，怪其牛肥，問其故，對曰：『飲食以時，使之不暴，是以肥也。』公令有司沐浴衣冠之。公孫支讓其卿位，號曰五羖大夫。」</font> </div>\n",
       "\n",
       "\n",
       "<div style=\"text-indent:2em;padding-left:0em;\">27  周鎮罷臨川郡還都，未及上住，泊青溪渚。<font size=\"-2\">永嘉流人名曰：「鎮字康時，陳留尉氏人也。祖父和，故安令。父震，司空長史。」中興書曰：「鎮清約寡欲，所在有異績。」</font>王丞相往看之。<font size=\"-2\">丞相別傳曰：「王導字茂弘，琅邪人。祖覽，以德行稱。父裁，侍御史。導少知名，家世貧約，恬暢樂道，未嘗以風塵經懷也。」</font>時夏月，暴雨卒至，舫至狹小，而又大漏，殆無復坐處。王曰：「胡威之清，何以過此！」即啟用為吴興郡。<font size=\"-2\">晉陽秋曰：「胡威字伯虎，淮南人。父質以忠清顯。質為荊州，威自京師往省之。及告歸，質賜威絹一匹。威跪曰：『大人清高，於何得此？』質曰：『是吾奉祿之餘，故以為汝糧耳。』威受而去。每至客舍，自放驢取樵爨炊。食畢，復隨旅進道。質帳下都督陰齎糧要之，因與為伴。每事相助經營之，又進少飯，威疑之，密誘問之，乃知都督也。謝而遣之。後以白質，質杖都督一百，除其吏名。父子清慎如此。及威為徐州，世祖賜見，與論邊事及平生。帝歎其父清，因謂威曰：『卿清孰與父？』對曰：『臣清不如也。』帝曰：『何以為勝汝邪？』對曰：『臣父清畏人知，臣清畏人不知，是以不如遠矣。』」 </font> </div>\n",
       "\n",
       "\n",
       "<div style=\"text-indent:2em;padding-left:0em;\">28  鄧攸始避難，於道中棄己子，全弟子。 <font size=\"-2\">晉陽秋曰：「攸字伯道，平陽襄陵人。七歲喪父母及祖父母，持重九年。性清慎平簡。」鄧粲晉紀曰：「永嘉中，攸為石勒所獲，召見，立幕下與語，說之，坐而飯焉。攸車所止，與胡人鄰轂，胡人失火燒車營，勒吏案問胡，胡誣攸。攸度不可與爭，乃曰：『向為老姥作粥，失火延逸，罪應萬死。』勒知遣之。所誣胡厚德攸，遺其驢馬，護送令得逸。」王隱晉書曰：「攸以路遠，斫壞車，以牛馬負妻子以叛，賊又掠其牛馬。攸語妻曰：『吾弟早亡，唯有遺民。今當步走，儋兩兒盡死，不如棄己兒，抱遺民。吾後猶當有兒。』婦從之。」中興書曰：「攸棄兒於草中，兒啼呼追之，至莫復及。攸明日繫兒於樹而去，遂渡江，至尚書左僕射，卒。弟子綏服攸齊衰三年。」</font>既過江，取一妾，甚寵愛。歷年後訊其所由，妾具說是北人遭亂，憶父母姓名，乃攸之甥也。攸素有</div>\n",
       "<div style=\"text-indent:0em;padding-left:0em;\">德業，言行無玷，聞之哀恨終身，遂不復畜妾。 </div>\n",
       "\n",
       "<div style=\"text-indent:2em;padding-left:0em;\">29  王長豫為人謹順，事親盡色養之孝。<font size=\"-2\">中興書曰：「王悅字長豫，丞相導長子也。仕至中書侍郎。」 </font>丞相見長豫輒喜，見敬豫輒嗔。<font size=\"-2\">文字志曰：「王恬字敬豫，導次子也。少卓犖不羈，疾學尚武，不為導所重。至中軍將軍。多才藝，善隸書，與濟陽江虨以善奕聞。」</font>長豫與丞相語，恒以慎密為端。丞相還臺，及行，未嘗不送至車後。恒與曹夫人併當箱篋。長豫亡後，丞相還臺，登車後，哭至臺門。曹夫人作簏，封而不忍開。<font size=\"-2\">王氏譜曰：「導娶彭城曹韶女，名淑。」</font> </div>\n",
       "\n",
       "\n",
       "<div style=\"text-indent:2em;padding-left:0em;\">30  桓常侍聞人道深公者，輒曰：「此公既有宿名，加先達知稱，又與先人至交，不宜說之。」 <font size=\"-2\">桓彝別傳曰：「彝字茂倫，譙國龍亢人，漢五更桓榮十世孫也。父穎，有高名。彝少孤，識鑒明朗，避亂渡江，累遷散騎常侍。」僧法深，不知其俗姓，蓋衣冠之胤也。道徽高扇，譽播山東，為中州劉公弟子。值永嘉亂，投迹</font></div>\n",
       "<div style=\"text-indent:0em;padding-left:0em;\"><font size=\"-2\">楊土，居止京邑，內持法綱，外允具瞻，弘道之法師也。以業慈清淨，而不耐風塵，考室剡縣東二百里山卬山中，同遊十餘人，高棲浩然。支道林宗其風範，與高麗道人書，稱其德行。年七十有九，終於山中也。」</font> </div>\n",
       "\n",
       "\n",
       "<div style=\"text-indent:2em;padding-left:0em;\">31  庾公乘馬有的盧，<font size=\"-2\">晉陽秋曰：「庾亮字元規，潁川鄢陵人，明穆皇后長兄也。淵雅有德量，時人方之夏侯太初、陳長文之倫。侍從父琛，避地會稽，端拱嶷然，郡人嚴憚之。覲接之者，數人而已。累遷征西大將軍、荊州刺史。」伯樂相馬經曰：「馬白頟入口至齒者，名曰榆雁，一名的盧。奴乘客死，主乘棄市，凶馬也。」</font>或語令賣去。<font size=\"-2\">語林曰：「殷浩勸公賣馬。」</font>庾云：「賣之必有買者，即當害其主。寧可不安己而移於他人哉？昔孫叔敖殺兩頭蛇以為後人，古之美談，<font size=\"-2\">賈誼新書曰：「孫叔敖為兒時，出道上，見兩頭蛇，殺而埋之。歸見其母，泣。問其故？對曰：『夫見兩頭蛇者，必死。今出見之，故爾。』母曰：『蛇今安在？』對曰：『恐後人見，殺而埋之矣。』母曰：『夫有陰德，必有陽報，爾無憂也。』後遂興於楚朝。及長，為楚令尹。」</font>效之，不亦達乎！」</div>\n",
       "\n",
       "<div style=\"text-indent:2em;padding-left:0em;\">32  阮光祿在剡，曾有好車，借者無不皆給。有人葬母，意欲借而不敢言。阮後聞之，嘆曰：「吾有車而使人不敢借，何以車為？」遂焚之。<font size=\"-2\">阮光祿別傳曰：「裕字思曠，陳留尉氏人。祖略，齊國內史。父顗，汝南太守。裕淹通有理識，累遷侍中。以疾築室會稽剡山。徵金紫光祿大夫，不就。年六十一卒。」</font> </div>\n",
       "\n",
       "\n",
       "<div style=\"text-indent:2em;padding-left:0em;\">33  謝奕作剡令，<font size=\"-2\">中興書曰：「謝奕字無奕，陳郡陽夏人。祖衡，太子少傅。父裒，吏部尚書。奕少有器鑒，辟太尉掾、剡令，累遷豫州刺史。」</font>有一老翁犯法，謝以醇酒罰之，乃至過醉，而猶未已。太傅時年七、八歲，箸青布絝，在兄桼邊坐，諫曰：「阿兄！老翁可念，何可作此。」奕於是改容曰：「阿奴欲放去邪？」遂遣之。</div>\n",
       "\n",
       "<div style=\"text-indent:2em;padding-left:0em;\">34  謝太傅絕重褚公，常稱：「褚季野雖不言，而四時之氣亦備。」<font size=\"-2\">文字志曰：「謝安字安石，奕弟也。世有學行，安弘粹通遠，溫雅融暢。桓彝見其四歲時，稱之曰：『此兒風神秀徹，當繼蹤王東海。』善行書。累遷太保、錄尚書事。贈太傅。」晉陽秋曰：「褚裒字季野，河南陽翟人。祖石，安東將軍。父治，武昌太守。裒少有簡貴之風，沖默之稱。累遷江、兗二州刺史。贈侍中、太傅。」 </font> </div>\n",
       "\n",
       "\n",
       "<div style=\"text-indent:2em;padding-left:0em;\">35  劉尹在郡，臨終綿惙，聞閣下祠神鼓舞。正色曰：「莫得淫祀！」<font size=\"-2\">劉尹別傳曰：「惔字真長，沛國蕭人也。漢氏之後。真長有雅裁，雖蓽門陋巷，晏如也。歷司徒左長史、侍中、丹陽尹。為政務鎮靜信誠，風塵不能移也。」</font>外請殺車中牛祭神。真長答曰：「丘之禱久矣，勿復為煩。」<font size=\"-2\">包氏論語曰：「禱，請也。」孔安國曰：「孔子素行合於神明，故曰：『丘之禱久矣。』」</font> </div>\n",
       "\n",
       "\n",
       "<div style=\"text-indent:2em;padding-left:0em;\">36  謝公夫人教兒，問太傅：「那得初不見君教兒？」答曰：「我常自教兒。」<font size=\"-2\">謝氏譜曰：「安娶沛國劉耽女。」按：太尉劉子真，清潔有志操，行己以禮。而二子不才，並黷貨致罪。子真坐免官。客曰：「子奚不訓導之？」子真曰：「吾之行事，是其耳目所聞見，而不放效，豈嚴訓所變邪？」安石之旨，同子真之意也。 </font> </div>\n",
       "\n",
       "<div style=\"text-indent:2em;padding-left:0em;\">37  晉簡文為撫軍時， <font size=\"-2\">續晉陽秋曰：「帝諱昱，字道萬，中宗少子也。仁聞有智度。穆帝幼沖，以撫軍輔政。大司馬桓溫廢海西公而立帝，在位三年而崩。」</font>所坐牀上塵不聽拂，見鼠行跡，視以為佳。有參軍見鼠白日行，以手板批殺之，撫軍意色不說，門下起彈。教曰：「鼠被害，尚不能忘懷，今復以鼠損人，無乃不可乎？」</div>\n",
       "\n",
       "\n",
       "<div style=\"text-indent:2em;padding-left:0em;\">38  范宣年八歲，後園挑菜，誤傷指，大啼。人問：「痛邪？」答曰：「非為痛，身體髮膚，不敢毀傷，是以啼耳！」<font size=\"-2\">宣別傳曰：「宣字子宣，陳留人，漢萊蕪長范丹後也。年十歲，能誦詩書。兒童時，手傷改容，家人以其年幼，皆異之。徵太學博士、散騎常侍，一無所就。年五十四卒。」</font>宣潔行廉約，韓豫章遺絹百匹，不受。<font size=\"-2\">中興書曰：「宣家至貧，罕交人事。豫章太守殷羡見宣茅茨不完，欲為改室，宣固辭。羡愛之，以宣貧，加年饑疾疫，厚餉給之，宣又不受。」續晉陽秋曰：「韓伯字康伯，潁川人。好學，善言理。歷豫章太守、領軍將軍。」</font>減五十匹，復不受。如是減半，遂至一匹，既終不受。韓後與范同載，就車中裂二丈與范，云：「人寧可使婦無巾軍邪？」范笑而受之。</div>\n",
       "\n",
       "\n",
       "<div style=\"text-indent:2em;padding-left:0em;\">39  王子敬病篤，道家上章應首過，問子敬「由來有何異同得失？」子敬云：「不覺有餘事，惟憶與郗家離婚。」 <font size=\"-2\">王氏譜曰：「獻之娶高平郗曇女，名道茂，後離婚。」獻之別傳曰：「祖父曠，淮南太守。父羲之，右將軍。咸寧中，詔尚餘姚公主，遷中書令，卒。」 </font> </div>\n",
       "\n",
       "\n",
       "<div style=\"text-indent:2em;padding-left:0em;\">40  殷仲堪既為荊州，值水儉，食常五盌盤，外無餘肴。飯粒脫落盤席閒，輒拾以噉之。雖欲率物，亦緣其性真素。每語子弟云：「勿以我受任方州，云我豁平昔時意。今吾處之不易。貧者士之常，焉得登枝而捐其本？爾曹其存之！」<font size=\"-2\">晉安帝紀曰：「仲堪，陳郡人，太常融孫也。車騎將軍謝玄請為長史，孝武說之，俄為黃門侍郎。自殺袁悅之後，上深為晏駕後計，故先出王恭為北蕃。荊州刺史王忱死，乃中詔用仲堪代焉。」</font> </div>\n",
       "\n",
       "\n",
       "<div style=\"text-indent:2em;padding-left:0em;\">41  初桓南郡、楊廣共說殷荊州，宜奪殷覬南蠻以自樹。 <font size=\"-2\">桓玄別傳曰：「玄字敬道，譙國龍亢人，大司馬溫少子也。幼童中，溫甚愛之。臨終命以為嗣。年七歲，襲封南郡公，拜太子洗馬、義興太守。不得志，少時去職，</font></div>\n",
       "<div style=\"text-indent:0em;padding-left:0em;\"><font size=\"-2\">歸其國。與荊州刺史殷仲堪素舊，情好甚隆。」周祗隆安記曰：「廣字德度，弘農人，楊震後也。」晉安帝紀曰：「覬字伯道，陳郡人。由中書郎出為南蠻校尉。覬亦以率易才悟著稱，與從弟仲堪俱知名。」中興書曰：「初，仲堪欲起兵，密邀覬，覬不同。楊廣與弟佺期勸殺覬，仲堪不許。」</font>覬亦即曉其旨，嘗因行散，率爾去下舍，便不復還。內外無預知者，意色蕭然，遠同鬬生之無慍。時論以此多之。<font size=\"-2\">春秋傳曰：「楚令尹子文，鬬氏也。」論語曰：「令尹子文，三仕為令尹，無喜色；三已之，無慍色。」</font> </div>\n",
       "\n",
       "\n",
       "<div style=\"text-indent:2em;padding-left:0em;\">42  王僕射在江州，為殷、桓所逐，奔竄豫章，存亡未測。<font size=\"-2\">徐廣晉紀曰：「王愉字茂和，太原晉陽人，安北將軍坦之次子也。以輔國司馬，出為江州刺史。愉始至鎮，而桓玄、楊佺期舉兵以應王恭，乘流奄至，愉無防，惶遽奔臨川，為玄所得。玄篡位，遷尚書左僕射。」</font>王綏在都，既憂慽在貌，居處飲食，每事有降。時人謂為試守孝子。<font size=\"-2\">中興書曰：「綏字彥猷，愉子也。少有令譽。自王渾至坦之，六世盛德，綏又知名，于時冠冕，莫與為比。位至中書令、荊州刺史。桓玄敗後，與父愉謀反，伏誅。」 </font> </div>\n",
       "\n",
       "\n",
       "<div style=\"text-indent:2em;padding-left:0em;\">43  桓南郡<font size=\"-2\">玄也。</font>既破殷荊州，收殷將佐十許人，咨議羅企生亦在焉。 <font size=\"-2\">玄別傳曰：「玄克荊州，殺殷道護及仲堪參軍羅企生、鮑季禮，皆仲堪所親仗也。」</font>桓素待企生厚，將有所戮，先遣人語云：「若謝我，當釋罪。」企生答曰：「為殷荊州吏，今荊州奔亡，存亡未判，我何顏謝桓公？」<font size=\"-2\">中興書曰：「企生字宗伯，豫章人。殷仲堪初請為府功曹，桓玄來攻，轉咨議參軍。仲堪多疑少決，企生深憂之，謂其弟遵生曰：『殷侯仁而無斷，事必無成。成敗天也，吾當死生以之。』及仲堪走，文武並無送者，唯企生從焉。路經家門，遵生紿之曰：『作如此分別，何可不執手？』企生回馬授手，遵生便牽下之，謂曰：『家有老母，將欲何行？』企生揮泣曰：『今日之事，我必死之。汝等奉養，不失子道，一門之內，有忠與孝，亦復何恨！』遵生抱之愈急，仲堪於路待之。企生遙呼曰：『今日死生是同，願少見待！』仲堪見其無脫埋，策馬而去。俄而玄至，人士悉詣玄，企生獨不往而營理仲堪家。或謂曰：『玄性猜急，未能取卿誠節，若遂不詣，禍必至矣！』企生正色曰：『我殷侯吏，見遇以國士，不能共殄醜逆，致此奔敗，何面目就桓求生乎？』玄聞，怒而收之。謂曰：『相遇如此，何以見負？』企生曰：『使君口血未乾，而生此奸計，自傷力劣，不能翦定凶逆，我死恨晚爾！』玄遂斬之。時年三十有七，眾咸悼之。」 </font>既出市，桓又遣人問欲何言？答曰：「昔晉文王殺</div>\n",
       "<div style=\"text-indent:0em;padding-left:0em;\">嵇康，而嵇紹為晉忠臣。<font size=\"-2\">王隱晉書曰：「紹字延祖，譙國銍人。父康有奇才儁辯。紹十歲而孤，事母孝謹，累遷散騎常侍。惠帝敗於蕩陰，百官左右皆奔散，唯紹儼然端冕，以身衞帝。兵交御輦，飛箭雨集，遂以見害也。」</font>從公乞一弟以養老母。」桓亦如言宥之。桓先曾以一羔裘與企生母胡，胡時在豫章，企生問至，即日焚裘。 </div>\n",
       "\n",
       "<div style=\"text-indent:2em;padding-left:0em;\">44  王恭從會稽還，<font size=\"-2\">周祗隆安記曰：「恭字孝伯，太原晉陽人。祖父濛，司徒左長史，風流標望。父蘊，鎮軍將</font></div>\n",
       "<div style=\"text-indent:0em;padding-left:0em;\"><font size=\"-2\">軍，亦得世譽。」恭別傳曰：「恭清廉貴峻，志存格正。起家著作郎，歷丹陽尹、中書令。出為五州都督前將軍，青、兗二州刺史。」</font>王大看之。<font size=\"-2\">王忱，小字佛大。晉安帝紀曰：「忱字元達，北平將軍坦之第四子也。甚得名於當世，與族子恭少相善，齊聲見稱。仕至荊州刺史。」</font>見其坐六尺簟，因語恭：「卿東來，故應有此物，可以一領及我。」恭無言。大去後，即舉所坐者送之。既無餘席，便坐薦上。後大聞之甚驚，曰：「吾本謂卿多，故求耳。」對曰：「丈人不悉恭，恭作人無長物。」</div>\n",
       "\n",
       "<div style=\"text-indent:2em;padding-left:0em;\">45  吳郡陳遺， <font size=\"-2\">未詳。</font>家至孝，母好食鐺底焦飯。遺作郡主簿，恒裝一囊，每煮食，輒貯錄焦飯，歸以遺母。後值孫恩賊出吳郡，<font size=\"-2\">晉安帝紀曰：「孫恩一名靈秀，琅邪人。叔父泰，事五斗米道，以謀反誅。恩逸逃於海上，聚眾十萬人，攻沒郡縣。後為臨海太守辛昺斬首送之。」 </font>袁府君<font size=\"-2\">山松別見。</font>即日便征，遺已聚斂得數斗焦飯，未展歸家，遂帶以從軍。戰於滬瀆，敗。軍人潰散，逃走山澤，皆多饑死，遺獨以焦飯得活。時人以為純孝之報也。 </div>\n",
       "\n",
       "\n",
       "<div style=\"text-indent:2em;padding-left:0em;\">46  孔僕射為孝武侍中，豫蒙眷接烈宗山陵。孔時為太常，形素羸瘦，著重服，竟日涕泗流漣，見者以為真孝子。<font size=\"-2\">續晉陽秋曰：「孔安國字安國，會稽山陰人，車騎愉第六子也。少而孤貧，能善樹節，以儒素見稱。歷侍中、太常、尚書，遷左僕射、特進，卒。」</font> </div>\n",
       "\n",
       "<div style=\"text-indent:2em;padding-left:0em;\">47  吳道助、附子兄弟，居在丹陽郡。後遭母童夫人艱，<font size=\"-2\">道助，坦之小字。附子，隱之小字也。吴氏</font></div>\n",
       "<div style=\"text-indent:0em;padding-left:0em;\"><font size=\"-2\">譜曰：「坦之字處靖，濮陽人。仕至西中郎將功曹。父堅，取東苑童儈女，名秦姬。」</font>朝夕哭臨。及思至，賓客弔省，號踊哀絕，路人為之落淚。韓康伯時為丹陽尹，母殷在郡，每聞二吳之哭，輒為悽惻。語康伯曰：「汝若為選官，當好料理此人。」康伯亦甚相知。韓後果為吏部尚書。大吳不免哀制，小吳遂大貴達。 <font size=\"-2\">鄭緝孝子傳曰：「隱之字處默，少有孝行，遭母喪，哀毀過禮。時與太常韓康伯鄰居，康伯母揚州刺史殷浩之妹，聰明婦人也。隱之每哭，康伯母輒輟事流涕，悲不自勝，終其喪如此。謂康伯曰：『汝後若居銓衡，當用此輩人。』後康伯為吏部尚書，乃進用之。」晉安帝紀曰：「隱之既有至性，加以廉潔，奉祿頒九族，冬月無被。桓玄欲革嶺南之弊，以為廣州刺史。去州二十里有貪泉，世傳飲之者其心無厭。隱之乃至水上，酌而飲之，因賦詩曰：『石門有貪泉，一歃重千金。試使夷、齊飲，終當不易心。』為盧循所攻，還京師。歷尚書、領軍將軍。」晉中興書曰：「舊云：往廣州，飲貪泉，失廉潔之性。吴隱之為刺史，自酌貪泉飲之，題石門為詩云云。」</font> </div>\n",
       "\n",
       "</span>"
      ]
     },
     "execution_count": 15,
     "metadata": {},
     "output_type": "execute_result"
    }
   ],
   "source": [
    "# because we have already modify the original soup \n",
    "# we have to load in the html again\n",
    "# to re-build the tree\n",
    "with open(\"Shishuo xinyu_0000.html\", 'r', encoding=\"utf-8\") as file:\n",
    "    soup = BeautifulSoup(file.read(), \"xml\")\n",
    "    \n",
    "# discard irrelevant parts of the html\n",
    "soup = soup.find_all(\"span\", {\"id\" : \"fontstyle\"})[0]    \n",
    "\n",
    "# clean up the irrelevant tags\n",
    "[s.extract() for s in soup.find_all([\"span\", \"a\", \"img\", \"center\", \"table\"])]\n",
    "soup"
   ]
  },
  {
   "cell_type": "markdown",
   "metadata": {},
   "source": [
    "It looks nice."
   ]
  }
 ],
 "metadata": {
  "hide_input": false,
  "kernelspec": {
   "display_name": "Python 3",
   "language": "python",
   "name": "python3"
  },
  "language_info": {
   "codemirror_mode": {
    "name": "ipython",
    "version": 3
   },
   "file_extension": ".py",
   "mimetype": "text/x-python",
   "name": "python",
   "nbconvert_exporter": "python",
   "pygments_lexer": "ipython3",
   "version": "3.6.1"
  }
 },
 "nbformat": 4,
 "nbformat_minor": 2
}
