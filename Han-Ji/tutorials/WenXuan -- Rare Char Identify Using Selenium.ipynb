{
 "cells": [
  {
   "cell_type": "code",
   "execution_count": 1,
   "metadata": {
    "collapsed": true
   },
   "outputs": [],
   "source": [
    "from selenium import webdriver\n",
    "from bs4 import BeautifulSoup\n",
    "import os"
   ]
  },
  {
   "cell_type": "markdown",
   "metadata": {},
   "source": [
    "# WenXuan -- Rare Char Identify Using Selenium\n",
    "\n",
    "Find the hackmd note for this notebook here: https://hackmd.io/O_egeBmJReKoDQwMQDxPdg\n",
    "\n"
   ]
  },
  {
   "cell_type": "markdown",
   "metadata": {},
   "source": [
    "## Char Sinica Function"
   ]
  },
  {
   "cell_type": "code",
   "execution_count": 2,
   "metadata": {
    "collapsed": true
   },
   "outputs": [],
   "source": [
    "import re\n",
    "import urllib\n",
    "from urllib import request\n",
    "\n",
    "def char_sinica_search(key, url = 'http://char.iis.sinica.edu.tw/Search/'):\n",
    "    # search in http://char.iis.sinica.edu.tw/Search/ simply is adding '?SearchValue=' + XXX\n",
    "    headers = {'User-Agent': 'Mozilla/5.0'}\n",
    "    URL = urllib.parse.urljoin(url, '?SearchValue=' + urllib.parse.quote(key) )\n",
    "\n",
    "    # standard way to parse the website\n",
    "    req  = request.Request(URL, headers={'User-Agent': 'Mozilla/5.0'})\n",
    "    page = request.urlopen(req)\n",
    "    try:\n",
    "        soup = BeautifulSoup(page, 'lxml')\n",
    "    except Exception as e:\n",
    "        soup = BeautifulSoup(req.text, 'html5lib')\n",
    "\n",
    "    # get the link to go to the web of the image\n",
    "    chars = soup.find_all('a', {'target' : \"char\"})\n",
    "    if len(chars) != 1:\n",
    "        print('[Warning] Multiple mathcings. Please change to a specific input.')\n",
    "        \n",
    "    for char in chars:\n",
    "        \n",
    "        # standard way to parse again\n",
    "        URL  = urllib.parse.urljoin( url, char['href'] )\n",
    "        req  = request.Request(URL, headers={'User-Agent': 'Mozilla/5.0'})\n",
    "        page = request.urlopen(req)\n",
    "        soup = BeautifulSoup(page, 'lxml')\n",
    "\n",
    "        # this time we want the unicode\n",
    "        try:\n",
    "            _blank = soup.find_all('a', text=re.compile(r' 前往查看 '), attrs={'target':'_blank'})[0]\n",
    "            UNICODE = _blank['href'].split('/')[-1]\n",
    "\n",
    "            # and we want the rare_char\n",
    "            onclick = soup.find_all('input', {'value': '複製Unicode字元', 'type':'button', 'onclick':True})[0]\n",
    "            rare_char = re.findall(r\"addClipboard\\('(.)'\\)\",onclick['onclick'])[0]\n",
    "            yield UNICODE, rare_char\n",
    "        except IndexError as e:\n",
    "            print('[Warning] 查無資料！', e)\n",
    "            yield None"
   ]
  },
  {
   "cell_type": "markdown",
   "metadata": {},
   "source": [
    "## Combine JS API and Selenium"
   ]
  },
  {
   "cell_type": "code",
   "execution_count": 3,
   "metadata": {},
   "outputs": [
    {
     "data": {
      "text/plain": [
       "'樂安任子咸有韜世之量，與余少而歡焉！雖兄弟之愛，無以加也。不幸弱冠而終，良友既沒，何痛如之！其妻又吾姨也，少喪父母，適人而所天又殞，孤女藐焉始孩，斯亦生民之至艱，而荼毒之極哀也。 昔阮瑀既歿，魏文悼之，並命知舊作寡婦之賦。余遂擬之以敘其孤寡之心焉。其辭曰：嗟予生之不造兮，哀天難之匪忱。少伶俜而偏孤兮，痛忉怛以摧心。覽寒泉之遺歎兮，詠蓼莪之餘音。情長慼以永慕兮，思彌遠而逾深。 伊女子之有行兮，爰奉嬪於高族。承慶雲之光覆兮，荷君子之惠渥。顧葛藟之蔓延兮，託微莖於樛木。懼身輕而施重兮，若履冰而臨谷。遵義方之明訓兮，憲女史之典戒。奉蒸嘗以效順兮，供洒掃以彌載。 彼詩人之攸歎兮，徒願言而心痗。何遭命之奇薄兮，遘天禍之未悔。榮華曄其始茂兮，良人忽以捐背。靜闔門以窮居兮，塊煢獨而靡依。易錦茵以苫席兮，代羅幬以素帷。命阿保而就列兮，覽巾箑以舒悲。口嗚咽以失聲兮，淚橫迸而霑衣。 愁煩冤其誰告兮，提孤孩於坐側。 時曖曖而向昏兮，日杳杳而西匿。雀群飛而赴楹兮，雞登棲而斂翼。歸空館而自怜兮，撫衾裯以歎息。思纏緜以瞀亂兮，心摧傷以愴惻。 曜靈曄而遄邁兮，四節運而推移。天凝露以降霜兮，木落葉而隕枝。仰神宇之寥寥兮，瞻靈衣之披披。退幽悲於堂隅兮，進獨拜於牀垂。耳傾想於疇昔兮，目仿佛乎平素。雖冥冥而罔覿兮，猶依依以憑附。痛存亡之殊制兮，將遷神而安厝。龍轜儼其星駕兮，飛旐翩以啟路。輪按軌以徐進兮，馬悲鳴而跼顧。潛靈邈其不反兮，殷憂結而靡訴。睎形影於几筵兮，馳精爽於丘墓。 自仲秋而在疚兮，踰履霜以踐冰。雪霏霏而驟落兮，風瀏瀏而夙興。霤泠泠以夜下兮，水溓溓以微凝。意忽怳以遷越兮，神一夕而九升。庶浸遠而哀降兮，情惻惻而彌甚。願假夢以通靈兮，目烱烱而不寢。夜漫漫以悠悠兮，寒淒淒以凜凜。氣憤薄而乘胸兮，涕交橫而流枕。亡魂逝而永遠兮，時歲忽其遒盡。容貌儡以頓顇兮，左右悽其相慜。感三良之殉秦兮，甘捐生而自引。鞠稚子於懷抱兮，羌低徊而不忍。獨指景而心誓兮，雖形存而志隕。 重曰：仰皇穹兮歎息，私自憐兮何極！省微身兮孤弱，顧稚子兮未識。如涉川兮無梁，若陵虛兮失翼。上瞻兮遺象，下臨兮泉壤。窈冥兮潛翳，心存兮目想。奉虛坐兮肅清，愬空宇兮曠朗。廓孤立兮顧影，塊獨言兮聽響。顧影兮傷摧，聽響兮增哀。遙逝兮逾遠，緬邈兮長乖。 四節流兮忽代序，歲云暮兮日西頹。霜被庭兮風入室，夜既分兮星漢迴。夢良人兮來遊，若閶闔兮洞開。怛驚悟兮無聞，超\\uf4eb\\uf6a4敞怳兮慟懷。慟懷兮奈何，言陟兮山阿。墓門兮肅肅，脩壟兮峨峨。孤鳥嚶兮悲鳴，長松萋兮振柯。哀鬱結兮交集，淚橫流兮滂沲；蹈恭姜兮明誓，詠柏舟兮清歌。終歸骨兮山足，存憑託兮餘華。要吾君兮同穴，之死矢兮靡佗。'"
      ]
     },
     "execution_count": 3,
     "metadata": {},
     "output_type": "execute_result"
    }
   ],
   "source": [
    "text = \"樂安任子咸有韜世之量，與余少而歡焉！雖兄弟之愛，無以加也。不幸弱冠而終，良友既沒，何痛如之！其妻又吾姨也，少喪父母，適人而所天又殞，孤女藐焉始孩，斯亦生民之至艱，而荼毒之極哀也。 昔阮瑀既歿，魏文悼之，並命知舊作寡婦之賦。余遂擬之以敘其孤寡之心焉。其辭曰：嗟予生之不造兮，哀天難之匪忱。少伶俜而偏孤兮，痛忉怛以摧心。覽寒泉之遺歎兮，詠蓼莪之餘音。情長慼以永慕兮，思彌遠而逾深。 伊女子之有行兮，爰奉嬪於高族。承慶雲之光覆兮，荷君子之惠渥。顧葛藟之蔓延兮，託微莖於樛木。懼身輕而施重兮，若履冰而臨谷。遵義方之明訓兮，憲女史之典戒。奉蒸嘗以效順兮，供洒掃以彌載。 彼詩人之攸歎兮，徒願言而心痗。何遭命之奇薄兮，遘天禍之未悔。榮華曄其始茂兮，良人忽以捐背。靜闔門以窮居兮，塊煢獨而靡依。易錦茵以苫席兮，代羅幬以素帷。命阿保而就列兮，覽巾箑以舒悲。口嗚咽以失聲兮，淚橫迸而霑衣。 愁煩冤其誰告兮，提孤孩於坐側。 時曖曖而向昏兮，日杳杳而西匿。雀群飛而赴楹兮，雞登棲而斂翼。歸空館而自怜兮，撫衾裯以歎息。思纏緜以瞀亂兮，心摧傷以愴惻。 曜靈曄而遄邁兮，四節運而推移。天凝露以降霜兮，木落葉而隕枝。仰神宇之寥寥兮，瞻靈衣之披披。退幽悲於堂隅兮，進獨拜於牀垂。耳傾想於疇昔兮，目仿佛乎平素。雖冥冥而罔覿兮，猶依依以憑附。痛存亡之殊制兮，將遷神而安厝。龍轜儼其星駕兮，飛旐翩以啟路。輪按軌以徐進兮，馬悲鳴而跼顧。潛靈邈其不反兮，殷憂結而靡訴。睎形影於几筵兮，馳精爽於丘墓。 自仲秋而在疚兮，踰履霜以踐冰。雪霏霏而驟落兮，風瀏瀏而夙興。霤泠泠以夜下兮，水溓溓以微凝。意忽怳以遷越兮，神一夕而九升。庶浸遠而哀降兮，情惻惻而彌甚。願假夢以通靈兮，目烱烱而不寢。夜漫漫以悠悠兮，寒淒淒以凜凜。氣憤薄而乘胸兮，涕交橫而流枕。亡魂逝而永遠兮，時歲忽其遒盡。容貌儡以頓顇兮，左右悽其相慜。感三良之殉秦兮，甘捐生而自引。鞠稚子於懷抱兮，羌低徊而不忍。獨指景而心誓兮，雖形存而志隕。 重曰：仰皇穹兮歎息，私自憐兮何極！省微身兮孤弱，顧稚子兮未識。如涉川兮無梁，若陵虛兮失翼。上瞻兮遺象，下臨兮泉壤。窈冥兮潛翳，心存兮目想。奉虛坐兮肅清，愬空宇兮曠朗。廓孤立兮顧影，塊獨言兮聽響。顧影兮傷摧，聽響兮增哀。遙逝兮逾遠，緬邈兮長乖。 四節流兮忽代序，歲云暮兮日西頹。霜被庭兮風入室，夜既分兮星漢迴。夢良人兮來遊，若閶闔兮洞開。怛驚悟兮無聞，超\\uf4eb\\uf6a4敞怳兮慟懷。慟懷兮奈何，言陟兮山阿。墓門兮肅肅，脩壟兮峨峨。孤鳥嚶兮悲鳴，長松萋兮振柯。哀鬱結兮交集，淚橫流兮滂沲；蹈恭姜兮明誓，詠柏舟兮清歌。終歸骨兮山足，存憑託兮餘華。要吾君兮同穴，之死矢兮靡佗。\"\n",
    "text"
   ]
  },
  {
   "cell_type": "code",
   "execution_count": 4,
   "metadata": {},
   "outputs": [],
   "source": [
    "# append JS_API to the bottom of the text file\n",
    "JS_API = \"\"\"\n",
    "<script language=\"javascript\">\n",
    "window.history.forward(1);\n",
    "</script>\n",
    "<script src=\"http://char.iis.sinica.edu.tw/API/ics.js\" language=\"javascript\"></script>\n",
    "<script language=\"JavaScript\">\n",
    "processPage(\"red\",\"24\", \"DFKai-sb\");\n",
    "</script>\n",
    "\"\"\"\n",
    "\n",
    "with open(\"temp.html\", \"w\", encoding=\"utf-8\") as file:\n",
    "    file.write(text + JS_API)"
   ]
  },
  {
   "cell_type": "code",
   "execution_count": 5,
   "metadata": {},
   "outputs": [
    {
     "name": "stdout",
     "output_type": "stream",
     "text": [
      "[Warning] Multiple mathcings. Please change to a specific input.\n"
     ]
    }
   ],
   "source": [
    "driver_path = '/Users/cicero/Documents/Physics/PYTHON/Scraping/chromedriver'\n",
    "\n",
    "# open the chrome driver\n",
    "driver = webdriver.Chrome(executable_path=driver_path)\n",
    "driver.get(\"file://\" + os.path.join(os.getcwd(), \"temp.html\"))\n",
    "\n",
    "# get the page source after running the JS API\n",
    "page = driver.page_source\n",
    "\n",
    "# close the diver\n",
    "driver.close()\n",
    "\n",
    "# remove the file\n",
    "os.remove(\"temp.html\")\n",
    "\n",
    "# convert the page to bs4 object\n",
    "soup = BeautifulSoup(page, \"lxml\")\n",
    "\n",
    "# acquire the bag of rare chars components\n",
    "bag_of_rare_char = [char[\"alt\"] for char in soup.find_all(\"img\")]\n",
    "\n",
    "# convert rare char to unicode\n",
    "bag_of_rare_char_unicode = [\n",
    "    next(iter(char_sinica_search(char[\"alt\"]))) for char in soup.find_all(\"img\")\n",
    "]"
   ]
  },
  {
   "cell_type": "code",
   "execution_count": 6,
   "metadata": {},
   "outputs": [
    {
     "data": {
      "text/plain": [
       "['\\uf4eb\\uf6a4敞']"
      ]
     },
     "execution_count": 6,
     "metadata": {},
     "output_type": "execute_result"
    }
   ],
   "source": [
    "bag_of_rare_char"
   ]
  },
  {
   "cell_type": "code",
   "execution_count": 7,
   "metadata": {},
   "outputs": [
    {
     "data": {
      "text/plain": [
       "[('U+2288C', '\\uf3f2')]"
      ]
     },
     "execution_count": 7,
     "metadata": {},
     "output_type": "execute_result"
    }
   ],
   "source": [
    "bag_of_rare_char_unicode"
   ]
  }
 ],
 "metadata": {
  "hide_input": false,
  "kernelspec": {
   "display_name": "Python 3",
   "language": "python",
   "name": "python3"
  },
  "language_info": {
   "codemirror_mode": {
    "name": "ipython",
    "version": 3
   },
   "file_extension": ".py",
   "mimetype": "text/x-python",
   "name": "python",
   "nbconvert_exporter": "python",
   "pygments_lexer": "ipython3",
   "version": "3.6.1"
  }
 },
 "nbformat": 4,
 "nbformat_minor": 2
}
