{
 "cells": [
  {
   "cell_type": "markdown",
   "metadata": {},
   "source": [
    "## Book -- Basic Usage\n",
    "\n",
    "- make sure you are opening this `notebook` in the same folder of `Book.py`"
   ]
  },
  {
   "cell_type": "code",
   "execution_count": 1,
   "metadata": {},
   "outputs": [],
   "source": [
    "# import the Book class to ipython env\n",
    "from Book import Book"
   ]
  },
  {
   "cell_type": "code",
   "execution_count": 2,
   "metadata": {},
   "outputs": [],
   "source": [
    "# get the instance of the Book class by specifying the date and creator and bookname\n",
    "book = Book('test', '2018-07-02', 'MF')"
   ]
  },
  {
   "cell_type": "code",
   "execution_count": 3,
   "metadata": {},
   "outputs": [
    {
     "data": {
      "text/plain": [
       "('test', datetime.datetime(2018, 7, 2, 0, 0), 'MF')"
      ]
     },
     "execution_count": 3,
     "metadata": {},
     "output_type": "execute_result"
    }
   ],
   "source": [
    "book.bookname, book.date, book.creator"
   ]
  },
  {
   "cell_type": "markdown",
   "metadata": {},
   "source": [
    "`bookname` and `creator` are `str`, `date` is a `datetime` object."
   ]
  },
  {
   "cell_type": "markdown",
   "metadata": {},
   "source": [
    "### Fetch Data\n",
    "\n",
    "A `Book` instance can be used to scrape Han-Ji website."
   ]
  },
  {
   "cell_type": "code",
   "execution_count": null,
   "metadata": {},
   "outputs": [],
   "source": [
    "# make sure get the first page of Han-Ji book which you want to scrape\n",
    "book.fetch_data('(First webpage URL to a Han-Ji book)',\n",
    "                pages_limit=1000, print_bookmark=True,)"
   ]
  },
  {
   "cell_type": "markdown",
   "metadata": {},
   "source": [
    "While fetching the data, `print_bookmark` will tell you which page you have achieved. "
   ]
  },
  {
   "cell_type": "markdown",
   "metadata": {},
   "source": [
    "After fetching the data from web, you can write these `html`s to a folder `data/`."
   ]
  },
  {
   "cell_type": "code",
   "execution_count": null,
   "metadata": {},
   "outputs": [],
   "source": [
    "# writing htmls into a folder\n",
    "book.write_htmls(path=\"data\", html_cutoff=True) # html_cutoff ensures you only get the text iteslf and a bookmark"
   ]
  },
  {
   "cell_type": "markdown",
   "metadata": {},
   "source": [
    "An, in the next time, you can load the htmls from `data/`."
   ]
  },
  {
   "cell_type": "code",
   "execution_count": 4,
   "metadata": {},
   "outputs": [
    {
     "name": "stdout",
     "output_type": "stream",
     "text": [
      "[Info] Stop at loading data/test_0582.html.\n",
      "[Info] Total length of the data is 582.\n"
     ]
    }
   ],
   "source": [
    "# loading files to book\n",
    "book.load_htmls(path=\"data\")"
   ]
  },
  {
   "cell_type": "markdown",
   "metadata": {},
   "source": [
    "### Pretty Print\n",
    "\n",
    "It is also possible to pretty print the html source page directly in your output cell."
   ]
  },
  {
   "cell_type": "code",
   "execution_count": 5,
   "metadata": {},
   "outputs": [
    {
     "data": {
      "text/html": [
       "<html>\n",
       "                <head><meta content=\"text/html; charset=utf-8\" http-equiv=\"Content-Type\"/><meta content=\"no-cache\"/>\n",
       "<meta content=\"IE=edge,chrome=1\" http-equiv=\"X-UA-Compatible\"/>\n",
       "<title>漢籍電子文獻資料庫</title>\n",
       "<style>\n",
       "BODY {font-family:細明體, Arial, 'LiHei Pro',sans-serif;padding:0px!important;margin:0px!important;height:100%;position:relative}\n",
       "\n",
       "ul.nav{padding:0px;margin:0px;list-style:none;height:0px;}\n",
       ".nav>li{\n",
       "float:left;\n",
       "position: relative;padding:0px;margin:0px;display:inline-block\n",
       "}\n",
       ".submenu{\n",
       "  position: absolute;\n",
       "  display: none;\n",
       "  left:-50px;\n",
       "  top: 100%;\n",
       "  width:180px;border:2px solid #53413A;\n",
       "  background: #f5fffa;\n",
       "}\n",
       "\n",
       ".nav>li:hover .submenu{\n",
       "  display: block;\n",
       "}\n",
       "ul.submenu {padding:0;margin:0;list-style:none;}\n",
       "ul.submenu li {text-indent:2px;text-align:left;}\n",
       "ul.submenu li a.cc:visited {text-align:left;width:100%;font-size:15px; cursor: n-resize; color:black; text-decoration: none;}\n",
       "ul.submenu li a.cc:link {text-align:left;width:100%;font-size:15px; cursor: n-resize; color:black; text-decoration: none;line-height:25px;width:180px;}\n",
       "ul.submenu li a.cc:hover {line-height:25px;text-align:left;width:100%;background-color:#53413A;font-size:15px; cursor: n-resize; color:white; text-decoration: none;display:block;width:180px;}\n",
       "ul.submenu li a.cc {text-align:left;font-size:15px; cursor: n-resize; color:black; text-decoration: none;line-height:25px;width:180px;}\n",
       "\n",
       "\n",
       "div {letter-spacing:1px;line-height:22px}\n",
       "a.ErrorReport:link {color:#CC0000;padding-left:15pt}\n",
       "a.ErrorReport:hover {color:red;padding-left:15pt}\n",
       "\n",
       "/*[圖]*/\n",
       "a.viewpdf {color:blue}\n",
       "span.booktitle {color:brown;font-weight:bold}\n",
       "hr.booktitle {color:brown;width:98%}\n",
       "\n",
       "/*書目瀏覽*/\n",
       "th.tdth {white-space:nowrap;color:white;padding-left:5pt;background-color:#54423B;border:0px solid black;font-weight:bold}\n",
       "td.tdth {text-align:left;white-space:nowrap;color:white;padding-left:5pt;background-color:#54423B;border:0px solid black;font-weight:bold}\n",
       "a.sort:link {color:white;padding-left:0pt;}\n",
       "a.sort:hover {color:yellow;padding-left:0pt;text-decoration:none}\n",
       "td.tdbr1 {line-height:18pt;\n",
       "font-size:11pt;font-family:arial;font-weight:bold;width:10px;text-align:center;vertical-align:top;padding-left:5pt;padding-right:15pt;background-color:white}\n",
       "\n",
       "td.tdbr2 {line-height:18pt;white-space:nowrap;\n",
       "font-size:11pt;font-weight:normal;padding-left:0pt;padding-left:5pt;padding-right:15pt;text-align:left;vertical-align:top;background-color:white}\n",
       "\n",
       "td.tdbr3 {line-height:18pt;white-space:nowrap;\n",
       "font-size:11pt;font-weight:normal;padding-left:0pt;padding-left:5pt;padding-right:15pt;text-align:left;vertical-align:top;background-color:white}\n",
       "\n",
       "td.tdbr4 {line-height:18pt;width:150px;color:brown;font-weight:normal;\n",
       "font-size:12pt;padding-left:0pt;padding-left:5pt;padding-right:15pt;text-align:left;vertical-align:top;background-color:white}\n",
       "\n",
       "td.tdbr5,.tdbr6,.tdbr7,.tdbr8,.tdbr9 {font-size:15px;line-height:18pt;\n",
       "font-size:11pt;font-weight:normal;padding-left:0pt;padding-left:5pt;padding-right:15pt;text-align:left;vertical-align:top;background-color:white}\n",
       "\n",
       "\n",
       "/*圖文並列*/\n",
       "a.img1:link {text-decoration:none}\n",
       "a.img1:hover {text-decoration:none;color:brown}\n",
       "img.img2 {vertical-align:middle;width:100px}\n",
       "font.desc {color:#778899;font-size:13px}\n",
       "\n",
       "\n",
       "td.ltd2 {padding-top:3pt;padding-bottom:2pt;}\n",
       "\n",
       "a.auth:link {color:brown;text-decoration:none}\n",
       "a.auth:hover {color:white;text-decoration: none;background-color:black}\n",
       "\n",
       "a.tree:link {font-size: 11pt;color:brown;text-decoration: none}\n",
       "a.tree:hover {font-size: 11pt;color:red;text-decoration: none;background-color:white}\n",
       "a.tree:visited {font-size:11pt;text-decoration: none;color:purple}\n",
       "\n",
       "a:link {color:blue;text-decoration: none}\n",
       "a:hover {color:red;text-decoration: underline}\n",
       "a:visited {text-decoration: none;color:purple}\n",
       "\n",
       "a.booktree1:link {font-size: 11pt;color:#660000;text-decoration: none}\n",
       "a.booktree1:hover {font-size: 11pt;color:red;text-decoration: underline}\n",
       "a.booktree1:visited {font-size: 11pt;text-decoration: none;color:purple}\n",
       "\n",
       "\n",
       "a.gobookmark:link {font-size: 11pt;color:#0055AA;text-decoration: none}\n",
       "a.gobookmark:hover {font-size: 11pt;color:red;text-decoration: underline}\n",
       "a.gobookmark:visited {font-size: 11pt;text-decoration: none;color:purple}\n",
       "\n",
       "a.bookmarlist:link {font-size: 11pt;color:#E0055AA  ;text-decoration: none}\n",
       "a.bookmarlist:hover {font-size: 11pt;color:red;text-decoration:underline;background-color:beige}\n",
       "a.bookmarlist:visited {font-size: 11pt;text-decoration: none;color:purple}\n",
       "\n",
       "\n",
       "\n",
       "\n",
       "\n",
       "\n",
       "\n",
       "td.data {background-color:#f4f6f4}\n",
       "td.bkyear {font-size:10pt;white-space:nowrap}\n",
       "td.hit1 {padding-right:10pt;vertical-align:top;font-family:arial;background-color:white;line-height:20pt;white-space:nowrap;background-image:url(/ihp/sep_dot.gif);background-repeat:repeat-x;background-position:bottom}\n",
       "td.hit2 {vertical-align:top;font-family:arial;background-color:white;line-height:20pt;background-image:url(/ihp/sep_dot.gif);background-repeat:repeat-x;background-position:bottom}\n",
       "td.hit3 {padding-left:10pt;font-size:9pt;vertical-align:top;font-family:arial;\n",
       "background-color:white;line-height:20pt;white-space:nowrap;color:red;background-image:url(/ihp/sep_dot.gif);background-repeat:repeat-x;background-position:bottom }\n",
       "\n",
       "td.list01 {vertical-align:top;font-family:arial;color:brown;font-size:11pt;background-color:white;line-height:20pt;white-space:nowrap;background-image:url(/ihp/sep_dot.gif);background-repeat:repeat-x;background-position:bottom}\n",
       "td.list02 {vertical-align:top;font-family:arial;color:black;font-size:11pt;background-color:white;line-height:20pt;background-image:url(/ihp/sep_dot.gif);background-repeat:repeat-x;background-position:bottom}\n",
       "\n",
       "td.ab01 {font-family:arial;color:brown;font-size:11pt;font-weight:bold;background-color:white;padding-top:10pt}\n",
       "td.ab02 {font-family:arial;color:brown;font-size:11pt;font-weight:bold;background-color:white;padding-top:10pt}\n",
       "\n",
       "I {font-weight:normal;font-style:italic;color:blue;}\n",
       "\n",
       "h3 {font-size:13pt}\n",
       "\n",
       "table.booklist {background-color:EFE7DE}\n",
       "\n",
       "font.qg {color:#610EC7}\n",
       "font.tree {font-size:11pt;color:#660000}\n",
       "font.hit {color:#EA0000;background-color:lemonchiffon;font-weight:bold;padding-left:2pt;padding-right:2pt}\n",
       "font.treehit {font-size:11pt;color:red;background-color:lemonchiffon;font-weight:normal;}\n",
       "\n",
       "table.page {width:100%;color:#cc0000;font-size:11pt;padding-bottom:5pt;background-color:#F3EEEA;border-top:1pt solid lightgrey;\n",
       "          font-family:tahoma;font-weight:bold;text-align:center}\n",
       "\n",
       "\n",
       "td.page2 {color:black;font-weight:bold;font-family:arial;background-color:white;text-align:left;margin-top:0pt;}\n",
       "\n",
       "\n",
       "/*\n",
       "table.page2 {width:100%;color:cc0000;font-size:11pt;padding-bottom:5pt;background-color:#F3EEEA;border-top:1pt solid lightgrey;\n",
       "          font-family:tahoma;font-weight:bold;text-align:center;width:100%}\n",
       "*/\n",
       "/*\n",
       "td.page2 {color:black;font-weight:bold;font-family:arial;background-color:white;text-align:left;margin-top:0pt;}\n",
       "*/\n",
       "\n",
       "td.bf1 {vertical-align:top;font-size:11pt;color:5c5a4f;font-weight:normal;background-color:#F3EEEA;font-family:arial;font-family:arial;border-top:1pt solid lightgrey}\n",
       "td.bf2 {vertical-align:top;font-size:11pt;font-weight:normal;font-family:arial;background-color:F3EEEA;border-top:1pt solid lightgrey}\n",
       "td.bf3 {vertical-align:top;line-height:18pt;font-size:11pt;padding-bottom:20pt;background-color:white;}\n",
       "\n",
       "\n",
       "th.brief {font-size:11pt;font-weight:bold;padding-top:3pt;padding-bottom:3pt;text-align:left;background-color:e9f2e8;color:black;word-break:keep-all;\n",
       "    border-top:1px solid}\n",
       "\n",
       "td.bl {font-size:11pt;font-weight:bold;padding-top:3pt;padding-bottom:3pt;text-align:center;background-color:E7EFF6;color:black;word-break:keep-all;\n",
       "       }\n",
       "\n",
       "th {font-size:11pt;font-weight:bold;padding-top:3pt;padding-bottom:3pt;text-align:left;background-color:F3EEEA;color:black;word-break:keep-all;\n",
       "    border-top:1px solid}\n",
       "\n",
       "\n",
       "input,select,textarea\n",
       "{font-family: \"arial\";color:#333333;font-size : 10pt ; border:1 line gray ; border-color:gray;}\n",
       "\n",
       ".td1 {width:5%;background-color:#f0ebe7;vertical-align:top;}\n",
       ".td3 {font-size=10pt;background-color:;line-height: 140%; letter-spacing:1pt; color:5c5a4f;}\n",
       "\n",
       ".Tx3 {font-size: 15px;line-height: 120%; color:black;letter-spacing:1pt;}\n",
       "\n",
       ".aa {background-image:url(/ihp/mainlogo.jpg);background-repeat:no-repeat;background-position:bottom;vertical-align:top}\n",
       ".tdc0 {line-height:14pt;font-family:arial;font-size:10pt;width:40px;background-image:url(/ihp/sep_dot.gif);background-repeat:repeat-x;background-position:bottom;\n",
       "       text-align:left;vertical-align:top;color:brown}\n",
       ".tdc1 {line-height:18pt;font-size:11pt;width:30px;background-image:url(/ihp/sep_dot.gif);background-repeat:repeat-x;background-position:bottom;text-align:left;vertical-align:top}\n",
       ".tdc2 {line-height:18pt;font-size:11pt;width:50px;background-image:url(/ihp/sep_dot.gif);background-repeat:repeat-x;background-position:bottom;vertical-align:top}\n",
       ".tdc3 {line-height:18pt;background-image:url(/ihp/sep_dot.gif);background-repeat:repeat-x;background-position:bottom;font-size: 11pt;color:5c5a4f;vertical-align:top}\n",
       ".tdc4 {line-height:18pt;background-image:url(/ihp/sep_dot.gif);background-repeat:repeat-x;background-position:bottom;font-size: 11pt;color:5c5a4f;vertical-align:top}\n",
       ".tdc5 {width:40px;text-align:center;font-weight:bold;line-height:18pt;font-family:arial;background-image:url(/ihp/sep_dot.gif);background-repeat:repeat-x;background-position:bottom;font-size: 10pt;color:teal;vertical-align:top}\n",
       ".tdc6 {width:40px;font-weight:bold;line-height:18pt;font-family:arial;background-image:url(/ihp/sep_dot.gif);background-repeat:repeat-x;background-position:bottom;font-size: 10pt;color:brown;vertical-align:top}\n",
       ".tdc9 {width:5%;background-image:url(/ihp/sep_dot.gif);background-repeat:repeat-x;background-position:bottom;}\n",
       ".tdc912 {vertical-align:top;padding-top:5pt;background-image:url(/ihp/sep_dot.gif);background-repeat:repeat-x;background-position:bottom;}\n",
       "\n",
       ".tdd1 {background-color:white;line-height:18pt;font-size:11pt;width:5px;background-image:url(/ihp/sep_dot.gif);background-repeat:repeat-x;background-position:bottom;text-align:left;vertical-align:top}\n",
       ".tdd2 {background-color:white;line-height:18pt;font-size:11pt;width:10px;background-image:url(/ihp/sep_dot.gif);background-repeat:repeat-x;background-position:bottom;text-align:left;vertical-align:top}\n",
       ".tdd3 {background-color:white;line-height:18pt;font-size:11pt;width:60px;background-image:url(/ihp/sep_dot.gif);background-repeat:repeat-x;background-position:bottom;text-align:left;vertical-align:top}\n",
       ".tdd4 {background-color:white;line-height:18pt;font-size:11pt;width:250px;background-image:url(/ihp/sep_dot.gif);background-repeat:repeat-x;background-position:bottom;text-align:left;vertical-align:top}\n",
       ".tdd5 {background-color:white;line-height:18pt;font-size:11pt;width:350px;background-image:url(/ihp/sep_dot.gif);background-repeat:repeat-x;background-position:bottom;text-align:left;vertical-align:top}\n",
       "\n",
       "\n",
       "\n",
       "\n",
       ".ltd31 {font-size:10pt;color:black;}\n",
       ".ltd32 {font-size:10pt;color:black;}\n",
       "\n",
       "\n",
       "\n",
       "table.hitlist {background-color:EEFBFD;}\n",
       "\n",
       "\n",
       ".ti {font-size:13pt;font-weight:bold;black:blue;padding-bottom:10pt;\n",
       "    background-image:url(/ihp/sep_dot.gif);background-repeat:repeat-x;background-position:bottom}\n",
       ".rectd {background-color:;}\n",
       ".rectd1 {font-size:11pt;color:brown;line-height:18pt;background-color:#ebe1d8\n",
       "       ;text-align:right;vertical-align:top;font-weight:bold;padding-right:10pt\n",
       "       }\n",
       ".rectd2{\n",
       "        font-size:11pt;\n",
       "        letter-spacing:1px;\n",
       "        color:black;\n",
       "        ;line-height:18pt;\n",
       "        vertical-align:top;\n",
       "        background-color:#F3EEEA;\n",
       "        vertical-align:top;text-align:left;width:500px;padding-left:5pt\n",
       "        }\n",
       "\n",
       "\n",
       "\n",
       ".rectd3{font-size:11pt;color:0066ff;background-color:#e6e6e6;width:10%;vertical-align:top;}\n",
       "\n",
       "\n",
       "\n",
       "\n",
       ".div1 {\n",
       " WIDTH:100%;\n",
       " SCROLLBAR-FACE-COLOR:beige;\n",
       " VISIBILITY:inherit;\n",
       " SCROLLBAR-HIGHLIGHT-COLOR:#ffffff; //d5dfe8;\n",
       " overflow:auto\n",
       " SCROLLBAR-SHADOW-COLOR:#ffffff; //d5dfe8;\n",
       " SCROLLBAR-3DLIGHT-COLOR:burlywood;\n",
       " SCROLLBAR-ARROW-COLOR:brown;\n",
       " PADDING-TOP:0px;\n",
       " SCROLLBAR-TRACK-COLOR:#e0e0e0; //d5dfe8;\n",
       " SCROLLBAR-DARKSHADOW-COLOR:burlywood;\n",
       " POSITION:relative;\n",
       " HEIGHT:650px!important;HEIGHT:100%\n",
       "}\n",
       ".div2 {\n",
       " WIDTH:100%;\n",
       " SCROLLBAR-FACE-COLOR:beige;\n",
       " VISIBILITY:inherit;\n",
       " SCROLLBAR-HIGHLIGHT-COLOR:#ffffff; //d5dfe8;\n",
       " OVERFLOW:auto;\n",
       " SCROLLBAR-SHADOW-COLOR:#ffffff; //d5dfe8;\n",
       " SCROLLBAR-3DLIGHT-COLOR:burlywood;\n",
       " SCROLLBAR-ARROW-COLOR:brown;\n",
       " PADDING-TOP:0px;\n",
       " SCROLLBAR-TRACK-COLOR:#e0e0e0; //d5dfe8;\n",
       " SCROLLBAR-DARKSHADOW-COLOR:burlywood;\n",
       " POSITION:relative;\n",
       " HEIGHT:650px!important;HEIGHT:100%\n",
       "}\n",
       "\n",
       ".div3 {\n",
       " WIDTH:100%;\n",
       " SCROLLBAR-FACE-COLOR:beige;\n",
       " VISIBILITY:inherit;\n",
       " SCROLLBAR-HIGHLIGHT-COLOR:#ffffff; //d5dfe8;\n",
       " overflow-y: auto;\n",
       " overflow-x: hidden;\n",
       " SCROLLBAR-SHADOW-COLOR:#ffffff; //d5dfe8;\n",
       " SCROLLBAR-3DLIGHT-COLOR:burlywood;\n",
       " SCROLLBAR-ARROW-COLOR:brown;\n",
       " PADDING-TOP:0px;\n",
       " SCROLLBAR-TRACK-COLOR:#e0e0e0; //d5dfe8;\n",
       " SCROLLBAR-DARKSHADOW-COLOR:burlywood;\n",
       " POSITION:relative;\n",
       " HEIGHT:440px!important;HEIGHT:100%\n",
       "}\n",
       "\n",
       "\n",
       "\n",
       ".div4 {\n",
       " WIDTH:100%;\n",
       " SCROLLBAR-FACE-COLOR:beige;\n",
       " VISIBILITY:inherit;\n",
       " SCROLLBAR-HIGHLIGHT-COLOR:#ffffff; //d5dfe8;\n",
       " overflow-y: auto;\n",
       " overflow-x: hidden;\n",
       " SCROLLBAR-SHADOW-COLOR:#ffffff; //d5dfe8;\n",
       " SCROLLBAR-3DLIGHT-COLOR:burlywood;\n",
       " SCROLLBAR-ARROW-COLOR:brown;\n",
       " PADDING-TOP:0px;\n",
       " SCROLLBAR-TRACK-COLOR:#e0e0e0; //d5dfe8;\n",
       " SCROLLBAR-DARKSHADOW-COLOR:burlywood;\n",
       " POSITION:relative;\n",
       " HEIGHT:650px!important;HEIGHT:100%\n",
       "}\n",
       "\n",
       ".view a:link {text-decoration:none}\n",
       "table.view {border:1px solid #CCCCCC;height:100%}\n",
       "div.view0,.view1,.view2,.view3,.view4 {line-height:22px;\n",
       " font-size:12pt;\n",
       " letter-spacing:2px;\n",
       " background-color:white;\n",
       " WIDTH:100%; HEIGHT:650px;\n",
       " SCROLLBAR-FACE-COLOR:beige;\n",
       " VISIBILITY:inherit;\n",
       " SCROLLBAR-HIGHLIGHT-COLOR:#ffffff; //d5dfe8;\n",
       " overflow-y: auto;\n",
       " overflow-x: hidden;\n",
       " SCROLLBAR-SHADOW-COLOR:#e0e0e0; //d5dfe8;\n",
       " SCROLLBAR-3DLIGHT-COLOR:burlywood;\n",
       " SCROLLBAR-ARROW-COLOR:brown;\n",
       " PADDING-TOP:0px;\n",
       " SCROLLBAR-TRACK-COLOR:#e0e0e0; //d5dfe8;\n",
       " SCROLLBAR-DARKSHADOW-COLOR:burlywood;\n",
       " POSITION:relative;\n",
       " word-break:break-all;\n",
       "\n",
       "}\n",
       "\n",
       "</style>\n",
       "<script language=\"javascript\">\n",
       "function switchSysBar(){\n",
       "if (document.all(\"frmTitle\").style.display==\"\"){\n",
       "document.images['bar1'].src=\"/ihp/p2.gif\";\n",
       "document.all(\"frmTitle\").style.display=\"none\";\n",
       "}else{\n",
       "document.images['bar1'].src=\"/ihp/p1.gif\";\n",
       "document.all(\"frmTitle\").style.display=\"\";\n",
       "}}\n",
       "</script>\n",
       "<script language=\"javascript\">\n",
       "<!--\n",
       "function modFontsize(ActType){\n",
       "if(ActType=='add'){\n",
       "fontstyle.style.fontSize=eval(parseInt(fontstyle.style.fontSize)+2)+\"pt\"\n",
       "}\n",
       "else{\n",
       "if(parseInt(fontstyle.style.fontSize)>=8)\n",
       "{\n",
       "fontstyle.style.fontSize=eval(parseInt(fontstyle.style.fontSize)-2)+\"pt\"\n",
       "}else\n",
       "fontstyle.style.fontSize=\"6pt\"\n",
       "}\n",
       "}\n",
       "function modFontlineheight(ActType){\n",
       "if(ActType=='add'){\n",
       "fontstyle.style.lineHeight=eval(parseInt(fontstyle.style.lineHeight)+4)+\"pt\"\n",
       "}\n",
       "else{\n",
       "if(parseInt(fontstyle.style.lineHeight)>18)\n",
       "{\n",
       "fontstyle.style.lineHeight=eval(parseInt(fontstyle.style.lineHeight)-4)+\"pt\"\n",
       "}\n",
       "else\n",
       "fontstyle.style.lineHeight=\"14pt\"\n",
       "}\n",
       "}\n",
       "function MM_o(selObj){ window.open(selObj.options[selObj.selectedIndex].value,\"_self\"); }\n",
       "-->\n",
       "</script>\n",
       "</head>\n",
       "            <body>\n",
       "                <a class=\"gobookmark\" href=\"hanji?@138^306897090^70^^^^@@1482964502\" title=\"開啟書籤管理\">集／總集／文選／卷第一　賦甲之一／京都上之一／班孟堅兩都賦二首／東都賦／白雉詩(P.42)</a>\n",
       "\t<span id=\"fontstyle\" style=\"FONT-SIZE: 12pt;letter-spacing:1pt; LINE-HEIGHT: 18pt;width:99%;word-break:break-all\">\n",
       "<table class=\"page\"><tr><td class=\"page\"><a name=\"P0\"></a>...42...</td></tr></table>\n",
       "<b><h3>　　　　白雉詩</h3></b> <div style=\"text-indent:2em;padding-left:0em;\">啟靈篇兮披瑞圖，獲白雉兮效素烏。<font size=\"-2\">范曄後漢書曰：永平十年，白雉所在出焉。東觀漢記，章帝詔曰：乃者白烏神雀屢臻，降自京師也。</font>嘉祥阜兮集皇都<a href=\"#\" onclick=\"q00.style.display=q00.style.display=='none'?'':'none'\" title=\"校勘\"><img align=\"absmiddle\" border=\"0\" src=\"/ihp/qe.gif\"/></a><span id=\"q00\" style=\"display:none;width:;height:;color:red;font-size:13px\">嘉祥阜兮集皇都　何云後漢書無此句，陳同。案：各本皆有。袁、茶陵不著校語，今無可考也。凡疑而未能明者，俱載之，以俟再詳，此其例也。</span>。發皓羽兮奮翹英，容絜朗兮於純精<a href=\"#\" onclick=\"q01.style.display=q01.style.display=='none'?'':'none'\" title=\"校勘\"><img align=\"absmiddle\" border=\"0\" src=\"/ihp/qe.gif\"/></a><span id=\"q01\" style=\"display:none;width:;height:;color:red;font-size:13px\">容絜朗兮於純精　袁本、茶陵本「純」作「淳」，是也。案：後漢書亦是「淳」字。</span>。<font size=\"-2\">楚辭曰：砥室翠翹絓曲瓊。王逸曰：翹，羽名。</font>彰皇德兮侔周成。永延長兮膺天慶。<font size=\"-2\">韓詩外傳曰：成王之時，越裳氏獻白雉於周公。河圖曰：謀道吉，謀德吉，能行此大吉，受天之慶也。</font> </div>\n",
       "<center>．　．　．　．　．　．　．　．　．　．　．　．　．　．　．　．　．　．</center>\n",
       "</span>\n",
       "            </body>\n",
       "        </html>\n",
       "        "
      ],
      "text/plain": [
       "<IPython.core.display.HTML object>"
      ]
     },
     "execution_count": 5,
     "metadata": {},
     "output_type": "execute_result"
    }
   ],
   "source": [
    "book.pretty_print(7) # give the function the index of the page you want to show"
   ]
  },
  {
   "cell_type": "markdown",
   "metadata": {},
   "source": [
    "### Flat Bodies\n",
    "\n",
    "`book.flat_bodies` store a list of `bs4` objects you scraped from the Han-Ji book. The index of the `flat_bodies` stand for the order of different pages in your book."
   ]
  },
  {
   "cell_type": "code",
   "execution_count": 7,
   "metadata": {},
   "outputs": [
    {
     "data": {
      "text/plain": [
       "<h3>　　　　白雉詩</h3>"
      ]
     },
     "execution_count": 7,
     "metadata": {},
     "output_type": "execute_result"
    }
   ],
   "source": [
    "# The 7th piece of the work is 白雉詩 in the book instance\n",
    "book.flat_bodies[7].find(\"h3\")"
   ]
  },
  {
   "cell_type": "markdown",
   "metadata": {},
   "source": [
    "You can use `flat_bodies` to further decompose the tree structure of the Han-Ji book you are interested."
   ]
  },
  {
   "cell_type": "markdown",
   "metadata": {},
   "source": [
    "### Bookmark \n",
    "\n",
    "`book.paths` store a list of bookmarks in the order of piece of works in your book."
   ]
  },
  {
   "cell_type": "code",
   "execution_count": 9,
   "metadata": {},
   "outputs": [],
   "source": [
    "# get the bookmarks from source page\n",
    "book.extract_paths()"
   ]
  },
  {
   "cell_type": "code",
   "execution_count": 10,
   "metadata": {},
   "outputs": [
    {
     "data": {
      "text/plain": [
       "'集／總集／文選／卷第一\\u3000賦甲之一／京都上之一／班孟堅兩都賦二首／東都賦／白雉詩(P.42)'"
      ]
     },
     "execution_count": 10,
     "metadata": {},
     "output_type": "execute_result"
    }
   ],
   "source": [
    "book.paths[7]"
   ]
  },
  {
   "cell_type": "markdown",
   "metadata": {},
   "source": [
    "The bookmark of the 7th piece of work show the full hierarchical structure of the work in the scraped book."
   ]
  },
  {
   "cell_type": "markdown",
   "metadata": {},
   "source": [
    "### Other Class Methods"
   ]
  },
  {
   "cell_type": "code",
   "execution_count": 11,
   "metadata": {},
   "outputs": [
    {
     "data": {
      "text/plain": [
       "Dataset test created by MF at 2018-07-02 00:00:00.\n",
       "582 data points. Loading data from data."
      ]
     },
     "execution_count": 11,
     "metadata": {},
     "output_type": "execute_result"
    }
   ],
   "source": [
    "# __repr__ show the brief summary of the instance\n",
    "book"
   ]
  },
  {
   "cell_type": "code",
   "execution_count": 12,
   "metadata": {},
   "outputs": [
    {
     "data": {
      "text/plain": [
       "582"
      ]
     },
     "execution_count": 12,
     "metadata": {},
     "output_type": "execute_result"
    }
   ],
   "source": [
    "# __len__ show the number of works in the book instance\n",
    "len(book)"
   ]
  },
  {
   "cell_type": "code",
   "execution_count": 15,
   "metadata": {},
   "outputs": [
    {
     "data": {
      "text/plain": [
       "True"
      ]
     },
     "execution_count": 15,
     "metadata": {},
     "output_type": "execute_result"
    }
   ],
   "source": [
    "# __getitem__ give the index of `self.flat_bodies`\n",
    "book[7] == book.flat_bodies[7]"
   ]
  }
 ],
 "metadata": {
  "hide_input": false,
  "kernelspec": {
   "display_name": "Python 3",
   "language": "python",
   "name": "python3"
  },
  "language_info": {
   "codemirror_mode": {
    "name": "ipython",
    "version": 3
   },
   "file_extension": ".py",
   "mimetype": "text/x-python",
   "name": "python",
   "nbconvert_exporter": "python",
   "pygments_lexer": "ipython3",
   "version": "3.6.1"
  }
 },
 "nbformat": 4,
 "nbformat_minor": 2
}
