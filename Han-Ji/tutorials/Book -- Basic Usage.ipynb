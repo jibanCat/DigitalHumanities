{
 "cells": [
  {
   "cell_type": "markdown",
   "metadata": {},
   "source": [
    "## Book -- Basic Usage\n",
    "\n",
    "- make sure you are opening this `notebook` in the same folder of `Book.py`"
   ]
  },
  {
   "cell_type": "code",
   "execution_count": 1,
   "metadata": {},
   "outputs": [],
   "source": [
    "# import the Book class to ipython env\n",
    "from Book import Book"
   ]
  },
  {
   "cell_type": "code",
   "execution_count": 2,
   "metadata": {},
   "outputs": [],
   "source": [
    "# get the instance of the Book class by specifying the date and creator and bookname\n",
    "book = Book('test', '2018-07-02', 'MF')"
   ]
  },
  {
   "cell_type": "code",
   "execution_count": 3,
   "metadata": {},
   "outputs": [
    {
     "data": {
      "text/plain": [
       "('test', datetime.datetime(2018, 7, 2, 0, 0), 'MF')"
      ]
     },
     "execution_count": 3,
     "metadata": {},
     "output_type": "execute_result"
    }
   ],
   "source": [
    "book.bookname, book.date, book.creator"
   ]
  },
  {
   "cell_type": "markdown",
   "metadata": {},
   "source": [
    "`bookname` and `creator` are `str`, `date` is a `datetime` object."
   ]
  },
  {
   "cell_type": "markdown",
   "metadata": {},
   "source": [
    "### Fetch Data\n",
    "\n",
    "A `Book` instance can be used to scrape Han-Ji website."
   ]
  },
  {
   "cell_type": "code",
   "execution_count": null,
   "metadata": {},
   "outputs": [],
   "source": [
    "# make sure get the first page of Han-Ji book which you want to scrape\n",
    "book.fetch_data('(First webpage URL to a Han-Ji book)',\n",
    "                pages_limit=1000, print_bookmark=True,)"
   ]
  },
  {
   "cell_type": "markdown",
   "metadata": {},
   "source": [
    "While fetching the data, `print_bookmark` will tell you which page you have achieved. "
   ]
  },
  {
   "cell_type": "markdown",
   "metadata": {},
   "source": [
    "After fetching the data from web, you can write these `html`s to a folder `data/`."
   ]
  },
  {
   "cell_type": "code",
   "execution_count": null,
   "metadata": {},
   "outputs": [],
   "source": [
    "# writing htmls into a folder\n",
    "book.write_htmls(path=\"data\", html_cutoff=True) # html_cutoff ensures you only get the text iteslf and a bookmark"
   ]
  },
  {
   "cell_type": "markdown",
   "metadata": {},
   "source": [
    "An, in the next time, you can load the htmls from `data/`."
   ]
  },
  {
   "cell_type": "code",
   "execution_count": 4,
   "metadata": {},
   "outputs": [
    {
     "name": "stderr",
     "output_type": "stream",
     "text": [
      "INFO:root:Stop at loading data/test_0582.html.\n",
      "INFO:root:Total length of the data is 582.\n"
     ]
    }
   ],
   "source": [
    "# loading files to book\n",
    "book.load_htmls(path=\"data\")"
   ]
  },
  {
   "cell_type": "markdown",
   "metadata": {},
   "source": [
    "### Pretty Print\n",
    "\n",
    "It is also possible to pretty print the html source page directly in your output cell."
   ]
  },
  {
   "cell_type": "code",
   "execution_count": 5,
   "metadata": {},
   "outputs": [
    {
     "data": {
      "text/html": [
       "<html>\n",
       "            <body>\n",
       "                <a class=\"gobookmark\" href=\"hanji?@138^306897090^70^^^^@@1482964502\" title=\"開啟書籤管理\">集／總集／文選／卷第一　賦甲之一／京都上之一／班孟堅兩都賦二首／東都賦／白雉詩(P.42)</a>\n",
       "\t<span id=\"fontstyle\" style=\"FONT-SIZE: 12pt;letter-spacing:1pt; LINE-HEIGHT: 18pt;width:99%;word-break:break-all\">\n",
       "<table class=\"page\"><tr><td class=\"page\"><a name=\"P0\"></a>...42...</td></tr></table>\n",
       "<b><h3>　　　　白雉詩</h3></b> <div style=\"text-indent:2em;padding-left:0em;\">啟靈篇兮披瑞圖，獲白雉兮效素烏。<font size=\"-2\">范曄後漢書曰：永平十年，白雉所在出焉。東觀漢記，章帝詔曰：乃者白烏神雀屢臻，降自京師也。</font>嘉祥阜兮集皇都<a href=\"#\" onclick=\"q00.style.display=q00.style.display=='none'?'':'none'\" title=\"校勘\"><img align=\"absmiddle\" border=\"0\" src=\"/ihp/qe.gif\"/></a><span id=\"q00\" style=\"display:none;width:;height:;color:red;font-size:13px\">嘉祥阜兮集皇都　何云後漢書無此句，陳同。案：各本皆有。袁、茶陵不著校語，今無可考也。凡疑而未能明者，俱載之，以俟再詳，此其例也。</span>。發皓羽兮奮翹英，容絜朗兮於純精<a href=\"#\" onclick=\"q01.style.display=q01.style.display=='none'?'':'none'\" title=\"校勘\"><img align=\"absmiddle\" border=\"0\" src=\"/ihp/qe.gif\"/></a><span id=\"q01\" style=\"display:none;width:;height:;color:red;font-size:13px\">容絜朗兮於純精　袁本、茶陵本「純」作「淳」，是也。案：後漢書亦是「淳」字。</span>。<font size=\"-2\">楚辭曰：砥室翠翹絓曲瓊。王逸曰：翹，羽名。</font>彰皇德兮侔周成。永延長兮膺天慶。<font size=\"-2\">韓詩外傳曰：成王之時，越裳氏獻白雉於周公。河圖曰：謀道吉，謀德吉，能行此大吉，受天之慶也。</font> </div>\n",
       "<center>．　．　．　．　．　．　．　．　．　．　．　．　．　．　．　．　．　．</center>\n",
       "</span>\n",
       "            </body>\n",
       "        </html>\n",
       "        "
      ],
      "text/plain": [
       "<IPython.core.display.HTML object>"
      ]
     },
     "execution_count": 5,
     "metadata": {},
     "output_type": "execute_result"
    }
   ],
   "source": [
    "book.pretty_print(7) # give the function the index of the page you want to show"
   ]
  },
  {
   "cell_type": "markdown",
   "metadata": {},
   "source": [
    "### Flat Bodies\n",
    "\n",
    "`book.flat_bodies` store a list of `bs4` objects you scraped from the Han-Ji book. The index of the `flat_bodies` stand for the order of different pages in your book."
   ]
  },
  {
   "cell_type": "code",
   "execution_count": 6,
   "metadata": {},
   "outputs": [
    {
     "data": {
      "text/plain": [
       "<h3>　　　　白雉詩</h3>"
      ]
     },
     "execution_count": 6,
     "metadata": {},
     "output_type": "execute_result"
    }
   ],
   "source": [
    "# The 7th piece of the work is 白雉詩 in the book instance\n",
    "book.flat_bodies[7].find(\"h3\")"
   ]
  },
  {
   "cell_type": "markdown",
   "metadata": {},
   "source": [
    "You can use `flat_bodies` to further decompose the tree structure of the Han-Ji book you are interested."
   ]
  },
  {
   "cell_type": "markdown",
   "metadata": {},
   "source": [
    "### Bookmark \n",
    "\n",
    "`book.paths` store a list of bookmarks in the order of piece of works in your book."
   ]
  },
  {
   "cell_type": "code",
   "execution_count": 7,
   "metadata": {},
   "outputs": [],
   "source": [
    "# get the bookmarks from source page\n",
    "book.extract_paths()"
   ]
  },
  {
   "cell_type": "code",
   "execution_count": 8,
   "metadata": {},
   "outputs": [
    {
     "data": {
      "text/plain": [
       "'集／總集／文選／卷第一\\u3000賦甲之一／京都上之一／班孟堅兩都賦二首／東都賦／白雉詩(P.42)'"
      ]
     },
     "execution_count": 8,
     "metadata": {},
     "output_type": "execute_result"
    }
   ],
   "source": [
    "book.paths[7]"
   ]
  },
  {
   "cell_type": "markdown",
   "metadata": {},
   "source": [
    "The bookmark of the 7th piece of work show the full hierarchical structure of the work in the scraped book."
   ]
  },
  {
   "cell_type": "markdown",
   "metadata": {},
   "source": [
    "### Other Class Methods"
   ]
  },
  {
   "cell_type": "code",
   "execution_count": 9,
   "metadata": {},
   "outputs": [
    {
     "data": {
      "text/plain": [
       "       type       variable                 method current_length\n",
       "0      meta      flat_meta      self.extract_meta              0\n",
       "1      path          paths     self.extract_paths            582\n",
       "2  passages  flat_passages  self.extract_passages              0"
      ]
     },
     "execution_count": 9,
     "metadata": {},
     "output_type": "execute_result"
    }
   ],
   "source": [
    "# __repr__ show the brief summary of the instance\n",
    "book"
   ]
  },
  {
   "cell_type": "markdown",
   "metadata": {},
   "source": [
    "In the first row, you can see that we have 582 bookmarks in the `book.paths`. "
   ]
  },
  {
   "cell_type": "code",
   "execution_count": 10,
   "metadata": {},
   "outputs": [
    {
     "data": {
      "text/plain": [
       "582"
      ]
     },
     "execution_count": 10,
     "metadata": {},
     "output_type": "execute_result"
    }
   ],
   "source": [
    "# __len__ show the number of works in the book instance\n",
    "len(book)"
   ]
  },
  {
   "cell_type": "markdown",
   "metadata": {},
   "source": [
    "## HTML Highlighting in `flat_bodies`"
   ]
  },
  {
   "cell_type": "code",
   "execution_count": 11,
   "metadata": {},
   "outputs": [
    {
     "data": {
      "text/html": [
       "<style>\n",
       "        .source .hll { background-color: #ffffcc }\n",
       ".source  { background: #f8f8f8; }\n",
       ".source .c { color: #408080; font-style: italic } /* Comment */\n",
       ".source .err { border: 1px solid #FF0000 } /* Error */\n",
       ".source .k { color: #008000; font-weight: bold } /* Keyword */\n",
       ".source .o { color: #666666 } /* Operator */\n",
       ".source .ch { color: #408080; font-style: italic } /* Comment.Hashbang */\n",
       ".source .cm { color: #408080; font-style: italic } /* Comment.Multiline */\n",
       ".source .cp { color: #BC7A00 } /* Comment.Preproc */\n",
       ".source .cpf { color: #408080; font-style: italic } /* Comment.PreprocFile */\n",
       ".source .c1 { color: #408080; font-style: italic } /* Comment.Single */\n",
       ".source .cs { color: #408080; font-style: italic } /* Comment.Special */\n",
       ".source .gd { color: #A00000 } /* Generic.Deleted */\n",
       ".source .ge { font-style: italic } /* Generic.Emph */\n",
       ".source .gr { color: #FF0000 } /* Generic.Error */\n",
       ".source .gh { color: #000080; font-weight: bold } /* Generic.Heading */\n",
       ".source .gi { color: #00A000 } /* Generic.Inserted */\n",
       ".source .go { color: #888888 } /* Generic.Output */\n",
       ".source .gp { color: #000080; font-weight: bold } /* Generic.Prompt */\n",
       ".source .gs { font-weight: bold } /* Generic.Strong */\n",
       ".source .gu { color: #800080; font-weight: bold } /* Generic.Subheading */\n",
       ".source .gt { color: #0044DD } /* Generic.Traceback */\n",
       ".source .kc { color: #008000; font-weight: bold } /* Keyword.Constant */\n",
       ".source .kd { color: #008000; font-weight: bold } /* Keyword.Declaration */\n",
       ".source .kn { color: #008000; font-weight: bold } /* Keyword.Namespace */\n",
       ".source .kp { color: #008000 } /* Keyword.Pseudo */\n",
       ".source .kr { color: #008000; font-weight: bold } /* Keyword.Reserved */\n",
       ".source .kt { color: #B00040 } /* Keyword.Type */\n",
       ".source .m { color: #666666 } /* Literal.Number */\n",
       ".source .s { color: #BA2121 } /* Literal.String */\n",
       ".source .na { color: #7D9029 } /* Name.Attribute */\n",
       ".source .nb { color: #008000 } /* Name.Builtin */\n",
       ".source .nc { color: #0000FF; font-weight: bold } /* Name.Class */\n",
       ".source .no { color: #880000 } /* Name.Constant */\n",
       ".source .nd { color: #AA22FF } /* Name.Decorator */\n",
       ".source .ni { color: #999999; font-weight: bold } /* Name.Entity */\n",
       ".source .ne { color: #D2413A; font-weight: bold } /* Name.Exception */\n",
       ".source .nf { color: #0000FF } /* Name.Function */\n",
       ".source .nl { color: #A0A000 } /* Name.Label */\n",
       ".source .nn { color: #0000FF; font-weight: bold } /* Name.Namespace */\n",
       ".source .nt { color: #008000; font-weight: bold } /* Name.Tag */\n",
       ".source .nv { color: #19177C } /* Name.Variable */\n",
       ".source .ow { color: #AA22FF; font-weight: bold } /* Operator.Word */\n",
       ".source .w { color: #bbbbbb } /* Text.Whitespace */\n",
       ".source .mb { color: #666666 } /* Literal.Number.Bin */\n",
       ".source .mf { color: #666666 } /* Literal.Number.Float */\n",
       ".source .mh { color: #666666 } /* Literal.Number.Hex */\n",
       ".source .mi { color: #666666 } /* Literal.Number.Integer */\n",
       ".source .mo { color: #666666 } /* Literal.Number.Oct */\n",
       ".source .sa { color: #BA2121 } /* Literal.String.Affix */\n",
       ".source .sb { color: #BA2121 } /* Literal.String.Backtick */\n",
       ".source .sc { color: #BA2121 } /* Literal.String.Char */\n",
       ".source .dl { color: #BA2121 } /* Literal.String.Delimiter */\n",
       ".source .sd { color: #BA2121; font-style: italic } /* Literal.String.Doc */\n",
       ".source .s2 { color: #BA2121 } /* Literal.String.Double */\n",
       ".source .se { color: #BB6622; font-weight: bold } /* Literal.String.Escape */\n",
       ".source .sh { color: #BA2121 } /* Literal.String.Heredoc */\n",
       ".source .si { color: #BB6688; font-weight: bold } /* Literal.String.Interpol */\n",
       ".source .sx { color: #008000 } /* Literal.String.Other */\n",
       ".source .sr { color: #BB6688 } /* Literal.String.Regex */\n",
       ".source .s1 { color: #BA2121 } /* Literal.String.Single */\n",
       ".source .ss { color: #19177C } /* Literal.String.Symbol */\n",
       ".source .bp { color: #008000 } /* Name.Builtin.Pseudo */\n",
       ".source .fm { color: #0000FF } /* Name.Function.Magic */\n",
       ".source .vc { color: #19177C } /* Name.Variable.Class */\n",
       ".source .vg { color: #19177C } /* Name.Variable.Global */\n",
       ".source .vi { color: #19177C } /* Name.Variable.Instance */\n",
       ".source .vm { color: #19177C } /* Name.Variable.Magic */\n",
       ".source .il { color: #666666 } /* Literal.Number.Integer.Long */\n",
       "        </style>\n",
       "        <div class=\"source\"><pre><span></span><span class=\"p\">&lt;</span><span class=\"nt\">html</span><span class=\"p\">&gt;</span>\n",
       "            <span class=\"p\">&lt;</span><span class=\"nt\">body</span><span class=\"p\">&gt;</span>\n",
       "                <span class=\"p\">&lt;</span><span class=\"nt\">a</span> <span class=\"na\">class</span><span class=\"o\">=</span><span class=\"s\">&quot;gobookmark&quot;</span> <span class=\"na\">href</span><span class=\"o\">=</span><span class=\"s\">&quot;hanji?@138^306897090^70^^^^@@368118351&quot;</span> <span class=\"na\">title</span><span class=\"o\">=</span><span class=\"s\">&quot;開啟書籤管理&quot;</span><span class=\"p\">&gt;</span>集／總集／文選／卷第一　賦甲之一／京都上之一／班孟堅兩都賦二首／東都賦／寶鼎詩(P.42)<span class=\"p\">&lt;/</span><span class=\"nt\">a</span><span class=\"p\">&gt;</span>\n",
       "\t<span class=\"p\">&lt;</span><span class=\"nt\">span</span> <span class=\"na\">id</span><span class=\"o\">=</span><span class=\"s\">&quot;fontstyle&quot;</span> <span class=\"na\">style</span><span class=\"o\">=</span><span class=\"s\">&quot;FONT-SIZE: 12pt;letter-spacing:1pt; LINE-HEIGHT: 18pt;width:99%;word-break:break-all&quot;</span><span class=\"p\">&gt;</span>\n",
       "<span class=\"p\">&lt;</span><span class=\"nt\">table</span> <span class=\"na\">class</span><span class=\"o\">=</span><span class=\"s\">&quot;page&quot;</span><span class=\"p\">&gt;&lt;</span><span class=\"nt\">tr</span><span class=\"p\">&gt;&lt;</span><span class=\"nt\">td</span> <span class=\"na\">class</span><span class=\"o\">=</span><span class=\"s\">&quot;page&quot;</span><span class=\"p\">&gt;&lt;</span><span class=\"nt\">a</span> <span class=\"na\">name</span><span class=\"o\">=</span><span class=\"s\">&quot;P0&quot;</span><span class=\"p\">&gt;&lt;/</span><span class=\"nt\">a</span><span class=\"p\">&gt;</span>42<span class=\"p\">&lt;/</span><span class=\"nt\">td</span><span class=\"p\">&gt;&lt;/</span><span class=\"nt\">tr</span><span class=\"p\">&gt;&lt;/</span><span class=\"nt\">table</span><span class=\"p\">&gt;</span>\n",
       "<span class=\"p\">&lt;</span><span class=\"nt\">b</span><span class=\"p\">&gt;&lt;</span><span class=\"nt\">h3</span><span class=\"p\">&gt;</span>　　　　寶鼎詩<span class=\"p\">&lt;/</span><span class=\"nt\">h3</span><span class=\"p\">&gt;&lt;/</span><span class=\"nt\">b</span><span class=\"p\">&gt;</span> <span class=\"p\">&lt;</span><span class=\"nt\">div</span> <span class=\"na\">style</span><span class=\"o\">=</span><span class=\"s\">&quot;text-indent:2em;padding-left:0em;&quot;</span><span class=\"p\">&gt;</span>嶽脩貢兮川效珍，吐金景兮歊浮雲。<span class=\"p\">&lt;</span><span class=\"nt\">font</span> <span class=\"na\">size</span><span class=\"o\">=</span><span class=\"s\">&quot;-2&quot;</span><span class=\"p\">&gt;</span>說文曰：歊，氣上出貌，呼朝切。<span class=\"p\">&lt;/</span><span class=\"nt\">font</span><span class=\"p\">&gt;</span>寶鼎見兮色紛縕<span class=\"p\">&lt;</span><span class=\"nt\">a</span> <span class=\"na\">href</span><span class=\"o\">=</span><span class=\"s\">&quot;#&quot;</span> <span class=\"na\">onclick</span><span class=\"o\">=</span><span class=\"s\">&quot;q00.style.display=q00.style.display==&#39;none&#39;?&#39;&#39;:&#39;none&#39;&quot;</span> <span class=\"na\">title</span><span class=\"o\">=</span><span class=\"s\">&quot;校勘&quot;</span><span class=\"p\">&gt;&lt;</span><span class=\"nt\">img</span> <span class=\"na\">align</span><span class=\"o\">=</span><span class=\"s\">&quot;absmiddle&quot;</span> <span class=\"na\">border</span><span class=\"o\">=</span><span class=\"s\">&quot;0&quot;</span> <span class=\"na\">src</span><span class=\"o\">=</span><span class=\"s\">&quot;/ihp/qe.gif&quot;</span><span class=\"p\">/&gt;&lt;/</span><span class=\"nt\">a</span><span class=\"p\">&gt;&lt;</span><span class=\"nt\">span</span> <span class=\"na\">id</span><span class=\"o\">=</span><span class=\"s\">&quot;q00&quot;</span> <span class=\"na\">style</span><span class=\"o\">=</span><span class=\"s\">&quot;display:none;width:;height:;color:red;font-size:13px&quot;</span><span class=\"p\">&gt;</span>寶鼎見兮色紛縕　袁本、茶陵本「縕」作「紜」。案：後漢書作「縕」。<span class=\"p\">&lt;/</span><span class=\"nt\">span</span><span class=\"p\">&gt;</span>。煥其炳兮被龍文。<span class=\"p\">&lt;</span><span class=\"nt\">font</span> <span class=\"na\">size</span><span class=\"o\">=</span><span class=\"s\">&quot;-2&quot;</span><span class=\"p\">&gt;</span>東觀漢記曰：永平六年，廬江太守獻寶鼎，出王雒山。漢書曰：武帝為人祠后土營旁，得鼎，有黃雲焉。公卿大夫議尊寶鼎，有司曰：今鼎至甘泉，光潤龍變，承休無疆也。<span class=\"p\">&lt;/</span><span class=\"nt\">font</span><span class=\"p\">&gt;</span>登祖廟兮享聖神。昭靈德兮彌億年。<span class=\"p\">&lt;</span><span class=\"nt\">font</span> <span class=\"na\">size</span><span class=\"o\">=</span><span class=\"s\">&quot;-2&quot;</span><span class=\"p\">&gt;</span>東觀漢記，明帝曰：太常其以初祭之日<span class=\"p\">&lt;</span><span class=\"nt\">a</span> <span class=\"na\">href</span><span class=\"o\">=</span><span class=\"s\">&quot;#&quot;</span> <span class=\"na\">onclick</span><span class=\"o\">=</span><span class=\"s\">&quot;q01.style.display=q01.style.display==&#39;none&#39;?&#39;&#39;:&#39;none&#39;&quot;</span> <span class=\"na\">title</span><span class=\"o\">=</span><span class=\"s\">&quot;校勘&quot;</span><span class=\"p\">&gt;&lt;</span><span class=\"nt\">img</span> <span class=\"na\">align</span><span class=\"o\">=</span><span class=\"s\">&quot;absmiddle&quot;</span> <span class=\"na\">border</span><span class=\"o\">=</span><span class=\"s\">&quot;0&quot;</span> <span class=\"na\">src</span><span class=\"o\">=</span><span class=\"s\">&quot;/ihp/qe.gif&quot;</span><span class=\"p\">/&gt;&lt;/</span><span class=\"nt\">a</span><span class=\"p\">&gt;&lt;</span><span class=\"nt\">span</span> <span class=\"na\">id</span><span class=\"o\">=</span><span class=\"s\">&quot;q01&quot;</span> <span class=\"na\">style</span><span class=\"o\">=</span><span class=\"s\">&quot;display:none;width:;height:;color:red;font-size:13px&quot;</span><span class=\"p\">&gt;</span>注「太常其以初祭之日」　何校「初」改「礿」，陳同，是也。各本皆譌。<span class=\"p\">&lt;/</span><span class=\"nt\">span</span><span class=\"p\">&gt;</span>，陳鼎於廟，以備器用。尚書曰：公其以予萬億年，敬天之休。<span class=\"p\">&lt;/</span><span class=\"nt\">font</span><span class=\"p\">&gt;</span> <span class=\"p\">&lt;/</span><span class=\"nt\">div</span><span class=\"p\">&gt;</span>\n",
       "<span class=\"p\">&lt;</span><span class=\"nt\">center</span><span class=\"p\">&gt;</span>．　．　．　．　．　．　．　．　．　．　．　．　．　．　．　．　．　．<span class=\"p\">&lt;/</span><span class=\"nt\">center</span><span class=\"p\">&gt;</span>\n",
       "<span class=\"p\">&lt;/</span><span class=\"nt\">span</span><span class=\"p\">&gt;</span>\n",
       "            <span class=\"p\">&lt;/</span><span class=\"nt\">body</span><span class=\"p\">&gt;</span>\n",
       "        <span class=\"p\">&lt;/</span><span class=\"nt\">html</span><span class=\"p\">&gt;</span>\n",
       "        \n",
       "</pre></div>\n",
       "\n",
       "        "
      ],
      "text/plain": [
       "<IPython.core.display.HTML object>"
      ]
     },
     "execution_count": 11,
     "metadata": {},
     "output_type": "execute_result"
    }
   ],
   "source": [
    "# __getitem__, or indexing, give you the syntax highlighting of the html page of Han-Ji\n",
    "book[6]"
   ]
  }
 ],
 "metadata": {
  "hide_input": false,
  "kernelspec": {
   "display_name": "Python 3",
   "language": "python",
   "name": "python3"
  },
  "language_info": {
   "codemirror_mode": {
    "name": "ipython",
    "version": 3
   },
   "file_extension": ".py",
   "mimetype": "text/x-python",
   "name": "python",
   "nbconvert_exporter": "python",
   "pygments_lexer": "ipython3",
   "version": "3.6.1"
  }
 },
 "nbformat": 4,
 "nbformat_minor": 2
}
