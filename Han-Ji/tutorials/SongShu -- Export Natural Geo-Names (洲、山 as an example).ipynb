{
 "cells": [
  {
   "cell_type": "code",
   "execution_count": 1,
   "metadata": {},
   "outputs": [],
   "source": [
    "import re\n",
    "from collections import Counter\n",
    "\n",
    "# C-like numeric array\n",
    "import numpy as np\n",
    "\n",
    "# dealing with table data\n",
    "import pandas as pd\n",
    "\n",
    "# from `SongShu.py`\n",
    "from SongShu import SongShu"
   ]
  },
  {
   "cell_type": "markdown",
   "metadata": {},
   "source": [
    "# SongShu -- Export Natural Geo-Names (洲、山 as an example)\n",
    "\n",
    "Natural geographical names are those names identified by natural scenes, e.g., mountains, rivers. "
   ]
  },
  {
   "cell_type": "code",
   "execution_count": 2,
   "metadata": {},
   "outputs": [
    {
     "name": "stdout",
     "output_type": "stream",
     "text": [
      "[Info] Stop at loading data/ShongShu_0851.html.\n",
      "[Info] Total length of the data is 851.\n",
      "[Warning] Not the right indent. 史／正史／宋書／志　凡三十卷／卷二十二　志第十二／樂四(P.625)..[底本：宋元明三朝遞修本]\n",
      "[Warning] Not the right indent. 史／正史／宋書／志　凡三十卷／卷二十二　志第十二／樂四／魏鼓吹曲十二篇　繆襲／初之平曲(P.644)..[底本：宋元明三朝遞修本]\n",
      "[Warning] Not the right indent. 史／正史／宋書／志　凡三十卷／卷二十二　志第十二／樂四／魏鼓吹曲十二篇　繆襲／戰滎陽曲(P.644)..[底本：宋元明三朝遞修本]\n",
      "[Warning] Not the right indent. 史／正史／宋書／志　凡三十卷／卷二十二　志第十二／樂四／魏鼓吹曲十二篇　繆襲／獲呂布曲(P.644)..[底本：宋元明三朝遞修本]\n",
      "[Warning] Not the right indent. 史／正史／宋書／志　凡三十卷／卷二十二　志第十二／樂四／魏鼓吹曲十二篇　繆襲／克官渡曲(P.645)..[底本：宋元明三朝遞修本]\n",
      "[Warning] Not the right indent. 史／正史／宋書／志　凡三十卷／卷二十二　志第十二／樂四／魏鼓吹曲十二篇　繆襲／舊邦曲(P.645)..[底本：宋元明三朝遞修本]\n",
      "[Warning] Not the right indent. 史／正史／宋書／志　凡三十卷／卷二十二　志第十二／樂四／魏鼓吹曲十二篇　繆襲／定武功曲(P.645)..[底本：宋元明三朝遞修本]\n",
      "[Warning] Not the right indent. 史／正史／宋書／志　凡三十卷／卷二十二　志第十二／樂四／魏鼓吹曲十二篇　繆襲／屠柳城曲(P.646)..[底本：宋元明三朝遞修本]\n",
      "[Warning] Not the right indent. 史／正史／宋書／志　凡三十卷／卷二十二　志第十二／樂四／魏鼓吹曲十二篇　繆襲／平南荊曲(P.646)..[底本：宋元明三朝遞修本]\n",
      "[Warning] Not the right indent. 史／正史／宋書／志　凡三十卷／卷二十二　志第十二／樂四／魏鼓吹曲十二篇　繆襲／平關中曲(P.646)..[底本：宋元明三朝遞修本]\n",
      "[Warning] Not the right indent. 史／正史／宋書／志　凡三十卷／卷二十二　志第十二／樂四／魏鼓吹曲十二篇　繆襲／應帝期曲(P.646)..[底本：宋元明三朝遞修本]\n",
      "[Warning] Not the right indent. 史／正史／宋書／志　凡三十卷／卷二十二　志第十二／樂四／魏鼓吹曲十二篇　繆襲／邕熙曲(P.647)..[底本：宋元明三朝遞修本]\n",
      "[Warning] Not the right indent. 史／正史／宋書／志　凡三十卷／卷二十二　志第十二／樂四／魏鼓吹曲十二篇　繆襲／太和曲(P.647)..[底本：宋元明三朝遞修本]\n",
      "[Warning] Not the right indent. 史／正史／宋書／志　凡三十卷／卷二十二　志第十二／樂四／吳鼓吹曲十二篇　韋昭／炎精缺曲凡三十句，句三字(P.656)..[底本：宋元明三朝遞修本]\n",
      "[Warning] Not the right indent. 史／正史／宋書／志　凡三十卷／卷二十二　志第十二／樂四／吳鼓吹曲十二篇　韋昭／漢之季曲凡二十句，其十八句句三字，二句句四字(P.656)..[底本：宋元明三朝遞修本]\n",
      "[Warning] Not the right indent. 史／正史／宋書／志　凡三十卷／卷二十二　志第十二／樂四／吳鼓吹曲十二篇　韋昭／攄武師曲凡六句，其三句句三字，三句句四字(P.657)..[底本：宋元明三朝遞修本]\n",
      "[Warning] Not the right indent. 史／正史／宋書／志　凡三十卷／卷二十二　志第十二／樂四／吳鼓吹曲十二篇　韋昭／伐烏林曲凡十八句，其十句句四字，八句句三字(P.657)..[底本：宋元明三朝遞修本]\n",
      "[Warning] Not the right indent. 史／正史／宋書／志　凡三十卷／卷二十二　志第十二／樂四／吳鼓吹曲十二篇　韋昭／秋風曲凡十五句，其十四句句五字，一句四字(P.657)..[底本：宋元明三朝遞修本]\n",
      "[Warning] Not the right indent. 史／正史／宋書／志　凡三十卷／卷二十二　志第十二／樂四／吳鼓吹曲十二篇　韋昭／克皖城曲凡十二句，其六句句三字，六句句四字(P.657)..[底本：宋元明三朝遞修本]\n",
      "[Warning] Not the right indent. 史／正史／宋書／志　凡三十卷／卷二十二　志第十二／樂四／吳鼓吹曲十二篇　韋昭／關背德曲凡二十一句，其八句句四字，二句句六字，七句句五字，四句句三字(P.658)..[底本：宋元明三朝遞修本]\n",
      "[Warning] Not the right indent. 史／正史／宋書／志　凡三十卷／卷二十二　志第十二／樂四／吳鼓吹曲十二篇　韋昭／通荊門曲凡二十四句，其十七句句五字，四句句三字，三句句四字(P.658)..[底本：宋元明三朝遞修本]\n",
      "[Warning] Not the right indent. 史／正史／宋書／志　凡三十卷／卷二十二　志第十二／樂四／吳鼓吹曲十二篇　韋昭／章洪德曲凡十句，其八句句三字，二句句四字(P.659)..[底本：宋元明三朝遞修本]\n",
      "[Warning] Not the right indent. 史／正史／宋書／志　凡三十卷／卷二十二　志第十二／樂四／吳鼓吹曲十二篇　韋昭／從曆數曲凡二十六句，其一句句三字，三句句四字，二十二句句五字，一句六字(P.659)..[底本：宋元明三朝遞修本]\n",
      "[Warning] Not the right indent. 史／正史／宋書／志　凡三十卷／卷二十二　志第十二／樂四／吳鼓吹曲十二篇　韋昭／承天命曲凡三十四句，其十九句句三字，二句句五字，十三句句四字(P.659)..[底本：宋元明三朝遞修本]\n",
      "[Warning] Not the right indent. 史／正史／宋書／志　凡三十卷／卷二十二　志第十二／樂四／吳鼓吹曲十二篇　韋昭／玄化曲凡十三句，其五句句五字，二句句三字，三句句四字，三句句七字(P.660)..[底本：宋元明三朝遞修本]\n",
      "[Warning] Not the right indent. 史／正史／宋書／志　凡三十卷／卷四十　志第三十／百官下／第一品(P.1260)..[底本：宋元明三朝遞修本]\n",
      "[Warning] Not the right indent. 史／正史／宋書／志　凡三十卷／卷四十　志第三十／百官下／第二品(P.1260)..[底本：宋元明三朝遞修本]\n",
      "[Warning] Not the right indent. 史／正史／宋書／志　凡三十卷／卷四十　志第三十／百官下／第三品(P.1261)..[底本：宋元明三朝遞修本]\n",
      "[Warning] Not the right indent. 史／正史／宋書／志　凡三十卷／卷四十　志第三十／百官下／第四品(P.1261)..[底本：宋元明三朝遞修本]\n",
      "[Warning] Not the right indent. 史／正史／宋書／志　凡三十卷／卷四十　志第三十／百官下／第五品(P.1262)..[底本：宋元明三朝遞修本]\n",
      "[Warning] Not the right indent. 史／正史／宋書／志　凡三十卷／卷四十　志第三十／百官下／第六品(P.1263)..[底本：宋元明三朝遞修本]\n",
      "[Warning] Not the right indent. 史／正史／宋書／志　凡三十卷／卷四十　志第三十／百官下／第七品(P.1264)..[底本：宋元明三朝遞修本]\n",
      "[Warning] Not the right indent. 史／正史／宋書／志　凡三十卷／卷四十　志第三十／百官下／第八品(P.1264)..[底本：宋元明三朝遞修本]\n",
      "[Warning] Not the right indent. 史／正史／宋書／志　凡三十卷／卷四十　志第三十／百官下／第九品(P.1265)..[底本：宋元明三朝遞修本]\n"
     ]
    }
   ],
   "source": [
    "# Get the SongShu Text\n",
    "songshu = SongShu(\"2018-06-28\", \"MF\")\n",
    "songshu.load_htmls()\n",
    "\n",
    "# preprocessing the songshu data to get metadata and bookmarks\n",
    "# and separate the passages in every pages\n",
    "songshu.extract_paths()\n",
    "songshu.extract_meta()\n",
    "songshu.extract_passages()"
   ]
  },
  {
   "cell_type": "markdown",
   "metadata": {},
   "source": [
    "## 洲、山 as an Example\n",
    "\n",
    "We could use regex to list all possible phrases attached with 洲、山,  \n",
    "e.g., '鬱洲', '向鬱洲', '走向鬱洲', ...  \n",
    "and then use frequency to see which one is possible to be natural geographical names."
   ]
  },
  {
   "cell_type": "code",
   "execution_count": 3,
   "metadata": {},
   "outputs": [],
   "source": [
    "# Let's build a generator to list all n-gram phrase attached with 洲 and 山\n",
    "\n",
    "def regexf(char, num):\n",
    "    return r\"[^、。，？！：；「」〔〕『』]{\" + str(num) + \"}\" + char\n",
    "\n",
    "def passageGen():\n",
    "    for passages in songshu.flat_passages:\n",
    "        for p in passages:\n",
    "            yield p\n",
    "            \n",
    "def phraseCharGen(char, limits=(1, 4)):\n",
    "    lower, upper = limits\n",
    "    for p in passageGen() :\n",
    "        for i in range(lower, upper):\n",
    "            for match in re.finditer(regexf(char, i), p):\n",
    "                yield match.group(0)"
   ]
  },
  {
   "cell_type": "code",
   "execution_count": 4,
   "metadata": {},
   "outputs": [
    {
     "data": {
      "text/plain": [
       "[('蔡洲', 14),\n",
       " ('鬱洲', 9),\n",
       " ('嶸洲', 6),\n",
       " ('崢嶸洲', 6),\n",
       " ('至蔡洲', 6),\n",
       " ('於崢嶸洲', 5),\n",
       " ('自蔡洲', 5),\n",
       " ('長洲', 5),\n",
       " ('落洲', 4),\n",
       " ('桑落洲', 4),\n",
       " ('五洲', 4),\n",
       " ('循至蔡洲', 4),\n",
       " ('溧洲', 3),\n",
       " ('賊自蔡洲', 3),\n",
       " ('山洲', 3)]"
      ]
     },
     "execution_count": 4,
     "metadata": {},
     "output_type": "execute_result"
    }
   ],
   "source": [
    "Counter(list(phraseCharGen('洲', limits=(1, 4)))).most_common(15)"
   ]
  },
  {
   "cell_type": "code",
   "execution_count": 5,
   "metadata": {},
   "outputs": [
    {
     "data": {
      "text/plain": [
       "[('泰山', 58),\n",
       " ('梁山', 40),\n",
       " ('稽山', 28),\n",
       " ('會稽山', 28),\n",
       " ('中山', 23),\n",
       " ('為山', 19),\n",
       " ('陽山', 17),\n",
       " ('高山', 17),\n",
       " ('名山', 16),\n",
       " ('南山', 15),\n",
       " ('廬山', 14),\n",
       " ('鍾山', 13),\n",
       " ('於山', 12),\n",
       " ('史山', 12),\n",
       " ('刺史山', 11),\n",
       " ('州刺史山', 11),\n",
       " ('鄒山', 10),\n",
       " ('陰山', 10),\n",
       " ('以山', 9),\n",
       " ('景陽山', 8)]"
      ]
     },
     "execution_count": 5,
     "metadata": {},
     "output_type": "execute_result"
    }
   ],
   "source": [
    "Counter(list(phraseCharGen('山', limits=(1, 5)))).most_common(20)"
   ]
  },
  {
   "cell_type": "markdown",
   "metadata": {},
   "source": [
    "It seems there are some patterns here... Hmmm \n",
    "\n",
    "- We should count the longer phrase as the correct name (if two phrases have the same occurrences)\n",
    "- We can use correct phrase to search the direction verb (自、至、於) 😁"
   ]
  },
  {
   "cell_type": "markdown",
   "metadata": {},
   "source": [
    "## Conditioning on Phrases"
   ]
  },
  {
   "cell_type": "code",
   "execution_count": 6,
   "metadata": {},
   "outputs": [
    {
     "data": {
      "text/plain": [
       "([('蔡洲', 14),\n",
       "  ('鬱洲', 9),\n",
       "  ('崢嶸洲', 6),\n",
       "  ('長洲', 5),\n",
       "  ('桑落洲', 4),\n",
       "  ('五洲', 4),\n",
       "  ('溧洲', 3),\n",
       "  ('山洲', 3)],\n",
       " {'於', '自', '至'})"
      ]
     },
     "execution_count": 6,
     "metadata": {},
     "output_type": "execute_result"
    }
   ],
   "source": [
    "# I currently cannot figure out an imperative solution ...\n",
    "# though functinoal solution here would introduce more iterations ...\n",
    "def condition(counter):\n",
    "    exclude_set = set([(p1, n1) for p1,n1 in counter for p2,n2 in counter if (n1 == n2) and (p1 != p2) and (p1 in p2)])\n",
    "    argmax_set  = set([(p1, n1) for p1,n1 in counter if all([True if p2 not in p1 else False for p2,n2 in counter if (n2 > n1)])])\n",
    "    return sorted(argmax_set - exclude_set, key=lambda x: x[1], reverse=True)\n",
    "\n",
    "def condition_verb(counter):\n",
    "    regex = r\"([^、。，？！：；「」〔〕『』]{1})\" + r\"({})\".format(\"|\".join(p1 for p1,_ in condition(counter)))\n",
    "    return {match.group(1) for p,_ in counter for match in re.finditer(regex, p)}\n",
    "\n",
    "def geonames_and_verbs(char, limits=(1, 4), top_n=15):\n",
    "    counter = Counter(list(phraseCharGen(char, limits))).most_common(top_n)\n",
    "    return condition(counter), condition_verb(counter)\n",
    "    \n",
    "geonames_and_verbs('洲', limits=(1, 4), top_n=15)"
   ]
  },
  {
   "cell_type": "markdown",
   "metadata": {},
   "source": [
    "seems ok ...  \n",
    "so we got geo-names and the verbs attached with geo-names in a tuple"
   ]
  },
  {
   "cell_type": "code",
   "execution_count": 7,
   "metadata": {},
   "outputs": [
    {
     "data": {
      "text/plain": [
       "([('泰山', 58),\n",
       "  ('梁山', 40),\n",
       "  ('會稽山', 28),\n",
       "  ('中山', 23),\n",
       "  ('為山', 19),\n",
       "  ('陽山', 17),\n",
       "  ('高山', 17),\n",
       "  ('名山', 16),\n",
       "  ('南山', 15),\n",
       "  ('廬山', 14),\n",
       "  ('鍾山', 13),\n",
       "  ('史山', 12),\n",
       "  ('於山', 12),\n",
       "  ('鄒山', 10),\n",
       "  ('陰山', 10),\n",
       "  ('以山', 9)],\n",
       " {'刺', '景'})"
      ]
     },
     "execution_count": 7,
     "metadata": {},
     "output_type": "execute_result"
    }
   ],
   "source": [
    "geonames_and_verbs('山', limits=(1, 4), top_n=20)"
   ]
  },
  {
   "cell_type": "markdown",
   "metadata": {},
   "source": [
    "Something need to be manually exclude: 於、為、以\n",
    "\n",
    "direction verbs finding seem to be failed if the geo-names are wrong."
   ]
  },
  {
   "cell_type": "markdown",
   "metadata": {},
   "source": [
    "It is also possible to apply on non-natural-geo-names: 州"
   ]
  },
  {
   "cell_type": "code",
   "execution_count": 8,
   "metadata": {},
   "outputs": [
    {
     "data": {
      "text/plain": [
       "([('豫州', 448),\n",
       "  ('徐州', 364),\n",
       "  ('荊州', 335),\n",
       "  ('揚州', 322),\n",
       "  ('兗州', 312),\n",
       "  ('二州', 274),\n",
       "  ('雍州', 232),\n",
       "  ('江州', 210),\n",
       "  ('廣州', 168),\n",
       "  ('青州', 167),\n",
       "  ('益州', 150),\n",
       "  ('湘州', 146),\n",
       "  ('郢州', 126),\n",
       "  ('去州', 124),\n",
       "  ('司州', 89),\n",
       "  ('梁州', 85),\n",
       "  ('冀州', 82)],\n",
       " {'南'})"
      ]
     },
     "execution_count": 8,
     "metadata": {},
     "output_type": "execute_result"
    }
   ],
   "source": [
    "geonames_and_verbs('州', limits=(1, 4), top_n=20)"
   ]
  },
  {
   "cell_type": "code",
   "execution_count": 9,
   "metadata": {},
   "outputs": [
    {
     "data": {
      "text/plain": [
       "([('永初郡', 202),\n",
       "  ('二郡', 154),\n",
       "  ('南郡', 137),\n",
       "  ('吳郡', 130),\n",
       "  ('州郡', 64),\n",
       "  ('陳郡', 49),\n",
       "  ('諸郡', 48),\n",
       "  ('梁郡', 47),\n",
       "  ('陽郡', 45),\n",
       "  ('三郡', 43),\n",
       "  ('東郡', 42),\n",
       "  ('沛郡', 35),\n",
       "  ('平郡', 33),\n",
       "  ('五郡', 33),\n",
       "  ('蜀郡', 29),\n",
       "  ('魏郡', 29),\n",
       "  ('為郡', 29),\n",
       "  ('安郡', 28),\n",
       "  ('秦郡', 27)],\n",
       " set())"
      ]
     },
     "execution_count": 9,
     "metadata": {},
     "output_type": "execute_result"
    }
   ],
   "source": [
    "geonames_and_verbs('郡', limits=(1, 4), top_n=20)"
   ]
  },
  {
   "cell_type": "markdown",
   "metadata": {},
   "source": [
    "## Saving to csv\n",
    "\n",
    "Let's only consider top 15 and limit in (1, 4)."
   ]
  },
  {
   "cell_type": "code",
   "execution_count": 10,
   "metadata": {},
   "outputs": [
    {
     "data": {
      "text/html": [
       "<div>\n",
       "<style scoped>\n",
       "    .dataframe tbody tr th:only-of-type {\n",
       "        vertical-align: middle;\n",
       "    }\n",
       "\n",
       "    .dataframe tbody tr th {\n",
       "        vertical-align: top;\n",
       "    }\n",
       "\n",
       "    .dataframe thead th {\n",
       "        text-align: right;\n",
       "    }\n",
       "</style>\n",
       "<table border=\"1\" class=\"dataframe\">\n",
       "  <thead>\n",
       "    <tr style=\"text-align: right;\">\n",
       "      <th></th>\n",
       "      <th>geonames</th>\n",
       "      <th>occurrences</th>\n",
       "    </tr>\n",
       "  </thead>\n",
       "  <tbody>\n",
       "    <tr>\n",
       "      <th>0</th>\n",
       "      <td>蔡洲</td>\n",
       "      <td>14</td>\n",
       "    </tr>\n",
       "    <tr>\n",
       "      <th>1</th>\n",
       "      <td>鬱洲</td>\n",
       "      <td>9</td>\n",
       "    </tr>\n",
       "    <tr>\n",
       "      <th>2</th>\n",
       "      <td>崢嶸洲</td>\n",
       "      <td>6</td>\n",
       "    </tr>\n",
       "    <tr>\n",
       "      <th>3</th>\n",
       "      <td>長洲</td>\n",
       "      <td>5</td>\n",
       "    </tr>\n",
       "    <tr>\n",
       "      <th>4</th>\n",
       "      <td>桑落洲</td>\n",
       "      <td>4</td>\n",
       "    </tr>\n",
       "    <tr>\n",
       "      <th>5</th>\n",
       "      <td>五洲</td>\n",
       "      <td>4</td>\n",
       "    </tr>\n",
       "    <tr>\n",
       "      <th>6</th>\n",
       "      <td>溧洲</td>\n",
       "      <td>3</td>\n",
       "    </tr>\n",
       "    <tr>\n",
       "      <th>7</th>\n",
       "      <td>山洲</td>\n",
       "      <td>3</td>\n",
       "    </tr>\n",
       "    <tr>\n",
       "      <th>8</th>\n",
       "      <td>泰山</td>\n",
       "      <td>58</td>\n",
       "    </tr>\n",
       "    <tr>\n",
       "      <th>9</th>\n",
       "      <td>梁山</td>\n",
       "      <td>40</td>\n",
       "    </tr>\n",
       "    <tr>\n",
       "      <th>10</th>\n",
       "      <td>會稽山</td>\n",
       "      <td>28</td>\n",
       "    </tr>\n",
       "    <tr>\n",
       "      <th>11</th>\n",
       "      <td>中山</td>\n",
       "      <td>23</td>\n",
       "    </tr>\n",
       "    <tr>\n",
       "      <th>12</th>\n",
       "      <td>高山</td>\n",
       "      <td>17</td>\n",
       "    </tr>\n",
       "    <tr>\n",
       "      <th>13</th>\n",
       "      <td>陽山</td>\n",
       "      <td>17</td>\n",
       "    </tr>\n",
       "    <tr>\n",
       "      <th>14</th>\n",
       "      <td>名山</td>\n",
       "      <td>16</td>\n",
       "    </tr>\n",
       "    <tr>\n",
       "      <th>15</th>\n",
       "      <td>南山</td>\n",
       "      <td>15</td>\n",
       "    </tr>\n",
       "    <tr>\n",
       "      <th>16</th>\n",
       "      <td>廬山</td>\n",
       "      <td>14</td>\n",
       "    </tr>\n",
       "    <tr>\n",
       "      <th>17</th>\n",
       "      <td>鍾山</td>\n",
       "      <td>13</td>\n",
       "    </tr>\n",
       "    <tr>\n",
       "      <th>18</th>\n",
       "      <td>史山</td>\n",
       "      <td>12</td>\n",
       "    </tr>\n",
       "  </tbody>\n",
       "</table>\n",
       "</div>"
      ],
      "text/plain": [
       "   geonames  occurrences\n",
       "0        蔡洲           14\n",
       "1        鬱洲            9\n",
       "2       崢嶸洲            6\n",
       "3        長洲            5\n",
       "4       桑落洲            4\n",
       "5        五洲            4\n",
       "6        溧洲            3\n",
       "7        山洲            3\n",
       "8        泰山           58\n",
       "9        梁山           40\n",
       "10      會稽山           28\n",
       "11       中山           23\n",
       "12       高山           17\n",
       "13       陽山           17\n",
       "14       名山           16\n",
       "15       南山           15\n",
       "16       廬山           14\n",
       "17       鍾山           13\n",
       "18       史山           12"
      ]
     },
     "execution_count": 10,
     "metadata": {},
     "output_type": "execute_result"
    }
   ],
   "source": [
    "geo_csv = []\n",
    "\n",
    "# 洲\n",
    "geo_names, _ = geonames_and_verbs('洲', limits=(1, 4), top_n=15)\n",
    "geo_names = list(filter(lambda x: re.findall(r\"[於為以]\", x[0]) == [], geo_names))\n",
    "geo_csv += geo_names\n",
    "\n",
    "# 山\n",
    "geo_names, _ = geonames_and_verbs('山', limits=(1, 4), top_n=15)\n",
    "geo_names = list(filter(lambda x: re.findall(r\"[於為以]\", x[0]) == [], geo_names))\n",
    "geo_csv += geo_names\n",
    "\n",
    "df = pd.DataFrame(geo_csv, columns=['geonames', 'occurrences'])\n",
    "df.to_csv('songshu_natural_geonames([洲山]).csv')\n",
    "df"
   ]
  }
 ],
 "metadata": {
  "hide_input": false,
  "kernelspec": {
   "display_name": "Python 3",
   "language": "python",
   "name": "python3"
  },
  "language_info": {
   "codemirror_mode": {
    "name": "ipython",
    "version": 3
   },
   "file_extension": ".py",
   "mimetype": "text/x-python",
   "name": "python",
   "nbconvert_exporter": "python",
   "pygments_lexer": "ipython3",
   "version": "3.6.1"
  }
 },
 "nbformat": 4,
 "nbformat_minor": 2
}
