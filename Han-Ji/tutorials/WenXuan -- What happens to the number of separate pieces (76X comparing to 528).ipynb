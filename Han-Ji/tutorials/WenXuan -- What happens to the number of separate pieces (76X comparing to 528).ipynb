{
 "cells": [
  {
   "cell_type": "code",
   "execution_count": 1,
   "metadata": {
    "collapsed": true
   },
   "outputs": [],
   "source": [
    "from WenXuan import WenXuan\n",
    "from unicodedata import numeric"
   ]
  },
  {
   "cell_type": "markdown",
   "metadata": {},
   "source": [
    "# WenXuan -- What happens to the number of separate pieces (765 comparing to 528)\n",
    "\n",
    "We noticed that the number of pieces in the `wenxuan.flat_bodies` is different from the number 761 listed in the https://en.wikipedia.org/wiki/Wen_Xuan ."
   ]
  },
  {
   "cell_type": "markdown",
   "metadata": {},
   "source": [
    "## Loading the Wenshuan class"
   ]
  },
  {
   "cell_type": "code",
   "execution_count": 2,
   "metadata": {},
   "outputs": [
    {
     "name": "stdout",
     "output_type": "stream",
     "text": [
      "[Info] Stop at loading data/wenshuan_0582.html.\n",
      "[Info] Total length of the data is 582.\n"
     ]
    }
   ],
   "source": [
    "wenxuan = WenXuan('2018-06-08', 'MF')\n",
    "wenxuan.load_htmls()"
   ]
  },
  {
   "cell_type": "code",
   "execution_count": 3,
   "metadata": {
    "scrolled": false
   },
   "outputs": [
    {
     "name": "stdout",
     "output_type": "stream",
     "text": [
      "[Warning] No author name in 47 item, but got a tag. Attach this tag to previous author name 陸士衡.\n",
      "[Warning] No author name in 53 item, but got a tag. Attach this tag to previous author name 王子淵.\n",
      "[Warning] No author name in 62 item, but got a tag. Attach this tag to previous author name 曹子建.\n",
      "[Warning] No author name in 88 item, but got a tag. Attach this tag to previous author name 丘希範.\n",
      "[Warning] No author name in 95 item, but got a tag. Attach this tag to previous author name 謝玄暉.\n",
      "[Warning] No author name in 111 item, but got a tag. Attach this tag to previous author name 應璩.\n",
      "[Warning] No author name in 117 item, but got a tag. Attach this tag to previous author name 魏文帝.\n",
      "[Warning] No author name in 187 item, but got a tag. Attach this tag to previous author name 劉越石.\n",
      "[Warning] Author name, 飲馬長城窟行 in 244, is too long. Discard this one.\n",
      "[Warning] No author name in 244 item, but got a tag. Attach this tag to previous author name 顏延年.\n",
      "[Warning] No author name in 256 item, but got a tag. Attach this tag to previous author name 石季倫.\n",
      "[Warning] No author name in 324 item, but got a tag. Attach this tag to previous author name 王景玄.\n",
      "[Warning] No author name in 433 item, but got a tag. Attach this tag to previous author name 李令伯.\n",
      "[Warning] No author name in 495 item, but got a tag. Attach this tag to previous author name 陳孔璋.\n",
      "[Warning] Author name, 祖太祖高皇帝　父世祖武皇帝 in 575, is too long. Discard this one.\n",
      "[Warning] No author name in the path, 集／總集／文選／卷第二十七　詩戊之一／樂府上／古樂府三首／飲馬長城窟行(P.1277).\n",
      "[Warning] No author name in the path, 集／總集／文選／卷第二十七　詩戊之一／樂府上／古樂府三首／傷歌行(P.1278).\n",
      "[Warning] No author name in the path, 集／總集／文選／卷第二十七　詩戊之一／樂府上／古樂府三首／長歌行(P.1279).\n",
      "[Warning] No author name in the path, 集／總集／文選／卷第二十九　詩己之一／雜詩上／古詩一十九首(P.1343).\n",
      "[Warning] No author name in the path, 集／總集／文選／卷第五十九　碑文下　墓誌／碑文下／王簡棲頭陁寺碑文(P.2527).\n",
      "[Warning] Path is too short, 集／總集／文選／附(P.2610). Only use title for metadata.\n"
     ]
    }
   ],
   "source": [
    "wenxuan.extract_paths()         # extract the bookmarks\n",
    "wenxuan.get_author_bag()        # get the bag of author names and comments\n",
    "wenxuan.extract_meta()          # extract the meta data\n",
    "wenxuan.passages2tuples()       # get the passsage into (text, comment) tuples\n",
    "wenxuan.heads2tuples()          # get headers into (head, comment, ...) tuples\n",
    "wenxuan.extract_commentators()  # append commentators to metadata\n",
    "wenxuan.extract_sound_glosses() # append all sound glosses in comments into a list and remove them from the self.flat_passages"
   ]
  },
  {
   "cell_type": "markdown",
   "metadata": {},
   "source": [
    "## Number of elements in the `paths`"
   ]
  },
  {
   "cell_type": "code",
   "execution_count": 4,
   "metadata": {},
   "outputs": [
    {
     "data": {
      "text/plain": [
       "582"
      ]
     },
     "execution_count": 4,
     "metadata": {},
     "output_type": "execute_result"
    }
   ],
   "source": [
    "len(wenxuan.paths)"
   ]
  },
  {
   "cell_type": "markdown",
   "metadata": {},
   "source": [
    "It is much less than the number listed in the wiki."
   ]
  },
  {
   "cell_type": "markdown",
   "metadata": {},
   "source": [
    "## Counting the num pieces in the paths\n",
    "\n",
    "One possible hypothesis is that, in Han-Ji, they merged several pieces of works in one page. Therefore, we should count the difference between the actual number in `wenxuan.paths` and number stated in the `bookmark`.\n",
    "\n",
    "Note: `unicodedata.numeric` could convert Chinese integers into numeric numbers."
   ]
  },
  {
   "cell_type": "code",
   "execution_count": 5,
   "metadata": {
    "scrolled": false
   },
   "outputs": [
    {
     "data": {
      "text/plain": [
       "{'一': 1,\n",
       " '一十': 10,\n",
       " '一十一': 11,\n",
       " '一十七': 17,\n",
       " '一十三': 13,\n",
       " '一十九': 19,\n",
       " '一十二': 12,\n",
       " '一十五': 15,\n",
       " '一十八': 18,\n",
       " '一十六': 16,\n",
       " '一十四': 14,\n",
       " '七': 7,\n",
       " '七十': 70,\n",
       " '七十一': 71,\n",
       " '七十七': 77,\n",
       " '七十三': 73,\n",
       " '七十九': 79,\n",
       " '七十二': 72,\n",
       " '七十五': 75,\n",
       " '七十八': 78,\n",
       " '七十六': 76,\n",
       " '七十四': 74,\n",
       " '三': 3,\n",
       " '三十': 30,\n",
       " '三十一': 31,\n",
       " '三十七': 37,\n",
       " '三十三': 33,\n",
       " '三十九': 39,\n",
       " '三十二': 32,\n",
       " '三十五': 35,\n",
       " '三十八': 38,\n",
       " '三十六': 36,\n",
       " '三十四': 34,\n",
       " '九': 9,\n",
       " '九十': 90,\n",
       " '九十一': 91,\n",
       " '九十七': 97,\n",
       " '九十三': 93,\n",
       " '九十九': 99,\n",
       " '九十二': 92,\n",
       " '九十五': 95,\n",
       " '九十八': 98,\n",
       " '九十六': 96,\n",
       " '九十四': 94,\n",
       " '二': 2,\n",
       " '二十': 20,\n",
       " '二十一': 21,\n",
       " '二十七': 27,\n",
       " '二十三': 23,\n",
       " '二十九': 29,\n",
       " '二十二': 22,\n",
       " '二十五': 25,\n",
       " '二十八': 28,\n",
       " '二十六': 26,\n",
       " '二十四': 24,\n",
       " '五': 5,\n",
       " '五十': 50,\n",
       " '五十一': 51,\n",
       " '五十七': 57,\n",
       " '五十三': 53,\n",
       " '五十九': 59,\n",
       " '五十二': 52,\n",
       " '五十五': 55,\n",
       " '五十八': 58,\n",
       " '五十六': 56,\n",
       " '五十四': 54,\n",
       " '八': 8,\n",
       " '八十': 80,\n",
       " '八十一': 81,\n",
       " '八十七': 87,\n",
       " '八十三': 83,\n",
       " '八十九': 89,\n",
       " '八十二': 82,\n",
       " '八十五': 85,\n",
       " '八十八': 88,\n",
       " '八十六': 86,\n",
       " '八十四': 84,\n",
       " '六': 6,\n",
       " '六十': 60,\n",
       " '六十一': 61,\n",
       " '六十七': 67,\n",
       " '六十三': 63,\n",
       " '六十九': 69,\n",
       " '六十二': 62,\n",
       " '六十五': 65,\n",
       " '六十八': 68,\n",
       " '六十六': 66,\n",
       " '六十四': 64,\n",
       " '十': 10,\n",
       " '十一': 11,\n",
       " '十七': 17,\n",
       " '十三': 13,\n",
       " '十九': 19,\n",
       " '十二': 12,\n",
       " '十五': 15,\n",
       " '十八': 18,\n",
       " '十六': 16,\n",
       " '十四': 14,\n",
       " '四': 4,\n",
       " '四十': 40,\n",
       " '四十一': 41,\n",
       " '四十七': 47,\n",
       " '四十三': 43,\n",
       " '四十九': 49,\n",
       " '四十二': 42,\n",
       " '四十五': 45,\n",
       " '四十八': 48,\n",
       " '四十六': 46,\n",
       " '四十四': 44}"
      ]
     },
     "execution_count": 5,
     "metadata": {},
     "output_type": "execute_result"
    }
   ],
   "source": [
    "# build a string list for chinese integer\n",
    "chinese_int = ['一','二','三','四','五','六','七','八','九']\n",
    "\n",
    "# create a dict for str -> int\n",
    "chinese_int_dict = {}\n",
    "\n",
    "# I am playing dirty, create a list for decimal numbers \n",
    "chinese_decimal = ['十'] + [\n",
    "    digit + decimal for digit in chinese_int for decimal in ['十']\n",
    "] \n",
    "numerical_decimal = [10] + [\n",
    "    digit * decimal for digit in range(1, 10) for decimal in [10]\n",
    "]\n",
    "\n",
    "# for digit\n",
    "for digit in chinese_int:\n",
    "    chinese_int_dict[digit] = int(numeric( digit ))\n",
    "\n",
    "# for decimal\n",
    "for decimal,num in zip(chinese_decimal, numerical_decimal):\n",
    "    chinese_int_dict[decimal] = num\n",
    "    for digit in chinese_int:\n",
    "        chinese_int_dict[decimal + digit] = num + int(numeric( digit ))\n",
    "    \n",
    "chinese_int_dict"
   ]
  },
  {
   "cell_type": "markdown",
   "metadata": {},
   "source": [
    "## Examining the occurrence of number in the bookmarks\n",
    "\n"
   ]
  },
  {
   "cell_type": "code",
   "execution_count": 6,
   "metadata": {
    "collapsed": true
   },
   "outputs": [],
   "source": [
    "import re\n",
    "\n",
    "# count the actual number of pieces (number of pages) of works in WenXuan paths\n",
    "paths_text = ''.join(wenxuan.paths)\n",
    "paths_dict = {}\n",
    "\n",
    "for element in set([element for path in wenxuan.paths \n",
    "                 for element in path.split('／') \n",
    "                 if '首' in element]):\n",
    "        paths_dict[element] = paths_text.count(element)"
   ]
  },
  {
   "cell_type": "code",
   "execution_count": 9,
   "metadata": {},
   "outputs": [
    {
     "name": "stdout",
     "output_type": "stream",
     "text": [
      "[Warning] Number of pieces are not match with the number in bookmark. 張孟陽七哀詩二首(P.1088) (1, 2)\n",
      "[Warning] Number of pieces are not match with the number in bookmark. 曹子建七啟八首　并序(P.1576) (1, 8)\n",
      "[Warning] Number of pieces are not match with the number in bookmark. 張茂先答何劭二首(P.1132) (1, 2)\n",
      "[Warning] Number of pieces are not match with the number in bookmark. 曹子建送應氏詩二首(P.974) (1, 2)\n",
      "[Warning] Number of pieces are not match with the number in bookmark. 阮嗣宗詠懷詩十七首(P.1067) (1, 17)\n",
      "[Warning] Number of pieces are not match with the number in bookmark. 潘安仁悼亡詩三首(P.1090) (1, 3)\n",
      "[Warning] Number of pieces are not match with the number in bookmark. 曹子建雜詩六首(P.1363) (1, 6)\n",
      "[Warning] Number of pieces are not match with the number in bookmark. 陸士衡為顧彥先贈婦二首(P.1149) (1, 2)\n",
      "[Warning] Number of pieces are not match with the number in bookmark. 鮑明遠擬古三首(P.1446) (1, 3)\n",
      "[Warning] Number of pieces are not match with the number in bookmark. 陸士衡赴洛二首(P.1229) (1, 2)\n",
      "[Warning] Number of pieces are not match with the number in bookmark. 曹元首六代論(P.2273) (1, 2)\n",
      "[Warning] Number of pieces are not match with the number in bookmark. 張茂先情詩二首(P.1369) (1, 2)\n",
      "[Warning] Number of pieces are not match with the number in bookmark. 劉公幹贈五官中郎將四首(P.1110) (1, 4)\n",
      "[Warning] Number of pieces are not match with the number in bookmark. 潘安仁河陽縣作二首(P.1221) (1, 2)\n",
      "[Warning] Number of pieces are not match with the number in bookmark. 嵇叔夜贈秀才入軍五首(P.1127) (1, 5)\n",
      "[Warning] Number of pieces are not match with the number in bookmark. 謝靈運擬魏太子鄴中集詩八首　并序 (9, 8)\n",
      "[Warning] Number of pieces are not match with the number in bookmark. 陸士衡挽歌詩三首(P.1333) (1, 3)\n",
      "[Warning] Number of pieces are not match with the number in bookmark. 任彥昇天監三年策秀才文三首(P.1660) (1, 3)\n",
      "[Warning] Number of pieces are not match with the number in bookmark. 宋玉九辯五首(P.1533) (1, 5)\n",
      "[Warning] Number of pieces are not match with the number in bookmark. 班孟堅兩都賦二首 (8, 2)\n",
      "[Warning] Number of pieces are not match with the number in bookmark. 左太沖招隱詩二首(P.1027) (1, 2)\n",
      "[Warning] Number of pieces are not match with the number in bookmark. 謝靈運初發石首城(P.1245) (1, 2)\n",
      "[Warning] Number of pieces are not match with the number in bookmark. 張景陽七命八首(P.1595) (1, 8)\n",
      "[Warning] Number of pieces are not match with the number in bookmark. 張景陽雜詩十首(P.1378) (1, 10)\n",
      "[Warning] Number of pieces are not match with the number in bookmark. 蘇子卿詩四首(P.1354) (1, 4)\n",
      "[Warning] Number of pieces are not match with the number in bookmark. 謝靈運述祖德詩二首(P.912) (1, 2)\n",
      "[Warning] Number of pieces are not match with the number in bookmark. 張平子四愁詩四首　并序(P.1356) (1, 4)\n",
      "[Warning] Number of pieces are not match with the number in bookmark. 陸士衡贈尚書郎顧彥先二首(P.1144) (1, 2)\n",
      "[Warning] Number of pieces are not match with the number in bookmark. 劉公幹贈從弟三首(P.1114) (1, 3)\n",
      "[Warning] Number of pieces are not match with the number in bookmark. 左太沖詠史八首(P.987) (1, 8)\n",
      "[Warning] Number of pieces are not match with the number in bookmark. 陸士龍為顧彥先贈婦二首(P.1164) (1, 2)\n",
      "[Warning] Number of pieces are not match with the number in bookmark. 王仲宣七哀詩二首(P.1087) (1, 2)\n",
      "[Warning] Number of pieces are not match with the number in bookmark. 王仲宣從軍詩五首(P.1269) (1, 5)\n",
      "[Warning] Number of pieces are not match with the number in bookmark. 魏文帝雜詩二首(P.1360) (1, 2)\n",
      "[Warning] Number of pieces are not match with the number in bookmark. 郭景純遊仙詩七首(P.1018) (1, 7)\n",
      "[Warning] Number of pieces are not match with the number in bookmark. 陶淵明雜詩二首(P.1390) (1, 2)\n",
      "[Warning] Number of pieces are not match with the number in bookmark. 王元長永明九年策秀才文五首(P.1644) (1, 5)\n",
      "[Warning] Number of pieces are not match with the number in bookmark. 枚叔七發八首(P.1559) (1, 8)\n",
      "[Warning] Number of pieces are not match with the number in bookmark. 陸士衡演連珠五十首(P.2383) (1, 50)\n",
      "[Warning] Number of pieces are not match with the number in bookmark. 顏延年宋郊祀歌二首(P.1274) (1, 2)\n",
      "[Warning] Number of pieces are not match with the number in bookmark. 古詩一十九首(P.1343) (1, 19)\n",
      "[Warning] Number of pieces are not match with the number in bookmark. 李少卿與蘇武詩三首(P.1352) (1, 3)\n",
      "[Warning] Number of pieces are not match with the number in bookmark. 王元長永明十一年策秀才文五首(P.1652) (1, 5)\n",
      "[Warning] Number of pieces are not match with the number in bookmark. 潘安仁在懷縣作二首(P.1225) (1, 2)\n",
      "[Warning] Number of pieces are not match with the number in bookmark. 陸士衡赴洛道中作二首(P.1231) (1, 2)\n"
     ]
    },
    {
     "data": {
      "text/plain": [
       "184"
      ]
     },
     "execution_count": 9,
     "metadata": {},
     "output_type": "execute_result"
    }
   ],
   "source": [
    "# count the difference between number in pages and number in bookmark\n",
    "difference = 0\n",
    "\n",
    "for path, num_of_pieces in paths_dict.items():\n",
    "    # capture the number of pieces in the bookmarks\n",
    "    for match in re.finditer(r'([一二三四五六七八九十]+?)首', path):\n",
    "        num_in_path = chinese_int_dict[match.group(1)]\n",
    "        \n",
    "    # compage num_of_pieces (in pages) and num_in_path (in bookmark)\n",
    "    if num_of_pieces != num_in_path:\n",
    "        print(\"[Warning] Number of pieces are not match with the number in bookmark.\", path, \n",
    "              (num_of_pieces, num_in_path))\n",
    "        difference += num_in_path - num_of_pieces\n",
    "        \n",
    "difference"
   ]
  },
  {
   "cell_type": "code",
   "execution_count": 10,
   "metadata": {},
   "outputs": [
    {
     "data": {
      "text/plain": [
       "766"
      ]
     },
     "execution_count": 10,
     "metadata": {},
     "output_type": "execute_result"
    }
   ],
   "source": [
    "len(wenxuan.paths) + difference"
   ]
  },
  {
   "cell_type": "markdown",
   "metadata": {},
   "source": [
    "It turns out very similar to the number in the wiki, so we are ok."
   ]
  }
 ],
 "metadata": {
  "hide_input": false,
  "kernelspec": {
   "display_name": "Python 3",
   "language": "python",
   "name": "python3"
  },
  "language_info": {
   "codemirror_mode": {
    "name": "ipython",
    "version": 3
   },
   "file_extension": ".py",
   "mimetype": "text/x-python",
   "name": "python",
   "nbconvert_exporter": "python",
   "pygments_lexer": "ipython3",
   "version": "3.6.1"
  }
 },
 "nbformat": 4,
 "nbformat_minor": 2
}
