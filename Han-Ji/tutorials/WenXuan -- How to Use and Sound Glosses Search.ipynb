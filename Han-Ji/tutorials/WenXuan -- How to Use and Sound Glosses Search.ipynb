{
 "cells": [
  {
   "cell_type": "code",
   "execution_count": 1,
   "metadata": {
    "collapsed": true
   },
   "outputs": [],
   "source": [
    "from WenXuan import WenXuan\n",
    "from bs4 import BeautifulSoup\n",
    "import re\n",
    "from matplotlib import pyplot as plt\n",
    "\n",
    "%matplotlib inline\n",
    "%config InlineBackend.figure_format = \"retina\""
   ]
  },
  {
   "cell_type": "markdown",
   "metadata": {},
   "source": [
    "# Organize WenXuan into Text and Comment Tuples\n",
    "\n",
    "In this notebook, we would try to split texts and commentaries in WenXuan into a list of tuples. The final goal is to analyze the 李善 commentaries in WenXuan. Because Han-Ji used smaller fontsize for both commentaries and sound glosses, we have to get rid of the sound glosses first."
   ]
  },
  {
   "cell_type": "markdown",
   "metadata": {},
   "source": [
    "## Loading Data for WenXuan\n",
    "\n",
    "At first, we can load the raw html pages from the `data/` folder. "
   ]
  },
  {
   "cell_type": "code",
   "execution_count": 2,
   "metadata": {},
   "outputs": [
    {
     "name": "stdout",
     "output_type": "stream",
     "text": [
      "[Info] Stop at loading data/wenshuan_rare_sinica_char_0582.html.\n",
      "[Info] Total length of the data is 582.\n"
     ]
    }
   ],
   "source": [
    "wenxuan = WenXuan(\"2018-06-02\", \"MF\" )\n",
    "wenxuan.bookname = \"wenshuan_rare_sinica_char\"\n",
    "wenxuan.load_htmls()"
   ]
  },
  {
   "cell_type": "code",
   "execution_count": 3,
   "metadata": {},
   "outputs": [
    {
     "data": {
      "text/plain": [
       "582"
      ]
     },
     "execution_count": 3,
     "metadata": {},
     "output_type": "execute_result"
    }
   ],
   "source": [
    "len(wenxuan.flat_bodies)"
   ]
  },
  {
   "cell_type": "markdown",
   "metadata": {},
   "source": [
    "In the `wenxuan.flat_bodies` attribute, we have a list of `bs4` object stands for the raw page from WenXuan. Because we want to design further methods to organize the information in WenXuan, saving a list of `bs4` objects could help us to save our time to looping over the HanJi web page repeatedly. "
   ]
  },
  {
   "cell_type": "markdown",
   "metadata": {},
   "source": [
    "## Get the List of Bookmark\n",
    "\n",
    "Since we have a list of `bs4` soup, we can loop over it and get the bookmark on every pages via, \n",
    "\n",
    "```python\n",
    "    for soup in self.flat_bodies:\n",
    "        # extract gobookmark\n",
    "        path  = soup.find('a', attrs={'class', 'gobookmark'}).text\n",
    "        self.paths.append(path)\n",
    "```\n",
    "and save in the `wenxuan.paths`.\n"
   ]
  },
  {
   "cell_type": "code",
   "execution_count": 4,
   "metadata": {
    "collapsed": true
   },
   "outputs": [],
   "source": [
    "wenxuan.extract_paths()"
   ]
  },
  {
   "cell_type": "code",
   "execution_count": null,
   "metadata": {},
   "outputs": [],
   "source": [
    "# preview some bookmarks\n",
    "wenxuan.paths[:5]"
   ]
  },
  {
   "cell_type": "markdown",
   "metadata": {},
   "source": [
    "## Extract MetaData \n",
    "\n",
    "The extraction of metadata is done by the organizing the bookmark. However, for the author names, we first extract the author names on every pages using `indent` & `padding` via `wenxuan.get_author_bag`, and `wenxuan.get_author_bag` will save author names and the comments attached on it to a `defaultdict(list)` in `wenxuan.author_bag`. And we will use the `author_bag` to cross-check the author names in the bookmarks."
   ]
  },
  {
   "cell_type": "code",
   "execution_count": 7,
   "metadata": {},
   "outputs": [
    {
     "name": "stdout",
     "output_type": "stream",
     "text": [
      "[Warning] No author name in 47 item, but got a tag. Attach this tag to previous author name 陸士衡.\n",
      "[Warning] No author name in 53 item, but got a tag. Attach this tag to previous author name 王子淵.\n",
      "[Warning] No author name in 62 item, but got a tag. Attach this tag to previous author name 曹子建.\n",
      "[Warning] No author name in 88 item, but got a tag. Attach this tag to previous author name 丘希範.\n",
      "[Warning] No author name in 95 item, but got a tag. Attach this tag to previous author name 謝玄暉.\n",
      "[Warning] No author name in 111 item, but got a tag. Attach this tag to previous author name 應璩.\n",
      "[Warning] No author name in 117 item, but got a tag. Attach this tag to previous author name 魏文帝.\n",
      "[Warning] No author name in 187 item, but got a tag. Attach this tag to previous author name 劉越石.\n",
      "[Warning] Author name, 飲馬長城窟行 in 244, is too long. Discard this one.\n",
      "[Warning] No author name in 244 item, but got a tag. Attach this tag to previous author name 顏延年.\n",
      "[Warning] No author name in 256 item, but got a tag. Attach this tag to previous author name 石季倫.\n",
      "[Warning] No author name in 324 item, but got a tag. Attach this tag to previous author name 王景玄.\n",
      "[Warning] No author name in 433 item, but got a tag. Attach this tag to previous author name 李令伯.\n",
      "[Warning] No author name in 495 item, but got a tag. Attach this tag to previous author name 陳孔璋.\n",
      "[Warning] Author name, 祖太祖高皇帝　父世祖武皇帝 in 575, is too long. Discard this one.\n"
     ]
    }
   ],
   "source": [
    "wenxuan.get_author_bag()"
   ]
  },
  {
   "cell_type": "markdown",
   "metadata": {},
   "source": [
    "The warning information shows that, for some comments of the author, the comments would possibly be cut off by the page divider. In that case, we would attach the comments to the previous author name in the same page."
   ]
  },
  {
   "cell_type": "code",
   "execution_count": 8,
   "metadata": {},
   "outputs": [
    {
     "data": {
      "text/plain": [
       "dict_keys(['班孟堅', '張平子', '薛綜注', '左太沖', '劉淵林注', '楊子雲', '潘安仁', '司馬長卿', '郭璞注', '徐爰注', '班叔皮', '曹大家', '王仲宣', '孫興公', '鮑明遠', '王文考', '張載注', '何平叔', '木玄虛', '郭景純', '宋玉', '謝惠連', '謝希逸', '賈誼', '禰正平', '張茂先', '顏延年', '舊注', '向子期', '陸士衡', '江文通', '王子淵', '傅武仲', '馬季長', '嵇叔夜', '成公子安', '曹子建', '束廣微', '謝靈運', '韋孟', '劉公幹', '應德璉', '陸士龍', '應吉甫', '謝宣遠', '范蔚宗', '丘希範', '沈休文', '孫子荊', '謝玄暉', '張景陽', '盧子諒', '虞子陽', '應璩', '何敬宗', '王康琚', '魏文帝', '殷仲文', '謝叔源', '徐敬業', '阮嗣宗', '顏延年\\u3000沈約等注', '歐陽堅石', '張孟陽', '任彥昇', '司馬紹統', '何敬祖', '潘正叔', '傅長虞', '郭泰機', '劉越石', '王僧達', '陸韓卿', '范彥龍', '陶淵明', '長歌行', '班婕妤', '魏武帝', '石季倫', '繆熙伯', '荊軻', '漢高祖', '李少卿', '蘇子卿', '傅休奕', '曹顏遠', '王正長', '棗道彥', '張季鷹', '王景玄', '袁陽源', '劉休玄', '屈平', '王逸注', '劉安', '枚叔', '漢武帝', '潘元茂', '傅季友', '王元長', '孔文舉', '諸葛孔明', '羊叔子', '李令伯', '張士然', '庾元規', '桓元子', '李斯', '鄒陽', '楊德祖', '繁休伯', '陳孔璋', '吳季重', '司馬子長', '楊子幼', '朱叔元', '阮元瑜', '應休璉', '趙景真', '劉孝標', '劉子駿', '孔德璋', '鍾士季', '宋\\u3000玉', '東方曼倩', '卜子夏', '鄭氏箋', '孔安國', '杜預', '皇甫士安', '史孝山', '劉伯倫', '夏侯孝若', '袁彥伯', '蔡邕注', '干令升', '賈\\u3000誼', '曹元首', '韋弘嗣', '李蕭遠', '劉孝標注', '崔子玉', '陸佐公', '蔡伯喈', '王仲寶', '主簡棲', '任彥升'])"
      ]
     },
     "execution_count": 8,
     "metadata": {},
     "output_type": "execute_result"
    }
   ],
   "source": [
    "# here are all the author names got from every pages\n",
    "wenxuan.author_bag.keys()"
   ]
  },
  {
   "cell_type": "code",
   "execution_count": 9,
   "metadata": {},
   "outputs": [
    {
     "name": "stdout",
     "output_type": "stream",
     "text": [
      "[Warning] No author name in the path, 集／總集／文選／卷第二十七　詩戊之一／樂府上／古樂府三首／飲馬長城窟行(P.1277).\n",
      "[Warning] No author name in the path, 集／總集／文選／卷第二十七　詩戊之一／樂府上／古樂府三首／傷歌行(P.1278).\n",
      "[Warning] No author name in the path, 集／總集／文選／卷第二十七　詩戊之一／樂府上／古樂府三首／長歌行(P.1279).\n",
      "[Warning] No author name in the path, 集／總集／文選／卷第二十九　詩己之一／雜詩上／古詩一十九首(P.1343).\n",
      "[Warning] No author name in the path, 集／總集／文選／卷第五十九　碑文下　墓誌／碑文下／王簡棲頭陁寺碑文(P.2527).\n",
      "[Warning] Path is too short, 集／總集／文選／附(P.2610). Only use title for metadata.\n"
     ]
    }
   ],
   "source": [
    "wenxuan.extract_meta() # Warning will print all the pages without an author name in bookmark"
   ]
  },
  {
   "cell_type": "markdown",
   "metadata": {},
   "source": [
    "Here we found an error in 集／總集／文選／卷第五十九　碑文下　墓誌／碑文下／王簡棲頭陁寺碑文. The author name we got in the raw page is 主簡棲, but we only have 王簡棲 in the bookmark."
   ]
  },
  {
   "cell_type": "code",
   "execution_count": 10,
   "metadata": {},
   "outputs": [
    {
     "data": {
      "text/plain": [
       "[defaultdict(str,\n",
       "             {'author': '班孟堅',\n",
       "              'category': '賦甲之一',\n",
       "              'genre': '京都上之一',\n",
       "              'scroll': '卷第一',\n",
       "              'title': '兩都賦二首/兩都賦序(P.1)'}),\n",
       " defaultdict(str,\n",
       "             {'author': '班孟堅',\n",
       "              'category': '賦甲之一',\n",
       "              'genre': '京都上之一',\n",
       "              'scroll': '卷第一',\n",
       "              'title': '兩都賦二首/西都賦(P.5)'}),\n",
       " defaultdict(str,\n",
       "             {'author': '班孟堅',\n",
       "              'category': '賦甲之一',\n",
       "              'genre': '京都上之一',\n",
       "              'scroll': '卷第一',\n",
       "              'title': '兩都賦二首/東都賦(P.23)'}),\n",
       " defaultdict(str,\n",
       "             {'author': '班孟堅',\n",
       "              'category': '賦甲之一',\n",
       "              'genre': '京都上之一',\n",
       "              'scroll': '卷第一',\n",
       "              'title': '兩都賦二首/東都賦/明堂詩(P.40)'}),\n",
       " defaultdict(str,\n",
       "             {'author': '班孟堅',\n",
       "              'category': '賦甲之一',\n",
       "              'genre': '京都上之一',\n",
       "              'scroll': '卷第一',\n",
       "              'title': '兩都賦二首/東都賦/辟雍詩(P.40)'})]"
      ]
     },
     "execution_count": 10,
     "metadata": {},
     "output_type": "execute_result"
    }
   ],
   "source": [
    "# here are the metadata dicts\n",
    "wenxuan.flat_meta[:5]"
   ]
  },
  {
   "cell_type": "markdown",
   "metadata": {},
   "source": [
    "# Organize the Text and Commentary Tuples\n",
    "\n",
    "In this step, we just put the nearby text and smaller fontsize together."
   ]
  },
  {
   "cell_type": "code",
   "execution_count": 11,
   "metadata": {
    "collapsed": true
   },
   "outputs": [],
   "source": [
    "wenxuan.heads2tuples()    # put head and all other thing behind a head to a tuple\n",
    "wenxuan.passages2tuples() # put text and the smaller fontsize behind it to a tuple"
   ]
  },
  {
   "cell_type": "code",
   "execution_count": 12,
   "metadata": {},
   "outputs": [
    {
     "data": {
      "text/plain": [
       "[('乃經靈臺，靈臺既崇。', '毛詩曰：經始靈臺，經之營之。'),\n",
       " ('帝勤時登，爰考休徵。', '東觀漢記曰：永平二年，詔曰：登靈臺，正儀度。休徵，已見上文。'),\n",
       " ('三光宣精，五行布序。', '淮南子曰：夫道，紘宇宙而章三光。高誘曰：三光，日、月、星也。尚書曰：五行：一曰水，二曰火，三曰木，四曰金，五曰土也。'),\n",
       " ('習習祥風，祁祁甘雨。',\n",
       "  '毛詩曰：習習谷風。禮斗威儀曰：君乘火而王，其政頌平，則祥風至。宋均曰：即景風也，其來長養萬物。毛詩曰：興雨祁祁。尚書考靈燿曰：熒惑順行，甘雨時也。'),\n",
       " ('百穀蓁蓁，庶草蕃', '音繁'),\n",
       " ('廡', '音武。韓詩曰：帥時農夫，播厥百穀。薛君曰：穀類非一，故言百也。又曰：蓁蓁者莪。薛君曰：蓁蓁，盛貌也。尚書曰：庶草蕃廡。'),\n",
       " ('屢惟豊年，於皇樂胥。', '毛詩曰：綏萬國，屢豐年。又曰：於皇時周。又曰：君子樂胥。')]"
      ]
     },
     "execution_count": 12,
     "metadata": {},
     "output_type": "execute_result"
    }
   ],
   "source": [
    "wenxuan.flat_passages[5]"
   ]
  },
  {
   "cell_type": "markdown",
   "metadata": {},
   "source": [
    "## Possible Methods to Cut Off the Sound Glosses\n",
    "\n",
    "Usually, the sound glosses are shorter than the true commentary. We could try out this hypothesis."
   ]
  },
  {
   "cell_type": "markdown",
   "metadata": {},
   "source": [
    "We could plot the lengths of every comments into a histogram."
   ]
  },
  {
   "cell_type": "code",
   "execution_count": 12,
   "metadata": {},
   "outputs": [
    {
     "data": {
      "text/plain": [
       "(array([1.7998e+04, 1.3620e+03, 2.0900e+02, 5.8000e+01, 1.9000e+01,\n",
       "        7.0000e+00, 4.0000e+00, 0.0000e+00, 1.0000e+00, 1.0000e+00]),\n",
       " array([   0. ,  103.6,  207.2,  310.8,  414.4,  518. ,  621.6,  725.2,\n",
       "         828.8,  932.4, 1036. ]),\n",
       " <a list of 10 Patch objects>)"
      ]
     },
     "execution_count": 12,
     "metadata": {},
     "output_type": "execute_result"
    },
    {
     "data": {
      "image/png": "[encoded data removed]",
      "text/plain": [
       "<Figure size 432x288 with 1 Axes>"
      ]
     },
     "metadata": {
      "image/png": {
       "height": 250,
       "width": 375
      }
     },
     "output_type": "display_data"
    }
   ],
   "source": [
    "plt.hist(\n",
    "    [len(c) for passage in wenxuan.flat_passages\n",
    "        for _,c in passage], log=1\n",
    ")"
   ]
  },
  {
   "cell_type": "markdown",
   "metadata": {},
   "source": [
    "The overall distribution range from 0 character to ~1,000 characters, but we only want to focus on shorter range, like 0 ~ 10 characters."
   ]
  },
  {
   "cell_type": "code",
   "execution_count": 13,
   "metadata": {},
   "outputs": [
    {
     "data": {
      "text/plain": [
       "(array([133., 526., 810., 168.,  12., 204., 105.,  86., 144., 325., 334.,\n",
       "        239., 289., 221., 359., 230., 234., 285., 530.]),\n",
       " array([ 0,  1,  2,  3,  4,  5,  6,  7,  8,  9, 10, 11, 12, 13, 14, 15, 16,\n",
       "        17, 18, 19]),\n",
       " <a list of 19 Patch objects>)"
      ]
     },
     "execution_count": 13,
     "metadata": {},
     "output_type": "execute_result"
    },
    {
     "data": {
      "image/png": "[encoded data removed]",
      "text/plain": [
       "<Figure size 432x288 with 1 Axes>"
      ]
     },
     "metadata": {
      "image/png": {
       "height": 250,
       "width": 377
      }
     },
     "output_type": "display_data"
    }
   ],
   "source": [
    "plt.hist(\n",
    "    [len(c) for passage in wenxuan.flat_passages\n",
    "        for _,c in passage], \n",
    "    bins=range(20)\n",
    ")"
   ]
  },
  {
   "cell_type": "markdown",
   "metadata": {},
   "source": [
    "There's a clear gap around 5 characters. Maybe we can try to set the limit to 5 characters."
   ]
  },
  {
   "cell_type": "code",
   "execution_count": 14,
   "metadata": {},
   "outputs": [
    {
     "name": "stdout",
     "output_type": "stream",
     "text": [
      "['', '', '音渾', '雉', '苦灰 ', '徒頰切', '直用', '徒南', '許覲', '竹交', '語', '紆元', '息亮', '庸 ', '丁敢', '蟻', '蒨', '樣', '以冉 ', '他結', '灌', '一作瑣 ', '亶', '移 ', '子廉', '七刀', '素頰', '赴', '祖管', '烏夭', '計', '烏瓜 ', '育', '口江', '莽', '五迴', '吟', '溪', '謬', '更黠', '并', '在官', '廷', '謹', '遲', '如涌', '骨 ', '呼答', '流', '隅', '汙', '將', '保', '吐雞', '徒濫', '薛', '直旅 ', '之餘', '萍計', '渠舉', '殺', '仕角', '力達', '逵', '去聲', '莫蒲', '烏覽', '於文', '胡內', '生', '傷', '邪', '步交', '資覩 ', '許力', '故蝶', '啼', '聊', '普郎', '心移', '呼亞', '于句', '將', '墳 ', '于鬼', '苦檻', '苦后', '莫構', '句', '公達 ', '盈', '紙', '尉', '於堯', '音蟻 ', '尋', '丙', '俊', '音託', '偉', '素', '居', '許勿', '平', '甲', '烏感', '古火', '蓄', '決', '五蓋', '步對', '呼光', '翊遵', '直氏', '披', '賾', '波', '縶', '去聲', '丁禮', '五賣', '稅', '胡角', '舛', '耽', '父', '魚檢', '音老', '亦', '了', '步交', '以占', '古', '以焦', '會', '惠', '一據', '徒南', '古侯。', '力割', '烏介', '', '以上 ', '丁鄧 ', '公鳥', '衛', '丑六', '丘軌 ', '魚勿', '宏', '亦', '魚桀', '徒感', '休', '胡甲', '以主', '以出', '七咸', '七林 ', '亦', '余兩', '交', '以出', '乙于 ', '匹帛', '苦合', '奴冷 ', '匹宏', '藥', '式染 ', '叔', '楚爽', '藥', '充制', '烏 ', '銀', '一眇', '直夷', '匹妙', '禮', '古玄', '忿', '慈聿', '普萌', '火宏', '皇', '舒感', '紆鬼', '助謹', '五骨', '勒', '烏宏', '胡猛', '莫令', '普抔', '我', '烏甲', '蒲沒', '骨', '遙', '蒲角', '團', '迷', '旋', '居', '烏懷', '條', '力殞', '沙', '留', '敖', '連', '於六', '陵', '魚儉', '聿季', '土登', '於危', '余兩', '止', '紛', '麗', '寂見', '奇', '羊', '了 ', '女又', '居', '徒鬭', '博', '亡氏', '', '胡皎', '丘殞 ', '力蹔 ', '其八。', '其七。', '', '', '', '', '', '', '音糜', '巨員反', '閑', '', '足俱', '一作孑 ', '音呂 ', '', '', '啼', '至', '', '', '', '昌占切', '', '', '苦改切', '川芮切', '居展切', '直追切', '子智切。', '柴懈切', '力割切', '居蟹切', '息惟切', '', '丁段切', '紫', '許記切', '', '音鬱', '必寐切', '平', '', '翊制', '', '許勿', '亘氏', '徒合', '徒兮', '九永', '由', '', '', '', '古', '火候反', '侍', '彼義', '徂刀', '蘇沒', '巨巾，', '方未', '五雞', '邈江', '苦耕', '亦', '計', '', '古買', '古犬', '竹利', '胡革', '衡，', '局', '征', '許為', '胡本', '骨', '朱靡', '飄', '許宜', '是支', '止', '央', '角', '古猛', '呼交', '的', '達彫', '傷閻', '離', '', '去聲', '導 ', '祖外']\n"
     ]
    }
   ],
   "source": [
    "print([c for passage in wenxuan.flat_passages\n",
    "    for _,c in passage if len(c) < 5][::5])"
   ]
  },
  {
   "cell_type": "markdown",
   "metadata": {},
   "source": [
    "It seems ok, but we noticed 3 character phrases were the phrases contained \"切\" or \"反\" or \"作\" or the decomposition of the rare characters. Also, we have to replace \" \" with \"\" and replace all punctuations. The irregularities are '其三。', '其八。', '其八。', '其六。', '其九。', '其七。', '其四。', I do not have a good strategy to strip them in current stage."
   ]
  },
  {
   "cell_type": "code",
   "execution_count": 16,
   "metadata": {},
   "outputs": [
    {
     "name": "stdout",
     "output_type": "stream",
     "text": [
      "['則工切', '馬黨切', '七亦切', '思衍切', '亡禹 ', '苦灰 ', '徒頰切', '以冉 ', '一作驅', '牛列切', '所交切', '其筆 ', '蒲葛 ', '巨宜 ', '子侯 ', '子小 ', '烏瓜 ', '烏交 ', '九六 ', '奇殞 ', '自吝 ', '知旅 ', '苦札 ', '步覓 ', '所蟹 ', '直旅 ', '陟滑 ', '尸然 ', '於問 ', '求癸 ', '古熒 ', '音旨 ', '扶刎 ', '資覩 ', '昌志 ', '在宗 ', '武蓋 ', '度羅 ', '許于 ', '胡剛 ', '徒蘭 ', '公達 ', '浦覓 ', '匹各 ', '音蟻 ', '在爵 ', '呼恭切', '詞翠切', '以良切', '烏朗切', '古侯。', '一龍反', '古雅 ', '以上 ', '丁達 ', '七感切', '卑遙 ', '丁鄧 ', '力鬼 ', '亡匪 ', '丘軌 ', '七林 ', '乃朗 ', '彼苗 ', '他答，', '乙于 ', '土含 ', '奴冷 ', '式染 ', '莫泠 ', '子工 ', '\\uf4d1\\uf6a4不', '呼甘 ', '具側 ', '行\\uf6a5童', '皮義 ', '市專 ', '古旦 ', '升豉 ', '九永 ', '丘殞 ', '力蹔 ', '其三。', '其八。', '其八。', '其六。', '其九。', '其七。', '其四。', '平聲 ', '巨員反', '女六切', '於宜反', '一作崎', '音呂 ', '音蜀 ', '徒河切', '於元切', '力救切', '土刀切', '女六切', '苦覓切', '奴教切', '胡卦切', '昌占切', '於紀切', '田證切', '之涉切', '苦改切', '苦結切', '古豆切', '川芮切', '七亦切', '亡粉切', '七忽，', '居展切', '初良切', '亡貝切', '子律切', '直追切', '巨依切', '史柱切', '都割切', '蒲沃切', '魚解切', '柴懈切', '七良切', '于偽切', '烏臥切', '力割切', '烏臥切', '胡定切', '居蟹切', '力而切', '勑律切', '息惟切', '七靖切', '他改切', '榮美切', '古臥切', '丁段切', '丁禮切', '呼歌切', '居綺切', '之石切', '昌待切', '一召切', '許記切', '火爰切', '之剩切', '子餘切', '一緣切', '必寐切', '力向，', '蘇勞，', '婢移切', '一侯切', '火候反', '女金反', '胥里反', '巨巾，', '蒲忽。', '亡粉反', '匹滅，', '何戴 ', '直用 ', '匹婢 ', '枯耽 ']\n"
     ]
    }
   ],
   "source": [
    "print([c for passage in wenxuan.flat_passages\n",
    "    for _,c in passage if len(c) == 3])"
   ]
  },
  {
   "cell_type": "markdown",
   "metadata": {},
   "source": [
    "## Punctuations Counting\n",
    "\n",
    "The followings were the tricky things I have done. The hypothesis here was that sound glosses could be divided into 2 categories:\n",
    "- **Only sound glosses in the comments**: we would get zero or one punctuation. (mistakes⁇ why putting punctuations in sound glosses 🤷)\n",
    "- **Sound glosses before 李善 commentary**: we could split `。` and get the sound glosses before first period. We should only the zero punctuation for sound glosses in this case."
   ]
  },
  {
   "cell_type": "markdown",
   "metadata": {},
   "source": [
    "So, this function simply count the total number of punctuations in a string based on items in `pun_bag`."
   ]
  },
  {
   "cell_type": "code",
   "execution_count": 17,
   "metadata": {},
   "outputs": [
    {
     "data": {
      "text/plain": [
       "7"
      ]
     },
     "execution_count": 17,
     "metadata": {},
     "output_type": "execute_result"
    }
   ],
   "source": [
    "def punctuation_count(phrase, pun_bag = {\"、\",\"。\", \"，\", \"？\", \"：\", \"；\", \"「\", \"」\"}):\n",
    "    '''Count num punctuactions in phrase based on a given pun_bag'''\n",
    "    return sum(phrase.count(p) for p in pun_bag)\n",
    "\n",
    "punctuation_count('東觀漢記曰：永平二年，詔曰：登靈臺，正儀度。休徵，已見上文。') # Yeh, 7 punctuations"
   ]
  },
  {
   "cell_type": "markdown",
   "metadata": {},
   "source": [
    "So, my suggestion for dividing these two types of commentaries are like this:"
   ]
  },
  {
   "cell_type": "code",
   "execution_count": 18,
   "metadata": {
    "scrolled": true
   },
   "outputs": [
    {
     "name": "stdout",
     "output_type": "stream",
     "text": [
      "CASE 1: 䨴 徒會 ('䨴', '徒會') \n",
      "\n",
      "CASE 2: 歷列辟而論功，無今日之至治 直之反。封禪書曰：歷選列辟。李尤平樂觀賦曰：披典籍以論功，蓋罔及乎大漢。莊子曰：容成氏、大庭氏，若此時至治也。 ('治', '直之反') \n",
      "\n"
     ]
    }
   ],
   "source": [
    "def test(text, comment):\n",
    "    if  (punctuation_count(comment) < 2 and # only count 0 or 1 punctuation\n",
    "        len(re.sub(r\"[、。，？：；「」]\", \"\", comment.replace(\" \", \"\"))) < 5 and  # restrict comment not longer than chars\n",
    "        comment != \"\"): # do not count \"\"\n",
    "        return (text[-1], comment)\n",
    "\n",
    "    elif (punctuation_count(comment.split(\"。\")[0]) == 0 and  # if there's no punctuation before period\n",
    "        0 < len(comment.split(\"。\")[0]) < 5): # if the length of comment before period < 5 and > 0\n",
    "        return (text[-1], comment.split(\"。\")[0])\n",
    "\n",
    "    else: return None\n",
    "\n",
    "# case 1\n",
    "text, comment = wenxuan.flat_passages[29][45]\n",
    "print(\"CASE 1:\", text, comment, test(text, comment), \"\\n\")\n",
    "\n",
    "# case 2\n",
    "text, comment = wenxuan.flat_passages[29][-12]\n",
    "print(\"CASE 2:\", text, comment, test(text, comment), \"\\n\")"
   ]
  },
  {
   "cell_type": "markdown",
   "metadata": {},
   "source": [
    "The hilarious thing is that `text[-1]` may refer to punctuation. 🤦‍"
   ]
  },
  {
   "cell_type": "code",
   "execution_count": 19,
   "metadata": {},
   "outputs": [
    {
     "name": "stdout",
     "output_type": "stream",
     "text": [
      "('冠', '古亂') What's going on? 其陰則冠\n",
      "('嵕', '子紅') What's going on? 以九嵕\n",
      "('觀', '古亂') What's going on? ，陪以甘泉，乃有靈宮起乎其中。秦漢之所極觀\n",
      "('爓', '音艷') What's going on? 發五色之渥彩，光爓\n",
      "('。', '謂光武也') What's going on? 於是聖皇乃握乾符，闡坤珍。披皇圖，稽帝文。赫然發憤，應若興雲。霆擊昆陽，憑怒雷震。\n",
      "('嵕', '則工切') What's going on? 秦嶺九嵕\n"
     ]
    }
   ],
   "source": [
    "for passage in wenxuan.flat_passages[:5]:\n",
    "    for text, comment in passage:\n",
    "        if test(text, comment) != None:\n",
    "            print(test(text, comment), \"What's going on?\", text)"
   ]
  },
  {
   "cell_type": "markdown",
   "metadata": {},
   "source": [
    "## Avoid Attaching Sound Glosses to Punctuations 🤦‍\n",
    "\n",
    "So the idea here is simple, just search backward and find the the character which is not a punctuation."
   ]
  },
  {
   "cell_type": "code",
   "execution_count": 20,
   "metadata": {
    "collapsed": true
   },
   "outputs": [],
   "source": [
    "def _backward_char_search(phrase, exclude = {\" \", \"、\",\"。\", \"，\", \"？\", \"：\", \"；\", \"「\", \"」\"}):\n",
    "    for char in phrase[::-1]:\n",
    "        if char not in exclude:\n",
    "            return char\n",
    "        else: continue"
   ]
  },
  {
   "cell_type": "code",
   "execution_count": 21,
   "metadata": {},
   "outputs": [
    {
     "data": {
      "text/plain": [
       "'震'"
      ]
     },
     "execution_count": 21,
     "metadata": {},
     "output_type": "execute_result"
    }
   ],
   "source": [
    "# Try it!\n",
    "_backward_char_search(\"於是聖皇乃握乾符，闡坤珍。披皇圖，稽帝文。赫然發憤，應若興雲。霆擊昆陽，憑怒雷震。\")"
   ]
  },
  {
   "cell_type": "markdown",
   "metadata": {},
   "source": [
    "Yeah."
   ]
  },
  {
   "cell_type": "markdown",
   "metadata": {},
   "source": [
    "## Wrap All Things Up"
   ]
  },
  {
   "cell_type": "code",
   "execution_count": 22,
   "metadata": {
    "collapsed": true
   },
   "outputs": [],
   "source": [
    "def _punctuation_count(phrase, pun_bag = {\"、\",\"。\", \"，\", \"？\", \"：\", \"；\", \"「\", \"」\"}):\n",
    "    '''Count num punctuactions in phrase based on a given pun_bag'''\n",
    "    return sum(phrase.count(p) for p in pun_bag)\n",
    "\n",
    "def _backward_char_search(phrase, exclude = {\" \", \"、\",\"。\", \"，\", \"？\", \"：\", \"；\", \"「\", \"」\"}):\n",
    "    '''Return the frist char which is not in exclude.'''\n",
    "    for char in phrase[::-1]:\n",
    "        if char not in exclude:\n",
    "            return char\n",
    "        else: continue            \n",
    "\n",
    "def _sound_glosses_check(text, comment):\n",
    "    '''Check the comment is a sound glosses or not.\n",
    "    If it is a sound glosses, return (character reffered to, sound) as a tuple.'''\n",
    "    if  (_punctuation_count(comment) < 2 and \n",
    "        len(re.sub(r\"[、。，？：；「」]\", \"\", comment.replace(\" \", \"\"))) < 5 and \n",
    "        comment != \"\"):\n",
    "        return _backward_char_search(text), re.sub(r\"[、。，？：；「」]\", \"\", comment)\n",
    "        \n",
    "    elif (_punctuation_count(comment.split(\"。\")[0]) == 0 and \n",
    "        0 < len(comment.split(\"。\")[0]) < 5):\n",
    "        return _backward_char_search(text), comment.split(\"。\")[0]\n",
    "    \n",
    "    else: return None\n",
    "    \n",
    "# A place to save sound glosses    \n",
    "sound_glosses = []\n",
    "\n",
    "for i,passage in enumerate(wenxuan.flat_passages):\n",
    "    for p,c in passage:\n",
    "        # check if c is a single phrase comment\n",
    "        sound_gloss = _sound_glosses_check(p, c)\n",
    "        if sound_gloss != None:\n",
    "            sound_glosses.append((i,) + sound_gloss)"
   ]
  },
  {
   "cell_type": "markdown",
   "metadata": {},
   "source": [
    "Apparently, comments with length 4 are not sound glosses. 😑"
   ]
  },
  {
   "cell_type": "code",
   "execution_count": 23,
   "metadata": {},
   "outputs": [
    {
     "name": "stdout",
     "output_type": "stream",
     "text": [
      "['謂光武也', '小渚曰阯', '侲之言善', '止戈曰武', '大鹿曰麟', '言自恣也', '皆竹名也', '正橫射也', '謂日磾也', '其色狀也', '謂建城也', '言將曉也', '言失度也', '誡群司也', '逝謂死也', '謂惠帝也', '言無常也', '訣與決同', '霞或為華', '在背曰被', '稽神明也', '吐詞情也', '刈蒿菅也', '被刑戮也', '承顏色也', '轉隨俗也', '普愛眾也', '安步徐也', '貨賂行也', '居朝堂也', '所念慮也', '皯黴黑也', '忠絜己也', '隨俗方圜', '從其俗也', '拂土芥也', '身消爛也', '沐浴陞朝', '柴棘為叢', '霧氣昧也', '心剝切也', '交錯扶疎', '走住殊異', '頓猶捨也', '謂大罵也', '血即淚也', '公謂曹操', '謂霍光也', '言難辭也', '禮記文也']\n"
     ]
    }
   ],
   "source": [
    "print([c for i,p,c in sound_glosses if len(c) == 4][::5])"
   ]
  },
  {
   "cell_type": "code",
   "execution_count": 24,
   "metadata": {
    "collapsed": true
   },
   "outputs": [],
   "source": [
    "## Just repeat the code above but changing the condition for len of the sound glosses\n",
    "def _sound_glosses_check(text, comment):\n",
    "    '''Check the comment is a sound glosses or not.\n",
    "    If it is a sound glosses, return (character reffered to, sound) as a tuple.'''\n",
    "    if  (_punctuation_count(comment) < 2 and \n",
    "        len(re.sub(r\"[、。，？：；「」]\", \"\", comment.replace(\" \", \"\"))) < 4 and \n",
    "        comment != \"\"):\n",
    "        return _backward_char_search(text), re.sub(r\"[、。，？：；「」]\", \"\", comment)\n",
    "        \n",
    "    elif (_punctuation_count(comment.split(\"。\")[0]) == 0 and \n",
    "        0 < len(comment.split(\"。\")[0]) < 4):\n",
    "        return _backward_char_search(text), comment.split(\"。\")[0]\n",
    "    \n",
    "    else: return None\n",
    "    \n",
    "# A place to save sound glosses    \n",
    "sound_glosses = []\n",
    "\n",
    "for i,passage in enumerate(wenxuan.flat_passages):\n",
    "    for p,c in passage:\n",
    "        # check if c is a single phrase comment\n",
    "        sound_gloss = _sound_glosses_check(p, c)\n",
    "        if sound_gloss != None:\n",
    "            sound_glosses.append((i,) + sound_gloss)"
   ]
  },
  {
   "cell_type": "code",
   "execution_count": 25,
   "metadata": {},
   "outputs": [
    {
     "name": "stdout",
     "output_type": "stream",
     "text": [
      "[(1, '冠', '古亂'), (8, '轢', '音歷'), (9, '蹐', '籍'), (9, '參', '所今'), (9, '蠯', '蒲佳'), (9, '軯', '普耕'), (9, '鉠', '於良切'), (9, '祧', '吐堯'), (9, '佶', '其栗'), (9, '斮', '側角'), (9, '陬', '子侯 '), (9, '覆', '赴'), (9, '蘖', '魚竭'), (10, '雘', '烏郭'), (10, '巇', '許宜'), (10, '\\ue0c0', '五結'), (10, '柍', '於兩'), (10, '籠', '龍'), (10, '濜', '自吝 '), (10, '淚', '力計'), (10, '薠', '煩'), (10, '鵾', '昆'), (10, '廡', '武'), (10, '滍', '秩履'), (10, '醢', '海'), (11, '當', '去聲'), (12, '崛', '魚物'), (12, '湯', '傷'), (12, '蒩', '資覩 '), (12, '荑', '啼'), (12, '楟', '亭 '), (12, '攢', '在官'), (12, '塏', '愷'), (12, '榔', '郎 '), (12, '摫', '規'), (12, '朅', '綺列'), (12, '摛', '勑離'), (13, '鼊', '辟'), (13, '殷', '上聲'), (13, '筑', '竹'), (13, '穗', '詞翠切'), (13, '酋', '自由'), (13, '著', '池著'), (13, '緡', '密巾'), (13, '喑', '廕'), (14, '湫', '子小'), (14, '\\uecb7', '楚洽'), (14, '蒻', '弱'), (14, '藏', '去'), (14, '衽', '而審'), (14, '系', '胡計切'), (21, '已', '射應也'), (26, '曒', '公鳥'), (28, '巋', '丘軌 '), (28, '磑', '五哀'), (29, '崖', '宜'), (29, '熠', '以入'), (30, '澹', '徒敢'), (30, '湠', '炭'), (30, '\\ue04c', '土含 '), (30, '潗', '側立'), (30, '鷸', '聿'), (30, '浤', '火宏'), (30, '惡', '烏 '), (30, '顱', '盧 '), (31, '澧', '禮'), (31, '豎', '樹'), (31, '濩', '穫'), (31, '渨', '紆鬼'), (31, '隒', '魚檢'), (31, '淵', '彎'), (31, '硪', '我'), (31, '鱣', '音亶'), (31, '鯼', '祖洪'), (31, '蝸', '古花反'), (31, '眸', '莫侯反'), (31, '嶼', '序'), (31, '橉', '力刃'), (31, '鯥', '六'), (31, '瀿', '煩'), (31, '摎', '居由'), (31, '委', '烏回'), (31, '相', '去'), (38, '罻', '尉'), (41, '行', '胡朗'), (71, '里', '其八'), (75, '湳', '奴感'), (82, '虞', '其一'), (86, '析', '錫 '), (88, '荇', '杏 '), (136, '青', '其一'), (168, '灼', '其二'), (169, '威', '其九'), (179, '沖', '其二'), (189, '猷', '其二'), (189, '旨', '其十七'), (197, '離', '其二'), (403, '戲', '平聲 '), (429, '禕', '於宜反'), (447, '駃', '決'), (458, '襜', '昌占切'), (470, '卒', '七忽'), (471, '眦', '柴懈切'), (476, '賁', '音肥'), (482, '過', '平聲'), (490, '陴', '婢移切'), (511, '躔', '直連'), (512, '駔', '祖朗'), (526, '詬', '火候反'), (532, '憚', '丁達'), (538, '喣', '況于'), (539, '惡', '烏'), (543, '罫', '古買'), (545, '核', '胡革'), (548, '鉦', '征'), (549, '汩', '骨'), (550, '巇', '許宜'), (562, '柿', '孚廢'), (562, '偵', '恥命'), (567, '珩', '行 '), (572, '膴', '武')]\n"
     ]
    }
   ],
   "source": [
    "print(sound_glosses[::15])"
   ]
  },
  {
   "cell_type": "markdown",
   "metadata": {},
   "source": [
    "Yeah, so far seems ok. "
   ]
  },
  {
   "cell_type": "markdown",
   "metadata": {},
   "source": [
    "## Put back to WenXuan Class\n",
    "\n",
    "This is the part of the WenXuan class. This part is the class methods we defined in this notebook:\n",
    "\n",
    "```python \n",
    "class WenXuan(Book):\n",
    "\n",
    "    ...\n",
    "\n",
    "    def _punctuation_count(self, phrase, pun_bag = {\"、\",\"。\", \"，\", \"？\", \"：\", \"；\", \"「\", \"」\"}):\n",
    "        '''Count num punctuactions in phrase based on a given pun_bag'''\n",
    "        return sum(phrase.count(p) for p in pun_bag)\n",
    "\n",
    "    def _backward_char_search(self, phrase, exclude = {\" \", \"、\",\"。\", \"，\", \"？\", \"：\", \"；\", \"「\", \"」\"}):\n",
    "        '''Return the frist char which is not in exclude.'''\n",
    "        for char in phrase[::-1]:\n",
    "            if char not in exclude:\n",
    "                return char\n",
    "            else: continue       \n",
    "\n",
    "    def _sound_glosses_check(self, text, comment):\n",
    "        '''Check the comment is a sound glosses or not.\n",
    "        If it is a sound glosses, return (character reffered to, sound) as a tuple.'''\n",
    "        if  (self._punctuation_count(comment) < 2 and \n",
    "            len(re.sub(r\"[、。，？：；「」]\", \"\", comment.replace(\" \", \"\"))) < 4 and \n",
    "            comment != \"\"):\n",
    "            return self._backward_char_search(text), re.sub(r\"[、。，？：；「」]\", \"\", comment)\n",
    "\n",
    "        elif (self._punctuation_count(comment.split(\"。\")[0]) == 0 and \n",
    "            0 < len(comment.split(\"。\")[0]) < 4):\n",
    "            return self._backward_char_search(text), comment.split(\"。\")[0]\n",
    "\n",
    "        else: return None\n",
    "\n",
    "    def extract_sound_glosses(self):\n",
    "        # A place to save sound glosses    \n",
    "        self.sound_glosses = []\n",
    "\n",
    "        for i,passage in enumerate(self.flat_passages):\n",
    "            for p,c in passage:\n",
    "                # check if c is a single phrase comment\n",
    "                sound_gloss = self._sound_glosses_check(p, c)\n",
    "                if sound_gloss != None:\n",
    "                    self.sound_glosses.append((i,) + sound_gloss)     \n",
    "```"
   ]
  },
  {
   "cell_type": "markdown",
   "metadata": {},
   "source": [
    "## (Added) Take Out Sound Glosses\n",
    "\n",
    "We not only want to get a bag of sound glosses as a dictionary but also want to remove sound gloss sentences in the original texts. To do that, we can use a new list to store the phrases with sound glosses and concatenate them to the next phrase without sound glosses."
   ]
  },
  {
   "cell_type": "code",
   "execution_count": 26,
   "metadata": {
    "collapsed": true
   },
   "outputs": [],
   "source": [
    "passage = wenxuan.flat_passages[5]"
   ]
  },
  {
   "cell_type": "code",
   "execution_count": 27,
   "metadata": {
    "collapsed": true
   },
   "outputs": [],
   "source": [
    "# A place to save sound glosses    \n",
    "new_passage = []\n",
    "\n",
    "p_preivous_buffer = ''\n",
    "for j,(p,c) in enumerate(passage):\n",
    "    # check if c is a single phrase comment\n",
    "    sound_gloss = _sound_glosses_check(p, c)\n",
    "    if sound_gloss != None:\n",
    "        p_preivous_buffer += p\n",
    "    else:\n",
    "        new_passage.append((p_preivous_buffer + p, c))\n",
    "        p_preivous_buffer = ''"
   ]
  },
  {
   "cell_type": "code",
   "execution_count": 28,
   "metadata": {},
   "outputs": [
    {
     "data": {
      "text/plain": [
       "[('乃經靈臺，靈臺既崇。', '毛詩曰：經始靈臺，經之營之。'),\n",
       " ('帝勤時登，爰考休徵。', '東觀漢記曰：永平二年，詔曰：登靈臺，正儀度。休徵，已見上文。'),\n",
       " ('三光宣精，五行布序。', '淮南子曰：夫道，紘宇宙而章三光。高誘曰：三光，日、月、星也。尚書曰：五行：一曰水，二曰火，三曰木，四曰金，五曰土也。'),\n",
       " ('習習祥風，祁祁甘雨。',\n",
       "  '毛詩曰：習習谷風。禮斗威儀曰：君乘火而王，其政頌平，則祥風至。宋均曰：即景風也，其來長養萬物。毛詩曰：興雨祁祁。尚書考靈燿曰：熒惑順行，甘雨時也。'),\n",
       " ('百穀蓁蓁，庶草蕃', '音繁'),\n",
       " ('廡', '音武。韓詩曰：帥時農夫，播厥百穀。薛君曰：穀類非一，故言百也。又曰：蓁蓁者莪。薛君曰：蓁蓁，盛貌也。尚書曰：庶草蕃廡。'),\n",
       " ('屢惟豊年，於皇樂胥。', '毛詩曰：綏萬國，屢豐年。又曰：於皇時周。又曰：君子樂胥。')]"
      ]
     },
     "execution_count": 28,
     "metadata": {},
     "output_type": "execute_result"
    }
   ],
   "source": [
    "passage"
   ]
  },
  {
   "cell_type": "code",
   "execution_count": 29,
   "metadata": {},
   "outputs": [
    {
     "data": {
      "text/plain": [
       "[('乃經靈臺，靈臺既崇。', '毛詩曰：經始靈臺，經之營之。'),\n",
       " ('帝勤時登，爰考休徵。', '東觀漢記曰：永平二年，詔曰：登靈臺，正儀度。休徵，已見上文。'),\n",
       " ('三光宣精，五行布序。', '淮南子曰：夫道，紘宇宙而章三光。高誘曰：三光，日、月、星也。尚書曰：五行：一曰水，二曰火，三曰木，四曰金，五曰土也。'),\n",
       " ('習習祥風，祁祁甘雨。',\n",
       "  '毛詩曰：習習谷風。禮斗威儀曰：君乘火而王，其政頌平，則祥風至。宋均曰：即景風也，其來長養萬物。毛詩曰：興雨祁祁。尚書考靈燿曰：熒惑順行，甘雨時也。'),\n",
       " ('百穀蓁蓁，庶草蕃廡屢惟豊年，於皇樂胥。', '毛詩曰：綏萬國，屢豐年。又曰：於皇時周。又曰：君子樂胥。')]"
      ]
     },
     "execution_count": 29,
     "metadata": {},
     "output_type": "execute_result"
    }
   ],
   "source": [
    "new_passage"
   ]
  },
  {
   "cell_type": "markdown",
   "metadata": {},
   "source": [
    "Wow, I notice we should take care of the punctuations inside the sound glosses. Otherwise, this '百穀蓁蓁，庶草蕃廡屢惟豊年，於皇樂胥。' would frequently happen."
   ]
  },
  {
   "cell_type": "markdown",
   "metadata": {},
   "source": [
    "## (Added) Bring Back the Inline Punctuations"
   ]
  },
  {
   "cell_type": "code",
   "execution_count": 30,
   "metadata": {
    "collapsed": true
   },
   "outputs": [],
   "source": [
    "sound_glosses = []\n",
    "new_flat_passages = []\n",
    "\n",
    "for i,passage in enumerate(wenxuan.flat_passages):\n",
    "    # A place to save sound glosses    \n",
    "    new_passage = []\n",
    "    p_preivous_buffer = ''\n",
    "    \n",
    "    for j,(p,c) in enumerate(passage):\n",
    "        # check if c is a single phrase comment\n",
    "        sound_gloss = _sound_glosses_check(p, c)\n",
    "        if sound_gloss != None:\n",
    "            sound_glosses.append((i,) + sound_gloss)\n",
    "            p_preivous_buffer += p\n",
    "\n",
    "            # CASE 2: Inline Sound Glosses\n",
    "            if len(c) >= 5:\n",
    "                if p_preivous_buffer[-1] != \"。\":\n",
    "                    p_preivous_buffer += \"。\"\n",
    "\n",
    "            # CASE 1: Single Phrase\n",
    "            elif re.search(r\"(.+)([、。，？：；「」])\", c) != None:\n",
    "                match = re.search(r\"(.+)([、。，？：；「」])\", c)\n",
    "                p_preivous_buffer += match.group(2)\n",
    "\n",
    "        else:\n",
    "            new_passage.append((p_preivous_buffer + p, c))\n",
    "            p_preivous_buffer = ''\n",
    "            \n",
    "    new_flat_passages.append(new_passage)"
   ]
  },
  {
   "cell_type": "code",
   "execution_count": 31,
   "metadata": {},
   "outputs": [
    {
     "name": "stdout",
     "output_type": "stream",
     "text": [
      "8 嵳峨崨嶫，。罔識所則。\n",
      "71 嗟爾庶士，胡寧自舍？。仁道不遐，德輶如羽。求焉斯至，眾鮮克舉。\n",
      "71 末伎之妙，動物應心。研精躭道，安有幽深？。安心恬蕩，棲志浮雲。體之以質，彪之以文。\n",
      "75 為法受惡，誰謂荼苦？。哀此黎元，無罪無辜。\n",
      "75 疇真可掩？孰偽可久？。既徵爾辭，既蔽爾訟。\n",
      "136 山中咸可悅，賞逐四時移。春光發壟首，秋風生桂枝。。多值息心侶，結架山之足。\n",
      "169 遊跨三春，情固二秋。。祗承皇命，出納無違。\n",
      "178 如彼蘭蕙，載採其芳。。藩岳作鎮，輔我京室。\n",
      "178 脩日朗月，攜手逍遙。。自我離群，二周于今。\n",
      "179 婉孌二宮，徘徊殿闥。醪澄莫饗，孰慰飢渴？。昔子忝私，貽我蕙蘭。\n",
      "187 芻狗之談，其最得乎？。咨余軟弱，弗克負荷。\n",
      "187 既孤我德，又闕我鄰。。光光段生，出幽遷喬。\n",
      "189 仰悲先意，俯思身愆。。大鈞載運，良辰遂往。\n"
     ]
    }
   ],
   "source": [
    "for i,passage in enumerate(new_flat_passages):\n",
    "    for p,_ in passage:\n",
    "        for match in re.finditer(r\"[、。，？：；][、。，？：；]\", p):\n",
    "            print(i, p)"
   ]
  },
  {
   "cell_type": "markdown",
   "metadata": {},
   "source": [
    "It is still not perfect!! 🤨  \n",
    "However, it would be too complicate if we add too many `if..then..` in to the control flow. We can deal with the duplicate punctuations afterward. "
   ]
  },
  {
   "cell_type": "markdown",
   "metadata": {},
   "source": [
    "So, we can update the method as:\n",
    "\n",
    "```python\n",
    "    def extract_sound_glosses(self, remove_sound_glosses=True):\n",
    "        new_flat_passages = []\n",
    "\n",
    "        for i,passage in enumerate(self.flat_passages):\n",
    "            # A place to save sound glosses    \n",
    "            new_passage = []\n",
    "            p_preivous_buffer = ''\n",
    "\n",
    "            for j,(p,c) in enumerate(passage):\n",
    "                # check if c is a single phrase comment\n",
    "                sound_gloss = self._sound_glosses_check(p, c)\n",
    "                if sound_gloss != None:\n",
    "                    p_preivous_buffer += p\n",
    "\n",
    "                    # CASE 2: Inline Sound Glosses\n",
    "                    if len(c) >= 5:\n",
    "                        if p_preivous_buffer[-1] != \"。\":\n",
    "                            p_preivous_buffer += \"。\"\n",
    "\n",
    "                    # CASE 1: Single Phrase\n",
    "                    elif re.search(r\"(.+)([、。，？：；「」])\", c) != None:\n",
    "                        match = re.search(r\"(.+)([、。，？：；「」])\", c)\n",
    "                        p_preivous_buffer += match.group(2)\n",
    "\n",
    "                else:\n",
    "                    new_passage.append((p_preivous_buffer + p, c))\n",
    "                    p_preivous_buffer = ''\n",
    "\n",
    "            new_flat_passages.append(new_passage)\n",
    "\n",
    "        if remove_sound_glosses:\n",
    "            self.flat_passages = new_flat_passages\n",
    "```"
   ]
  },
  {
   "cell_type": "markdown",
   "metadata": {},
   "source": [
    "### (Supplementary) Anti-Correlation between the Num of Single Phrase Sound Glosses and Sound Glosses Inline? \n",
    "\n",
    "While I was trying to find a page to test the `extract_sound_glosses` function, I found that it is difficult to find a good sample! I almost couldn't find a good sample to test inline sound glosses and single phrase sound glosses at the same time, so I guessed there would be some kind of anti-correlation there."
   ]
  },
  {
   "cell_type": "code",
   "execution_count": 32,
   "metadata": {
    "collapsed": true
   },
   "outputs": [],
   "source": [
    "# store (num_of_single_sound,  num_of_sound_inline)\n",
    "single_inline_pairs = []\n",
    "\n",
    "for i,passage in enumerate(wenxuan.flat_passages):\n",
    "    num_single = 0\n",
    "    num_inline = 0\n",
    "    \n",
    "    for j,(p,c) in enumerate(passage):\n",
    "        sound_gloss = _sound_glosses_check(p, c)\n",
    "        if sound_gloss != None:\n",
    "            \n",
    "            # check if c is a single phrase comment\n",
    "            if len(c) >= 5:\n",
    "                num_inline += 1\n",
    "                \n",
    "            # check if c is a single phrase comment\n",
    "            elif len(c) < 5:\n",
    "                num_single += 1\n",
    "                \n",
    "    single_inline_pairs.append((num_single, num_inline))"
   ]
  },
  {
   "cell_type": "code",
   "execution_count": 33,
   "metadata": {},
   "outputs": [
    {
     "data": {
      "text/plain": [
       "Text(0,0.5,'Num of Inline Phrase Sound Glosses in a Page')"
      ]
     },
     "execution_count": 33,
     "metadata": {},
     "output_type": "execute_result"
    },
    {
     "data": {
      "image/png": "[encoded data removed]",
      "text/plain": [
       "<Figure size 432x288 with 1 Axes>"
      ]
     },
     "metadata": {
      "image/png": {
       "height": 268,
       "width": 384
      }
     },
     "output_type": "display_data"
    }
   ],
   "source": [
    "plt.scatter(\n",
    "    [p[0] for p in single_inline_pairs if sum(p) > 0],\n",
    "    [p[1] for p in single_inline_pairs if sum(p) > 0], alpha=0.5\n",
    " )\n",
    "plt.xlabel(\"Num of Single Phrase Sound Glosses in a Page\")\n",
    "plt.ylabel(\"Num of Inline Phrase Sound Glosses in a Page\")"
   ]
  },
  {
   "cell_type": "code",
   "execution_count": 34,
   "metadata": {},
   "outputs": [
    {
     "data": {
      "text/plain": [
       "Text(0.5,0,'(Single Phrase Sound Glosses)/(Num of Sound Glosses)')"
      ]
     },
     "execution_count": 34,
     "metadata": {},
     "output_type": "execute_result"
    },
    {
     "data": {
      "image/png": "[encoded data removed]",
      "text/plain": [
       "<Figure size 432x288 with 1 Axes>"
      ]
     },
     "metadata": {
      "image/png": {
       "height": 263,
       "width": 377
      }
     },
     "output_type": "display_data"
    }
   ],
   "source": [
    "plt.hist([p[0] / sum(p) for p in single_inline_pairs if sum(p) > 0],)\n",
    "plt.xlabel(\"(Single Phrase Sound Glosses)/(Num of Sound Glosses)\")"
   ]
  },
  {
   "cell_type": "markdown",
   "metadata": {},
   "source": [
    "It appears that single phrase sound glosses did not bound with inline sound glosses too often. Therefore, in the above histogram, low frequency and high frequency of `(Single Phrase Sound Glosses)/(Num of Sound Glosses)` are clustering as different groups."
   ]
  }
 ],
 "metadata": {
  "hide_input": false,
  "kernelspec": {
   "display_name": "Python 3",
   "language": "python",
   "name": "python3"
  },
  "language_info": {
   "codemirror_mode": {
    "name": "ipython",
    "version": 3
   },
   "file_extension": ".py",
   "mimetype": "text/x-python",
   "name": "python",
   "nbconvert_exporter": "python",
   "pygments_lexer": "ipython3",
   "version": "3.6.1"
  }
 },
 "nbformat": 4,
 "nbformat_minor": 2
}
