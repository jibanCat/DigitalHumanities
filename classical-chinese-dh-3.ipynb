{
 "cells": [
  {
   "cell_type": "markdown",
   "metadata": {},
   "source": [
    "Classical Chinese DH: Regular expressions\n",
    "=====\n",
    "\n",
    "*By [Donald Sturgeon](https://dsturgeon.net/about)*\n",
    "\n",
    "\\[[View this notebook online](https://digitalsinology.org/classical-chinese-dh-regular-expressions)\\] \\[[Download this notebook](https://digitalsinology.org/notebooks/classical-chinese-dh-3.ipynb)\\] \\[[List of tutorials](https://digitalsinology.org/classical-chinese-digital-humanities/)\\]\n",
    "\n",
    "Regular expressions\n",
    "----\n",
    "\n",
    "A regular expression (a.k.a. regex or RE) is a pattern to be searched for in some body of text. These are not specific to Python, but by combining simple regular expressions with basic Python statements, we can quickly achieve powerful results.\n",
    "\n",
    "**Commonly used regex syntax**\n",
    "\n",
    "<table>\n",
    "<tr><td>.</td><td>Matches any one character exactly once</td></tr>\n",
    "<tr><td>[abcdef]</td><td>Matches any one of the characters a,b,c,d,e,f exactly once</td></tr>\n",
    "<tr><td>[^abcdef]</td><td>Matches any one character **other than** a,b,c,d,e,f</td></tr>\n",
    "<tr><td>?</td><td>After a character/group, makes that character/group optional (i.e. match zero or 1 times)</td></tr>\n",
    "<tr><td>?</td><td>After +, \\* or {...}, makes matching ungreedy (i.e. choose shortest match, not longest)</td></tr>\n",
    "<tr><td>*</td><td>After a character/group, makes that character/group match zero or more times</td></tr>\n",
    "<tr><td>+</td><td>After a character/group, makes that character/group match one or more times</td></tr>\n",
    "<tr><td>{2,5}</td><td>After a character/group, makes that character/group match 2,3,4, or 5 times</td></tr>\n",
    "<tr><td>{2,}</td><td>After a character/group, makes that character/group match 2 or more times</td></tr>\n",
    "<tr><td>\\3</td><td>Matches whatever was matched into group number 3 (first group from left is numbered 1)</td></tr>\n",
    "</table>\n",
    "\n",
    "To use regexes in Python, we use another module called \"re\" (this is a very common module and should  already be installed)."
   ]
  },
  {
   "cell_type": "code",
   "execution_count": 1,
   "metadata": {},
   "outputs": [
    {
     "name": "stdout",
     "output_type": "stream",
     "text": [
      "Found a match: 上德\n",
      "Found a match: 不德\n",
      "Found a match: 有德\n",
      "Found a match: 下德\n",
      "Found a match: 失德\n",
      "Found a match: 無德\n",
      "Found a match: 上德\n",
      "Found a match: 下德\n",
      "Found a match: 後德\n",
      "Found a match: 失德\n"
     ]
    }
   ],
   "source": [
    "import re\n",
    "\n",
    "laozi = \"上德不德，是以有德；下德不失德，是以無德。上德無為而無以為；下德為之而有以為。上仁為之而無以為；上義為之而有以為。上禮為之而莫之應，則攘臂而扔之。故失道而後德，失德而後仁，失仁而後義，失義而後禮。\"\n",
    "\n",
    "for match in re.finditer(r\".德\", laozi):  # re.finditer returns \"match objects\", each of which describes one match\n",
    "    matched_text = match.group(0)        # In Python, group(0) matches the full text that was found\n",
    "    print(\"Found a match: \" + matched_text)"
   ]
  },
  {
   "cell_type": "markdown",
   "metadata": {},
   "source": [
    "[Aside: in Python, regexes are often written in strings with a \"r\" in front of them, e.g. **r\"德\"** rather than just **\"德\"**. All this does is tells Python not to try to interpret the contents of the string (e.g. backslashes) as meaning something else. The result of **r\"德\"** is still an ordinary string variable with **德** in it.]"
   ]
  },
  {
   "cell_type": "markdown",
   "metadata": {},
   "source": [
    "**Exercise 1** (very easy): Change the above code to verify the results of some of the simple example regexes from the slides. Try these ones:\n",
    "* 而無以為\n",
    "* 是以.德\n",
    "* 失.而後.\n",
    "* 上[仁義]為之\n",
    "* 後(.)，失\\1\n",
    "\n",
    "For the last of these (\"後(.)，失\\1\"), see what happens to the output when you change group(0) to group(1). (Change it back to group(0) afterwards though, as we will reuse this code using group(0).)\n"
   ]
  },
  {
   "cell_type": "code",
   "execution_count": 2,
   "metadata": {},
   "outputs": [
    {
     "name": "stdout",
     "output_type": "stream",
     "text": [
      "Found a match: 而無以為; group: 0\n",
      "Found a match: 而無以為; group: 0\n",
      "Found a match: 是以有德; group: 0\n",
      "Found a match: 是以無德; group: 0\n",
      "Found a match: 上仁為之; group: 0\n",
      "Found a match: 上義為之; group: 0\n"
     ]
    }
   ],
   "source": [
    "def foud_a_match(input_string, passage, group=0):\n",
    "    for match in re.finditer(input_string, passage): \n",
    "        matched_text = match.group(group)       \n",
    "        print(\"Found a match: {}; group: {}\".format(matched_text, group))\n",
    "        \n",
    "foud_a_match('而無以為', laozi)\n",
    "foud_a_match('是以.德', laozi)\n",
    "foud_a_match('上[仁義]為之', laozi)\n",
    "foud_a_match('後(.)，失\\1', laozi)\n",
    "foud_a_match('後(.)，失\\1', laozi, group=1) # nothing happens ..."
   ]
  },
  {
   "cell_type": "markdown",
   "metadata": {},
   "source": [
    "**Exercise 2**: Write regular expressions to match the following things (you can keep on modifying the example above to check that they work, but you may want to write down your answers somewhere - remember, you can edit this cell by double-clicking on it).\n",
    "* Match any three characters where the middle character is \"之\" - i.e. \"為之而\", \"莫之應\", etc. Modify your regex so that it does **not** match things with punctuation in them, like \"扔之。\".\n",
    "* Match each \"phrase\" (i.e. punctuated section) of the text. In other words, the first match should be \"上德不德\", the second should be \"是以有德\", and so on. You only need to handle the three punctuation marks \"。\", \"，\", and \"；\".\n",
    "* Match each phrase which contains the term \"之\" in it. (Double check that you get 5 matches.)\n"
   ]
  },
  {
   "cell_type": "code",
   "execution_count": 3,
   "metadata": {},
   "outputs": [
    {
     "data": {
      "text/plain": [
       "['為之而', '為之而', '為之而', '為之而', '莫之應']"
      ]
     },
     "execution_count": 3,
     "metadata": {},
     "output_type": "execute_result"
    }
   ],
   "source": [
    "[match.group(0) for match in re.finditer(r'[^，。；]之[^，。；]', laozi)]"
   ]
  },
  {
   "cell_type": "code",
   "execution_count": 4,
   "metadata": {},
   "outputs": [
    {
     "data": {
      "text/plain": [
       "['上德不德',\n",
       " '是以有德',\n",
       " '下德不失德',\n",
       " '是以無德',\n",
       " '上德無為而無以為',\n",
       " '下德為之而有以為',\n",
       " '上仁為之而無以為',\n",
       " '上義為之而有以為',\n",
       " '上禮為之而莫之應',\n",
       " '則攘臂而扔之',\n",
       " '故失道而後德',\n",
       " '失德而後仁',\n",
       " '失仁而後義',\n",
       " '失義而後禮',\n",
       " '']"
      ]
     },
     "execution_count": 4,
     "metadata": {},
     "output_type": "execute_result"
    }
   ],
   "source": [
    "re.split('，|；|。', laozi) # | stands for 'or'"
   ]
  },
  {
   "cell_type": "code",
   "execution_count": 5,
   "metadata": {},
   "outputs": [
    {
     "data": {
      "text/plain": [
       "['下德為之而有以為', '上仁為之而無以為', '上義為之而有以為', '上禮為之而莫之應', '則攘臂而扔之']"
      ]
     },
     "execution_count": 5,
     "metadata": {},
     "output_type": "execute_result"
    }
   ],
   "source": [
    "list(filter(lambda x: '之' in x, re.split('，|；|。', laozi)))"
   ]
  },
  {
   "cell_type": "markdown",
   "metadata": {},
   "source": [
    "We can do the same kind of thing on an entire text in one go **if we have the whole text in a single string**, as in the next example. (If we wanted to know which *paragraph* or *chapter* each match appeared in, we would want to run the same regex on each paragraph or chapter in turn so that we know which paragraph or chapter each match occurs in.)"
   ]
  },
  {
   "cell_type": "code",
   "execution_count": 6,
   "metadata": {
    "scrolled": true
   },
   "outputs": [
    {
     "name": "stdout",
     "output_type": "stream",
     "text": [
      "足，\n",
      "足。\n",
      "足，\n",
      "足，\n",
      "足者\n",
      "足見\n",
      "足聞\n",
      "足既\n",
      "足以\n",
      "足；\n",
      "足不\n",
      "足；\n",
      "足之\n",
      "足，\n",
      "足矣\n",
      "足以\n",
      "足下\n",
      "足者\n",
      "足。\n",
      "足以\n"
     ]
    }
   ],
   "source": [
    "from ctext import *\n",
    "setapikey(\"demo\")\n",
    "\n",
    "# The gettextasstring function gives us a single string variable with the whole text in it\n",
    "laozi = gettextasstring(\"ctp:dao-de-jing\")\n",
    "\n",
    "for match in re.finditer(r\"足.\", laozi):\n",
    "    matched_text = match.group(0)\n",
    "    print(matched_text)"
   ]
  },
  {
   "cell_type": "markdown",
   "metadata": {},
   "source": [
    "**Exercise 3**\n",
    "\n",
    "* Often we don't want to include matches that have punctuation in them. Modify the regex from the last example so that it **excludes** all the matches where the character after \"足\" is \"，\", \"。\", or \"；\". (You should do this by modifying the regex; the rest of the code does not need to change.)\n",
    "\n",
    "* Find all the occurrences of X可X - i.e. \"道可道\" and \"名可名\" (there is one more item that should be matched too).\n",
    "\n",
    "* Modify your regex so you match all occurrences of XYX - i.e. not just \"道可道\" but also things like \"學不學\". You may need to make some changes to avoid matching punctuation - we don't want to match \"三，三\" or \"、寡、\".\n"
   ]
  },
  {
   "cell_type": "code",
   "execution_count": 7,
   "metadata": {},
   "outputs": [
    {
     "name": "stdout",
     "output_type": "stream",
     "text": [
      "足者\n",
      "足見\n",
      "足聞\n",
      "足既\n",
      "足以\n",
      "足不\n",
      "足之\n",
      "足矣\n",
      "足以\n",
      "足下\n",
      "足者\n",
      "足以\n"
     ]
    }
   ],
   "source": [
    "# You code goes here!\n",
    "for match in re.finditer(r\"足[^；。，]\", laozi):\n",
    "    matched_text = match.group(0)\n",
    "    print(matched_text)"
   ]
  },
  {
   "cell_type": "code",
   "execution_count": 8,
   "metadata": {},
   "outputs": [
    {
     "data": {
      "text/plain": [
       "['道可道', '名可名', '不可不']"
      ]
     },
     "execution_count": 8,
     "metadata": {},
     "output_type": "execute_result"
    }
   ],
   "source": [
    "# You code goes here!\n",
    "[match.group(0) for match in re.finditer(r'(.)可\\1', laozi)]"
   ]
  },
  {
   "cell_type": "code",
   "execution_count": 9,
   "metadata": {},
   "outputs": [
    {
     "data": {
      "text/plain": [
       "['道可道',\n",
       " '名可名',\n",
       " '無知無',\n",
       " '為無為',\n",
       " '身而身',\n",
       " '身而身',\n",
       " '狀之狀',\n",
       " '不可不',\n",
       " '唯恍唯',\n",
       " '兮恍兮',\n",
       " '兮忽兮',\n",
       " '兮冥兮',\n",
       " '兮寥兮',\n",
       " '或行或',\n",
       " '或歔或',\n",
       " '或強或',\n",
       " '或挫或',\n",
       " '而生而',\n",
       " '德不德',\n",
       " '譽無譽',\n",
       " '若存若',\n",
       " '不笑不',\n",
       " '足之足',\n",
       " '心為心',\n",
       " '之育之',\n",
       " '之毒之',\n",
       " '之覆之',\n",
       " '身觀身',\n",
       " '家觀家',\n",
       " '鄉觀鄉',\n",
       " '國觀國',\n",
       " '為無為',\n",
       " '事無事',\n",
       " '味無味',\n",
       " '欲不欲',\n",
       " '學不學',\n",
       " '行無行',\n",
       " '知不知',\n",
       " '或利或',\n",
       " '殺者殺']"
      ]
     },
     "execution_count": 9,
     "metadata": {},
     "output_type": "execute_result"
    }
   ],
   "source": [
    "# You code goes here!\n",
    "# () does matter\n",
    "[match.group(0) for match in re.finditer(r'([^，。；、])[^，。；、]\\1', laozi)]"
   ]
  },
  {
   "cell_type": "markdown",
   "metadata": {},
   "source": [
    "\n",
    "**Exercise 4**: (*Optional*) Using what was covered in the previous tutorial, write a program in the cell below to perform one of these searches again, but this time running it once on each paragraph in turn so that you can also print out the number of the passage in which each match occurs."
   ]
  },
  {
   "cell_type": "code",
   "execution_count": 10,
   "metadata": {},
   "outputs": [
    {
     "name": "stdout",
     "output_type": "stream",
     "text": [
      "0\t道可道\n",
      "0\t名可名\n",
      "2\t無知無\n",
      "2\t為無為\n",
      "6\t身而身\n",
      "6\t身而身\n",
      "13\t狀之狀\n",
      "19\t不可不\n",
      "20\t唯恍唯\n",
      "20\t兮恍兮\n",
      "20\t兮忽兮\n",
      "20\t兮冥兮\n",
      "24\t兮寥兮\n",
      "28\t或行或\n",
      "28\t或歔或\n",
      "28\t或強或\n",
      "28\t或挫或\n",
      "33\t而生而\n",
      "37\t德不德\n",
      "38\t譽無譽\n",
      "40\t若存若\n",
      "40\t不笑不\n",
      "45\t足之足\n",
      "48\t心為心\n",
      "50\t之育之\n",
      "50\t之毒之\n",
      "50\t之覆之\n",
      "53\t身觀身\n",
      "53\t家觀家\n",
      "53\t鄉觀鄉\n",
      "53\t國觀國\n",
      "62\t為無為\n",
      "62\t事無事\n",
      "62\t味無味\n",
      "63\t欲不欲\n",
      "63\t學不學\n",
      "68\t行無行\n",
      "70\t知不知\n",
      "72\t或利或\n",
      "73\t殺者殺\n"
     ]
    }
   ],
   "source": [
    "passages = gettextasparagraphlist(\"ctp:dao-de-jing\")\n",
    "\n",
    "# Your code goes here!\n",
    "for i, passage in enumerate(passages):\n",
    "    for match in re.finditer(r'([^，。；、])[^，。；、]\\1', passage):\n",
    "        print('{}\\t{}'.format(i, match.group(0)), )"
   ]
  },
  {
   "cell_type": "markdown",
   "metadata": {},
   "source": [
    "Dictionary variables\n",
    "----\n",
    "One of the advantages of using regexes from within a programming language like Python is that as well as simply finding results, we can easily do things to collate our data, such as count up how many times a regex gave various different results. Another type of variable that is useful here is the \"dictionary\" variable.\n",
    "\n",
    "A dictionary variable works in a very similar way to a list, except that whereas in a list the items are numbered 0,1,2,... and accessed using these numbers, a dictionary uses other things - in the case we will look at, strings - to identify the items. This lets us \"look up\" values for different strings, just like looking up the translation of a word in a dictionary. The things we use instead of numbers to \"look up\" values in a dictionary are called \"**keys**\".\n",
    "\n",
    "Dictionaries can be defined in Python using the following notation:"
   ]
  },
  {
   "cell_type": "code",
   "execution_count": 11,
   "metadata": {
    "collapsed": true
   },
   "outputs": [],
   "source": [
    "my_titles = {\"論語\": \"Analects\", \"孟子\": \"Mengzi\", \"荀子\": \"Xunzi\"}"
   ]
  },
  {
   "cell_type": "markdown",
   "metadata": {},
   "source": [
    "The above example defines one dictionary variable called \"my_titles\", and sets values for three keys: \"論語\", \"孟子\", and \"荀子\". Each of these keys is set to have the corresponding value (\"Analects\", \"Mengzi\", and \"Xunzi\" respectively). In this simple example, our dictionary gives us a way of translating Chinese-language titles into English-language titles.\n",
    "\n",
    "We can access the items in a dictionary in a very similar way to accessing items from a list:"
   ]
  },
  {
   "cell_type": "code",
   "execution_count": 12,
   "metadata": {},
   "outputs": [
    {
     "name": "stdout",
     "output_type": "stream",
     "text": [
      "Analects\n"
     ]
    }
   ],
   "source": [
    "print(my_titles[\"論語\"])"
   ]
  },
  {
   "cell_type": "code",
   "execution_count": 13,
   "metadata": {},
   "outputs": [
    {
     "name": "stdout",
     "output_type": "stream",
     "text": [
      "Xunzi\n"
     ]
    }
   ],
   "source": [
    "print(my_titles[\"荀子\"])"
   ]
  },
  {
   "cell_type": "markdown",
   "metadata": {},
   "source": [
    "Unlike in a list, our items don't have numbers, and don't come in any particular order. So one thing we will sometimes need to do is to get a list of all the keys - i.e., a list telling us what things there are in our dictionary."
   ]
  },
  {
   "cell_type": "code",
   "execution_count": 14,
   "metadata": {},
   "outputs": [
    {
     "name": "stdout",
     "output_type": "stream",
     "text": [
      "['論語', '孟子', '荀子']\n"
     ]
    }
   ],
   "source": [
    "list_of_titles = list(my_titles.keys())\n",
    "print(list_of_titles)"
   ]
  },
  {
   "cell_type": "markdown",
   "metadata": {},
   "source": [
    "Often we will store numbers in our dictionary; the keys will be strings, but the value for each key will be a number. This lets us do things like count how many times we've seen some particular string - for *all* of the strings we happen to come across at the same time, using just one dictionary variable. In cases like this, we will often want to sort the dictionary by the values of the keys. One way of doing this is using the \"sorted\" function:"
   ]
  },
  {
   "cell_type": "code",
   "execution_count": 15,
   "metadata": {},
   "outputs": [
    {
     "name": "stdout",
     "output_type": "stream",
     "text": [
      "王韜 was born in 1828\n",
      "梁啟超 was born in 1873\n",
      "魯迅 was born in 1881\n",
      "胡適 was born in 1891\n",
      "茅盾 was born in 1896\n"
     ]
    }
   ],
   "source": [
    "# In this example, we use a dictionary to record people's year of birth\n",
    "# Then we sort the keys (i.e. the names) by the values (i.e. year of birth)\n",
    "\n",
    "year_of_birth = {\"胡適\": 1891, \"梁啟超\": 1873, \"茅盾\": 1896, \"王韜\": 1828, \"魯迅\": 1881}\n",
    "list_of_people = sorted(year_of_birth, key=year_of_birth.get, reverse=False)\n",
    "for name in list_of_people:\n",
    "    print(name + \" was born in \" + str(year_of_birth[name]))"
   ]
  },
  {
   "cell_type": "markdown",
   "metadata": {},
   "source": [
    "Don't worry about the rather complex looking syntax for `sorted()` - you can just follow this model whenever you need to sort a dictionary (and change `\"reverse=False\"` to `\"reverse=True\"` if you want to reverse the list):\n",
    "```python\n",
    "    list_of_keys = sorted(my_dictionary, key=my_dictionary.get, reverse=False)\n",
    "```    \n",
    "Using a dictionary, we can keep track of every regex result we found, and at the same time collate the data. Instead of having a long list with repeated items in it, we build a dictionary in which the keys are the unique regex matches, and the values are the number of times we have seen that particular string."
   ]
  },
  {
   "cell_type": "code",
   "execution_count": 16,
   "metadata": {},
   "outputs": [
    {
     "name": "stdout",
     "output_type": "stream",
     "text": [
      "match_count contains: {'之為': 3, '無為': 11, '。為': 7, '不為': 8, '敢為': 5, '物為': 1, '姓為': 1, '能為': 3, '，為': 11, '以為': 18, '人為': 2, '寵為': 1, '身為': 2, '而為': 4, '善為': 3, '強為': 2, '一為': 1, '孰為': 1, '重為': 1, '靜為': 3, '則為': 2, '可為': 1, '淡為': 1, '名為': 1, '自為': 1, '德為': 1, '仁為': 1, '義為': 1, '禮為': 1, '賤為': 2, '下為': 1, '心為': 1, '歙為': 1, '是為': 1, '故為': 2, '復為': 2, '宜為': 1, '有為': 1, '生為': 1}\n",
      "以為 occurred 18 times.\n",
      "無為 occurred 11 times.\n",
      "，為 occurred 11 times.\n",
      "不為 occurred 8 times.\n",
      "。為 occurred 7 times.\n",
      "敢為 occurred 5 times.\n",
      "而為 occurred 4 times.\n",
      "之為 occurred 3 times.\n",
      "能為 occurred 3 times.\n",
      "善為 occurred 3 times.\n",
      "靜為 occurred 3 times.\n",
      "人為 occurred 2 times.\n",
      "身為 occurred 2 times.\n",
      "強為 occurred 2 times.\n",
      "則為 occurred 2 times.\n",
      "賤為 occurred 2 times.\n",
      "故為 occurred 2 times.\n",
      "復為 occurred 2 times.\n",
      "物為 occurred 1 times.\n",
      "姓為 occurred 1 times.\n",
      "寵為 occurred 1 times.\n",
      "一為 occurred 1 times.\n",
      "孰為 occurred 1 times.\n",
      "重為 occurred 1 times.\n",
      "可為 occurred 1 times.\n",
      "淡為 occurred 1 times.\n",
      "名為 occurred 1 times.\n",
      "自為 occurred 1 times.\n",
      "德為 occurred 1 times.\n",
      "仁為 occurred 1 times.\n",
      "義為 occurred 1 times.\n",
      "禮為 occurred 1 times.\n",
      "下為 occurred 1 times.\n",
      "心為 occurred 1 times.\n",
      "歙為 occurred 1 times.\n",
      "是為 occurred 1 times.\n",
      "宜為 occurred 1 times.\n",
      "有為 occurred 1 times.\n",
      "生為 occurred 1 times.\n"
     ]
    }
   ],
   "source": [
    "match_count = {}  # This tells Python that we're going to use match_count as a dictionary variable\n",
    "\n",
    "for match in re.finditer(r\"(.)為\", laozi):\n",
    "    matched_text = match.group(0)  # e.g. \"心為\"\n",
    "    if not matched_text in match_count:\n",
    "        match_count[matched_text] = 0  # If we don't do this, Python will give an error on the following line\n",
    "    match_count[matched_text] = match_count[matched_text] + 1\n",
    "\n",
    "# Our dictionary now contains a frequency count of each different pair we found\n",
    "print(\"match_count contains: \" + str(match_count))\n",
    "\n",
    "# The sorted() function gets us a list of the items we matched, starting with the most frequent\n",
    "unique_items = sorted(match_count, key=match_count.get, reverse=True)\n",
    "for item in unique_items:\n",
    "    print(item + \" occurred \" + str(match_count[item]) + \" times.\")"
   ]
  },
  {
   "cell_type": "markdown",
   "metadata": {},
   "source": [
    "We can use this idea and almost exactly the same code to start answering quite complex questions about patterns appearing in texts. This code can tell us which actual phrases matching a certain pattern occurred most frequently.\n",
    "\n",
    "For example, in poetry we often find various kinds of repetition. We can use part of the 詩經 as an example, and using a regex quickly find out which repeated XYXY patterns are most common:"
   ]
  },
  {
   "cell_type": "code",
   "execution_count": 18,
   "metadata": {},
   "outputs": [],
   "source": [
    "shijing = gettextasstring(\"ctp:book-of-poetry/lessons-from-the-states\")"
   ]
  },
  {
   "cell_type": "code",
   "execution_count": 19,
   "metadata": {},
   "outputs": [
    {
     "name": "stdout",
     "output_type": "stream",
     "text": [
      "委蛇委蛇 occurred 3 times.\n",
      "歸哉歸哉 occurred 3 times.\n",
      "懷哉懷哉 occurred 3 times.\n",
      "碩鼠碩鼠 occurred 3 times.\n",
      "子兮子兮 occurred 3 times.\n",
      "舍旃舍旃 occurred 3 times.\n",
      "如何如何 occurred 3 times.\n",
      "式微式微 occurred 2 times.\n",
      "蘀兮蘀兮 occurred 2 times.\n",
      "悠哉悠哉 occurred 1 times.\n",
      "簡兮簡兮 occurred 1 times.\n",
      "玼兮玼兮 occurred 1 times.\n",
      "瑳兮瑳兮 occurred 1 times.\n",
      "其雨其雨 occurred 1 times.\n",
      "樂土樂土 occurred 1 times.\n",
      "樂國樂國 occurred 1 times.\n",
      "樂郊樂郊 occurred 1 times.\n",
      "采苓采苓 occurred 1 times.\n",
      "采苦采苦 occurred 1 times.\n",
      "采葑采葑 occurred 1 times.\n",
      "鴟鴞鴟鴞 occurred 1 times.\n",
      "伐柯伐柯 occurred 1 times.\n"
     ]
    }
   ],
   "source": [
    "match_count = {}  # This tells Python that we're going to use match_count as a dictionary variable\n",
    "\n",
    "for match in re.finditer(r\"(.)(.)\\1\\2\", shijing):\n",
    "    matched_text = match.group(0)\n",
    "    if not matched_text in match_count:\n",
    "        match_count[matched_text] = 0  # If we don't do this, Python will give an error on the following line\n",
    "    match_count[matched_text] = match_count[shijing[match.start():match.end()]] + 1\n",
    "\n",
    "unique_items = sorted(match_count, key=match_count.get, reverse=True)\n",
    "for item in unique_items:\n",
    "    print(item + \" occurred \" + str(match_count[item]) + \" times.\")"
   ]
  },
  {
   "cell_type": "markdown",
   "metadata": {},
   "source": [
    "**Exercise 5**: Write a regex to match paired lines of four-character poetry that both begin with the same two characters (examples: \"亦既見止、亦既覯止\", \"且以喜樂、且以永日\", etc.). Re-run the program above to verify your answer."
   ]
  },
  {
   "cell_type": "code",
   "execution_count": 20,
   "metadata": {},
   "outputs": [
    {
     "name": "stdout",
     "output_type": "stream",
     "text": [
      "亦既見止、亦既覯止 occurred 3 times.\n",
      "言告師氏、言告言歸 occurred 1 times.\n",
      "且以喜樂、且以永日 occurred 1 times.\n",
      "予所捋荼、予所蓄租 occurred 1 times.\n"
     ]
    }
   ],
   "source": [
    "# Your code goes here!\n",
    "match_count = {}  \n",
    "\n",
    "for match in re.finditer(r\"(.)(.)(.)(.)、\\1\\2(.)(.)\", shijing):\n",
    "    matched_text = match.group(0)\n",
    "    if not matched_text in match_count:\n",
    "        match_count[matched_text] = 0  # If we don't do this, Python will give an error on the following line\n",
    "    match_count[matched_text] += 1\n",
    "\n",
    "unique_items = sorted(match_count, key=match_count.get, reverse=True)\n",
    "for item in unique_items:\n",
    "    print(item + \" occurred \" + str(match_count[item]) + \" times.\")"
   ]
  },
  {
   "cell_type": "markdown",
   "metadata": {
    "collapsed": true
   },
   "source": [
    "**Exercise 6**: Create a regex to match book titles that appear in punctuated Chinese texts, e.g. \"《呂氏春秋》\". Your regex should extract the title without the punctuation marks **into a group** - i.e. you must use \"(\" and \")\" in your regex. You can test it using the short program below - your output should look like this:\n",
    "\n",
    "    爾雅\n",
    "    廣雅\n",
    "    尚賢\n",
    "    呂氏春秋·順民\n",
    "    呂氏春秋·不侵\n",
    "    左·襄十一年傳\n",
    "    韓詩外傳\n",
    "    廣雅\n"
   ]
  },
  {
   "cell_type": "code",
   "execution_count": 21,
   "metadata": {},
   "outputs": [
    {
     "name": "stdout",
     "output_type": "stream",
     "text": [
      "爾雅\n",
      "廣雅\n",
      "尚賢\n",
      "呂氏春秋·順民\n",
      "呂氏春秋·不侵\n",
      "左·襄十一年傳\n",
      "韓詩外傳\n",
      "廣雅\n"
     ]
    }
   ],
   "source": [
    "test_input = \"昔者文公出走而正天下，畢云：「正，讀如征。」王念孫云「畢讀非也，《爾雅》曰：『正，長也。』晉文為諸侯盟主，故曰『正天下』，與下『霸諸侯』對文。又《廣雅》『正，君也』。《尚賢》篇曰：『堯、舜、禹、湯、文、武之所以王天下正諸侯者』。凡墨子書言正天下正諸侯者，非訓為長，即訓為君，皆非征伐之謂。」案：王說是也。《呂氏春秋·順民》篇云：「湯克夏而正天下」，高誘注云：「正，治也」，亦非。桓公去國而霸諸侯，越王句踐遇吳王之醜，蘇時學云：「醜，猶恥也。」詒讓案：《呂氏春秋·不侵》篇「欲醜之以辭」，高注云：「醜，或作恥。」而尚攝中國之賢君，畢云：「尚與上通。攝，合也，謂合諸侯。郭璞注爾雅云：『聶，合』，攝同聶。」案：畢說未允。攝當與懾通，《左·襄十一年傳》云：「武震以攝威之」，《韓詩外傳》云：「上攝萬乘，下不敢敖乎匹夫」，此義與彼同，謂越王之威足以懾中國賢君也。三子之能達名成功於天下也，皆於其國抑而大醜也。畢云：「猶曰安其大醜。《廣雅》云：『抑，安也』」。俞樾云：「抑之言屈抑也。抑而大醜，與達名成功相對，言於其國則抑而大醜，於天下則達名成功，正見其由屈抑而達，下文所謂敗而有以成也。畢注於文義未得。」案：俞說是也。太上無敗，畢云：「李善文選注云：『河上公注老子云：太上，謂太古無名之君也』。」案：太上，對其次為文，謂等之最居上者，不論時代今古也。畢引老子注義，與此不相當。其次敗而有以成，此之謂用民。言以親士，故能用其民也。\"\n",
    "\n",
    "for match in re.finditer(r\"《([^》]{1,})》\", test_input):\n",
    "    print(match.group(1)) # group() extracts the text of a group from a matched regex: so your regex must have a group in it"
   ]
  },
  {
   "cell_type": "markdown",
   "metadata": {},
   "source": [
    "Now modify your regex so that instead of getting book titles together with chapter titles, your regex only captures the title of the work - i.e., capture \"呂氏春秋\" instead of \"呂氏春秋·順民\", and \"左\" instead of \"左·襄十一年傳\".\n"
   ]
  },
  {
   "cell_type": "code",
   "execution_count": 22,
   "metadata": {},
   "outputs": [
    {
     "name": "stdout",
     "output_type": "stream",
     "text": [
      "爾雅\n",
      "廣雅\n",
      "尚賢\n",
      "呂氏春秋\n",
      "呂氏春秋\n",
      "左\n",
      "韓詩外傳\n",
      "廣雅\n"
     ]
    }
   ],
   "source": [
    "# You code goes here!\n",
    "for match in re.finditer(r\"《([^》·]{1,})[》·]\", test_input):\n",
    "    print(match.group(1)) "
   ]
  },
  {
   "cell_type": "markdown",
   "metadata": {},
   "source": [
    "*Optional: Bonus points if you can **also** capture the chapter title on its own in a separate regex group at the same time. This is a bit fiddly though, and we don't need to do it for this exercise.*\n"
   ]
  },
  {
   "cell_type": "code",
   "execution_count": 23,
   "metadata": {},
   "outputs": [
    {
     "name": "stdout",
     "output_type": "stream",
     "text": [
      "爾雅\n",
      "廣雅\n",
      "尚賢\n",
      "呂氏春秋 with chapter 順民\n",
      "呂氏春秋 with chapter 不侵\n",
      "左 with chapter 襄十一年傳\n",
      "韓詩外傳\n",
      "廣雅\n"
     ]
    }
   ],
   "source": [
    "# You code goes here!\n",
    "# I am not sure what the question is asking for.\n",
    "for match in re.finditer(r\"《([^》]{1,})》\", test_input):\n",
    "    if '·' in match.group(1):\n",
    "        book, chapter = match.group(1).split('·')\n",
    "        print('{} with chapter {}'.format(book, chapter))\n",
    "    else:\n",
    "        print(match.group(1))"
   ]
  },
  {
   "cell_type": "markdown",
   "metadata": {},
   "source": [
    "\n",
    "* Now modify the example code below (it's almost identical to one of examples above) so that it lists how often every title was mentioned in the 墨子閒詁 (a commentary on the classic text \"墨子\" - in this example we only use the first chapter, though the code can also be run on the whole text by changing the URN).\n",
    "* Then modify your code so that it only lists the top 10 most frequently mentioned texts. *Hint: `\"unique_items\"` is a list, and getting part of a list is very similar to getting part of a string.*"
   ]
  },
  {
   "cell_type": "code",
   "execution_count": 24,
   "metadata": {
    "collapsed": true
   },
   "outputs": [],
   "source": [
    "test_input = gettextasstring(\"ctp:mozi-jiangu/qin-shi\")"
   ]
  },
  {
   "cell_type": "code",
   "execution_count": 25,
   "metadata": {},
   "outputs": [
    {
     "name": "stdout",
     "output_type": "stream",
     "text": [
      "說文 occurred 13 times.\n",
      "玉篇 occurred 3 times.\n",
      "淮南子 occurred 3 times.\n",
      "尚賢 occurred 2 times.\n",
      "爾雅 occurred 2 times.\n",
      "廣雅 occurred 2 times.\n",
      "呂氏春秋 occurred 2 times.\n",
      "莊子 occurred 2 times.\n",
      "貴義 occurred 2 times.\n",
      "說文解字 occurred 1 times.\n"
     ]
    }
   ],
   "source": [
    "match_count = {}  # This tells Python that we're going to use match_count as a dictionary variable\n",
    "\n",
    "# You code goes here! \n",
    "for match in re.finditer(r\"《([^》·]{1,})[》·]\", test_input):\n",
    "    matched_text = match.group(1)\n",
    "    if not matched_text in match_count:\n",
    "        match_count[matched_text] = 0  # If we don't do this, Python will give an error on the following line\n",
    "    match_count[matched_text] = match_count[matched_text] + 1\n",
    "\n",
    "unique_items = sorted(match_count, key=match_count.get, reverse=True)\n",
    "for item in unique_items[:10]:\n",
    "    print(item + \" occurred \" + str(match_count[item]) + \" times.\")"
   ]
  },
  {
   "cell_type": "markdown",
   "metadata": {},
   "source": [
    "Dictionaries also allow us to produce graphs summarizing our data."
   ]
  },
  {
   "cell_type": "code",
   "execution_count": 26,
   "metadata": {},
   "outputs": [
    {
     "data": {
      "image/png": "[encoded data removed]",
      "text/plain": [
       "<matplotlib.figure.Figure at 0x11254b320>"
      ]
     },
     "metadata": {
      "image/png": {
       "height": 258,
       "width": 437
      }
     },
     "output_type": "display_data"
    }
   ],
   "source": [
    "import numpy as np\n",
    "import matplotlib.pyplot as plt\n",
    "import matplotlib as mpl\n",
    "import pandas as pd\n",
    "%matplotlib inline\n",
    "%config InlineBackend.figure_format = 'retina' # retina layout\n",
    "\n",
    "# Unfortunately some software still has difficulty dealing with Chinese.\n",
    "# Here we may need to tell matplotlib to use a specific font containing Chinese characters.\n",
    "# If your system doesn't display the Chinese text in the graph below, you may need to specify a different font name.\n",
    "import platform\n",
    "if platform.system() == 'Darwin':   # I.e. if we're running on Mac OS X\n",
    "    mpl.rcParams['font.family'] = \"Arial Unicode MS\" \n",
    "else:\n",
    "    mpl.rcParams['font.family'] = \"SimHei\"\n",
    "    \n",
    "mpl.rcParams['font.size'] = 20\n",
    "\n",
    "# The interesting stuff happens here:\n",
    "\n",
    "s = pd.Series(match_count)\n",
    "s.sort_values(0, False, inplace=True)\n",
    "s = s[:10]\n",
    "s.plot(kind='barh', color='C2');"
   ]
  },
  {
   "cell_type": "markdown",
   "metadata": {},
   "source": [
    "Now modify your regex so that you *only* match texts that are cited as pairs of book title and chapter, i.e. you should *only* match cases like \"《呂氏春秋·順民》\" (and not 《呂氏春秋》), and capture into a group the full title (\"呂氏春秋·順民\" in this example). This may be harder than it looks! You will need to be careful that your regex does not sometimes match too much text.\n",
    "\n",
    "Re-run the above programs to find out (and graph) which *chapters* of which texts are most frequently cited in this way by this commentary."
   ]
  },
  {
   "cell_type": "code",
   "execution_count": 27,
   "metadata": {},
   "outputs": [
    {
     "data": {
      "text/plain": [
       "<matplotlib.axes._subplots.AxesSubplot at 0x1126afe10>"
      ]
     },
     "execution_count": 27,
     "metadata": {},
     "output_type": "execute_result"
    },
    {
     "data": {
      "image/png": "[encoded data removed]",
      "text/plain": [
       "<matplotlib.figure.Figure at 0x10e7e39b0>"
      ]
     },
     "metadata": {
      "image/png": {
       "height": 245,
       "width": 395
      }
     },
     "output_type": "display_data"
    }
   ],
   "source": [
    "# You code goes here!\n",
    "# I just want to try more functional programmings\n",
    "match_count = {term : test_input.count(term) \n",
    "     for term in set(list(filter(lambda x: '·' in x, \n",
    "        re.findall(r\"《([^》]{1,})》\", test_input))))}\n",
    "\n",
    "# making pandas series out of dictionary\n",
    "s = pd.Series(match_count)\n",
    "s.sort_values().plot(kind='barh', color='C2', fontsize=6)"
   ]
  },
  {
   "cell_type": "markdown",
   "metadata": {},
   "source": [
    "Replacing and Splitting with Regexes\n",
    "----\n",
    "\n",
    "As well as finding things, regexes are ideal for other very useful tasks including **replacing** and **splitting** textual data.\n",
    "\n",
    "For example, we saw in the last notebook cases where it would be easier to process a text without any punctuation in it. We can easily match **all** punctuation using a regex, and once we know how to search and replace, we can just replace each matched piece of punctuation with a blank string to get an unpunctuated text.\n",
    "\n",
    "We can do a simple search-and-replace using a regex like this:"
   ]
  },
  {
   "cell_type": "code",
   "execution_count": 28,
   "metadata": {},
   "outputs": [
    {
     "name": "stdout",
     "output_type": "stream",
     "text": [
      "名可名，非常名。\n"
     ]
    }
   ],
   "source": [
    "import re\n",
    "\n",
    "input_text = \"道可道，非常道。\"\n",
    "print(re.sub(r\"道\", r\"名\", input_text))"
   ]
  },
  {
   "cell_type": "markdown",
   "metadata": {},
   "source": [
    "For very simple regexes that don't use any special regex characters, this gives exactly the same result as replace(). But because we can specify patterns, we can do much more powerful replacements."
   ]
  },
  {
   "cell_type": "code",
   "execution_count": 29,
   "metadata": {},
   "outputs": [
    {
     "name": "stdout",
     "output_type": "stream",
     "text": [
      "道可道非常道\n"
     ]
    }
   ],
   "source": [
    "input_text = \"道可道，非常道。\"\n",
    "print(re.sub(r\"[。，]\", r\"\", input_text))"
   ]
  },
  {
   "cell_type": "markdown",
   "metadata": {},
   "source": [
    "Of course, as usual the power of this is that we can quickly do it for however much data we like:"
   ]
  },
  {
   "cell_type": "code",
   "execution_count": 30,
   "metadata": {},
   "outputs": [
    {
     "name": "stdout",
     "output_type": "stream",
     "text": [
      "道可道非常道名可名非常名無名天地之始有名萬物之母故常無欲以觀其妙常有欲以觀其徼此兩者同出而異名同謂之玄玄之又玄衆妙之門\n",
      "\n",
      "天下皆知美之為美斯惡已皆知善之為善斯不善已故有無相生難易相成長短相較高下相傾音聲相和前後相隨是以聖人處無為之事行不言之教萬物作焉而不辭生而不有為而不恃功成而弗居夫唯弗居是以不去\n",
      "\n",
      "不尚賢使民不爭不貴難得之貨使民不為盜不見可欲使心不亂是以聖人之治虛其心實其腹弱其志強其骨常使民無知無欲使天知者不敢為也為無為則無不治\n",
      "\n",
      "道沖而用之或不盈淵兮似萬物之宗挫其銳解其紛和其光同其塵湛兮似或存吾不知誰之子象帝之先\n",
      "\n",
      "天地不仁以萬物為芻狗聖人不仁以百姓為芻狗天地之間其猶橐籥乎虛而不屈動而愈出多言數窮不如守中\n",
      "\n",
      "谷神不死是謂玄牝玄牝之門是謂天地根綿綿若存用之不勤\n",
      "\n",
      "天長地久天地所以能長且久者以其不自生故能長生是以聖人後其身而身先外其身而身存非以其無私耶故能成其私\n",
      "\n",
      "上善若水水善利萬物而不爭處衆人之所惡故幾於道居善地心善淵與善仁言善信正善治事善能動善時夫唯不爭故無尤\n",
      "\n",
      "持而盈之不如其已揣而銳之不可長保金玉滿堂莫之能守富貴而驕自遺其咎功遂身退天之道\n",
      "\n",
      "載營魄抱一能無離乎專氣致柔能嬰兒乎滌除玄覽能無疵乎愛民治國能無知乎天門開闔能為雌乎明白四達能無知乎生之畜之生而不有為而不恃長而不宰是謂玄德\n",
      "\n",
      "三十輻共一轂當其無有車之用埏埴以為器當其無有器之用鑿戶牖以為室當其無有室之用故有之以為利無之以為用\n",
      "\n",
      "五色令人目盲五音令人耳聾五味令人口爽馳騁田獵令人心發狂難得之貨令人行妨是以聖人為腹不為目故去彼取此\n",
      "\n",
      "寵辱若驚貴大患若身何謂寵辱若驚寵為下得之若驚失之若驚是謂寵辱若驚何謂貴大患若身吾所以有大患者為吾有身及吾無身吾有何患故貴以身為天下若可寄天下愛以身為天下若可託天下\n",
      "\n",
      "視之不見名曰夷聽之不聞名曰希搏之不得名曰微此三者不可致詰故混而為一其上不皦其下不昧繩繩不可名復歸於無物是謂無狀之狀無物之象是謂惚恍迎之不見其首隨之不見其後執古之道以御今之有能知古始是謂道紀\n",
      "\n",
      "古之善為士者微妙玄通深不可識夫唯不可識故強為之容豫兮若冬涉川猶兮若畏四鄰儼兮其若容渙兮若冰之將釋敦兮其若樸曠兮其若谷混兮其若濁孰能濁以靜之徐清孰能安以久動之徐生保此道者不欲盈夫唯不盈故能蔽不新成\n",
      "\n",
      "致虛極守靜篤萬物並作吾以觀復夫物芸芸各復歸其根歸根曰靜是謂復命復命曰常知常曰明不知常妄作凶知常容容乃公公乃王王乃天天乃道道乃久沒身不殆\n",
      "\n",
      "太上下知有之其次親而譽之其次畏之其次侮之信不足焉有不信焉悠兮其貴言功成事遂百姓皆謂我自然\n",
      "\n",
      "大道廢有仁義智慧出有大偽六親不和有孝慈國家昏亂有忠臣\n",
      "\n",
      "絕聖棄智民利百倍絕仁棄義民復孝慈絕巧棄利盜賊無有此三者以為文不足故令有所屬見素抱樸少私寡欲\n",
      "\n",
      "絕學無憂唯之與阿相去幾何善之與惡相去若何人之所畏不可不畏荒兮其未央哉衆人熙熙如享太牢如春登臺我獨怕兮其未兆如嬰兒之未孩儽儽兮若無所歸衆人皆有餘而我獨若遺我愚人之心也哉沌沌兮俗人昭昭我獨若昏俗人察察我獨悶悶澹兮其若海飂兮若無止衆人皆有以而我獨頑似鄙我獨異於人而貴食母\n",
      "\n",
      "孔德之容唯道是從道之為物唯恍唯惚忽兮恍兮其中有象恍兮忽兮其中有物窈兮冥兮其中有精其精甚真其中有信自古及今其名不去以閱衆甫吾何以知衆甫之狀哉以此\n",
      "\n",
      "曲則全枉則直窪則盈弊則新少則得多則惑是以聖人抱一為天下式不自見故明不自是故彰不自伐故有功不自矜故長夫唯不爭故天下莫能與之爭古之所謂曲則全者豈虛言哉誠全而歸之\n",
      "\n",
      "希言自然故飄風不終朝驟雨不終日孰為此者天地天地尚不能久而況於人乎故從事於道者道者同於道德者同於德失者同於失同於道者道亦樂得之同於德者德亦樂得之同於失者失亦樂得之信不足焉有不信焉\n",
      "\n",
      "企者不立跨者不行自見者不明自是者不彰自伐者無功自矜者不長其在道也曰餘食贅行物或惡之故有道者不處\n",
      "\n",
      "有物混成先天地生寂兮寥兮獨立不改周行而不殆可以為天下母吾不知其名字之曰道強為之名曰大大曰逝逝曰遠遠曰反故道大天大地大王亦大域中有四大而王居其一焉人法地地法天天法道道法自然\n",
      "\n",
      "重為輕根靜為躁君是以聖人終日行不離輜重雖有榮觀燕處超然奈何萬乘之主而以身輕天下輕則失本躁則失君\n",
      "\n",
      "善行無轍迹善言無瑕讁善數不用籌策善閉無關楗而不可開善結無繩約而不可解是以聖人常善救人故無棄人常善救物故無棄物是謂襲明故善人者不善人之師不善人者善人之資不貴其師不愛其資雖智大迷是謂要妙\n",
      "\n",
      "知其雄守其雌為天下谿為天下谿常德不離復歸於嬰兒知其白守其黑為天下式為天下式常德不忒復歸於無極知其榮守其辱為天下谷為天下谷常德乃足復歸於樸樸散則為器聖人用之則為官長故大制不割\n",
      "\n",
      "將欲取天下而為之吾見其不得已天下神器不可為也為者敗之執者失之故物或行或隨或歔或吹或強或羸或挫或隳是以聖人去甚去奢去泰\n",
      "\n",
      "以道佐人主者不以兵強天下其事好還師之所處荊棘生焉大軍之後必有凶年善有果而已不敢以取強果而勿矜果而勿伐果而勿驕果而不得已果而勿強物壯則老是謂不道不道早已\n",
      "\n",
      "夫佳兵者不祥之器物或惡之故有道者不處君子居則貴左用兵則貴右兵者不祥之器非君子之器不得已而用之恬淡為上勝而不美而美之者是樂殺人夫樂殺人者則不可以得志於天下矣吉事尚左凶事尚右偏將軍居左上將軍居右言以喪禮處之殺人之衆以哀悲泣之戰勝以喪禮處之\n",
      "\n",
      "道常無名天下莫能臣也侯王若能守之萬物將自賓天地相合以降甘露民莫之令而自均始制有名名亦既有夫亦將知止知止所以不殆譬道之在天下猶川谷之與江海\n",
      "\n",
      "知人者智自知者明勝人者有力自勝者強知足者富強行者有志不失其所者久死而不亡者壽\n",
      "\n",
      "大道汎兮其可左右萬物恃之而生而不辭功成不名有衣養萬物而不為主常無欲可名於小萬物歸焉而不為主可名為大以其終不自為大故能成其大\n",
      "\n",
      "執大象天下往往而不害安平大樂與餌過客止道之出口淡乎其無味視之不足見聽之不足聞用之不足既\n",
      "\n",
      "將欲歙之必固張之將欲弱之必固強之將欲廢之必固興之將欲奪之必固與之是謂微明柔弱勝剛強魚不可脫於淵國之利器不可以示人\n",
      "\n",
      "道常無為而無不為侯王若能守之萬物將自化化而欲作吾將鎮之以無名之樸無名之樸夫亦將無欲不欲以靜天下將自定\n",
      "\n",
      "上德不德是以有德下德不失德是以無德上德無為而無以為下德為之而有以為上仁為之而無以為上義為之而有以為上禮為之而莫之應則攘臂而扔之故失道而後德失德而後仁失仁而後義失義而後禮夫禮者忠信之薄而亂之首前識者道之華而愚之始是以大丈夫處其厚不居其薄處其實不居其華故去彼取此\n",
      "\n",
      "昔之得一者天得一以清地得一以寧神得一以靈谷得一以盈萬物得一以生侯王得一以為天下貞其致之天無以清將恐裂地無以寧將恐發神無以靈將恐歇谷無以盈將恐竭萬物無以生將恐滅侯王無以貴高將恐蹶故貴以賤為本高以下為基是以侯王自稱孤寡不穀此非以賤為本耶非乎故致數譽無譽不欲琭琭如玉珞珞如石\n",
      "\n",
      "反者道之動弱者道之用天下萬物生於有有生於無\n",
      "\n",
      "上士聞道勤而行之中士聞道若存若亡下士聞道大笑之不笑不足以為道故建言有之明道若昧進道若退夷道若纇上德若谷太白若辱廣德若不足建德若偷質真若渝大方無隅大器晚成大音希聲大象無形道隱無名夫唯道善貸且成\n",
      "\n",
      "道生一一生二二生三三生萬物萬物負陰而抱陽沖氣以為和人之所惡唯孤寡不穀而王公以為稱故物或損之而益或益之而損人之所教我亦教之強梁者不得其死吾將以為教父\n",
      "\n",
      "天下之至柔馳騁天下之至堅無有入無間吾是以知無為之有益不言之教無為之益天下希及之\n",
      "\n",
      "名與身孰親身與貨孰多得與亡孰病是故甚愛必大費多藏必厚亡知足不辱知止不殆可以長久\n",
      "\n",
      "大成若缺其用不弊大盈若沖其用不窮大直若屈大巧若拙大辯若訥躁勝寒靜勝熱清靜為天下正\n",
      "\n",
      "天下有道卻走馬以糞天下無道戎馬生於郊禍莫大於不知足咎莫大於欲得故知足之足常足矣\n",
      "\n",
      "不出戶知天下不闚牖見天道其出彌遠其知彌少是以聖人不行而知不見而名不為而成\n",
      "\n",
      "為學日益為道日損損之又損以至於無為無為而無不為取天下常以無事及其有事不足以取天下\n",
      "\n",
      "聖人無常心以百姓心為心善者吾善之不善者吾亦善之德善信者吾信之不信者吾亦信之德信聖人在天下歙歙為天下渾其心百姓皆注其耳目聖人皆孩之\n",
      "\n",
      "出生入死生之徒十有三死之徒十有三人之生動之死地十有三夫何故以其生生之厚蓋聞善攝生者陸行不遇兕虎入軍不被甲兵兕無所投其角虎無所措其爪兵無所容其刃夫何故以其無死地\n",
      "\n",
      "道生之德畜之物形之勢成之是以萬物莫不尊道而貴德道之尊德之貴夫莫之命常自然故道生之德畜之長之育之亭之毒之養之覆之生而不有為而不恃長而不宰是謂玄德\n",
      "\n",
      "天下有始以為天下母既知其母復知其子既知其子復守其母沒其不殆塞其兌閉其門終身不勤開其兌濟其事終身不救見小曰明守柔曰強用其光復歸其明無遺身殃是為習常\n",
      "\n",
      "使我介然有知行於大道唯施是畏大道甚夷而民好徑朝甚除田甚蕪倉甚虛服文綵帶利劍厭飲食財貨有餘是謂盜夸非道也哉\n",
      "\n",
      "善建不拔善抱者不脫子孫以祭祀不輟修之於身其德乃真修之於家其德乃餘修之於鄉其德乃長修之於國其德乃豐修之於天下其德乃普故以身觀身以家觀家以鄉觀鄉以國觀國以天下觀天下吾何以知天下然哉以此\n",
      "\n",
      "含德之厚比於赤子蜂蠆虺蛇不螫猛獸不據攫鳥不搏骨弱筋柔而握固未知牝牡之合而全作精之至也終日號而不嗄和之至也知和曰常知常曰明益生曰祥心使氣曰強物壯則老謂之不道不道早已\n",
      "\n",
      "知者不言言者不知塞其兑閉其門挫其銳解其分和其光同其塵是謂玄同故不可得而親不可得而踈不可得而利不可得而害不可得而貴不可得而賤故為天下貴\n",
      "\n",
      "以正治國以奇用兵以無事取天下吾何以知其然哉以此天下多忌諱而民彌貧民多利器國家滋昏人多伎巧奇物滋起法令滋彰盜賊多有故聖人云我無為而民自化我好靜而民自正我無事而民自富我無欲而民自樸\n",
      "\n",
      "其政悶悶其民淳淳其政察察其民缺缺禍兮福之所倚福兮禍之所伏孰知其極其無正正復為奇善復為妖人之迷其日固久是以聖人方而不割廉而不劌直而不肆光而不燿\n",
      "\n",
      "治人事天莫若嗇夫唯嗇是謂早服早服謂之重積德重積德則無不克無不克則莫知其極莫知其極可以有國有國之母可以長久是謂深根固柢長生久視之道\n",
      "\n",
      "治大國若烹小鮮以道蒞天下其鬼不神非其鬼不神其神不傷人非其神不傷人聖人亦不傷人夫兩不相傷故德交歸焉\n",
      "\n",
      "大國者下流天下之交天下之牝牝常以靜勝牡以靜為下故大國以下小國則取小國小國以下大國則取大國故或下以取或下而取大國不過欲兼畜人小國不過欲入事人夫兩者各得其所欲大者宜為下\n",
      "\n",
      "道者萬物之奧善人之寶不善人之所保美言可以市尊行可以加人人之不善何棄之有故立天子置三公雖有拱璧以先駟馬不如坐進此道古之所以貴此道者何不曰以求得有罪以免耶故為天下貴\n",
      "\n",
      "為無為事無事味無味大小多少報怨以德圖難於其易為大於其細天下難事必作於易天下大事必作於細是以聖人終不為大故能成其大夫輕諾必寡信多易必多難是以聖人猶難之故終無難矣\n",
      "\n",
      "其安易持其未兆易謀其脆易泮其微易散為之於未有治之於未亂合抱之木生於毫末九層之臺起於累土千里之行始於足下為者敗之執者失之是以聖人無為故無敗無執故無失民之從事常於幾成而敗之慎終如始則無敗事是以聖人欲不欲不貴難得之貨學不學復衆人之所過以輔萬物之自然而不敢為\n",
      "\n",
      "古之善為道者非以明民將以愚之民之難治以其智多故以智治國國之賊不以智治國國之福知此兩者亦𥡴式常知𥡴式是謂玄德玄德深矣遠矣與物反矣然後乃至大順\n",
      "\n",
      "江海所以能為百谷王者以其善下之故能為百谷王是以聖人欲上民必以言下之欲先民必以身後之是以聖人處上而民不重處前而民不害是以天下樂推而不厭以其不爭故天下莫能與之爭\n",
      "\n",
      "天下皆謂我道大似不肖夫唯大故似不肖若肖久矣其細也夫我有三寶持而保之一曰慈二曰儉三曰不敢為天下先慈故能勇儉故能廣不敢為天下先故能成器長今舍慈且勇舍儉且廣舍後且先死矣夫慈以戰則勝以守則固天將救之以慈衛之\n",
      "\n",
      "善為士者不武善戰者不怒善勝敵者不與善用人者為之下是謂不爭之德是謂用人之力是謂配天古之極\n",
      "\n",
      "用兵有言吾不敢為主而為客不敢進寸而退尺是謂行無行攘無臂扔無敵執無兵禍莫大於輕敵輕敵幾喪吾寶故抗兵相加哀者勝矣\n",
      "\n",
      "吾言甚易知甚易行天下莫能知莫能行言有宗事有君夫唯無知是以不我知知我者希則我者貴是以聖人被褐懷玉\n",
      "\n",
      "知不知上不知知病夫唯病病是以不病聖人不病以其病病是以不病\n",
      "\n",
      "民不畏威則大威至無狎其所居無厭其所生夫唯不厭是以不厭是以聖人自知不自見自愛不自貴故去彼取此\n",
      "\n",
      "勇於敢則殺勇於不敢則活此兩者或利或害天之所惡孰知其故是以聖人猶難之天之道不爭而善勝不言而善應不召而自來繟然而善謀天網恢恢踈而不失\n",
      "\n",
      "民不畏死奈何以死懼之若使民常畏死而為奇者吾得執而殺之孰敢常有司殺者殺夫司殺者是大匠斲夫代大匠斲者希有不傷其手矣\n",
      "\n",
      "民之飢以其上食稅之多是以飢民之難治以其上之有為是以難治民之輕死以其求生之厚是以輕死夫唯無以生為者是賢於貴生\n",
      "\n",
      "人之生也柔弱其死也堅強萬物草木之生也柔脆其死也枯槁故堅強者死之徒柔弱者生之徒是以兵強則不勝木強則共強大處下柔弱處上\n",
      "\n",
      "天之道其猶張弓與高者抑之下者舉之有餘者損之不足者補之天之道損有餘而補不足人之道則不然損不足以奉有餘孰能有餘以奉天下唯有道者是以聖人為而不恃功成而不處其不欲見賢\n",
      "\n",
      "天下莫柔弱於水而攻堅強者莫之能勝其無以易之弱之勝強柔之勝剛天下莫不知莫能行是以聖人云受國之垢是謂社稷主受國不祥是謂天下王正言若反\n",
      "\n",
      "和大怨必有餘怨安可以為善是以聖人執左契而不責於人有德司契無德司徹天道無親常與善人\n",
      "\n",
      "小國寡民使有什伯之器而不用使民重死而不遠徙雖有舟輿無所乘之雖有甲兵無所陳之使民復結繩而用之甘其食美其服安其居樂其俗鄰國相望雞犬之聲相聞民至老死不相往來\n",
      "\n",
      "信言不美美言不信善者不辯辯者不善知者不博博者不知聖人不積既以為人己愈有既以與人己愈多天之道利而不害聖人之道為而不爭\n",
      "\n",
      "\n"
     ]
    }
   ],
   "source": [
    "laozi = gettextasstring(\"ctp:dao-de-jing\")\n",
    "print(re.sub(r\"[。，；？：！、]\", r\"\", laozi))"
   ]
  },
  {
   "cell_type": "markdown",
   "metadata": {},
   "source": [
    "Another useful aspect is that we can use data from regex groups that we matched within our replacement. This makes it easy to write replacements that do things like add some particular string before or after something we want to match. This example finds any punctuation character, puts it in regex group 1, and then replaces it with regex group 1 followed by a return character - in other words, it adds a line break after every punctuation character."
   ]
  },
  {
   "cell_type": "code",
   "execution_count": 31,
   "metadata": {},
   "outputs": [
    {
     "name": "stdout",
     "output_type": "stream",
     "text": [
      "上德不德，\n",
      "是以有德；\n",
      "下德不失德，\n",
      "是以無德。\n",
      "上德無為而無以為；\n",
      "下德為之而有以為。\n",
      "\n"
     ]
    }
   ],
   "source": [
    "laozi = \"上德不德，是以有德；下德不失德，是以無德。上德無為而無以為；下德為之而有以為。\"\n",
    "print(re.sub(r\"([。，；？：！、])\", r\"\\1\\n\", laozi))"
   ]
  },
  {
   "cell_type": "markdown",
   "metadata": {},
   "source": [
    "Regexes and text files\n",
    "----\n",
    "\n",
    "Regular expressions can be very useful when we want to transform text from one format to another, or when we want to read text from a file and it isn't in the format we want.\n",
    "\n",
    "In this section, instead of using the ctext.org API, we will experiment with a text from Project Gutenberg. Before starting, [download the plain text UTF-8 file from the website](http://www.gutenberg.org/files/23938/23938-0.txt) and save it on your computer as a file called \"mulan.txt\". You should save this in the same folder as this Jupyter notebook (.ipynb) file.\n",
    "\n",
    "*Note: you don't have to save files in the same folder as your Jupyter notebook, but if you save them somewhere else, when opening the file you will need to tell Python the full path to your file instead of just the filename - e.g. \"C:\\Users\\user\\Documents\\mulan.txt\" instead of just \"mulan.txt\".*"
   ]
  },
  {
   "cell_type": "code",
   "execution_count": 32,
   "metadata": {
    "collapsed": true
   },
   "outputs": [],
   "source": [
    "file = open(\"mulan.txt\", \"r\", encoding=\"utf-8\")\n",
    "data_from_file = file.read()\n",
    "file.close()"
   ]
  },
  {
   "cell_type": "markdown",
   "metadata": {},
   "source": [
    "One practical issue when dealing with a lot of data in a string is that printing it to the screen so we can see what's happening in our program may take up a lot of space. One thing we can do is to just print a substring - i.e. only print the first few hundred or so characters:"
   ]
  },
  {
   "cell_type": "code",
   "execution_count": 33,
   "metadata": {},
   "outputs": [
    {
     "name": "stdout",
     "output_type": "stream",
     "text": [
      "﻿The Project Gutenberg EBook of Mu Lan Ji Nu Zhuan, by Anonymous\n",
      "\n",
      "This eBook is for the use of anyone anywhere at no cost and with\n",
      "almost no restrictions whatsoever.  You may copy it, give it away or\n",
      "re-use it under the terms of the Project Gutenberg License included\n",
      "with this eBook or online at www.gutenberg.org\n",
      "\n",
      "\n",
      "Title: Mu Lan Ji Nu Zhuan\n",
      "\n",
      "Author: Anonymous\n",
      "\n",
      "Editor: Anonymous\n",
      "\n",
      "Release Date: December 20, 2007 [EBook #23938]\n",
      "\n",
      "Language: Chinese\n",
      "\n",
      "Character set encoding: UTF-8\n",
      "\n",
      "*** START OF THIS PROJECT GUTENBERG EBOOK MU LAN JI NU ZHUAN ***\n",
      "\n",
      "\n",
      "\n",
      "\n",
      "\n",
      "\n",
      "\n",
      "\n",
      "\n",
      "\n",
      "序\n",
      "\n",
      "嘗思人道之大，莫大於倫常；學問之精，莫精於性命。自有書籍以來，所載傳人不少，\n",
      "求其交盡乎倫常者鮮矣，求其交盡乎性命者益鮮矣。蓋倫常之地，或盡孝而不必兼忠，\n",
      "或盡忠而不必兼孝，或盡忠孝而安常處順，不必兼勇烈。遭際未極其變，即倫常未盡其\n",
      "難也。性命之理，有不悟性根者，有不知命蒂者，有修性\n"
     ]
    }
   ],
   "source": [
    "print(data_from_file[0:700])"
   ]
  },
  {
   "cell_type": "markdown",
   "metadata": {},
   "source": [
    "One thing that will be handy is if we can delete the English blurb at the top of this file automatically. There are several ways we could do this. One way is to use a negative character class - matching everything *except* some set of characters - to match all characters that are non-Chinese, and delete them.\n",
    "\n",
    "The `re.sub() ` function takes three parameters:\n",
    "1. The regular expression to match\n",
    "2. What we want to replace each match with\n",
    "3. The string we want to do the matching in\n",
    "It returns a new string containing the result after making the substitution.\n",
    "\n",
    "[The example below also makes use of another kind of special syntax in a character class: we can match a *range* of characters by their Unicode codepoint. Here we match everything from U+25A1 through U+FFFF, all of which are Chinese characters. Don't worry too much about the contents of this regex - we won't need to write regexes like this most of the time.]"
   ]
  },
  {
   "cell_type": "code",
   "execution_count": 34,
   "metadata": {},
   "outputs": [
    {
     "name": "stdout",
     "output_type": "stream",
     "text": [
      "﻿\n",
      "\n",
      "\n",
      "\n",
      "\n",
      "\n",
      "\n",
      "\n",
      "\n",
      "\n",
      "\n",
      "\n",
      "\n",
      "\n",
      "\n",
      "\n",
      "\n",
      "\n",
      "\n",
      "\n",
      "\n",
      "\n",
      "\n",
      "\n",
      "\n",
      "\n",
      "\n",
      "\n",
      "\n",
      "\n",
      "\n",
      "序\n",
      "\n",
      "嘗思人道之大，莫大於倫常；學問之精，莫精於性命。自有書籍以來，所載傳人不少，\n",
      "求其交盡乎倫常者鮮矣，求其交盡乎性命者益鮮矣。蓋倫常之地，或盡孝而不必兼忠，\n",
      "或盡忠而不必兼孝，或盡忠孝而安常處順，不必兼勇烈。遭際未極其變，即倫常未盡其\n",
      "難也。性命之理，有不悟性根者，有不知命蒂者，有修性命而旁歧雜出者，有修性命而\n",
      "後先倒置者。涵養未得其中，即性命未盡其奧也。乃木蘭一女子耳，擔荷倫常，研求性\n",
      "命，而獨無所不盡也哉！\n",
      "\n",
      "　　予幼讀《木蘭詩》，觀其代父從軍，可謂孝矣；立功絕塞，可謂忠矣。後閱《唐書\n",
      "》，言木蘭唐女，西陵人，嫻弓馬，諳韜略，轉戰沙漠，累大功十二，何其勇也。封武\n",
      "昭將軍，凱旋還里。當時筮者謂致亂必由武姓，讒臣嫁禍武昭，詔徵至京。木蘭具表陳\n",
      "情，掣劍剜心，示使者，目視而死。死後，位證雷部大神，何其烈也。去冬閱《木蘭奇\n",
      "女傳》，復知其幼而領悟者性命也，長而行持者性命也。且通部議論極精微，極顯豁，\n",
      "又無非性命之妙諦也。盡人所當盡，亦盡人所難盡。惟其無所不盡，則亦無所不奇。而\n",
      "人奇，行奇，事奇，文奇，讀者莫不驚奇叫絕也。此書相傳為奎斗馬祖所演，卷首有武\n",
      "聖帝序。今序已失，同人集貲付梓。書成，爰敘其緣起如此。\n",
      "\n",
      "　　　　　　書於滬江梅花書館南窗之下\n",
      "\n",
      "\n",
      "\n",
      "第一回朱若虛孝弟全天性　朱天錫聰明識童謠\n",
      "\n",
      "　　古樂府所載《木蘭辭》，乃唐初國師李藥師所作也。藥師名靖，號青蓮，又號三元\n",
      "道人。先生少日，負經天緯地之才，抱治國安民之志，佐太宗平隋亂，開唐基，官拜太\n",
      "傅，賜爵趙公。晚年修道，煉性登仙。蓋先生盛代奇人，故能識奇中奇人，\n"
     ]
    }
   ],
   "source": [
    "new_data = re.sub(r'[^\\n\\r\\u25A1-\\uFFFF]', \"\", data_from_file)\n",
    "print(new_data[0:700])"
   ]
  },
  {
   "cell_type": "markdown",
   "metadata": {},
   "source": [
    "We've got rid of the English text, but we've now got too many empty lines. Depending on what data is in the text, we might want to remove all the line breaks... but in this case there are some things like chapter titles that are best kept on separate lines so we can tell where the chapters begin and end.\n",
    "\n",
    "Remember: \"\\n\" means \"one line break\", and \"{3,}\" will match 3 or more of something one after the other (and as many times as possible)."
   ]
  },
  {
   "cell_type": "code",
   "execution_count": 35,
   "metadata": {},
   "outputs": [
    {
     "name": "stdout",
     "output_type": "stream",
     "text": [
      "﻿\n",
      "\n",
      "序\n",
      "\n",
      "嘗思人道之大，莫大於倫常；學問之精，莫精於性命。自有書籍以來，所載傳人不少，\n",
      "求其交盡乎倫常者鮮矣，求其交盡乎性命者益鮮矣。蓋倫常之地，或盡孝而不必兼忠，\n",
      "或盡忠而不必兼孝，或盡忠孝而安常處順，不必兼勇烈。遭際未極其變，即倫常未盡其\n",
      "難也。性命之理，有不悟性根者，有不知命蒂者，有修性命而旁歧雜出者，有修性命而\n",
      "後先倒置者。涵養未得其中，即性命未盡其奧也。乃木蘭一女子耳，擔荷倫常，研求性\n",
      "命，而獨無所不盡也哉！\n",
      "\n",
      "　　予幼讀《木蘭詩》，觀其代父從軍，可謂孝矣；立功絕塞，可謂忠矣。後閱《唐書\n",
      "》，言木蘭唐女，西陵人，嫻弓馬，諳韜略，轉戰沙漠，累大功十二，何其勇也。封武\n",
      "昭將軍，凱旋還里。當時筮者謂致亂必由武姓，讒臣嫁禍武昭，詔徵至京。木蘭具表陳\n",
      "情，掣劍剜心，示使者，目視而死。死後，位證雷部大神，何其烈也。去冬閱《木蘭奇\n",
      "女傳》，復知其幼而領悟者性命也，長而行持者性命也。且通部議論極精微，極顯豁，\n",
      "又無非性命之妙諦也。盡人所當盡，亦盡人所難盡。惟其無所不盡，則亦無所不奇。而\n",
      "人奇，行奇，事奇，文奇，讀者莫不驚奇叫絕也。此書相傳為奎斗馬祖所演，卷首有武\n",
      "聖帝序。今序已失，同人集貲付梓。書成，爰敘其緣起如此。\n",
      "\n",
      "　　　　　　書於滬江梅花書館南窗之下\n",
      "\n",
      "第一回朱若虛孝弟全天性　朱天錫聰明識童謠\n",
      "\n",
      "　　古樂府所載《木蘭辭》，乃唐初國師李藥師所作也。藥師名靖，號青蓮，又號三元\n",
      "道人。先生少日，負經天緯地之才，抱治國安民之志，佐太宗平隋亂，開唐基，官拜太\n",
      "傅，賜爵趙公。晚年修道，煉性登仙。蓋先生盛代奇人，故能識奇中奇人，保全奇中奇\n",
      "人。奇中奇人為誰？即朱氏木蘭也。\n",
      "\n",
      "　　木蘭女年十\n"
     ]
    }
   ],
   "source": [
    "without_spaces = re.sub(r'\\n{3,}', \"\\n\\n\", new_data)  # This regex matches three or more line breaks, and replaces them with two\n",
    "print(without_spaces[0:700])"
   ]
  },
  {
   "cell_type": "markdown",
   "metadata": {},
   "source": [
    "**Exercise 7**: (*Harder*) Make another substitution using a regex which removes *only* the line breaks within a paragraph (and does not remove linebreaks before and after a chapter title). The output should look like this:\n",
    "\n",
    "    序\n",
    "\n",
    "    嘗思人道之大，莫大於倫常；學問之精，莫精於性命。自有書籍以來，所載傳人不少，求其交盡乎倫常者鮮矣，求其交盡乎性命者益鮮矣。蓋倫常之地，或盡孝而不必兼忠，或盡忠而不必兼孝，或盡忠孝而安常處順，不必兼勇烈。遭際未極其變，即倫常未盡其難也。性命之理，有不悟性根者，有不知命蒂者，有修性命而旁歧雜出者，有修性命而後先倒置者。涵養未得其中，即性命未盡其奧也。乃木蘭一女子耳，擔荷倫常，研求性命，而獨無所不盡也哉！\n",
    "\n",
    "      予幼讀《木蘭詩》，觀其代父從軍，可謂孝矣；立功絕塞，可謂忠矣。後閱《唐書》，言木蘭唐女，西陵人，嫻弓馬，諳韜略，轉戰沙漠，累大功十二，何其勇也。封武昭將軍，凱旋還里。當時筮者謂致亂必由武姓，讒臣嫁禍武昭，詔徵至京。木蘭具表陳情，掣劍剜心，示使者，目視而死。死後，位證雷部大神，何其烈也。去冬閱《木蘭奇女傳》，復知其幼而領悟者性命也，長而行持者性命也。且通部議論極精微，極顯豁，又無非性命之妙諦也。盡人所當盡，亦盡人所難盡。惟其無所不盡，則亦無所不奇。而人奇，行奇，事奇，文奇，讀者莫不驚奇叫絕也。此書相傳為奎斗馬祖所演，卷首有武聖帝序。今序已失，同人集貲付梓。書成，爰敘其緣起如此。\n",
    "\n",
    "          書於滬江梅花書館南窗之下\n",
    "\n",
    "Hint: Think about what you need to match to make the change. You may need to include some of the things that your regex matches in the replacement using references (i.e. \\1, \\2, etc.)."
   ]
  },
  {
   "cell_type": "code",
   "execution_count": 36,
   "metadata": {},
   "outputs": [
    {
     "name": "stdout",
     "output_type": "stream",
     "text": [
      "﻿\n",
      "\n",
      "序\n",
      "\n",
      "嘗思人道之大，莫大於倫常；學問之精，莫精於性命。自有書籍以來，所載傳人不少，求其交盡乎倫常者鮮矣，求其交盡乎性命者益鮮矣。蓋倫常之地，或盡孝而不必兼忠，或盡忠而不必兼孝，或盡忠孝而安常處順，不必兼勇烈。遭際未極其變，即倫常未盡其難也。性命之理，有不悟性根者，有不知命蒂者，有修性命而旁歧雜出者，有修性命而後先倒置者。涵養未得其中，即性命未盡其奧也。乃木蘭一女子耳，擔荷倫常，研求性命，而獨無所不盡也哉！\n",
      "\n",
      "　　予幼讀《木蘭詩》，觀其代父從軍，可謂孝矣；立功絕塞，可謂忠矣。後閱《唐書》，言木蘭唐女，西陵人，嫻弓馬，諳韜略，轉戰沙漠，累大功十二，何其勇也。封武昭將軍，凱旋還里。當時筮者謂致亂必由武姓，讒臣嫁禍武昭，詔徵至京。木蘭具表陳情，掣劍剜心，示使者，目視而死。死後，位證雷部大神，何其烈也。去冬閱《木蘭奇女傳》，復知其幼而領悟者性命也，長而行持者性命也。且通部議論極精微，極顯豁，又無非性命之妙諦也。盡人所當盡，亦盡人所難盡。惟其無所不盡，則亦無所不奇。而人奇，行奇，事奇，文奇，讀者莫不驚奇叫絕也。此書相傳為奎斗馬祖所演，卷首有武聖帝序。今序已失，同人集貲付梓。書成，爰敘其緣起如此。\n",
      "\n",
      "　　　　　　書於滬江梅花書館南窗之下\n",
      "\n",
      "第一回朱若虛孝弟全天性　朱天錫聰明識童謠\n",
      "\n",
      "　　古樂府所載《木蘭辭》，乃唐初國師李藥師所作也。藥師名靖，號青蓮，又號三元道人。先生少日，負經天緯地之才，抱治國安民之志，佐太宗平隋亂，開唐基，官拜太傅，賜爵趙公。晚年修道，煉性登仙。蓋先生盛代奇人，故能識奇中奇人，保全奇中奇人。奇中奇人為誰？即朱氏木蘭也。\n",
      "\n",
      "　　木蘭女年十四，孝心純篤。親衰而病，適軍令\n"
     ]
    }
   ],
   "source": [
    "without_spaces2 = re.sub(r'([^\\n])\\n([^\\n])', r'\\1\\2', without_spaces)\n",
    "print(without_spaces2[0:700])"
   ]
  },
  {
   "cell_type": "markdown",
   "metadata": {},
   "source": [
    "**Exercise 8**: The text contains comments in it which we might want to delete before doing further processing or calculating any statistics. Create a regex substitution which removes each of these comments.\n",
    "\n",
    "Example comment: ...居於湖廣黃州府西陵縣__（今之黃陂縣）__雙龍鎮。 => should become ...居於湖廣黃州府西陵縣雙龍鎮。\n",
    "\n",
    "*Make sure to check that your regex does not remove too much text!*"
   ]
  },
  {
   "cell_type": "code",
   "execution_count": 37,
   "metadata": {},
   "outputs": [
    {
     "name": "stdout",
     "output_type": "stream",
     "text": [
      "﻿\n",
      "\n",
      "序\n",
      "\n",
      "嘗思人道之大，莫大於倫常；學問之精，莫精於性命。自有書籍以來，所載傳人不少，求其交盡乎倫常者鮮矣，求其交盡乎性命者益鮮矣。蓋倫常之地，或盡孝而不必兼忠，或盡忠而不必兼孝，或盡忠孝而安常處順，不必兼勇烈。遭際未極其變，即倫常未盡其難也。性命之理，有不悟性根者，有不知命蒂者，有修性命而旁歧雜出者，有修性命而後先倒置者。涵養未得其中，即性命未盡其奧也。乃木蘭一女子耳，擔荷倫常，研求性命，而獨無所不盡也哉！\n",
      "\n",
      "　　予幼讀《木蘭詩》，觀其代父從軍，可謂孝矣；立功絕塞，可謂忠矣。後閱《唐書》，言木蘭唐女，西陵人，嫻弓馬，諳韜略，轉戰沙漠，累大功十二，何其勇也。封武昭將軍，凱旋還里。當時筮者謂致亂必由武姓，讒臣嫁禍武昭，詔徵至京。木蘭具表陳情，掣劍剜心，示使者，目視而死。死後，位證雷部大神，何其烈也。去冬閱《木蘭奇女傳》，復知其幼而領悟者性命也，長而行持者性命也。且通部議論極精微，極顯豁，又無非性命之妙諦也。盡人所當盡，亦盡人所難盡。惟其無所不盡，則亦無所不奇。而人奇，行奇，事奇，文奇，讀者莫不驚奇叫絕也。此書相傳為奎斗馬祖所演，卷首有武聖帝序。今序已失，同人集貲付梓。書成，爰敘其緣起如此。\n",
      "\n",
      "　　　　　　書於滬江梅花書館南窗之下\n",
      "\n",
      "第一回朱若虛孝弟全天性　朱天錫聰明識童謠\n",
      "\n",
      "　　古樂府所載《木蘭辭》，乃唐初國師李藥師所作也。藥師名靖，號青蓮，又號三元道人。先生少日，負經天緯地之才，抱治國安民之志，佐太宗平隋亂，開唐基，官拜太傅，賜爵趙公。晚年修道，煉性登仙。蓋先生盛代奇人，故能識奇中奇人，保全奇中奇人。奇中奇人為誰？即朱氏木蘭也。\n",
      "\n",
      "　　木蘭女年十四，孝心純篤。親衰而病，適軍令至，女扮男粧，代父從征，十三年而回，無人知曉，又能居喪如禮，全命全真，豈非奇中奇人。然木有根本，水有源流，若不敘其祖宗何人，桑梓何處，何為忠孝，何為勇烈，則徒一木蘭女也。\n",
      "\n",
      "　　木蘭祖父朱盈川，名若虛，道號實夫。祖母黃氏，名儀貞，居於湖廣黃州府西陵縣雙龍鎮。這朱若虛天性至孝，善事父母，勤儉持家，和平處世。春耕秋讀，積日而月，積月而歲，不數年竟至鉅富。當時隋朝文帝下詔求賢，屢舉孝廉。若虛聞知越王楊素、太傅宇文化及等，專權用事，祇推親老，不肯應詔。惟愛日惜陰，以事父母。遇父母稍有未適之處，便痛加責刻，手書一詩，懸於中堂以自勉。\n",
      "\n",
      "　　詩曰：\n",
      "\n",
      "　　父母養育恩，匪祇如天地。\n",
      "\n",
      "　　天地生萬物，父母獨\n"
     ]
    }
   ],
   "source": [
    "without_comments = re.sub(r'[（](.{1,})[）]', r'', without_spaces2)\n",
    "print(without_comments[0:1000])"
   ]
  },
  {
   "cell_type": "markdown",
   "metadata": {},
   "source": [
    "**Exercise 9**: Experiment with writing regexes to list things that look like chapter titles in the text. There are several ways this can be done. (There are 32 numbered chapters in this text.)"
   ]
  },
  {
   "cell_type": "code",
   "execution_count": 38,
   "metadata": {},
   "outputs": [
    {
     "name": "stdout",
     "output_type": "stream",
     "text": [
      "第一回朱若虛孝弟全天性　朱天錫聰明識童謠\n",
      "第二回竇忠怒擊虎頭牌　朱盈夢會痘神女\n",
      "第三回入龍宮凡夫行雨　酬茶恩義士封屍\n",
      "第四回授天書蛟精返窟　謁越王女俠盜令\n",
      "第五回彈寶鋏紅絹說奇人　畫三策李靖獻良馬\n",
      "第六回評花卉盈川師李靖　觀書法若虛薦尉遲\n",
      "第七回魏徵揮金逢傑士　若虛解夢識天機\n",
      "第八回木蘭山天祿三祈嗣　大霧頂喪吾初聆法\n",
      "第九回觀音寺喪吾說法　白蓮池九賢賦詩\n",
      "第十回朱若虛遺言囑子媳　尉遲恭奉旨造西寺\n",
      "第十一回天祿貧受千戶職　木蘭劍劈白狐精\n",
      "第十二回香元參禪難喪吾　太宗降詔討突厥\n",
      "第十三回憐親病孝女從征　聽波聲木蘭賦詩\n",
      "第十四回占營運李靖識奇人　餞軍儀青蓮談敵國\n",
      "第十五回黑水渡焦周回上國　五臺山靖松贈明駝\n",
      "第十六回界牌關額保告急　五狼關頡和被擒\n",
      "第十七回老頡和再搶五狼　小木蘭三敗番兵\n",
      "第十八回木箕三敗誘唐兵　木蘭黑夜襲界牌\n",
      "第十九回宛邱城唐將報捷　石子鋪寶林被擒\n",
      "第二十回金牛關康和換將　五狼鎮木蘭裝神\n",
      "第二十一回金沙谷木箕自刎　康和阿仍復帥印\n",
      "第二十二回康和下令赦番兵　尉遲冒雪取金牛\n",
      "第二十三回太宗降詔責尉遲　突厥出榜募賢士\n",
      "第二十四回真孝女遭厄刎頸　鐵道人遺書誅妖\n",
      "第二十五回突厥稱臣降中國　木蘭舉酒論奇門\n",
      "第二十六回靖松封書謝故人　太宗賜爵酬將士\n",
      "第二十七回天祿焚香祝神明　喪吾懸書試門人\n",
      "第二十八回木蘭險遭花棍厄　太宗敕賜功臣宴\n",
      "第二十九回伍登省親走湖廣　太宗慕賢賜詔書\n",
      "第三十回木蘭初上陳情表　喪吾吟偈上西天\n",
      "第三十一回木蘭二上陳情表　太宗屈殺伍娘子\n",
      "第三十二回木蘭三上陳情表　太宗建廟旌賢良\n"
     ]
    }
   ],
   "source": [
    "for match in re.finditer(r\"[\\n][\\n](第.{1,}回.{1,})[\\n][\\n]\", without_spaces2):\n",
    "    matched_text = match.group(1)\n",
    "    print(matched_text)"
   ]
  },
  {
   "cell_type": "markdown",
   "metadata": {},
   "source": [
    "* Next, use your chapter-detecting regex to add immediately before each chapter the text \"CHAPTER_STARTS_HERE\"."
   ]
  },
  {
   "cell_type": "code",
   "execution_count": 39,
   "metadata": {},
   "outputs": [
    {
     "name": "stdout",
     "output_type": "stream",
     "text": [
      "﻿\n",
      "\n",
      "序\n",
      "\n",
      "嘗思人道之大，莫大於倫常；學問之精，莫精於性命。自有書籍以來，所載傳人不少，求其交盡乎倫常者鮮矣，求其交盡乎性命者益鮮矣。蓋倫常之地，或盡孝而不必兼忠，或盡忠而不必兼孝，或盡忠孝而安常處順，不必兼勇烈。遭際未極其變，即倫常未盡其難也。性命之理，有不悟性根者，有不知命蒂者，有修性命而旁歧雜出者，有修性命而後先倒置者。涵養未得其中，即性命未盡其奧也。乃木蘭一女子耳，擔荷倫常，研求性命，而獨無所不盡也哉！\n",
      "\n",
      "　　予幼讀《木蘭詩》，觀其代父從軍，可謂孝矣；立功絕塞，可謂忠矣。後閱《唐書》，言木蘭唐女，西陵人，嫻弓馬，諳韜略，轉戰沙漠，累大功十二，何其勇也。封武昭將軍，凱旋還里。當時筮者謂致亂必由武姓，讒臣嫁禍武昭，詔徵至京。木蘭具表陳情，掣劍剜心，示使者，目視而死。死後，位證雷部大神，何其烈也。去冬閱《木蘭奇女傳》，復知其幼而領悟者性命也，長而行持者性命也。且通部議論極精微，極顯豁，又無非性命之妙諦也。盡人所當盡，亦盡人所難盡。惟其無所不盡，則亦無所不奇。而人奇，行奇，事奇，文奇，讀者莫不驚奇叫絕也。此書相傳為奎斗馬祖所演，卷首有武聖帝序。今序已失，同人集貲付梓。書成，爰敘其緣起如此。\n",
      "\n",
      "　　　　　　書於滬江梅花書館南窗之下\n",
      "\n",
      "CHAPTER_STARTS_HERE 第一回朱若虛孝弟全天性　朱天錫聰明識童謠\n",
      "\n",
      "　　古樂府所載《木蘭辭》，乃唐初國師李藥師所作也。藥師名靖，號青蓮，又號三元道人。先生少日，負經天緯地之才，抱治國安民之志，佐太宗平隋亂，開唐基，官拜太傅，賜爵趙公。晚年修道，煉性登仙。蓋先生盛代奇人，故能識奇中奇人，保全奇中奇人。奇中奇人為誰？即朱氏木蘭也。\n",
      "\n",
      "　　\n"
     ]
    }
   ],
   "source": [
    "# Your code goes here!\n",
    "without_space_chapter = re.sub(\n",
    "    r'([\\n][\\n])(第.{1,}回.{1,})([\\n][\\n])', \n",
    "    r'\\1CHAPTER_STARTS_HERE \\2\\3', without_spaces2)\n",
    "print(without_space_chapter[:700])"
   ]
  },
  {
   "cell_type": "markdown",
   "metadata": {},
   "source": [
    "Lastly, we can use a regex to split a string variable into a Python list using the `re.split()` function. At any point in the string where the specified regex is matched, the data is split into pieces. For instance:"
   ]
  },
  {
   "cell_type": "code",
   "execution_count": 40,
   "metadata": {},
   "outputs": [
    {
     "name": "stdout",
     "output_type": "stream",
     "text": [
      "0. 上德不德\n",
      "1. 是以有德\n",
      "2. 下德不失德\n",
      "3. 是以無德\n",
      "4. 上德無為而無以為\n",
      "5. 下德為之而有以為\n",
      "6. 上仁為之而無以為\n",
      "7. 上義為之而有以為\n",
      "8. 上禮為之而莫之應\n",
      "9. 則攘臂而扔之\n",
      "10. 故失道而後德\n",
      "11. 失德而後仁\n",
      "12. 失仁而後義\n",
      "13. 失義而後禮\n",
      "14. \n"
     ]
    }
   ],
   "source": [
    "laozi = \"上德不德，是以有德；下德不失德，是以無德。上德無為而無以為；下德為之而有以為。上仁為之而無以為；上義為之而有以為。上禮為之而莫之應，則攘臂而扔之。故失道而後德，失德而後仁，失仁而後義，失義而後禮。\"\n",
    "laozi_phrases = re.split(r\"[。，；]\", laozi)\n",
    "for number in range(0, len(laozi_phrases)):\n",
    "    print(str(number) + \". \" + laozi_phrases[number])"
   ]
  },
  {
   "cell_type": "markdown",
   "metadata": {},
   "source": [
    "Use `re.split()` to split your full text into a Python list, in which each chapter is one list item. (For simplicity you can ignore things like the preface etc.)"
   ]
  },
  {
   "cell_type": "code",
   "execution_count": 41,
   "metadata": {},
   "outputs": [
    {
     "name": "stdout",
     "output_type": "stream",
     "text": [
      " 第一回朱若虛孝弟全天性　朱天錫聰明識童謠\n",
      "\n",
      "　　古樂府所載《木蘭辭》，乃唐初國師李藥師所作也。藥師名靖，號青蓮，又號三元道人。先生少日，負經天緯地之才，抱治國安民之志，佐太宗平隋亂，開唐基，官拜太傅\n",
      " 第二回竇忠怒擊虎頭牌　朱盈夢會痘神女\n",
      "\n",
      "　　卻說楊知縣見府尊意思冷落，鼠竄而回。進了公館，各人個個無言。次日早起，用了幾樣點心，又引著八人到轅門聽候。祇見眾人圍做一堆，口稱：「可惜！可惜！」知縣心中\n"
     ]
    }
   ],
   "source": [
    "# Your code goes here!\n",
    "# Call your list variable \"chapters\"\n",
    "chapters = re.split(r\"CHAPTER_STARTS_HERE\", without_space_chapter)\n",
    "print(chapters[1][:100])\n",
    "print(chapters[2][:100])"
   ]
  },
  {
   "cell_type": "markdown",
   "metadata": {},
   "source": [
    "Now we have this data in a Python list, we can do things to each chapter individually. We can also put each of the chapters into its own text file - this is something we will sometimes need to do when we want to use other tools that are not in Python."
   ]
  },
  {
   "cell_type": "code",
   "execution_count": null,
   "metadata": {
    "collapsed": true
   },
   "outputs": [],
   "source": [
    "for chapternumber in range(0, len(chapters)):\n",
    "    file = open(\"mulan-part-\" + str(chapternumber).zfill(2) + \".txt\", \"w\", encoding=\"utf-8\")\n",
    "    file.write(chapters[chapternumber] + \"\\n\")\n",
    "    file.close()"
   ]
  },
  {
   "cell_type": "markdown",
   "metadata": {},
   "source": [
    "**Further reading:**\n",
    "* The browser-based [Text Tools](https://ctext.org/plugins/texttools/#help) plugin for [ctext.org](http://ctext.org) supports regular expressions - an [online tutorial](https://dsturgeon.net/texttools/) for the plugin is available, which describes how to use it to [investigate patterns with regexes](https://dsturgeon.net/texttools/#regex)."
   ]
  },
  {
   "cell_type": "markdown",
   "metadata": {},
   "source": [
    "<div style=\"float: right;\"><a rel=\"license\" href=\"http://creativecommons.org/licenses/by-sa/4.0/\"><img alt=\"Creative Commons License\" style=\"border-width:0\" src=\"https://i.creativecommons.org/l/by-sa/4.0/88x31.png\" /></a></div>"
   ]
  }
 ],
 "metadata": {
  "anaconda-cloud": {},
  "hide_input": false,
  "kernelspec": {
   "display_name": "Python 3",
   "language": "python",
   "name": "python3"
  },
  "language_info": {
   "codemirror_mode": {
    "name": "ipython",
    "version": 3
   },
   "file_extension": ".py",
   "mimetype": "text/x-python",
   "name": "python",
   "nbconvert_exporter": "python",
   "pygments_lexer": "ipython3",
   "version": "3.6.1"
  }
 },
 "nbformat": 4,
 "nbformat_minor": 1
}
