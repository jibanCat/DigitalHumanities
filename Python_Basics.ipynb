{
 "cells": [
  {
   "cell_type": "code",
   "execution_count": 1,
   "metadata": {
    "collapsed": true
   },
   "outputs": [],
   "source": [
    "# import modules on the top of the notebooks\n",
    "from ctext import *"
   ]
  },
  {
   "cell_type": "code",
   "execution_count": 2,
   "metadata": {},
   "outputs": [
    {
     "name": "stdout",
     "output_type": "stream",
     "text": [
      "The Zen of Python, by Tim Peters\n",
      "\n",
      "Beautiful is better than ugly.\n",
      "Explicit is better than implicit.\n",
      "Simple is better than complex.\n",
      "Complex is better than complicated.\n",
      "Flat is better than nested.\n",
      "Sparse is better than dense.\n",
      "Readability counts.\n",
      "Special cases aren't special enough to break the rules.\n",
      "Although practicality beats purity.\n",
      "Errors should never pass silently.\n",
      "Unless explicitly silenced.\n",
      "In the face of ambiguity, refuse the temptation to guess.\n",
      "There should be one-- and preferably only one --obvious way to do it.\n",
      "Although that way may not be obvious at first unless you're Dutch.\n",
      "Now is better than never.\n",
      "Although never is often better than *right* now.\n",
      "If the implementation is hard to explain, it's a bad idea.\n",
      "If the implementation is easy to explain, it may be a good idea.\n",
      "Namespaces are one honking great idea -- let's do more of those!\n"
     ]
    }
   ],
   "source": [
    "# the zen of python \n",
    "import this"
   ]
  },
  {
   "cell_type": "markdown",
   "metadata": {},
   "source": [
    "# Use other kernel inside a cell\n",
    "\n",
    "- change `%%bash` to `%%cmd` if you are in a Windows system"
   ]
  },
  {
   "cell_type": "code",
   "execution_count": 3,
   "metadata": {},
   "outputs": [
    {
     "name": "stdout",
     "output_type": "stream",
     "text": [
      "Hi\n"
     ]
    }
   ],
   "source": [
    "%%bash\n",
    "echo Hi"
   ]
  },
  {
   "cell_type": "markdown",
   "metadata": {},
   "source": [
    "# String"
   ]
  },
  {
   "cell_type": "code",
   "execution_count": 4,
   "metadata": {
    "collapsed": true
   },
   "outputs": [],
   "source": [
    "age = 11"
   ]
  },
  {
   "cell_type": "code",
   "execution_count": 5,
   "metadata": {},
   "outputs": [
    {
     "name": "stdout",
     "output_type": "stream",
     "text": [
      "I am 11 years old.\n"
     ]
    }
   ],
   "source": [
    "print('I am', age, 'years old.')"
   ]
  },
  {
   "cell_type": "code",
   "execution_count": 6,
   "metadata": {},
   "outputs": [
    {
     "name": "stdout",
     "output_type": "stream",
     "text": [
      "I am 11 years old.\n"
     ]
    }
   ],
   "source": [
    "print('I am ' + str(age) + ' years old.')"
   ]
  },
  {
   "cell_type": "code",
   "execution_count": 7,
   "metadata": {},
   "outputs": [
    {
     "name": "stdout",
     "output_type": "stream",
     "text": [
      "I am 11 years old.\n"
     ]
    }
   ],
   "source": [
    "print('I am {} years old.'.format(age))"
   ]
  },
  {
   "cell_type": "code",
   "execution_count": 8,
   "metadata": {},
   "outputs": [
    {
     "name": "stdout",
     "output_type": "stream",
     "text": [
      "I am 11 years old.\n",
      "I am 22 years old.\n"
     ]
    }
   ],
   "source": [
    "# python 3.6 up\n",
    "print(f'I am {age} years old.')\n",
    "print(f'I am {age * 2} years old.')"
   ]
  },
  {
   "cell_type": "markdown",
   "metadata": {},
   "source": [
    "# Functional Programming"
   ]
  },
  {
   "cell_type": "code",
   "execution_count": 9,
   "metadata": {
    "collapsed": true
   },
   "outputs": [],
   "source": [
    "# this would give the full text of dao-de-jing in a list, \n",
    "# every elements in the list represent one paragraph\n",
    "dao_de_jing = gettextasparagrapharray(\"ctp:dao-de-jing\")"
   ]
  },
  {
   "cell_type": "code",
   "execution_count": 10,
   "metadata": {},
   "outputs": [
    {
     "name": "stdout",
     "output_type": "stream",
     "text": [
      "The longest paragraph is paragraph number 38\n"
     ]
    }
   ],
   "source": [
    "# using functional programming: MAP\n",
    "lengthDDJ = list(map(len, dao_de_jing))\n",
    "longest_passage = lengthDDJ.index(max(lengthDDJ))\n",
    "print(\"The longest paragraph is paragraph number \" + str(longest_passage))        "
   ]
  },
  {
   "cell_type": "code",
   "execution_count": 11,
   "metadata": {
    "scrolled": true
   },
   "outputs": [
    {
     "name": "stdout",
     "output_type": "stream",
     "text": [
      "The longest paragraph is paragraph number 38\n"
     ]
    }
   ],
   "source": [
    "# using functional programming: list comprehension\n",
    "lengthDDJ = [len(passage) for passage in dao_de_jing]\n",
    "longest_passage = lengthDDJ.index(max(lengthDDJ))\n",
    "print(\"The longest paragraph is paragraph number \" + str(longest_passage))        "
   ]
  },
  {
   "cell_type": "code",
   "execution_count": 12,
   "metadata": {},
   "outputs": [
    {
     "name": "stdout",
     "output_type": "stream",
     "text": [
      "The longest paragraph is paragraph number 38\n"
     ]
    }
   ],
   "source": [
    "# it is equivalent to do ...\n",
    "longest_passage = None\n",
    "longest_length  = 0\n",
    "\n",
    "for passage_numer in range(0, len(dao_de_jing)):\n",
    "    passage_text = dao_de_jing[passage_numer]\n",
    "    if len(passage_text) > longest_length:\n",
    "        longest_passage = passage_numer\n",
    "        longest_length = len(passage_text)\n",
    "        \n",
    "print(\"The longest paragraph is paragraph number \" + str(longest_passage))        "
   ]
  },
  {
   "cell_type": "code",
   "execution_count": 13,
   "metadata": {},
   "outputs": [
    {
     "name": "stdout",
     "output_type": "stream",
     "text": [
      "The longest paragraph is paragraph number 38\n"
     ]
    }
   ],
   "source": [
    "# It is also equivalent to ...\n",
    "longest_passage = None\n",
    "longest_length  = 0\n",
    "\n",
    "for passage_numer, passage_text in enumerate(dao_de_jing):\n",
    "    if len(passage_text) > longest_length:\n",
    "        longest_passage = passage_numer\n",
    "        longest_length = len(passage_text)\n",
    "        \n",
    "print(\"The longest paragraph is paragraph number \" + str(longest_passage))        "
   ]
  },
  {
   "cell_type": "code",
   "execution_count": 14,
   "metadata": {},
   "outputs": [
    {
     "name": "stdout",
     "output_type": "stream",
     "text": [
      "The longest paragraph is paragraph number 38\n"
     ]
    }
   ],
   "source": [
    "# It is also equivalent to ...\n",
    "passage_length = []\n",
    "\n",
    "for passage_text in dao_de_jing:\n",
    "    passage_length.append(len(passage_text))\n",
    "    \n",
    "longest_passage = passage_length.index(max(passage_length))    \n",
    "print(\"The longest paragraph is paragraph number \" + str(longest_passage))        "
   ]
  },
  {
   "cell_type": "markdown",
   "metadata": {},
   "source": [
    "# args & kargs"
   ]
  },
  {
   "cell_type": "code",
   "execution_count": 15,
   "metadata": {},
   "outputs": [
    {
     "name": "stdout",
     "output_type": "stream",
     "text": [
      "unnamed args: (1, 2)\n",
      "keyword args: {'key1': 'string1', 'key2': 'string2'}\n"
     ]
    }
   ],
   "source": [
    "def function(*args, **kwargs):\n",
    "    print(\"unnamed args:\", args)\n",
    "    print(\"keyword args:\", kwargs)\n",
    "    \n",
    "function(1, 2, key1='string1', key2='string2')"
   ]
  },
  {
   "cell_type": "code",
   "execution_count": 16,
   "metadata": {
    "hide_input": false
   },
   "outputs": [
    {
     "name": "stdout",
     "output_type": "stream",
     "text": [
      "unnamed args: (1, 2)\n",
      "keyword args: {'key1': 'string1', 'key2': 'string2'}\n"
     ]
    }
   ],
   "source": [
    "# and they do not have to be called args or kwargs excatly\n",
    "def function(*Alice, **Bob):\n",
    "    print(\"unnamed args:\", Alice)\n",
    "    print(\"keyword args:\", Bob)\n",
    "    \n",
    "function(1, 2, key1='string1', key2='string2')"
   ]
  },
  {
   "cell_type": "markdown",
   "metadata": {},
   "source": [
    "# Resources:\n",
    "\n",
    "There are some more sophicated tutorials about *string formatting*, *functional programming*, and *list comprehension* out there in the Internet. I just pick 3 tutorials below which are really helpful for me. \n",
    "\n",
    "The `1. 2. 3.` stands for hardness, from the easiest to the hardest. But this talk, **Loop Like A Native**, could give you an in-depth understanding about the loops in python even if the audience had not learned all types of the loops in python before. So, if you don't have time to go through all resources, I would suggest going to the **Loop Like A Native** directly.\n",
    "\n",
    "1. The **4 Major Ways** to Do **String Formatting** in Python <font color=\"gray\">(by Dan Bader)</font>: https://dbader.org/blog/python-string-formatting\n",
    "2. A practical introduction to **functional programming** <font color=\"gray\">(by Mary Rose Cook)</font>: https://maryrosecook.com/blog/post/a-practical-introduction-to-functional-programming\n",
    "3. **Loop Like A Native** <font color=\"gray\">(by Ned Batchelder)</font> : https://nedbatchelder.com/text/iter.html"
   ]
  },
  {
   "cell_type": "markdown",
   "metadata": {},
   "source": [
    "**NOTE:** Some of the above tutorial use python 2 syntax. Make sure you use the correct one in python 3 syntax.\n",
    "\n",
    "|python2|python3|\n",
    "|---- | ----|\n",
    "|`print \"Hello\"`|`print(\"Hello\")` or `print (\"Hello)`|\n",
    "|`reduce(function, iterable)`|`from funtools import reduce; reduce(function, iterable)`|"
   ]
  }
 ],
 "metadata": {
  "hide_input": false,
  "kernelspec": {
   "display_name": "Python 3",
   "language": "python",
   "name": "python3"
  },
  "language_info": {
   "codemirror_mode": {
    "name": "ipython",
    "version": 3
   },
   "file_extension": ".py",
   "mimetype": "text/x-python",
   "name": "python",
   "nbconvert_exporter": "python",
   "pygments_lexer": "ipython3",
   "version": "3.6.1"
  }
 },
 "nbformat": 4,
 "nbformat_minor": 2
}
