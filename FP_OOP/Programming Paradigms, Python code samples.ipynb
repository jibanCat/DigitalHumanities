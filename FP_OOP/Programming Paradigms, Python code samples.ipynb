{
 "cells": [
  {
   "cell_type": "markdown",
   "metadata": {},
   "source": [
    "# Python code samples for 4 Programming Paradigms in 40 Minutes\n",
    "\n",
    "source -> Ruby Conference 2017: 4 Programming Paradigms in 45 Minutes by Aja Hammerly\n",
    "\n",
    "https://www.youtube.com/watch?v=3TBq__oKUzk\n",
    "\n",
    "In this video, she introduced 4 types of programming paradigms:\n",
    "- Object-Oriented \n",
    "- Functional\n",
    "- Logic\n",
    "- Procedure\n",
    "\n",
    "It's too hard for me to translate code samples in `Logic Programming (Prolog)` and `Procedure (Assembly)` to Python. So, allow me to dodged these two sections :P"
   ]
  },
  {
   "cell_type": "markdown",
   "metadata": {},
   "source": [
    "## Object-Oriented Programming\n",
    "- Strength:\n",
    "    - Modeling\n",
    "    - Reusability\n",
    "    - Ease of Testing"
   ]
  },
  {
   "cell_type": "code",
   "execution_count": 1,
   "metadata": {
    "collapsed": true
   },
   "outputs": [],
   "source": [
    "class BankAccount:\n",
    "    \n",
    "    \n",
    "    def __init__(self):\n",
    "        self.balance = 0\n",
    "        \n",
    "    def deposit(self, amount):\n",
    "        self.balance += amount\n",
    "        \n",
    "    def withdraw(self, amount):\n",
    "        self.balance -= amount"
   ]
  },
  {
   "cell_type": "markdown",
   "metadata": {},
   "source": [
    "Not OO"
   ]
  },
  {
   "cell_type": "code",
   "execution_count": 2,
   "metadata": {
    "collapsed": true
   },
   "outputs": [],
   "source": [
    "class CashRegister:\n",
    "    \n",
    "    \n",
    "    def __init__(self):\n",
    "        self.drawer = [2000, 1000, \n",
    "                       500,  100, \n",
    "                       25,   10,\n",
    "                       5,    1]\n",
    "    \n",
    "    def make_change(self, owed, tendered):\n",
    "        difference = tendered - owed\n",
    "        \n",
    "        change = []\n",
    "        i = 0\n",
    "        denomination = self.drawer[i]\n",
    "        while difference > 0:\n",
    "            if difference < denomination:\n",
    "                i += 1\n",
    "                denomination = self.drawer[i]\n",
    "                continue\n",
    "\n",
    "            change.append(denomination)\n",
    "            difference -= denomination\n",
    "        \n",
    "        return change"
   ]
  },
  {
   "cell_type": "code",
   "execution_count": 3,
   "metadata": {},
   "outputs": [
    {
     "data": {
      "text/plain": [
       "[100, 10, 1]"
      ]
     },
     "execution_count": 3,
     "metadata": {},
     "output_type": "execute_result"
    }
   ],
   "source": [
    "cash = CashRegister()\n",
    "cash.make_change(0, 111)\n",
    "# 111 yen = 100 yen + 10 yen + 1 yen"
   ]
  },
  {
   "cell_type": "markdown",
   "metadata": {},
   "source": [
    "## Functional Programming\n",
    "\n",
    "Data and procedures are separated!\n",
    "\n",
    "Strength:\n",
    "- Easy to use\n",
    "- Reusability\n",
    "- Brevity (really short)"
   ]
  },
  {
   "cell_type": "code",
   "execution_count": 4,
   "metadata": {},
   "outputs": [
    {
     "name": "stdout",
     "output_type": "stream",
     "text": [
      "8\n",
      "6\n",
      "19\n"
     ]
    }
   ],
   "source": [
    "# unfortunatelly I cannot find a suitable operator in pytohn\n",
    "# to operate more than 2 numbers.\n",
    "# I used `reduce` as a replacement\n",
    "\n",
    "from operator import add, mul, sub\n",
    "from functools import reduce\n",
    "\n",
    "print(reduce(add, (3, 5)))\n",
    "print(reduce(mul, (1, 2, 3)))\n",
    "print(add( reduce(mul, (3,  5)), \n",
    "           reduce(sub, (10, 6))) )"
   ]
  },
  {
   "cell_type": "code",
   "execution_count": 5,
   "metadata": {},
   "outputs": [
    {
     "data": {
      "text/plain": [
       "True"
      ]
     },
     "execution_count": 5,
     "metadata": {},
     "output_type": "execute_result"
    }
   ],
   "source": [
    "reduce(add, (1, 2, 3, 4)) == ( ((1 + 2) + 3) + 4)"
   ]
  },
  {
   "cell_type": "code",
   "execution_count": 6,
   "metadata": {
    "scrolled": true
   },
   "outputs": [
    {
     "data": {
      "text/plain": [
       "25"
      ]
     },
     "execution_count": 6,
     "metadata": {},
     "output_type": "execute_result"
    }
   ],
   "source": [
    "def square(n):\n",
    "    return mul(n, n)\n",
    "\n",
    "square(5)"
   ]
  },
  {
   "cell_type": "code",
   "execution_count": 7,
   "metadata": {},
   "outputs": [
    {
     "data": {
      "text/plain": [
       "2"
      ]
     },
     "execution_count": 7,
     "metadata": {},
     "output_type": "execute_result"
    }
   ],
   "source": [
    "# This is awwwesome\n",
    "def absolute(x):\n",
    "    return x if x > 0 else 0 if x == 0 else -x\n",
    "\n",
    "absolute(-2)"
   ]
  },
  {
   "cell_type": "markdown",
   "metadata": {},
   "source": [
    "Factorial\n",
    "![](https://wikimedia.org/api/rest_v1/media/math/render/svg/09d762bf72a3e9d56651aabaa571f98cf777e19a)"
   ]
  },
  {
   "cell_type": "code",
   "execution_count": 8,
   "metadata": {},
   "outputs": [
    {
     "data": {
      "text/plain": [
       "6"
      ]
     },
     "execution_count": 8,
     "metadata": {},
     "output_type": "execute_result"
    }
   ],
   "source": [
    "def fact(n):\n",
    "    return 1 if n <= 1 else mul(n, fact(sub(n, 1)))\n",
    "\n",
    "fact(3)"
   ]
  },
  {
   "cell_type": "markdown",
   "metadata": {},
   "source": [
    "Fibonacci number\n",
    "![](https://wikimedia.org/api/rest_v1/media/math/render/svg/f15cc3bcef3491a70352661b21028362a5679a9c)"
   ]
  },
  {
   "cell_type": "code",
   "execution_count": 9,
   "metadata": {
    "scrolled": true
   },
   "outputs": [
    {
     "data": {
      "text/plain": [
       "55"
      ]
     },
     "execution_count": 9,
     "metadata": {},
     "output_type": "execute_result"
    }
   ],
   "source": [
    "# Fibonacci number: 1 , 1 , 2 , 3 , 5 , 8 , 13 , 21 , 34 , 55\n",
    "def fib(n):\n",
    "    return 0 if n <= 0 else 1 if n == 1 else add(fib(sub(n, 1)), fib(sub(n, 2)))\n",
    "\n",
    "fib(10)"
   ]
  },
  {
   "cell_type": "markdown",
   "metadata": {},
   "source": [
    "Not the shortest answer "
   ]
  },
  {
   "cell_type": "code",
   "execution_count": 10,
   "metadata": {},
   "outputs": [
    {
     "data": {
      "text/plain": [
       "[50, 50, 10, 1]"
      ]
     },
     "execution_count": 10,
     "metadata": {},
     "output_type": "execute_result"
    }
   ],
   "source": [
    "# cdr command acts like list[1:]\n",
    "def make_change(x, denoms):\n",
    "    return [] if x == 0 \\\n",
    "            else False if denoms == [] \\\n",
    "            else make_change(x, denoms[1:]) if x < denoms[0] \\\n",
    "            else add(\n",
    "                [denoms[0]], \n",
    "                make_change(sub(x, denoms[0]), denoms), \n",
    "                )\n",
    "    \n",
    "# 111 yen = 2 * 50 yen + 10 yen + 1 yen\n",
    "make_change(111, [50, 10, 1])"
   ]
  },
  {
   "cell_type": "markdown",
   "metadata": {},
   "source": [
    "## Logical Programming \n",
    "\n",
    "It seems no easy way to represent logical programming in native Python, so I dodged this section.  \n",
    "You could check [this](http://pyke.sourceforge.net/index.html) or [this](https://github.com/logpy/logpy) for further usage of logical library in Python."
   ]
  },
  {
   "cell_type": "markdown",
   "metadata": {},
   "source": [
    "## Procedure\n",
    "\n",
    "..."
   ]
  },
  {
   "cell_type": "code",
   "execution_count": null,
   "metadata": {
    "collapsed": true
   },
   "outputs": [],
   "source": []
  }
 ],
 "metadata": {
  "hide_input": false,
  "kernelspec": {
   "display_name": "Python 3",
   "language": "python",
   "name": "python3"
  },
  "language_info": {
   "codemirror_mode": {
    "name": "ipython",
    "version": 3
   },
   "file_extension": ".py",
   "mimetype": "text/x-python",
   "name": "python",
   "nbconvert_exporter": "python",
   "pygments_lexer": "ipython3",
   "version": "3.6.1"
  }
 },
 "nbformat": 4,
 "nbformat_minor": 2
}
