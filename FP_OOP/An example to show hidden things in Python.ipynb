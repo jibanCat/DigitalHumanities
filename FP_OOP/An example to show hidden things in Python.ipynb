{
 "cells": [
  {
   "cell_type": "markdown",
   "metadata": {},
   "source": [
    "# Hide something to make everything work better \n",
    "\n",
    "Recently, I started to learn Julia, and a chapter in UCI's **[A Deep Introduction to Julia for Data Science and Scientific Computing](https://ucidatascienceinitiative.github.io/IntroToJulia/)** is quite enlightened for me. The author listed three types of mental models associated with different types of languages (quoted from here https://ucidatascienceinitiative.github.io/IntroToJulia/Html/JuliaMentalModel):\n",
    "\n",
    "    1. Python/R/MATLAB: Talking to a politician.\n",
    "    2. Fortran/C, C++: Talking to a philosopher.\n",
    "\n",
    "As we know, working with Python-like language, the syntax and logic is quite intuitive so that you don't have to bother the choice of words too frequently. The flexibility of Python always surprises me. You don't even have to write `(x < 2) and (0 < x)` to make this condition work, just type `0 < x < 2`. "
   ]
  },
  {
   "cell_type": "code",
   "execution_count": 1,
   "metadata": {},
   "outputs": [
    {
     "data": {
      "text/plain": [
       "True"
      ]
     },
     "execution_count": 1,
     "metadata": {},
     "output_type": "execute_result"
    }
   ],
   "source": [
    "x = 1\n",
    "0 < x < 2"
   ]
  },
  {
   "cell_type": "markdown",
   "metadata": {},
   "source": [
    "\n",
    "The other significant advantage for Python is it is a dynamic typing language. You can assign your variable names with different values at any time."
   ]
  },
  {
   "cell_type": "code",
   "execution_count": 2,
   "metadata": {},
   "outputs": [
    {
     "data": {
      "text/plain": [
       "(2, 1)"
      ]
     },
     "execution_count": 2,
     "metadata": {},
     "output_type": "execute_result"
    }
   ],
   "source": [
    "a = 1\n",
    "b = a\n",
    "a = 2\n",
    "a, b"
   ]
  },
  {
   "cell_type": "markdown",
   "metadata": {},
   "source": [
    "\n",
    "Sometime, people would say that variables in Python work differently from Fortran/C-like variables. Besides you can assign different values for a variable in Python, and regardless of types, Python's variables work like \"labels\" or \"names\" tagging on values. So the assignment in Python is not \"using a variable to contain a value\" but \"using a label to reference a value.\" Using this line of thought, we can explain above code:"
   ]
  },
  {
   "cell_type": "code",
   "execution_count": 3,
   "metadata": {},
   "outputs": [
    {
     "data": {
      "text/plain": [
       "(2, 1)"
      ]
     },
     "execution_count": 3,
     "metadata": {},
     "output_type": "execute_result"
    }
   ],
   "source": [
    "a = 1 # use \"a\" to refer to a value, int 1\n",
    "b = a # use \"b\" to refer to an existing value, int 1, that \"a\" refer to\n",
    "a = 2 # use \"a\" to refer to a value, int 2\n",
    "a, b  # you will not expect the output is (2, 2)"
   ]
  },
  {
   "cell_type": "code",
   "execution_count": 13,
   "metadata": {},
   "outputs": [
    {
     "data": {
      "text/plain": [
       "([1, 0, 3], [1, 0, 3])"
      ]
     },
     "execution_count": 13,
     "metadata": {},
     "output_type": "execute_result"
    }
   ],
   "source": [
    "# the same with list\n",
    "a = [1, 2, 3] # use \"a\" to refer to a list, [1, 2, 3]\n",
    "b = a         # use \"b\" to refer to an exisiting list that 'a' refer to, [1, 2, 3]\n",
    "a[1] = 0      # set the list 'a' refer to with first element to be 0\n",
    "a, b          # you will not expect the output is ([1, 0, 3], [1, 2, 3]) because 'a' and 'b' \n",
    "              # still tagging on the same list"
   ]
  },
  {
   "cell_type": "markdown",
   "metadata": {},
   "source": [
    "So, the author said a Python-like language is similar to talking to a politician:\n",
    "> You tell them something, and they try to give you want you to want.  \n",
    "> There may be some things hidden behind the scenes to make everything \"work better.\"\n",
    "\n",
    "And the reason why working with C-like language is like talking to a philosopher is that you have to write specific details to allow the computer understands what you are talking about. For example (I am not working with C/C++, so please bear my not-so-enlighten example), to declare a variable you have to do:\n",
    "\n",
    "```C\n",
    "int a = 1;\n",
    "int b = 2;\n",
    "```\n",
    "\n",
    "The type of a variable should be claimed at the time it created and cannot be changed. However, the biggest advantage of C-like language is that they are much more efficient than Python-like language. "
   ]
  },
  {
   "cell_type": "markdown",
   "metadata": {},
   "source": [
    "Of course, these mental minds are copied from Julia introduction tutorial, so we would expect that the author wants to promote the mindset of Julia language. \n",
    "\n",
    "    3. Julia: Talking to a scientist. \n",
    "\n",
    "The author said working with Julia is like talking to a scientist. My understanding of this mental model is that you can write something similar to Python-like language, and the operation time is close to C-like language (which means fast). On the other hand, you can easily read the source codes om Julia since most of the Julia function written in Julia. So, nothing is hidden. "
   ]
  },
  {
   "cell_type": "markdown",
   "metadata": {},
   "source": [
    "# An example to show hidden things\n",
    "\n",
    "Inspired by [jakevdp's tutorial](https://jakevdp.github.io/blog/2014/05/09/why-python-is-slow/) and [Julia's tutorial](http://ucidatascienceinitiative.github.io/IntroToJulia/Slides/WhyJulia), \n",
    "I think it's intuitive to use Julia to show how Python-like language makes your lives better. \n",
    "\n",
    "Consider this kind of situation:\n"
   ]
  },
  {
   "cell_type": "code",
   "execution_count": 4,
   "metadata": {},
   "outputs": [
    {
     "data": {
      "text/plain": [
       "3"
      ]
     },
     "execution_count": 4,
     "metadata": {},
     "output_type": "execute_result"
    }
   ],
   "source": [
    "a = 1\n",
    "b = 2\n",
    "a + b"
   ]
  },
  {
   "cell_type": "markdown",
   "metadata": {},
   "source": [
    "Please read the short explanation in jakevdp's post; about** Python is Dynamically Typed rather than Statically Typed**. The underlying process of `+` is like checking the types of `a` and `b`, then checking the values for `a` and `b`, and finally call addition function that suitable for `int + int` to get the `3` for the result. "
   ]
  },
  {
   "cell_type": "markdown",
   "metadata": {},
   "source": [
    "\n",
    "So, the intuition here is that \"if we know the types of `a` and `b`, we don't have to bother to check what kind of addition function we want to call.\"\n",
    "\n",
    "But why Python-like language avoid knowing the types before it wants to call the function? Here is an example to show the advantage of this choice: "
   ]
  },
  {
   "cell_type": "code",
   "execution_count": 11,
   "metadata": {},
   "outputs": [
    {
     "name": "stdout",
     "output_type": "stream",
     "text": [
      "<class 'int'> <class 'int'>\n",
      "0.03125 <class 'float'>\n"
     ]
    }
   ],
   "source": [
    "a = 2\n",
    "b = -5\n",
    "print(type(a), type(b))\n",
    "print(a ** b, type(a ** b))"
   ]
  },
  {
   "cell_type": "markdown",
   "metadata": {},
   "source": [
    "The input variables, a and b, are integers. But Python smart enough to convert it to a float. But, what happened? Here are the code samples from **[Why Julia](http://ucidatascienceinitiative.github.io/IntroToJulia/Html/WhyJulia)**:"
   ]
  },
  {
   "cell_type": "code",
   "execution_count": 6,
   "metadata": {},
   "outputs": [
    {
     "name": "stdout",
     "output_type": "stream",
     "text": [
      "Overwriting expo.jl\n"
     ]
    }
   ],
   "source": [
    "%%writefile expo.jl\n",
    "a = 2\n",
    "b = -5\n",
    "println(a ^ b)"
   ]
  },
  {
   "cell_type": "code",
   "execution_count": 7,
   "metadata": {},
   "outputs": [
    {
     "name": "stdout",
     "output_type": "stream",
     "text": [
      "ERROR: LoadError: DomainError:\n",
      "Cannot raise an integer x to a negative power -n. \n",
      "Make x a float by adding a zero decimal (e.g. 2.0^-n instead of 2^-n), or write 1/x^n, float(x)^-n, or (x//1)^-n.\n",
      "Stacktrace:\n",
      " [1] power_by_squaring(::Int64, ::Int64) at ./intfuncs.jl:173\n",
      " [2] ^(::Int64, ::Int64) at ./intfuncs.jl:197\n",
      " [3] include_from_node1(::String) at ./loading.jl:576\n",
      " [4] include(::String) at ./sysimg.jl:14\n",
      " [5] process_options(::Base.JLOptions) at ./client.jl:305\n",
      " [6] _start() at ./client.jl:371\n",
      "while loading /Users/cicero/Documents/Physics/PYTHON/DigitalHumanities/Programming/expo.jl, in expression starting on line 3\n"
     ]
    }
   ],
   "source": [
    "!julia expo.jl"
   ]
  },
  {
   "cell_type": "markdown",
   "metadata": {},
   "source": [
    "The same code will not work in Julia! It complains about you are making a float for output instead of an integer. If you want to make negative exponent works for integers, you have to write something like this in Julia:"
   ]
  },
  {
   "cell_type": "code",
   "execution_count": 8,
   "metadata": {},
   "outputs": [
    {
     "name": "stdout",
     "output_type": "stream",
     "text": [
      "Overwriting expo_2.jl\n"
     ]
    }
   ],
   "source": [
    "%%writefile expo_2.jl\n",
    "# code sample from \"Why Julia\"\n",
    "function expo(a, b)\n",
    "    if b > 0\n",
    "        return a ^ b\n",
    "    else\n",
    "        a = convert(Float64, a)\n",
    "        return a ^ b\n",
    "    end\n",
    "end\n",
    "\n",
    "a = 2\n",
    "b = -5\n",
    "println(expo(a, b))"
   ]
  },
  {
   "cell_type": "code",
   "execution_count": 9,
   "metadata": {},
   "outputs": [
    {
     "name": "stdout",
     "output_type": "stream",
     "text": [
      "0.03125\r\n"
     ]
    }
   ],
   "source": [
    "!julia expo_2.jl"
   ]
  },
  {
   "cell_type": "markdown",
   "metadata": {},
   "source": [
    "This time it works!   \n",
    "However, did you notice the complexity of the above `expo` function? Yes, Python must have done something similar to `expo` function to make `2^-5` giving a float number. This is one example of **hidden things behind the scenes**. Hope this example would be useful for you to have a glance at why people said a Python-like language is a high-level language and lots of things working behind the scene.  \n",
    "\n",
    "To get a deeper understanding, please read the post by jakevdp, **[Why Python is Slow](https://jakevdp.github.io/blog/2014/05/09/why-python-is-slow/)**"
   ]
  }
 ],
 "metadata": {
  "hide_input": false,
  "kernelspec": {
   "display_name": "Python 3",
   "language": "python",
   "name": "python3"
  },
  "language_info": {
   "codemirror_mode": {
    "name": "ipython",
    "version": 3
   },
   "file_extension": ".py",
   "mimetype": "text/x-python",
   "name": "python",
   "nbconvert_exporter": "python",
   "pygments_lexer": "ipython3",
   "version": "3.6.1"
  }
 },
 "nbformat": 4,
 "nbformat_minor": 2
}
