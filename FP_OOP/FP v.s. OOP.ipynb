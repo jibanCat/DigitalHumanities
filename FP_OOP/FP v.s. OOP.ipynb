{
 "cells": [
  {
   "cell_type": "markdown",
   "metadata": {},
   "source": [
    "# Python code samples in \"Object Oriented Programming vs. Functional Programming\"\n",
    "\n",
    "The Python code snippets in this notebooks are based on this article:\n",
    "https://www.codenewbie.org/blogs/object-oriented-programming-vs-functional-programming, which originally written in `Ruby` language."
   ]
  },
  {
   "cell_type": "markdown",
   "metadata": {},
   "source": [
    "# Object-Oriented Programming"
   ]
  },
  {
   "cell_type": "markdown",
   "metadata": {},
   "source": [
    "```ruby\n",
    "class Employee\n",
    "  def initialize(name, salary)\n",
    "    @name = name\n",
    "    @salary = salary\n",
    "  end\n",
    "\n",
    "  def change_salary(amt)\n",
    "    @salary = @salary + amt\n",
    "  end\n",
    "\n",
    "  def description\n",
    "    \"#{@name} makes #{@salary}\"\n",
    "  end\n",
    "end\n",
    "```"
   ]
  },
  {
   "cell_type": "code",
   "execution_count": 5,
   "metadata": {
    "collapsed": true
   },
   "outputs": [],
   "source": [
    "class Employee:\n",
    "    \n",
    "    \n",
    "    def __init__(self, name, salary):\n",
    "        self.name = name\n",
    "        self.salary = salary\n",
    "    \n",
    "    def change_salary(self, amt):\n",
    "        self.salary = self.salary + amt\n",
    "        \n",
    "    def __repr__(self):\n",
    "        return \"#{} makes #{}\".format(self.name, self.salary)"
   ]
  },
  {
   "cell_type": "markdown",
   "metadata": {},
   "source": [
    "```ruby\n",
    "employees = [\n",
    "  Employee.new(\"Bob\", 100000.0),\n",
    "  Employee.new(\"Jane\", 125000.0)\n",
    "]\n",
    "```"
   ]
  },
  {
   "cell_type": "code",
   "execution_count": 6,
   "metadata": {
    "collapsed": true
   },
   "outputs": [],
   "source": [
    "employees = [\n",
    "  Employee(\"Bob\", 100000.0),\n",
    "  Employee(\"Jane\", 125000.0)\n",
    "]"
   ]
  },
  {
   "cell_type": "code",
   "execution_count": 7,
   "metadata": {},
   "outputs": [
    {
     "data": {
      "text/plain": [
       "[#Bob makes #100000.0, #Jane makes #125000.0]"
      ]
     },
     "execution_count": 7,
     "metadata": {},
     "output_type": "execute_result"
    }
   ],
   "source": [
    "employees"
   ]
  },
  {
   "cell_type": "markdown",
   "metadata": {},
   "source": [
    "```ruby\n",
    "employees.each do |emp|\n",
    "  emp.change_salary(10000.0)\n",
    "end\n",
    "```"
   ]
  },
  {
   "cell_type": "code",
   "execution_count": 8,
   "metadata": {
    "collapsed": true
   },
   "outputs": [],
   "source": [
    "for emp in employees:\n",
    "    emp.change_salary(10000.0)"
   ]
  },
  {
   "cell_type": "code",
   "execution_count": 9,
   "metadata": {},
   "outputs": [
    {
     "data": {
      "text/plain": [
       "[#Bob makes #110000.0, #Jane makes #135000.0]"
      ]
     },
     "execution_count": 9,
     "metadata": {},
     "output_type": "execute_result"
    }
   ],
   "source": [
    "employees"
   ]
  },
  {
   "cell_type": "markdown",
   "metadata": {},
   "source": [
    "```ruby\n",
    "employees.each do |emp|\n",
    "  puts emp.description\n",
    "end\n",
    "```"
   ]
  },
  {
   "cell_type": "code",
   "execution_count": 10,
   "metadata": {},
   "outputs": [
    {
     "name": "stdout",
     "output_type": "stream",
     "text": [
      "#Bob makes #110000.0\n",
      "#Jane makes #135000.0\n"
     ]
    }
   ],
   "source": [
    "for emp in employees:\n",
    "    print(emp)"
   ]
  },
  {
   "cell_type": "markdown",
   "metadata": {},
   "source": [
    "# Functional Programming "
   ]
  },
  {
   "cell_type": "markdown",
   "metadata": {},
   "source": [
    "```ruby\n",
    "employees = [\n",
    "  [ \"Bob\",  100000.0 ],\n",
    "  [ \"Jane\", 125000.0 ]\n",
    "]\n",
    "```"
   ]
  },
  {
   "cell_type": "code",
   "execution_count": 11,
   "metadata": {
    "collapsed": true
   },
   "outputs": [],
   "source": [
    "employees = [\n",
    "  [ \"Bob\",  100000.0 ],\n",
    "  [ \"Jane\", 125000.0 ]\n",
    "]"
   ]
  },
  {
   "cell_type": "markdown",
   "metadata": {},
   "source": [
    "```ruby\n",
    "happier_employees = change_salaries(employees, 10000.0)\n",
    "```"
   ]
  },
  {
   "cell_type": "code",
   "execution_count": 13,
   "metadata": {
    "collapsed": true
   },
   "outputs": [],
   "source": [
    "def change_salaries(employees, amt):\n",
    "    return [[x[0], x[1] + amt] for x in employees]\n",
    "\n",
    "happier_employees = change_salaries(employees, 10000.0)"
   ]
  },
  {
   "cell_type": "code",
   "execution_count": 14,
   "metadata": {},
   "outputs": [
    {
     "data": {
      "text/plain": [
       "[['Bob', 110000.0], ['Jane', 135000.0]]"
      ]
     },
     "execution_count": 14,
     "metadata": {},
     "output_type": "execute_result"
    }
   ],
   "source": [
    "happier_employees"
   ]
  },
  {
   "cell_type": "markdown",
   "metadata": {},
   "source": [
    "```ruby\n",
    "happier_employees.each do |emp|\n",
    "  puts \"#{emp[0]} makes #{emp[1]}\"\n",
    "end\n",
    "```"
   ]
  },
  {
   "cell_type": "code",
   "execution_count": 16,
   "metadata": {},
   "outputs": [
    {
     "name": "stdout",
     "output_type": "stream",
     "text": [
      "#Bob makes #110000.0\n",
      "#Jane makes #135000.0\n"
     ]
    }
   ],
   "source": [
    "for emp in happier_employees:\n",
    "    print(\"#{} makes #{}\".format(emp[0], emp[1]))\n",
    "    "
   ]
  }
 ],
 "metadata": {
  "hide_input": false,
  "kernelspec": {
   "display_name": "Python 3",
   "language": "python",
   "name": "python3"
  },
  "language_info": {
   "codemirror_mode": {
    "name": "ipython",
    "version": 3
   },
   "file_extension": ".py",
   "mimetype": "text/x-python",
   "name": "python",
   "nbconvert_exporter": "python",
   "pygments_lexer": "ipython3",
   "version": "3.6.1"
  }
 },
 "nbformat": 4,
 "nbformat_minor": 2
}
